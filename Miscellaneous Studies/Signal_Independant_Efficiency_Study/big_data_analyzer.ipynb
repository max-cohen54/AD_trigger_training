{
 "cells": [
  {
   "cell_type": "code",
   "execution_count": 1,
   "id": "c244da6c-8853-4627-8203-38e2584db830",
   "metadata": {},
   "outputs": [
    {
     "name": "stderr",
     "output_type": "stream",
     "text": [
      "2024-05-17 04:01:04.981272: I tensorflow/core/util/port.cc:110] oneDNN custom operations are on. You may see slightly different numerical results due to floating-point round-off errors from different computation orders. To turn them off, set the environment variable `TF_ENABLE_ONEDNN_OPTS=0`.\n",
      "2024-05-17 04:01:05.279893: I tensorflow/core/platform/cpu_feature_guard.cc:182] This TensorFlow binary is optimized to use available CPU instructions in performance-critical operations.\n",
      "To enable the following instructions: AVX2 AVX512F AVX512_VNNI FMA, in other operations, rebuild TensorFlow with the appropriate compiler flags.\n"
     ]
    }
   ],
   "source": [
    "import numpy as np\n",
    "import math\n",
    "import matplotlib.pyplot as plt\n",
    "import h5py\n",
    "import random\n",
    "import sklearn\n",
    "import collections\n",
    "from sklearn.model_selection import train_test_split\n",
    "import json\n",
    "import pylab\n",
    "import tensorflow as tf\n",
    "import tensorflow.math as tfmath\n",
    "import tensorflow.keras as keras\n",
    "from scipy.optimize import curve_fit\n",
    "from tensorflow.keras import layers, Model\n",
    "import tensorflow.keras.backend as K\n",
    "from tensorflow.keras.callbacks import EarlyStopping, ReduceLROnPlateau\n",
    "from tensorflow.keras.models import load_model\n",
    "from sklearn.metrics import roc_curve, auc\n",
    "import sklearn.metrics as sk"
   ]
  },
  {
   "cell_type": "code",
   "execution_count": 53,
   "id": "1d630c27-067c-4033-8e21-f978f2b2329a",
   "metadata": {},
   "outputs": [
    {
     "name": "stdout",
     "output_type": "stream",
     "text": [
      "(678, 4)\n"
     ]
    }
   ],
   "source": [
    "file=open('big_data.txt','r')\n",
    "string=file.read()\n",
    "file.close()\n",
    "string_list=string.split('][')\n",
    "data=[]\n",
    "for i in string_list:\n",
    "    sublist=i.split(',')\n",
    "    sublist[0]=sublist[0].replace('[','')\n",
    "    sublist[0]=sublist[0].replace(']','')\n",
    "    data+=[sublist]\n",
    "data=np.array(data)\n",
    "print(data.shape)"
   ]
  },
  {
   "cell_type": "code",
   "execution_count": 60,
   "id": "9243777b-95bf-4b12-ac5b-5687f994ed57",
   "metadata": {},
   "outputs": [],
   "source": [
    "data_beta_01=[]\n",
    "data_beta_02=[]\n",
    "data_beta_03=[]\n",
    "data_beta_04=[]\n",
    "data_beta_05=[]\n",
    "data_beta_06=[]\n",
    "data_beta_07=[]\n",
    "data_beta_08=[]\n",
    "data_beta_09=[]\n",
    "\n",
    "for event in data:\n",
    "    a=float(event[1])\n",
    "    if a==0.1:\n",
    "        data_beta_01+=[[float(event[0]),float(event[2])]]\n",
    "    if a==0.2:\n",
    "        data_beta_02+=[[float(event[0]),float(event[2])]]\n",
    "    if a==0.3:\n",
    "        data_beta_03+=[[float(event[0]),float(event[2])]]\n",
    "    if a==0.4:\n",
    "        data_beta_04+=[[float(event[0]),float(event[2])]]\n",
    "    if a==0.5:\n",
    "        data_beta_05+=[[float(event[0]),float(event[2])]]\n",
    "    if a==0.6:\n",
    "        data_beta_06+=[[float(event[0]),float(event[2])]]\n",
    "    if a==0.7:\n",
    "        data_beta_07+=[[float(event[0]),float(event[2])]]\n",
    "    if a==0.8:\n",
    "        data_beta_08+=[[float(event[0]),float(event[2])]]\n",
    "    if a==0.9:\n",
    "        data_beta_09+=[[float(event[0]),float(event[2])]]\n",
    "\n",
    "data_beta_01=np.array(data_beta_01)\n",
    "data_beta_02=np.array(data_beta_02)\n",
    "data_beta_03=np.array(data_beta_03)\n",
    "data_beta_04=np.array(data_beta_04)\n",
    "data_beta_05=np.array(data_beta_05)\n",
    "data_beta_06=np.array(data_beta_06)\n",
    "data_beta_07=np.array(data_beta_07)\n",
    "data_beta_08=np.array(data_beta_08)\n",
    "data_beta_09=np.array(data_beta_09)"
   ]
  },
  {
   "cell_type": "code",
   "execution_count": 62,
   "id": "20e9dcda-8eff-485b-9aa7-e088fb8d193e",
   "metadata": {},
   "outputs": [
    {
     "data": {
      "image/png": "[encoded data removed]",
      "text/plain": [
       "<Figure size 432x288 with 1 Axes>"
      ]
     },
     "metadata": {
      "needs_background": "light"
     },
     "output_type": "display_data"
    }
   ],
   "source": [
    "plt.plot(data_beta_01[:,1],data_beta_01[:,0],'o')\n",
    "plt.show()\n"
   ]
  },
  {
   "cell_type": "code",
   "execution_count": 66,
   "id": "b351ad53-dc6d-45a9-b219-a6eaabd97db4",
   "metadata": {},
   "outputs": [
    {
     "data": {
      "image/png": "[encoded data removed]",
      "text/plain": [
       "<Figure size 432x288 with 1 Axes>"
      ]
     },
     "metadata": {
      "needs_background": "light"
     },
     "output_type": "display_data"
    }
   ],
   "source": [
    "plt.plot(data_beta_01[:,1],data_beta_01[:,0],'o',label='beta=0.1')\n",
    "plt.plot(data_beta_02[:,1],data_beta_02[:,0],'o',label='beta=0.2')\n",
    "plt.plot(data_beta_03[:,1],data_beta_03[:,0],'o',label='beta=0.3')\n",
    "plt.plot(data_beta_04[:,1],data_beta_04[:,0],'o',label='beta=0.4')\n",
    "plt.plot(data_beta_05[:,1],data_beta_05[:,0],'o',label='beta=0.5')\n",
    "plt.plot(data_beta_06[:,1],data_beta_06[:,0],'o',label='beta=0.6')\n",
    "plt.plot(data_beta_07[:,1],data_beta_07[:,0],'o',label='beta=0.7')\n",
    "plt.plot(data_beta_08[:,1],data_beta_08[:,0],'o',label='beta=0.8')\n",
    "plt.plot(data_beta_09[:,1],data_beta_09[:,0],'o',label='beta=0.9')\n",
    "plt.legend()\n",
    "plt.show()"
   ]
  },
  {
   "cell_type": "code",
   "execution_count": null,
   "id": "24196714-bcf4-4798-b2df-489216f1a429",
   "metadata": {},
   "outputs": [],
   "source": []
  }
 ],
 "metadata": {
  "kernelspec": {
   "display_name": "Python 3",
   "language": "python",
   "name": "python3"
  },
  "language_info": {
   "codemirror_mode": {
    "name": "ipython",
    "version": 3
   },
   "file_extension": ".py",
   "mimetype": "text/x-python",
   "name": "python",
   "nbconvert_exporter": "python",
   "pygments_lexer": "ipython3",
   "version": "3.9.12"
  }
 },
 "nbformat": 4,
 "nbformat_minor": 5
}
