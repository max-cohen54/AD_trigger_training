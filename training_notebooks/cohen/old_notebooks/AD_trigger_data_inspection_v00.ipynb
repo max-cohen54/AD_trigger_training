{
 "cells": [
  {
   "cell_type": "markdown",
   "id": "17eee681",
   "metadata": {},
   "source": [
    "# Anomaly Detection for Trigger: exploring data"
   ]
  },
  {
   "cell_type": "code",
   "execution_count": 1,
   "id": "9fbcf1cf",
   "metadata": {},
   "outputs": [],
   "source": [
    "import numpy as np\n",
    "import matplotlib.pyplot as plt\n",
    "import h5py\n",
    "import random\n",
    "import sklearn\n",
    "import collections\n",
    "from sklearn.model_selection import train_test_split\n",
    "import json"
   ]
  },
  {
   "cell_type": "code",
   "execution_count": 23,
   "id": "31262b2f",
   "metadata": {},
   "outputs": [],
   "source": [
    "np.set_printoptions(precision=3)\n",
    "np.set_printoptions(suppress=True)"
   ]
  },
  {
   "cell_type": "code",
   "execution_count": 2,
   "id": "b06e51a2",
   "metadata": {},
   "outputs": [],
   "source": [
    "# Lists holding all of the data (data22 and MC)\n",
    "datasets = {}\n",
    "pass_HLT = {}\n",
    "pass_L1 = {}\n",
    "weights = {}"
   ]
  },
  {
   "cell_type": "code",
   "execution_count": 34,
   "id": "8996fee0",
   "metadata": {},
   "outputs": [],
   "source": [
    "f_data = \"/eos/home-m/mmcohen/ntuples/AOD_EB_ntuples_05-22-2024.h5\"\n",
    "\n",
    "with h5py.File(f_data, 'r') as hf:\n",
    "    HLT_jets = hf['HLT_jets'][:]\n",
    "    L1_jFexSR_jets = hf['L1_jFexSR_jets'][:]\n",
    "    L1_jFexLR_jets = hf['L1_jFexLR_jets'][:]\n",
    "    HLT_electrons = hf['HLT_electrons'][:]\n",
    "    LRT_electrons = hf['LRT_electrons'][:]\n",
    "    L1_egammas = hf['L1_egammas'][:]\n",
    "    HLT_muons = hf['HLT_muons'][:]\n",
    "    LRT_muons = hf['LRT_muons'][:]\n",
    "    L1_muons = hf['L1_muons'][:]\n",
    "    L1_eFex_taus = hf['L1_eFex_taus'][:]\n",
    "    L1_jFex_taus = hf['L1_jFex_taus'][:]\n",
    "    HLT_photons = hf['HLT_photons'][:]\n",
    "    HLT_MET = hf['HLT_MET'][:] # [magnitude, eta, phi]\n",
    "    L1_MET = hf['L1_MET'][:] # [magnitude, eta, phi]\n",
    "    pass_L1_unprescaled = hf[\"pass_L1_unprescaled\"][:]\n",
    "    pass_HLT_unprescaled = hf[\"pass_HLT_unprescaled\"][:]\n",
    "    EB_weights = hf[\"EB_weights\"][:]\n",
    "    event_numbers = hf[\"event_number\"][:]"
   ]
  },
  {
   "cell_type": "code",
   "execution_count": 37,
   "id": "f065e646",
   "metadata": {},
   "outputs": [
    {
     "data": {
      "text/plain": [
       "2059879"
      ]
     },
     "execution_count": 37,
     "metadata": {},
     "output_type": "execute_result"
    }
   ],
   "source": [
    "len(HLT_jets)"
   ]
  },
  {
   "cell_type": "markdown",
   "id": "93edcaba",
   "metadata": {},
   "source": [
    "## MET"
   ]
  },
  {
   "cell_type": "code",
   "execution_count": 39,
   "id": "bf0b2f14",
   "metadata": {},
   "outputs": [
    {
     "data": {
      "text/plain": [
       "(2059879, 3)"
      ]
     },
     "execution_count": 39,
     "metadata": {},
     "output_type": "execute_result"
    }
   ],
   "source": [
    "HLT_MET.shape"
   ]
  },
  {
   "cell_type": "code",
   "execution_count": 41,
   "id": "37d2b127",
   "metadata": {},
   "outputs": [
    {
     "data": {
      "text/plain": [
       "(2059879, 10, 4)"
      ]
     },
     "execution_count": 41,
     "metadata": {},
     "output_type": "execute_result"
    }
   ],
   "source": [
    "HLT_jets.shape"
   ]
  },
  {
   "cell_type": "code",
   "execution_count": 46,
   "id": "eebde4fe",
   "metadata": {},
   "outputs": [
    {
     "data": {
      "text/plain": [
       "1510123"
      ]
     },
     "execution_count": 46,
     "metadata": {},
     "output_type": "execute_result"
    }
   ],
   "source": [
    "np.sum(HLT_MET[:,0]==-999)"
   ]
  },
  {
   "cell_type": "code",
   "execution_count": 48,
   "id": "66ca5b88",
   "metadata": {},
   "outputs": [
    {
     "data": {
      "text/plain": [
       "array([1163947457, 1163957270, 1163974591, 1163927181, 1163988341])"
      ]
     },
     "execution_count": 48,
     "metadata": {},
     "output_type": "execute_result"
    }
   ],
   "source": [
    "event_numbers[50:55]"
   ]
  },
  {
   "cell_type": "code",
   "execution_count": 29,
   "id": "5e0efea7",
   "metadata": {},
   "outputs": [
    {
     "data": {
      "text/plain": [
       "array([[18.31 ,  0.   ,  1.19 ],\n",
       "       [15.743,  0.   ,  1.096],\n",
       "       [ 4.045,  0.   ,  0.149],\n",
       "       [54.16 ,  0.   ,  0.93 ],\n",
       "       [ 2.6  ,  0.   ,  0.395]])"
      ]
     },
     "execution_count": 29,
     "metadata": {},
     "output_type": "execute_result"
    }
   ],
   "source": [
    "L1_MET[50:55, :]"
   ]
  },
  {
   "cell_type": "code",
   "execution_count": 30,
   "id": "06ed196e",
   "metadata": {},
   "outputs": [
    {
     "data": {
      "text/plain": [
       "array([[  13.838,    0.   ,   -1.204],\n",
       "       [-999.   ,    0.   , -999.   ],\n",
       "       [-999.   ,    0.   , -999.   ],\n",
       "       [   9.254,    0.   ,   -0.569],\n",
       "       [-999.   ,    0.   , -999.   ]])"
      ]
     },
     "execution_count": 30,
     "metadata": {},
     "output_type": "execute_result"
    }
   ],
   "source": [
    "HLT_MET[50:55, :]"
   ]
  },
  {
   "cell_type": "markdown",
   "id": "7f2d98b0",
   "metadata": {},
   "source": [
    "## egamma / electrons / photons"
   ]
  },
  {
   "cell_type": "code",
   "execution_count": 49,
   "id": "817c0338",
   "metadata": {},
   "outputs": [
    {
     "data": {
      "text/plain": [
       "array([[[13.9  , -0.813,  1.325],\n",
       "        [ 5.4  ,  0.338,  1.031],\n",
       "        [ 5.2  ,  0.412,  1.031]],\n",
       "\n",
       "       [[50.8  , -0.762,  0.933],\n",
       "        [20.6  , -0.813,  1.031],\n",
       "        [19.2  ,  0.188, -2.111]],\n",
       "\n",
       "       [[ 0.   ,  0.   ,  0.   ],\n",
       "        [ 0.   ,  0.   ,  0.   ],\n",
       "        [ 0.   ,  0.   ,  0.   ]],\n",
       "\n",
       "       [[ 4.8  ,  0.263, -1.522],\n",
       "        [ 0.   ,  0.   ,  0.   ],\n",
       "        [ 0.   ,  0.   ,  0.   ]],\n",
       "\n",
       "       [[ 0.   ,  0.   ,  0.   ],\n",
       "        [ 0.   ,  0.   ,  0.   ],\n",
       "        [ 0.   ,  0.   ,  0.   ]]])"
      ]
     },
     "execution_count": 49,
     "metadata": {},
     "output_type": "execute_result"
    }
   ],
   "source": [
    "L1_egammas[50:55, :]"
   ]
  },
  {
   "cell_type": "code",
   "execution_count": 50,
   "id": "bd3dfe93",
   "metadata": {},
   "outputs": [
    {
     "data": {
      "text/plain": [
       "array([[[0., 0., 0.],\n",
       "        [0., 0., 0.],\n",
       "        [0., 0., 0.]],\n",
       "\n",
       "       [[0., 0., 0.],\n",
       "        [0., 0., 0.],\n",
       "        [0., 0., 0.]],\n",
       "\n",
       "       [[0., 0., 0.],\n",
       "        [0., 0., 0.],\n",
       "        [0., 0., 0.]],\n",
       "\n",
       "       [[0., 0., 0.],\n",
       "        [0., 0., 0.],\n",
       "        [0., 0., 0.]],\n",
       "\n",
       "       [[0., 0., 0.],\n",
       "        [0., 0., 0.],\n",
       "        [0., 0., 0.]]])"
      ]
     },
     "execution_count": 50,
     "metadata": {},
     "output_type": "execute_result"
    }
   ],
   "source": [
    "HLT_electrons[50:55, :]"
   ]
  },
  {
   "cell_type": "code",
   "execution_count": 51,
   "id": "d93940c7",
   "metadata": {},
   "outputs": [
    {
     "data": {
      "text/plain": [
       "array([[[16.614, -0.82 ,  1.352],\n",
       "        [16.614, -0.82 ,  1.352],\n",
       "        [ 7.045,  0.333,  0.995]],\n",
       "\n",
       "       [[53.141, -0.758,  0.925],\n",
       "        [53.141, -0.758,  0.925],\n",
       "        [53.141, -0.758,  0.925]],\n",
       "\n",
       "       [[ 0.   ,  0.   ,  0.   ],\n",
       "        [ 0.   ,  0.   ,  0.   ],\n",
       "        [ 0.   ,  0.   ,  0.   ]],\n",
       "\n",
       "       [[ 8.825,  0.255, -1.536],\n",
       "        [ 8.825,  0.255, -1.536],\n",
       "        [ 0.   ,  0.   ,  0.   ]],\n",
       "\n",
       "       [[ 0.   ,  0.   ,  0.   ],\n",
       "        [ 0.   ,  0.   ,  0.   ],\n",
       "        [ 0.   ,  0.   ,  0.   ]]])"
      ]
     },
     "execution_count": 51,
     "metadata": {},
     "output_type": "execute_result"
    }
   ],
   "source": [
    "HLT_photons[50:55, :]"
   ]
  },
  {
   "cell_type": "code",
   "execution_count": 60,
   "id": "3cdc5cfb",
   "metadata": {},
   "outputs": [
    {
     "data": {
      "text/plain": [
       "array([1163950425, 1163892040, 1163934153, 1163957863, 1163937219])"
      ]
     },
     "execution_count": 60,
     "metadata": {},
     "output_type": "execute_result"
    }
   ],
   "source": [
    "event_numbers[42:47]"
   ]
  },
  {
   "cell_type": "code",
   "execution_count": 52,
   "id": "c1c32efb",
   "metadata": {},
   "outputs": [
    {
     "data": {
      "text/plain": [
       "array([[[10.5  ,  0.113, -2.307],\n",
       "        [ 0.   ,  0.   ,  0.   ],\n",
       "        [ 0.   ,  0.   ,  0.   ]],\n",
       "\n",
       "       [[27.1  ,  2.288, -0.245],\n",
       "        [ 3.2  ,  1.062,  2.994],\n",
       "        [ 0.   ,  0.   ,  0.   ]],\n",
       "\n",
       "       [[12.5  ,  1.113, -2.111],\n",
       "        [10.8  , -0.713,  0.933],\n",
       "        [ 0.   ,  0.   ,  0.   ]],\n",
       "\n",
       "       [[ 4.9  ,  1.113,  2.503],\n",
       "        [ 3.9  ,  0.287,  1.129],\n",
       "        [ 0.   ,  0.   ,  0.   ]],\n",
       "\n",
       "       [[58.   , -2.188,  0.245],\n",
       "        [14.9  ,  0.688, -2.798],\n",
       "        [ 0.   ,  0.   ,  0.   ]]])"
      ]
     },
     "execution_count": 52,
     "metadata": {},
     "output_type": "execute_result"
    }
   ],
   "source": [
    "L1_egammas[42:47, :]"
   ]
  },
  {
   "cell_type": "code",
   "execution_count": 53,
   "id": "4dae0bf1",
   "metadata": {},
   "outputs": [
    {
     "data": {
      "text/plain": [
       "array([[[0., 0., 0.],\n",
       "        [0., 0., 0.],\n",
       "        [0., 0., 0.]],\n",
       "\n",
       "       [[0., 0., 0.],\n",
       "        [0., 0., 0.],\n",
       "        [0., 0., 0.]],\n",
       "\n",
       "       [[0., 0., 0.],\n",
       "        [0., 0., 0.],\n",
       "        [0., 0., 0.]],\n",
       "\n",
       "       [[0., 0., 0.],\n",
       "        [0., 0., 0.],\n",
       "        [0., 0., 0.]],\n",
       "\n",
       "       [[0., 0., 0.],\n",
       "        [0., 0., 0.],\n",
       "        [0., 0., 0.]]])"
      ]
     },
     "execution_count": 53,
     "metadata": {},
     "output_type": "execute_result"
    }
   ],
   "source": [
    "HLT_electrons[42:47, :]"
   ]
  },
  {
   "cell_type": "code",
   "execution_count": 54,
   "id": "da46cc23",
   "metadata": {},
   "outputs": [
    {
     "data": {
      "text/plain": [
       "array([[[11.784,  0.108, -2.31 ],\n",
       "        [11.784,  0.108, -2.31 ],\n",
       "        [ 0.   ,  0.   ,  0.   ]],\n",
       "\n",
       "       [[18.746,  2.294, -0.247],\n",
       "        [18.746,  2.294, -0.247],\n",
       "        [12.63 ,  2.298, -0.321]],\n",
       "\n",
       "       [[14.734,  1.13 , -2.158],\n",
       "        [14.734,  1.13 , -2.158],\n",
       "        [ 7.757, -0.71 ,  0.898]],\n",
       "\n",
       "       [[ 5.666,  1.111,  2.52 ],\n",
       "        [ 5.666,  1.111,  2.52 ],\n",
       "        [ 4.523,  0.292,  1.176]],\n",
       "\n",
       "       [[63.068, -2.207,  0.233],\n",
       "        [63.068, -2.207,  0.233],\n",
       "        [16.521,  0.661, -2.804]]])"
      ]
     },
     "execution_count": 54,
     "metadata": {},
     "output_type": "execute_result"
    }
   ],
   "source": [
    "HLT_photons[42:47, :] "
   ]
  },
  {
   "cell_type": "code",
   "execution_count": 56,
   "id": "0d830112",
   "metadata": {},
   "outputs": [
    {
     "data": {
      "text/plain": [
       "array([[23.804, -1.552,  1.504],\n",
       "       [23.804, -1.552,  1.504],\n",
       "       [10.009, -1.557,  1.424]])"
      ]
     },
     "execution_count": 56,
     "metadata": {},
     "output_type": "execute_result"
    }
   ],
   "source": [
    "HLT_photons[101, :]"
   ]
  },
  {
   "cell_type": "code",
   "execution_count": 58,
   "id": "06fb6a68",
   "metadata": {},
   "outputs": [
    {
     "data": {
      "text/plain": [
       "(2059879, 3, 3)"
      ]
     },
     "execution_count": 58,
     "metadata": {},
     "output_type": "execute_result"
    }
   ],
   "source": [
    "HLT_electrons.shape"
   ]
  },
  {
   "cell_type": "code",
   "execution_count": 57,
   "id": "8cba249a",
   "metadata": {},
   "outputs": [
    {
     "data": {
      "text/plain": [
       "6151788"
      ]
     },
     "execution_count": 57,
     "metadata": {},
     "output_type": "execute_result"
    }
   ],
   "source": [
    "np.sum(HLT_electrons[:,0]==[0., 0., 0.])"
   ]
  },
  {
   "cell_type": "code",
   "execution_count": 59,
   "id": "7342bb0d",
   "metadata": {},
   "outputs": [
    {
     "data": {
      "text/plain": [
       "6179637"
      ]
     },
     "execution_count": 59,
     "metadata": {},
     "output_type": "execute_result"
    }
   ],
   "source": [
    "3*2059879"
   ]
  },
  {
   "cell_type": "markdown",
   "id": "7f65ea32",
   "metadata": {},
   "source": [
    "## Muons"
   ]
  },
  {
   "cell_type": "code",
   "execution_count": 72,
   "id": "191b7347",
   "metadata": {},
   "outputs": [],
   "source": [
    "np.set_printoptions(precision=4)\n",
    "np.set_printoptions(suppress=False)"
   ]
  },
  {
   "cell_type": "code",
   "execution_count": 73,
   "id": "b02ee2d7",
   "metadata": {},
   "outputs": [
    {
     "data": {
      "text/plain": [
       "array([[[ 0.008 ,  1.7742,  1.1653],\n",
       "        [ 0.    ,  0.    ,  0.    ],\n",
       "        [ 0.    ,  0.    ,  0.    ]],\n",
       "\n",
       "       [[ 0.    ,  0.    ,  0.    ],\n",
       "        [ 0.    ,  0.    ,  0.    ],\n",
       "        [ 0.    ,  0.    ,  0.    ]],\n",
       "\n",
       "       [[ 0.    ,  0.    ,  0.    ],\n",
       "        [ 0.    ,  0.    ,  0.    ],\n",
       "        [ 0.    ,  0.    ,  0.    ]],\n",
       "\n",
       "       [[ 0.008 , -0.5059,  1.5127],\n",
       "        [ 0.    ,  0.    ,  0.    ],\n",
       "        [ 0.    ,  0.    ,  0.    ]],\n",
       "\n",
       "       [[ 0.    ,  0.    ,  0.    ],\n",
       "        [ 0.    ,  0.    ,  0.    ],\n",
       "        [ 0.    ,  0.    ,  0.    ]]])"
      ]
     },
     "execution_count": 73,
     "metadata": {},
     "output_type": "execute_result"
    }
   ],
   "source": [
    "L1_muons[50:55, :]"
   ]
  },
  {
   "cell_type": "code",
   "execution_count": 74,
   "id": "c58790b7",
   "metadata": {},
   "outputs": [
    {
     "data": {
      "text/plain": [
       "array([[[7.3613, 1.7769, 1.1547],\n",
       "        [0.    , 0.    , 0.    ],\n",
       "        [0.    , 0.    , 0.    ]],\n",
       "\n",
       "       [[0.    , 0.    , 0.    ],\n",
       "        [0.    , 0.    , 0.    ],\n",
       "        [0.    , 0.    , 0.    ]],\n",
       "\n",
       "       [[0.    , 0.    , 0.    ],\n",
       "        [0.    , 0.    , 0.    ],\n",
       "        [0.    , 0.    , 0.    ]],\n",
       "\n",
       "       [[0.    , 0.    , 0.    ],\n",
       "        [0.    , 0.    , 0.    ],\n",
       "        [0.    , 0.    , 0.    ]],\n",
       "\n",
       "       [[0.    , 0.    , 0.    ],\n",
       "        [0.    , 0.    , 0.    ],\n",
       "        [0.    , 0.    , 0.    ]]])"
      ]
     },
     "execution_count": 74,
     "metadata": {},
     "output_type": "execute_result"
    }
   ],
   "source": [
    "HLT_muons[50:55, :]"
   ]
  },
  {
   "cell_type": "code",
   "execution_count": 79,
   "id": "4dd357ed",
   "metadata": {},
   "outputs": [
    {
     "data": {
      "text/plain": [
       "array([[[ 0.    ,  0.    ,  0.    ],\n",
       "        [ 0.    ,  0.    ,  0.    ],\n",
       "        [ 0.    ,  0.    ,  0.    ]],\n",
       "\n",
       "       [[ 0.    ,  0.    ,  0.    ],\n",
       "        [ 0.    ,  0.    ,  0.    ],\n",
       "        [ 0.    ,  0.    ,  0.    ]],\n",
       "\n",
       "       [[ 0.    ,  0.    ,  0.    ],\n",
       "        [ 0.    ,  0.    ,  0.    ],\n",
       "        [ 0.    ,  0.    ,  0.    ]],\n",
       "\n",
       "       [[ 0.008 , -1.0478,  1.629 ],\n",
       "        [ 0.    ,  0.    ,  0.    ],\n",
       "        [ 0.    ,  0.    ,  0.    ]],\n",
       "\n",
       "       [[ 0.    ,  0.    ,  0.    ],\n",
       "        [ 0.    ,  0.    ,  0.    ],\n",
       "        [ 0.    ,  0.    ,  0.    ]]])"
      ]
     },
     "execution_count": 79,
     "metadata": {},
     "output_type": "execute_result"
    }
   ],
   "source": [
    "L1_muons[102:107, :]"
   ]
  },
  {
   "cell_type": "code",
   "execution_count": 78,
   "id": "0954a84f",
   "metadata": {},
   "outputs": [
    {
     "data": {
      "text/plain": [
       "array([[[0., 0., 0.],\n",
       "        [0., 0., 0.],\n",
       "        [0., 0., 0.]],\n",
       "\n",
       "       [[0., 0., 0.],\n",
       "        [0., 0., 0.],\n",
       "        [0., 0., 0.]],\n",
       "\n",
       "       [[0., 0., 0.],\n",
       "        [0., 0., 0.],\n",
       "        [0., 0., 0.]],\n",
       "\n",
       "       [[0., 0., 0.],\n",
       "        [0., 0., 0.],\n",
       "        [0., 0., 0.]],\n",
       "\n",
       "       [[0., 0., 0.],\n",
       "        [0., 0., 0.],\n",
       "        [0., 0., 0.]]])"
      ]
     },
     "execution_count": 78,
     "metadata": {},
     "output_type": "execute_result"
    }
   ],
   "source": [
    "HLT_muons[102:107, :]"
   ]
  },
  {
   "cell_type": "markdown",
   "id": "28a07b20",
   "metadata": {},
   "source": [
    "## Jets"
   ]
  },
  {
   "cell_type": "code",
   "execution_count": 32,
   "id": "82d8a572",
   "metadata": {},
   "outputs": [
    {
     "data": {
      "text/plain": [
       "array([[[ 23.8  ,  -0.85 ,   1.325],\n",
       "        [ 23.2  ,   0.45 ,   1.031],\n",
       "        [  0.   ,   0.   ,   0.   ],\n",
       "        [  0.   ,   0.   ,   0.   ],\n",
       "        [  0.   ,   0.   ,   0.   ],\n",
       "        [  0.   ,   0.   ,   0.   ],\n",
       "        [  0.   ,   0.   ,   0.   ],\n",
       "        [  0.   ,   0.   ,   0.   ],\n",
       "        [  0.   ,   0.   ,   0.   ],\n",
       "        [  0.   ,   0.   ,   0.   ]],\n",
       "\n",
       "       [[109.4  ,  -0.75 ,   1.031],\n",
       "        [107.2  ,   0.15 ,  -2.013],\n",
       "        [ 19.2  ,   3.164,   1.382],\n",
       "        [ 18.2  ,  -0.35 ,   1.031],\n",
       "        [  0.   ,   0.   ,   0.   ],\n",
       "        [  0.   ,   0.   ,   0.   ],\n",
       "        [  0.   ,   0.   ,   0.   ],\n",
       "        [  0.   ,   0.   ,   0.   ],\n",
       "        [  0.   ,   0.   ,   0.   ],\n",
       "        [  0.   ,   0.   ,   0.   ]]])"
      ]
     },
     "execution_count": 32,
     "metadata": {},
     "output_type": "execute_result"
    }
   ],
   "source": [
    " L1_jFexSR_jets[50:52, :]"
   ]
  },
  {
   "cell_type": "code",
   "execution_count": 80,
   "id": "6e727536",
   "metadata": {},
   "outputs": [
    {
     "data": {
      "text/plain": [
       "array([[[19.4   , -1.35  ,  1.6199],\n",
       "        [18.8   , -0.85  ,  1.3254],\n",
       "        [17.8   , -0.45  ,  0.7363],\n",
       "        [17.4   ,  0.45  ,  1.0308],\n",
       "        [ 0.    ,  0.    ,  0.    ],\n",
       "        [ 0.    ,  0.    ,  0.    ],\n",
       "        [ 0.    ,  0.    ,  0.    ],\n",
       "        [ 0.    ,  0.    ,  0.    ],\n",
       "        [ 0.    ,  0.    ,  0.    ],\n",
       "        [ 0.    ,  0.    ,  0.    ]],\n",
       "\n",
       "       [[91.8   , -0.35  ,  1.0308],\n",
       "        [78.    ,  0.15  , -2.0126],\n",
       "        [74.4   , -1.35  ,  0.8345],\n",
       "        [21.    ,  0.25  ,  1.0308],\n",
       "        [ 0.    ,  0.    ,  0.    ],\n",
       "        [ 0.    ,  0.    ,  0.    ],\n",
       "        [ 0.    ,  0.    ,  0.    ],\n",
       "        [ 0.    ,  0.    ,  0.    ],\n",
       "        [ 0.    ,  0.    ,  0.    ],\n",
       "        [ 0.    ,  0.    ,  0.    ]]])"
      ]
     },
     "execution_count": 80,
     "metadata": {},
     "output_type": "execute_result"
    }
   ],
   "source": [
    " L1_jFexLR_jets[50:52, :]"
   ]
  },
  {
   "cell_type": "code",
   "execution_count": 33,
   "id": "cda0660b",
   "metadata": {},
   "outputs": [
    {
     "data": {
      "text/plain": [
       "array([[[ 56.3  , 172.74 ,  -1.785,  -1.468],\n",
       "        [ 43.141,  47.472,   0.43 ,   0.982],\n",
       "        [ 39.028,  90.886,  -1.488,  -2.884],\n",
       "        [ 24.735,  80.029,   1.841,   1.169],\n",
       "        [ 23.582,  31.493,  -0.795,   1.305],\n",
       "        [ 22.648, 151.014,  -2.585,   3.008],\n",
       "        [ 18.461,  82.838,  -2.181,  -2.851],\n",
       "        [ 17.369,  76.581,  -2.163,   0.937],\n",
       "        [ 11.956,  24.851,   1.36 ,   0.931],\n",
       "        [  9.145,  34.326,  -1.996,  -2.272]],\n",
       "\n",
       "       [[157.792, 161.632,   0.184,  -2.039],\n",
       "        [132.634, 170.761,  -0.723,   0.978],\n",
       "        [ 43.63 , 523.86 ,   3.177,   1.283],\n",
       "        [ 20.278,  34.845,   1.13 ,  -2.427],\n",
       "        [ 15.553,  42.368,   1.656,  -2.791],\n",
       "        [  8.652,  10.303,   0.571,  -2.588],\n",
       "        [  8.646,   9.263,  -0.372,  -2.086],\n",
       "        [  6.636,   6.83 ,   0.176,   0.63 ],\n",
       "        [  0.   ,   0.   ,   0.   ,   0.   ],\n",
       "        [  0.   ,   0.   ,   0.   ,   0.   ]]])"
      ]
     },
     "execution_count": 33,
     "metadata": {},
     "output_type": "execute_result"
    }
   ],
   "source": [
    "HLT_jets[50:52, :]"
   ]
  },
  {
   "cell_type": "code",
   "execution_count": null,
   "id": "2b952d61",
   "metadata": {},
   "outputs": [],
   "source": []
  },
  {
   "cell_type": "code",
   "execution_count": null,
   "id": "5afb1acf",
   "metadata": {},
   "outputs": [],
   "source": []
  }
 ],
 "metadata": {
  "@webio": {
   "lastCommId": null,
   "lastKernelId": null
  },
  "kernelspec": {
   "display_name": "Python 3",
   "language": "python",
   "name": "python3"
  },
  "language_info": {
   "codemirror_mode": {
    "name": "ipython",
    "version": 3
   },
   "file_extension": ".py",
   "mimetype": "text/x-python",
   "name": "python",
   "nbconvert_exporter": "python",
   "pygments_lexer": "ipython3",
   "version": "3.9.12"
  }
 },
 "nbformat": 4,
 "nbformat_minor": 5
}
