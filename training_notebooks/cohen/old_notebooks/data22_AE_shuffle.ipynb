{
 "cells": [
  {
   "cell_type": "code",
   "execution_count": 32,
   "id": "b155d6bf-daf6-4f8e-b152-5b1f9ff6c65d",
   "metadata": {},
   "outputs": [],
   "source": [
    "import numpy as np\n",
    "import matplotlib.pyplot as plt\n",
    "import h5py\n",
    "import random\n",
    "import sklearn\n",
    "import collections\n",
    "from sklearn.model_selection import train_test_split\n",
    "import json\n",
    "import pylab\n",
    "from scipy.optimize import curve_fit\n",
    "from tensorflow.keras import layers, Model\n",
    "import tensorflow.keras.backend as K\n",
    "from tensorflow.keras.callbacks import EarlyStopping, ReduceLROnPlateau\n",
    "from tensorflow.keras.models import load_model\n",
    "from sklearn.metrics import roc_curve, auc"
   ]
  },
  {
   "cell_type": "code",
   "execution_count": 2,
   "id": "2ca30d05-fa82-40d9-ad19-9b0580e3873a",
   "metadata": {},
   "outputs": [
    {
     "name": "stdout",
     "output_type": "stream",
     "text": [
      "GPUs Available: [PhysicalDevice(name='/physical_device:GPU:0', device_type='GPU')]\n",
      "Eager execution: True\n",
      "/job:localhost/replica:0/task:0/device:GPU:0\n"
     ]
    },
    {
     "name": "stderr",
     "output_type": "stream",
     "text": [
      "2024-02-10 16:49:48.413055: I tensorflow/compiler/xla/stream_executor/cuda/cuda_gpu_executor.cc:995] successful NUMA node read from SysFS had negative value (-1), but there must be at least one NUMA node, so returning NUMA node zero. See more at https://github.com/torvalds/linux/blob/v6.0/Documentation/ABI/testing/sysfs-bus-pci#L344-L355\n",
      "2024-02-10 16:49:48.442269: I tensorflow/compiler/xla/stream_executor/cuda/cuda_gpu_executor.cc:995] successful NUMA node read from SysFS had negative value (-1), but there must be at least one NUMA node, so returning NUMA node zero. See more at https://github.com/torvalds/linux/blob/v6.0/Documentation/ABI/testing/sysfs-bus-pci#L344-L355\n",
      "2024-02-10 16:49:48.442531: I tensorflow/compiler/xla/stream_executor/cuda/cuda_gpu_executor.cc:995] successful NUMA node read from SysFS had negative value (-1), but there must be at least one NUMA node, so returning NUMA node zero. See more at https://github.com/torvalds/linux/blob/v6.0/Documentation/ABI/testing/sysfs-bus-pci#L344-L355\n",
      "2024-02-10 16:49:48.448432: I tensorflow/compiler/xla/stream_executor/cuda/cuda_gpu_executor.cc:995] successful NUMA node read from SysFS had negative value (-1), but there must be at least one NUMA node, so returning NUMA node zero. See more at https://github.com/torvalds/linux/blob/v6.0/Documentation/ABI/testing/sysfs-bus-pci#L344-L355\n",
      "2024-02-10 16:49:48.448642: I tensorflow/compiler/xla/stream_executor/cuda/cuda_gpu_executor.cc:995] successful NUMA node read from SysFS had negative value (-1), but there must be at least one NUMA node, so returning NUMA node zero. See more at https://github.com/torvalds/linux/blob/v6.0/Documentation/ABI/testing/sysfs-bus-pci#L344-L355\n",
      "2024-02-10 16:49:48.448797: I tensorflow/compiler/xla/stream_executor/cuda/cuda_gpu_executor.cc:995] successful NUMA node read from SysFS had negative value (-1), but there must be at least one NUMA node, so returning NUMA node zero. See more at https://github.com/torvalds/linux/blob/v6.0/Documentation/ABI/testing/sysfs-bus-pci#L344-L355\n",
      "2024-02-10 16:49:49.557154: I tensorflow/compiler/xla/stream_executor/cuda/cuda_gpu_executor.cc:995] successful NUMA node read from SysFS had negative value (-1), but there must be at least one NUMA node, so returning NUMA node zero. See more at https://github.com/torvalds/linux/blob/v6.0/Documentation/ABI/testing/sysfs-bus-pci#L344-L355\n",
      "2024-02-10 16:49:49.557547: I tensorflow/compiler/xla/stream_executor/cuda/cuda_gpu_executor.cc:995] successful NUMA node read from SysFS had negative value (-1), but there must be at least one NUMA node, so returning NUMA node zero. See more at https://github.com/torvalds/linux/blob/v6.0/Documentation/ABI/testing/sysfs-bus-pci#L344-L355\n",
      "2024-02-10 16:49:49.557737: I tensorflow/compiler/xla/stream_executor/cuda/cuda_gpu_executor.cc:995] successful NUMA node read from SysFS had negative value (-1), but there must be at least one NUMA node, so returning NUMA node zero. See more at https://github.com/torvalds/linux/blob/v6.0/Documentation/ABI/testing/sysfs-bus-pci#L344-L355\n",
      "2024-02-10 16:49:49.557911: I tensorflow/core/common_runtime/gpu/gpu_device.cc:1639] Created device /job:localhost/replica:0/task:0/device:GPU:0 with 295 MB memory:  -> device: 0, name: Tesla T4, pci bus id: 0000:00:07.0, compute capability: 7.5\n"
     ]
    }
   ],
   "source": [
    "import tensorflow as tf\n",
    "\n",
    "# Check GPUs available\n",
    "gpus = tf.config.list_physical_devices('GPU')\n",
    "print(f\"GPUs Available: {gpus}\")\n",
    "\n",
    "# Check if TensorFlow is currently executing eagerly (which means operations are executed as they are defined and is the default mode in TF 2.x)\n",
    "print(f\"Eager execution: {tf.executing_eagerly()}\")\n",
    "\n",
    "# If you have GPUs listed and eager execution is enabled, then operations should automatically run on the GPU if possible.\n",
    "# To test if TensorFlow will place tensors and operations on the GPU by default, you can create a simple operation and see where it is placed:\n",
    "if gpus:\n",
    "    with tf.device('/GPU:0'):\n",
    "        a = tf.constant([[1.0, 2.0, 3.0], [4.0, 5.0, 6.0]])\n",
    "        print(a.device)\n",
    "else:\n",
    "    print(\"No GPU found!\")"
   ]
  },
  {
   "cell_type": "code",
   "execution_count": 33,
   "id": "70452ce1-6a7c-4f03-b52c-9c5b88c8a16d",
   "metadata": {},
   "outputs": [],
   "source": [
    "# This is the list that will hold all of the data (data22 and MC)\n",
    "\n",
    "datasets = []\n",
    "pass_HLT = []\n",
    "tags = ['data', 'HHbbttHadHad', 'ZZ4lep', 'Ztautau', 'jjJZ4', 'jjJZ2', 'qqa']"
   ]
  },
  {
   "cell_type": "code",
   "execution_count": 34,
   "id": "4dc47606-52d7-4fe2-97f9-3f0c02ba8d2b",
   "metadata": {},
   "outputs": [],
   "source": [
    "# Read EB data22 file\n",
    "\n",
    "with h5py.File('../../../../ntuples/AOD_EB_ntuples_02-10-2024.h5', 'r') as hf:\n",
    "    jets = hf['HLT_jets'][:]\n",
    "    electrons = hf['electrons'][:]\n",
    "    LRT_electrons = hf['LRT_electrons'][:]\n",
    "    muons = hf['muons'][:]\n",
    "    LRT_muons = hf['LRT_muons'][:]\n",
    "    photons = hf['photons'][:]\n",
    "    MET = hf['MET'][:].reshape(-1, 1, 4)  # Broadcasting MET\n",
    "    pass_L1_unprescaled = hf[\"pass_L1_unprescaled\"][:]\n",
    "    pass_HLT_unprescaled = hf[\"pass_HLT_unprescaled\"][:]\n",
    "    EB_weights = hf[\"EB_weights\"][:]"
   ]
  },
  {
   "cell_type": "code",
   "execution_count": 35,
   "id": "f9c39723-8713-4f4f-b668-4bf61021f3db",
   "metadata": {},
   "outputs": [
    {
     "name": "stdout",
     "output_type": "stream",
     "text": [
      "(1019220, 10, 4)\n"
     ]
    }
   ],
   "source": [
    "print(jets.shape)"
   ]
  },
  {
   "cell_type": "code",
   "execution_count": 36,
   "id": "99292488-4061-432b-a040-85390555575d",
   "metadata": {},
   "outputs": [],
   "source": [
    "# Collect only events that passed any of our unprescaled L1 list, and concatenate. Remove E.\n",
    "\n",
    "pass_L1_idxs = (pass_L1_unprescaled == 1) # Indices of events that passed L1\n",
    "pass_HLT_unprescaled = pass_HLT_unprescaled[pass_L1_idxs]\n",
    "data = np.concatenate([jets[pass_L1_idxs], electrons[pass_L1_idxs], muons[pass_L1_idxs], photons[pass_L1_idxs], MET[pass_L1_idxs]], axis=1)\n",
    "weights = EB_weights[pass_L1_idxs]\n",
    "datasets.append(data[:, :, [0, 2, 3]])\n",
    "pass_HLT.append(pass_HLT_unprescaled)"
   ]
  },
  {
   "cell_type": "code",
   "execution_count": 37,
   "id": "d1499194-94d7-4c01-a58d-f9ccef5584ce",
   "metadata": {},
   "outputs": [],
   "source": [
    "# Read MC data. Remove E.\n",
    "\n",
    "filenames = ['HHbbttHadHad.h5', \n",
    "             'ZZ4lep.h5', \n",
    "             'Ztautau.h5', \n",
    "             'jjJZ4.h5', \n",
    "             'jjJZ2.h5', \n",
    "             'qqa.h5', \n",
    "             'HNL7p5_ctau1_eemu.h5',\n",
    "             'Zprime2EJs.h5',\n",
    "             'HAHMggfZdZd2l2nu.h5']\n",
    "data_path = '../../../ntuples/MC/'\n",
    "\n",
    "for filename in filenames:\n",
    "    with h5py.File(data_path+filename, 'r') as hf:\n",
    "        jets = hf['HLT_jets'][:]\n",
    "        electrons = hf['electrons'][:]\n",
    "        LRT_electrons = hf['LRT_electrons'][:]\n",
    "        muons = hf['muons'][:]\n",
    "        LRT_muons = hf['LRT_muons'][:]\n",
    "        photons = hf['photons'][:]\n",
    "        MET = hf['MET'][:].reshape(-1, 1, 4)  # Broadcasting MET\n",
    "        pass_HLT_unprescaled = hf['pass_HLT_unprescaled'][:]\n",
    "\n",
    "        combined_data = np.concatenate([jets, electrons, muons, photons, MET], axis=1)\n",
    "        datasets.append(combined_data[0:min(len(combined_data), 100000), :, [0, 2, 3]])\n",
    "        pass_HLT.append(pass_HLT_unprescaled[0:min(len(combined_data), 100000)])"
   ]
  },
  {
   "cell_type": "code",
   "execution_count": 38,
   "id": "01c1f898-4e32-4dc2-8ce9-bbbee5cf1f95",
   "metadata": {},
   "outputs": [],
   "source": [
    "\"\"\"Met bias. For some events, MET was not calculated, so was written as -999.\n",
    "We don't want this to impact training, so we map 0 --> 0.001 and -999 --> 0\"\"\"\n",
    "for i, data in enumerate(datasets):\n",
    "\n",
    "    # MET: 0 --> 0.001 and -999 --> 0 and nan --> 0\n",
    "    MET_zeros = (data[:, 19, 0] == 0) # indices where MET=0\n",
    "    MET_999 = ((data[:, 19, 0] == -999)) # indices where MET=-999 (not calculated)\n",
    "    MET_nan = np.isnan(data[:, 19, 2])\n",
    "    data[MET_zeros, 19, 0] = 0.001\n",
    "    data[MET_999, 19, :] = 0\n",
    "    data[MET_nan, 19, :] = 0"
   ]
  },
  {
   "cell_type": "code",
   "execution_count": 39,
   "id": "5645afa8-6daa-4c5a-9d37-a1ae0320b510",
   "metadata": {},
   "outputs": [],
   "source": [
    "\"\"\"Normalize pt \"\"\"\n",
    "for i, data in enumerate(datasets):\n",
    "    # sum of the pt and E in each event\n",
    "    sum_pt = np.sum(data[:, :, 0], axis=1, keepdims=True)\n",
    "\n",
    "    # If the sum is 0, set the sum to 1 to avoid division by 0\n",
    "    sum_pt[sum_pt == 0] = 1\n",
    "\n",
    "    # Divide pt and E by their respective sums\n",
    "    data[:, :, 0] /= sum_pt"
   ]
  },
  {
   "cell_type": "code",
   "execution_count": 40,
   "id": "a0532390-cc8e-4593-9eb4-96b4848bbde5",
   "metadata": {},
   "outputs": [],
   "source": [
    "\"\"\"Shuffle objects\"\"\"\n",
    "for data in datasets:\n",
    "    for event in data:\n",
    "        np.random.shuffle(event)"
   ]
  },
  {
   "cell_type": "code",
   "execution_count": 41,
   "id": "42ae00ae-25b3-425f-89b2-a2ad99950050",
   "metadata": {},
   "outputs": [
    {
     "name": "stdout",
     "output_type": "stream",
     "text": [
      "data: (224294, 20, 3)\n",
      "HHbbttHadHad: (20000, 20, 3)\n",
      "ZZ4lep: (100000, 20, 3)\n",
      "Ztautau: (100000, 20, 3)\n",
      "jjJZ4: (100000, 20, 3)\n",
      "jjJZ2: (100000, 20, 3)\n",
      "qqa: (50000, 20, 3)\n"
     ]
    }
   ],
   "source": [
    "for i, dataset in enumerate(datasets):\n",
    "    print(f'{tags[i]}: {dataset.shape}')"
   ]
  },
  {
   "cell_type": "code",
   "execution_count": 42,
   "id": "0c983f31-0cd4-4d0f-8e59-5bb03af74729",
   "metadata": {},
   "outputs": [
    {
     "data": {
      "image/png": "[encoded data removed]",
      "text/plain": [
       "<Figure size 1008x576 with 1 Axes>"
      ]
     },
     "metadata": {
      "needs_background": "light"
     },
     "output_type": "display_data"
    }
   ],
   "source": [
    "# Plotting pt distribtions of the jets from each dataset\n",
    "\n",
    "plt.figure(figsize=(14, 8))\n",
    "plt.rcParams['axes.linewidth'] = 2.4\n",
    "bins = np.linspace(0, 2000, 35)\n",
    "#bins=50\n",
    "\n",
    "for i, tag in enumerate(tags):\n",
    "    pt = datasets[i][:, 0, 0]\n",
    "    nonzero_pt = pt[pt > 0]\n",
    "\n",
    "    if i==0:\n",
    "        nonzero_weights = weights[pt > 0]\n",
    "        plt.hist(nonzero_pt, bins=bins, label=tag, histtype='step', density=True, fill=False, linewidth=3, weights=nonzero_weights)\n",
    "    else:\n",
    "        plt.hist(nonzero_pt, bins=bins, label=tag, histtype='step', density=True, fill=False, linewidth=3)\n",
    "\n",
    "plt.yscale('log')\n",
    "plt.xlabel('jet pt', fontsize=22)\n",
    "plt.ylabel('density', fontsize=22)\n",
    "plt.title('Leading Jet PT', fontsize=30)\n",
    "plt.grid()\n",
    "plt.legend(fontsize=18)\n",
    "plt.show()"
   ]
  },
  {
   "cell_type": "code",
   "execution_count": 43,
   "id": "8c193dca-2249-4ec8-961a-d8d01d2b60f8",
   "metadata": {},
   "outputs": [
    {
     "name": "stdout",
     "output_type": "stream",
     "text": [
      "data: (224294, 60)\n",
      "HHbbttHadHad: (20000, 60)\n",
      "ZZ4lep: (100000, 60)\n",
      "Ztautau: (100000, 60)\n",
      "jjJZ4: (100000, 60)\n",
      "jjJZ2: (100000, 60)\n",
      "qqa: (50000, 60)\n"
     ]
    }
   ],
   "source": [
    "# Flatten ndarrays for use in DNN\n",
    "\n",
    "for i, data in enumerate(datasets):\n",
    "    datasets[i] = np.reshape(data, newshape=(-1, 60))\n",
    "\n",
    "for i, data in enumerate(datasets):\n",
    "    print(f'{tags[i]}: {data.shape}')"
   ]
  },
  {
   "cell_type": "code",
   "execution_count": 44,
   "id": "326b9956-935e-49bf-a0e6-5807a43df091",
   "metadata": {},
   "outputs": [],
   "source": [
    "def create_AE(input_dim, h_dim_1, h_dim_2, h_dim_3, latent_dim):\n",
    "    # Encoder\n",
    "    inputs = layers.Input(shape=(input_dim,))\n",
    "    x = layers.Dense(h_dim_1, activation='relu')(inputs)\n",
    "    x = layers.Dense(h_dim_2, activation='relu')(x)\n",
    "    #x = layers.Dense(h_dim_3, activation='relu')(x)\n",
    "    x = layers.Dense(latent_dim, activation='relu')(x)\n",
    "\n",
    "    # Decoder\n",
    "    #x = layers.Dense(h_dim_3, activation='relu')(x)\n",
    "    x = layers.Dense(h_dim_2, activation='relu')(x)\n",
    "    z = layers.Dense(h_dim_1, activation='relu')(x)\n",
    "    outputs = layers.Dense(input_dim)(z)\n",
    "\n",
    "    model = Model(inputs=inputs, outputs=outputs)\n",
    "    return model"
   ]
  },
  {
   "cell_type": "code",
   "execution_count": 45,
   "id": "ecb27501-5a79-4a19-8a23-63c19bc1cbcf",
   "metadata": {},
   "outputs": [],
   "source": [
    "def loss_fn(y_true, y_pred):\n",
    "    \"\"\"masked mse\"\"\"\n",
    "    mask0 = K.cast(K.not_equal(y_true, 0), K.floatx())\n",
    "    maskMET = K.cast(K.not_equal(y_true, -999), K.floatx())\n",
    "    mask = mask0 * maskMET\n",
    "    squared_difference = K.square(mask * (y_pred - y_true))\n",
    "    return K.mean(squared_difference)"
   ]
  },
  {
   "cell_type": "code",
   "execution_count": 46,
   "id": "f9c12ce5-6e25-4e5b-a845-97cc026b8447",
   "metadata": {},
   "outputs": [
    {
     "name": "stdout",
     "output_type": "stream",
     "text": [
      "X_train: (134576, 60)\n",
      "X_val: (44859, 60)\n",
      "X_test: (44859, 60)\n"
     ]
    }
   ],
   "source": [
    "# Make train, test, val splits\n",
    "\n",
    "TRAIN_SIZE = 0.6\n",
    "VAL_SIZE = 0.2\n",
    "TEST_SIZE = 0.2\n",
    "\n",
    "X_train, X_, weights_train, weights_, pass_HLT_train, pass_HLT_ = train_test_split(datasets[0], weights, pass_HLT[0], train_size=TRAIN_SIZE)\n",
    "X_val, X_test, weights_val, weights_test, pass_HLT_val, pass_HLT_test = train_test_split(X_, weights_, pass_HLT_, train_size=0.5)\n",
    "\n",
    "print(f'X_train: {X_train.shape}')\n",
    "print(f'X_val: {X_val.shape}')\n",
    "print(f'X_test: {X_test.shape}')"
   ]
  },
  {
   "cell_type": "code",
   "execution_count": 47,
   "id": "4b77099d-5ad9-40f0-93a5-6401df2cfa67",
   "metadata": {},
   "outputs": [
    {
     "name": "stdout",
     "output_type": "stream",
     "text": [
      "Model: \"model_1\"\n",
      "_________________________________________________________________\n",
      " Layer (type)                Output Shape              Param #   \n",
      "=================================================================\n",
      " input_2 (InputLayer)        [(None, 60)]              0         \n",
      "                                                                 \n",
      " dense_6 (Dense)             (None, 32)                1952      \n",
      "                                                                 \n",
      " dense_7 (Dense)             (None, 8)                 264       \n",
      "                                                                 \n",
      " dense_8 (Dense)             (None, 3)                 27        \n",
      "                                                                 \n",
      " dense_9 (Dense)             (None, 8)                 32        \n",
      "                                                                 \n",
      " dense_10 (Dense)            (None, 32)                288       \n",
      "                                                                 \n",
      " dense_11 (Dense)            (None, 60)                1980      \n",
      "                                                                 \n",
      "=================================================================\n",
      "Total params: 4543 (17.75 KB)\n",
      "Trainable params: 4543 (17.75 KB)\n",
      "Non-trainable params: 0 (0.00 Byte)\n",
      "_________________________________________________________________\n"
     ]
    }
   ],
   "source": [
    "# Initialize model\n",
    "INPUT_DIM = X_train.shape[1]\n",
    "H_DIM_1 = 32\n",
    "H_DIM_2 = 8\n",
    "H_DIM_3 = 3\n",
    "LATENT_DIM = 3\n",
    "DNN_AE = create_AE(input_dim=INPUT_DIM, h_dim_1=H_DIM_1, h_dim_2=H_DIM_2, h_dim_3=H_DIM_3, latent_dim=LATENT_DIM)\n",
    "DNN_AE.summary()"
   ]
  },
  {
   "cell_type": "code",
   "execution_count": 48,
   "id": "ec38be7f-05f7-49c6-bef7-c7954714cac2",
   "metadata": {},
   "outputs": [],
   "source": [
    "DNN_AE.compile(optimizer='adam', loss=loss_fn)"
   ]
  },
  {
   "cell_type": "code",
   "execution_count": 49,
   "id": "07d15e17-fc19-4da1-9a96-a8e309627cac",
   "metadata": {},
   "outputs": [],
   "source": [
    "# Define callbacks: early stopping and learning rate scheduler\n",
    "\n",
    "STOP_PATIENCE = 8\n",
    "LR_PATIENCE = 4\n",
    "\n",
    "early_stopping = EarlyStopping(patience=STOP_PATIENCE, restore_best_weights=True)\n",
    "reduce_lr = ReduceLROnPlateau(monitor='val_loss', factor=0.1, patience=LR_PATIENCE, verbose=1)\n",
    "\n",
    "callbacks = [early_stopping, reduce_lr]"
   ]
  },
  {
   "cell_type": "code",
   "execution_count": 50,
   "id": "28c1676f-f08b-4a24-8e98-c3bb4adb55b6",
   "metadata": {},
   "outputs": [],
   "source": [
    "NUM_EPOCHS = 100\n",
    "BATCH_SIZE = 1024"
   ]
  },
  {
   "cell_type": "code",
   "execution_count": 51,
   "id": "f458f54d-fbef-4f9f-9402-b68886bc3058",
   "metadata": {},
   "outputs": [
    {
     "name": "stdout",
     "output_type": "stream",
     "text": [
      "Epoch 1/100\n",
      "132/132 [==============================] - 2s 7ms/step - loss: 1.3709 - val_loss: 1.2922 - lr: 0.0010\n",
      "Epoch 2/100\n",
      "132/132 [==============================] - 1s 4ms/step - loss: 1.2770 - val_loss: 1.2698 - lr: 0.0010\n",
      "Epoch 3/100\n",
      "132/132 [==============================] - 1s 4ms/step - loss: 1.2641 - val_loss: 1.2430 - lr: 0.0010\n",
      "Epoch 4/100\n",
      "132/132 [==============================] - 1s 4ms/step - loss: 1.2243 - val_loss: 1.2184 - lr: 0.0010\n",
      "Epoch 5/100\n",
      "132/132 [==============================] - 1s 5ms/step - loss: 1.2156 - val_loss: 1.2146 - lr: 0.0010\n",
      "Epoch 6/100\n",
      "132/132 [==============================] - 1s 5ms/step - loss: 1.2127 - val_loss: 1.2124 - lr: 0.0010\n",
      "Epoch 7/100\n",
      "132/132 [==============================] - 1s 5ms/step - loss: 1.2105 - val_loss: 1.2104 - lr: 0.0010\n",
      "Epoch 8/100\n",
      "132/132 [==============================] - 1s 4ms/step - loss: 1.2085 - val_loss: 1.2084 - lr: 0.0010\n",
      "Epoch 9/100\n",
      "132/132 [==============================] - 1s 4ms/step - loss: 1.2066 - val_loss: 1.2066 - lr: 0.0010\n",
      "Epoch 10/100\n",
      "132/132 [==============================] - 1s 4ms/step - loss: 1.2048 - val_loss: 1.2046 - lr: 0.0010\n",
      "Epoch 11/100\n",
      "132/132 [==============================] - 1s 4ms/step - loss: 1.2029 - val_loss: 1.2028 - lr: 0.0010\n",
      "Epoch 12/100\n",
      "132/132 [==============================] - 1s 4ms/step - loss: 1.2012 - val_loss: 1.2011 - lr: 0.0010\n",
      "Epoch 13/100\n",
      "132/132 [==============================] - 1s 4ms/step - loss: 1.1992 - val_loss: 1.1991 - lr: 0.0010\n",
      "Epoch 14/100\n",
      "132/132 [==============================] - 1s 5ms/step - loss: 1.1974 - val_loss: 1.1972 - lr: 0.0010\n",
      "Epoch 15/100\n",
      "132/132 [==============================] - 1s 5ms/step - loss: 1.1955 - val_loss: 1.1956 - lr: 0.0010\n",
      "Epoch 16/100\n",
      "132/132 [==============================] - 1s 4ms/step - loss: 1.1936 - val_loss: 1.1936 - lr: 0.0010\n",
      "Epoch 17/100\n",
      "132/132 [==============================] - 1s 4ms/step - loss: 1.1915 - val_loss: 1.1914 - lr: 0.0010\n",
      "Epoch 18/100\n",
      "132/132 [==============================] - 1s 4ms/step - loss: 1.1892 - val_loss: 1.1894 - lr: 0.0010\n",
      "Epoch 19/100\n",
      "132/132 [==============================] - 1s 4ms/step - loss: 1.1867 - val_loss: 1.1867 - lr: 0.0010\n",
      "Epoch 20/100\n",
      "132/132 [==============================] - 1s 4ms/step - loss: 1.1842 - val_loss: 1.1843 - lr: 0.0010\n",
      "Epoch 21/100\n",
      "132/132 [==============================] - 1s 4ms/step - loss: 1.1817 - val_loss: 1.1819 - lr: 0.0010\n",
      "Epoch 22/100\n",
      "132/132 [==============================] - 1s 4ms/step - loss: 1.1792 - val_loss: 1.1796 - lr: 0.0010\n",
      "Epoch 23/100\n",
      "132/132 [==============================] - 1s 5ms/step - loss: 1.1766 - val_loss: 1.1764 - lr: 0.0010\n",
      "Epoch 24/100\n",
      "132/132 [==============================] - 1s 5ms/step - loss: 1.1741 - val_loss: 1.1740 - lr: 0.0010\n",
      "Epoch 25/100\n",
      "132/132 [==============================] - 1s 4ms/step - loss: 1.1718 - val_loss: 1.1723 - lr: 0.0010\n",
      "Epoch 26/100\n",
      "132/132 [==============================] - 1s 4ms/step - loss: 1.1696 - val_loss: 1.1700 - lr: 0.0010\n",
      "Epoch 27/100\n",
      "132/132 [==============================] - 1s 4ms/step - loss: 1.1677 - val_loss: 1.1677 - lr: 0.0010\n",
      "Epoch 28/100\n",
      "132/132 [==============================] - 1s 4ms/step - loss: 1.1659 - val_loss: 1.1663 - lr: 0.0010\n",
      "Epoch 29/100\n",
      "132/132 [==============================] - 1s 4ms/step - loss: 1.1643 - val_loss: 1.1646 - lr: 0.0010\n",
      "Epoch 30/100\n",
      "132/132 [==============================] - 1s 4ms/step - loss: 1.1627 - val_loss: 1.1636 - lr: 0.0010\n",
      "Epoch 31/100\n",
      "132/132 [==============================] - 1s 4ms/step - loss: 1.1615 - val_loss: 1.1620 - lr: 0.0010\n",
      "Epoch 32/100\n",
      "132/132 [==============================] - 1s 5ms/step - loss: 1.1605 - val_loss: 1.1610 - lr: 0.0010\n",
      "Epoch 33/100\n",
      "132/132 [==============================] - 1s 4ms/step - loss: 1.1593 - val_loss: 1.1598 - lr: 0.0010\n",
      "Epoch 34/100\n",
      "132/132 [==============================] - 1s 4ms/step - loss: 1.1584 - val_loss: 1.1595 - lr: 0.0010\n",
      "Epoch 35/100\n",
      "132/132 [==============================] - 1s 4ms/step - loss: 1.1574 - val_loss: 1.1580 - lr: 0.0010\n",
      "Epoch 36/100\n",
      "132/132 [==============================] - 1s 4ms/step - loss: 1.1564 - val_loss: 1.1575 - lr: 0.0010\n",
      "Epoch 37/100\n",
      "132/132 [==============================] - 1s 4ms/step - loss: 1.1556 - val_loss: 1.1565 - lr: 0.0010\n",
      "Epoch 38/100\n",
      "132/132 [==============================] - 1s 4ms/step - loss: 1.1548 - val_loss: 1.1558 - lr: 0.0010\n",
      "Epoch 39/100\n",
      "132/132 [==============================] - 1s 4ms/step - loss: 1.1541 - val_loss: 1.1553 - lr: 0.0010\n",
      "Epoch 40/100\n",
      "132/132 [==============================] - 1s 4ms/step - loss: 1.1536 - val_loss: 1.1549 - lr: 0.0010\n",
      "Epoch 41/100\n",
      "132/132 [==============================] - 1s 5ms/step - loss: 1.1530 - val_loss: 1.1540 - lr: 0.0010\n",
      "Epoch 42/100\n",
      "132/132 [==============================] - 1s 4ms/step - loss: 1.1522 - val_loss: 1.1528 - lr: 0.0010\n",
      "Epoch 43/100\n",
      "132/132 [==============================] - 1s 4ms/step - loss: 1.1516 - val_loss: 1.1526 - lr: 0.0010\n",
      "Epoch 44/100\n",
      "132/132 [==============================] - 1s 4ms/step - loss: 1.1511 - val_loss: 1.1519 - lr: 0.0010\n",
      "Epoch 45/100\n",
      "132/132 [==============================] - 1s 4ms/step - loss: 1.1505 - val_loss: 1.1521 - lr: 0.0010\n",
      "Epoch 46/100\n",
      "132/132 [==============================] - 1s 4ms/step - loss: 1.1502 - val_loss: 1.1513 - lr: 0.0010\n",
      "Epoch 47/100\n",
      "132/132 [==============================] - 1s 4ms/step - loss: 1.1497 - val_loss: 1.1508 - lr: 0.0010\n",
      "Epoch 48/100\n",
      "132/132 [==============================] - 1s 4ms/step - loss: 1.1493 - val_loss: 1.1504 - lr: 0.0010\n",
      "Epoch 49/100\n",
      "132/132 [==============================] - 1s 4ms/step - loss: 1.1487 - val_loss: 1.1500 - lr: 0.0010\n",
      "Epoch 50/100\n",
      "132/132 [==============================] - 1s 5ms/step - loss: 1.1485 - val_loss: 1.1496 - lr: 0.0010\n",
      "Epoch 51/100\n",
      "132/132 [==============================] - 1s 5ms/step - loss: 1.1477 - val_loss: 1.1493 - lr: 0.0010\n",
      "Epoch 52/100\n",
      "132/132 [==============================] - 1s 4ms/step - loss: 1.1473 - val_loss: 1.1488 - lr: 0.0010\n",
      "Epoch 53/100\n",
      "132/132 [==============================] - 1s 4ms/step - loss: 1.1471 - val_loss: 1.1480 - lr: 0.0010\n",
      "Epoch 54/100\n",
      "132/132 [==============================] - 1s 4ms/step - loss: 1.1468 - val_loss: 1.1482 - lr: 0.0010\n",
      "Epoch 55/100\n",
      "132/132 [==============================] - 1s 4ms/step - loss: 1.1464 - val_loss: 1.1474 - lr: 0.0010\n",
      "Epoch 56/100\n",
      "132/132 [==============================] - 1s 4ms/step - loss: 1.1459 - val_loss: 1.1468 - lr: 0.0010\n",
      "Epoch 57/100\n",
      "132/132 [==============================] - 1s 4ms/step - loss: 1.1455 - val_loss: 1.1468 - lr: 0.0010\n",
      "Epoch 58/100\n",
      "132/132 [==============================] - 1s 4ms/step - loss: 1.1450 - val_loss: 1.1464 - lr: 0.0010\n",
      "Epoch 59/100\n",
      "132/132 [==============================] - 1s 5ms/step - loss: 1.1448 - val_loss: 1.1456 - lr: 0.0010\n",
      "Epoch 60/100\n",
      "132/132 [==============================] - 1s 5ms/step - loss: 1.1443 - val_loss: 1.1455 - lr: 0.0010\n",
      "Epoch 61/100\n",
      "132/132 [==============================] - 1s 4ms/step - loss: 1.1439 - val_loss: 1.1451 - lr: 0.0010\n",
      "Epoch 62/100\n",
      "132/132 [==============================] - 1s 4ms/step - loss: 1.1434 - val_loss: 1.1445 - lr: 0.0010\n",
      "Epoch 63/100\n",
      "132/132 [==============================] - 1s 4ms/step - loss: 1.1429 - val_loss: 1.1444 - lr: 0.0010\n",
      "Epoch 64/100\n",
      "132/132 [==============================] - 1s 4ms/step - loss: 1.1427 - val_loss: 1.1437 - lr: 0.0010\n",
      "Epoch 65/100\n",
      "132/132 [==============================] - 1s 5ms/step - loss: 1.1421 - val_loss: 1.1434 - lr: 0.0010\n",
      "Epoch 66/100\n",
      "132/132 [==============================] - 1s 4ms/step - loss: 1.1416 - val_loss: 1.1431 - lr: 0.0010\n",
      "Epoch 67/100\n",
      "132/132 [==============================] - 1s 5ms/step - loss: 1.1412 - val_loss: 1.1428 - lr: 0.0010\n",
      "Epoch 68/100\n",
      "132/132 [==============================] - 1s 5ms/step - loss: 1.1407 - val_loss: 1.1420 - lr: 0.0010\n",
      "Epoch 69/100\n",
      "132/132 [==============================] - 1s 5ms/step - loss: 1.1403 - val_loss: 1.1416 - lr: 0.0010\n",
      "Epoch 70/100\n",
      "132/132 [==============================] - 1s 5ms/step - loss: 1.1399 - val_loss: 1.1415 - lr: 0.0010\n",
      "Epoch 71/100\n",
      "132/132 [==============================] - 1s 5ms/step - loss: 1.1392 - val_loss: 1.1406 - lr: 0.0010\n",
      "Epoch 72/100\n",
      "132/132 [==============================] - 1s 4ms/step - loss: 1.1385 - val_loss: 1.1403 - lr: 0.0010\n",
      "Epoch 73/100\n",
      "132/132 [==============================] - 1s 4ms/step - loss: 1.1381 - val_loss: 1.1394 - lr: 0.0010\n",
      "Epoch 74/100\n",
      "132/132 [==============================] - 1s 4ms/step - loss: 1.1376 - val_loss: 1.1387 - lr: 0.0010\n",
      "Epoch 75/100\n",
      "132/132 [==============================] - 1s 4ms/step - loss: 1.1371 - val_loss: 1.1389 - lr: 0.0010\n",
      "Epoch 76/100\n",
      "132/132 [==============================] - 1s 5ms/step - loss: 1.1366 - val_loss: 1.1383 - lr: 0.0010\n",
      "Epoch 77/100\n",
      "132/132 [==============================] - 1s 5ms/step - loss: 1.1363 - val_loss: 1.1381 - lr: 0.0010\n",
      "Epoch 78/100\n",
      "132/132 [==============================] - 1s 4ms/step - loss: 1.1359 - val_loss: 1.1375 - lr: 0.0010\n",
      "Epoch 79/100\n",
      "132/132 [==============================] - 1s 4ms/step - loss: 1.1353 - val_loss: 1.1375 - lr: 0.0010\n",
      "Epoch 80/100\n",
      "132/132 [==============================] - 1s 4ms/step - loss: 1.1353 - val_loss: 1.1367 - lr: 0.0010\n",
      "Epoch 81/100\n",
      "132/132 [==============================] - 1s 4ms/step - loss: 1.1349 - val_loss: 1.1366 - lr: 0.0010\n",
      "Epoch 82/100\n",
      "132/132 [==============================] - 1s 4ms/step - loss: 1.1346 - val_loss: 1.1359 - lr: 0.0010\n",
      "Epoch 83/100\n",
      "132/132 [==============================] - 1s 4ms/step - loss: 1.1344 - val_loss: 1.1358 - lr: 0.0010\n",
      "Epoch 84/100\n",
      "132/132 [==============================] - 1s 5ms/step - loss: 1.1341 - val_loss: 1.1356 - lr: 0.0010\n",
      "Epoch 85/100\n",
      "132/132 [==============================] - 1s 5ms/step - loss: 1.1337 - val_loss: 1.1354 - lr: 0.0010\n",
      "Epoch 86/100\n",
      "132/132 [==============================] - 1s 4ms/step - loss: 1.1335 - val_loss: 1.1349 - lr: 0.0010\n",
      "Epoch 87/100\n",
      "132/132 [==============================] - 1s 5ms/step - loss: 1.1333 - val_loss: 1.1347 - lr: 0.0010\n",
      "Epoch 88/100\n",
      "132/132 [==============================] - 1s 4ms/step - loss: 1.1327 - val_loss: 1.1345 - lr: 0.0010\n",
      "Epoch 89/100\n",
      "132/132 [==============================] - 1s 4ms/step - loss: 1.1327 - val_loss: 1.1342 - lr: 0.0010\n",
      "Epoch 90/100\n",
      "132/132 [==============================] - 1s 4ms/step - loss: 1.1324 - val_loss: 1.1339 - lr: 0.0010\n",
      "Epoch 91/100\n",
      "132/132 [==============================] - 1s 4ms/step - loss: 1.1321 - val_loss: 1.1338 - lr: 0.0010\n",
      "Epoch 92/100\n",
      "132/132 [==============================] - 1s 4ms/step - loss: 1.1320 - val_loss: 1.1337 - lr: 0.0010\n",
      "Epoch 93/100\n",
      "132/132 [==============================] - 1s 4ms/step - loss: 1.1320 - val_loss: 1.1341 - lr: 0.0010\n",
      "Epoch 94/100\n",
      "132/132 [==============================] - 1s 5ms/step - loss: 1.1316 - val_loss: 1.1331 - lr: 0.0010\n",
      "Epoch 95/100\n",
      "132/132 [==============================] - 1s 4ms/step - loss: 1.1314 - val_loss: 1.1328 - lr: 0.0010\n",
      "Epoch 96/100\n",
      "132/132 [==============================] - 1s 4ms/step - loss: 1.1312 - val_loss: 1.1322 - lr: 0.0010\n",
      "Epoch 97/100\n",
      "132/132 [==============================] - 1s 4ms/step - loss: 1.1310 - val_loss: 1.1324 - lr: 0.0010\n",
      "Epoch 98/100\n",
      "132/132 [==============================] - 1s 4ms/step - loss: 1.1310 - val_loss: 1.1325 - lr: 0.0010\n",
      "Epoch 99/100\n",
      "132/132 [==============================] - 1s 4ms/step - loss: 1.1307 - val_loss: 1.1322 - lr: 0.0010\n",
      "Epoch 100/100\n",
      "132/132 [==============================] - 1s 4ms/step - loss: 1.1307 - val_loss: 1.1317 - lr: 0.0010\n"
     ]
    }
   ],
   "source": [
    "history = DNN_AE.fit(x=X_train, y=X_train, validation_data=(X_val, X_val), epochs=NUM_EPOCHS, batch_size=BATCH_SIZE, callbacks=callbacks)"
   ]
  },
  {
   "cell_type": "code",
   "execution_count": 52,
   "id": "2a117b31-42e7-44d0-bd42-75964365d17d",
   "metadata": {},
   "outputs": [
    {
     "name": "stdout",
     "output_type": "stream",
     "text": [
      "1402/1402 [==============================] - 2s 1ms/step\n",
      "625/625 [==============================] - 1s 1ms/step\n",
      "3125/3125 [==============================] - 4s 1ms/step\n",
      "3125/3125 [==============================] - 4s 1ms/step\n",
      "3125/3125 [==============================] - 4s 1ms/step\n",
      "3125/3125 [==============================] - 4s 1ms/step\n",
      "1563/1563 [==============================] - 2s 1ms/step\n"
     ]
    }
   ],
   "source": [
    "predictions = []\n",
    "y_true = []\n",
    "\n",
    "\n",
    "predictions.append(DNN_AE.predict(X_test))\n",
    "y_true.append(X_test)\n",
    "\n",
    "for i, data in enumerate(datasets):\n",
    "    if i==0: continue\n",
    "\n",
    "    y_true.append(data)\n",
    "    predictions.append(DNN_AE.predict(data))"
   ]
  },
  {
   "cell_type": "code",
   "execution_count": 53,
   "id": "710a3fe9-e2ff-44fc-b4b2-6522aac63a3c",
   "metadata": {},
   "outputs": [],
   "source": [
    "def mse_loss(true, prediction):\n",
    "    loss = np.mean(np.square(true - prediction), axis=-1)\n",
    "    return loss"
   ]
  },
  {
   "cell_type": "code",
   "execution_count": 54,
   "id": "86b88ec6-06c8-47dd-bfad-51ac0b4a0010",
   "metadata": {},
   "outputs": [],
   "source": [
    "def AD_score(y, x):\n",
    "    # masked mse\n",
    "    mask = (y != 0) & (y != -999)\n",
    "    _x = x * mask\n",
    "    _y = y * mask\n",
    "    return (mse_loss(_y, _x))"
   ]
  },
  {
   "cell_type": "code",
   "execution_count": 55,
   "id": "dae330a7-9556-4dbf-a5b8-289c94f4460d",
   "metadata": {},
   "outputs": [],
   "source": [
    "total_loss = []\n",
    "\n",
    "for i, prediction in enumerate(predictions):\n",
    "    total_loss.append(AD_score(y_true[i], prediction))"
   ]
  },
  {
   "cell_type": "code",
   "execution_count": 56,
   "id": "f0112a35-6e4a-4c4d-8890-1b94d5c7b758",
   "metadata": {},
   "outputs": [
    {
     "data": {
      "text/plain": [
       "<Figure size 1296x720 with 0 Axes>"
      ]
     },
     "metadata": {},
     "output_type": "display_data"
    },
    {
     "data": {
      "image/png": "[encoded data removed]",
      "text/plain": [
       "<Figure size 720x576 with 1 Axes>"
      ]
     },
     "metadata": {
      "needs_background": "light"
     },
     "output_type": "display_data"
    }
   ],
   "source": [
    "plt.figure(figsize=(18, 10))\n",
    "plt.rcParams['axes.linewidth'] = 2.4\n",
    "\n",
    "#bins = np.linspace(0, 50000, num=30)\n",
    "bins=30\n",
    "plt.figure(figsize=(10,8))\n",
    "for i, tag in enumerate(tags):\n",
    "    if i==0:\n",
    "        plt.hist(total_loss[i], bins=bins, label=tag, density = True, histtype='step', fill=False, linewidth=2.3, weights=weights_test)\n",
    "    else:\n",
    "        plt.hist(total_loss[i], bins=bins, label=tag, density = True, histtype='step', fill=False, linewidth=2.3)\n",
    "\n",
    "\n",
    "plt.yscale('log')\n",
    "plt.xlabel(\"Autoencoder Loss\", fontsize=16)\n",
    "plt.ylabel(\"Density (a.u.)\", fontsize=16)\n",
    "plt.title('MSE loss', fontsize=20)\n",
    "plt.legend(loc='best', fontsize=14)\n",
    "plt.grid()\n",
    "#plt.xlim(0, 0.2 * pow(10, 6))\n",
    "plt.show()"
   ]
  },
  {
   "cell_type": "code",
   "execution_count": 57,
   "id": "f3b019e6-2409-4676-9355-b4a407f1244a",
   "metadata": {},
   "outputs": [
    {
     "name": "stdout",
     "output_type": "stream",
     "text": [
      "data: TPR at FPR of 10^-4 is 0.0001 with threshold 3.3604\n"
     ]
    },
    {
     "data": {
      "image/png": "[encoded data removed]",
      "text/plain": [
       "<Figure size 720x576 with 1 Axes>"
      ]
     },
     "metadata": {
      "needs_background": "light"
     },
     "output_type": "display_data"
    }
   ],
   "source": [
    "target_background = np.zeros(total_loss[0].shape[0])\n",
    "\n",
    "plt.figure(figsize=(10,8))\n",
    "\n",
    "for i, label in enumerate(tags):\n",
    "    # Combine true labels, anomaly=1 and background=0\n",
    "    trueVal = np.concatenate((np.ones(total_loss[i].shape[0]), target_background))\n",
    "    \n",
    "    # Combine predictions from current dataset and background\n",
    "    predVal_loss = np.concatenate((total_loss[i], total_loss[0]))\n",
    "    \n",
    "    # Include weights for the EB data and assign no weight (or equal weight) for the other dataset\n",
    "    if i == 0:  # For the EB data\n",
    "        sample_weights = np.concatenate((weights_test, np.ones_like(target_background)))\n",
    "    else:  # For the MC datasets, assume equal weight\n",
    "        sample_weights = np.concatenate((np.ones(total_loss[i].shape[0]), np.ones_like(target_background)))\n",
    "\n",
    "    # Calculate ROC curve and AUC, including weights\n",
    "    fpr_loss, tpr_loss, threshold_loss = roc_curve(y_true=trueVal, y_score=predVal_loss, sample_weight=sample_weights)\n",
    "    auc_loss = auc(fpr_loss, tpr_loss)\n",
    "\n",
    "    # Plot ROC curve\n",
    "    plt.plot(fpr_loss, tpr_loss, \"-\", label='%s (auc = %.1f%%)' % (label, auc_loss*100.), linewidth=1.5)\n",
    "\n",
    "    # Find index where FPR is closest to 10^-4 and print TPR and threshold for that index\n",
    "    if i ==0: \n",
    "        target_fpr = 10**-4\n",
    "        idx = np.argmin(np.abs(fpr_loss - target_fpr))\n",
    "        print(f\"{label}: TPR at FPR of 10^-4 is {tpr_loss[idx]:.4f} with threshold {threshold_loss[idx]:.4f}\")\n",
    "        threshold = threshold_loss[idx]\n",
    "\n",
    "# Set log scale for x and y axis\n",
    "plt.semilogx()\n",
    "plt.semilogy()\n",
    "\n",
    "# Plot aesthetics and layout\n",
    "plt.ylabel(\"True Positive Rate\")\n",
    "plt.xlabel(\"False Positive Rate\")\n",
    "plt.legend(loc='center right')\n",
    "plt.grid(True)\n",
    "plt.tight_layout()\n",
    "\n",
    "# Additional plot elements\n",
    "plt.plot(np.linspace(0, 1), np.linspace(0, 1), '--', color='0.75')\n",
    "plt.axvline(0.0001, color='red', linestyle='dashed', linewidth=1)  # Threshold value\n",
    "plt.title(\"ROC AE\")\n",
    "plt.show()"
   ]
  },
  {
   "cell_type": "code",
   "execution_count": 58,
   "id": "7b166422-46c5-400e-a056-6aa337ee6fe4",
   "metadata": {},
   "outputs": [
    {
     "name": "stdout",
     "output_type": "stream",
     "text": [
      "-----\n",
      "data:\n",
      "HLT overlap: 0.3333333333333333\n",
      "percentage of events that passed some HLT trigger: 0.0326801756615172\n",
      "percentage of events that we tagged as anomalous: 6.687621213134488e-05\n",
      "number of events that we tagged as anomalous: 3\n",
      "-----\n",
      "HHbbttHadHad:\n",
      "HLT overlap: nan\n",
      "percentage of events that passed some HLT trigger: 0.0326801756615172\n",
      "percentage of events that we tagged as anomalous: 0.0\n",
      "number of events that we tagged as anomalous: 0\n",
      "-----\n",
      "ZZ4lep:\n",
      "HLT overlap: 0.9666666666666667\n",
      "percentage of events that passed some HLT trigger: 0.0326801756615172\n",
      "percentage of events that we tagged as anomalous: 0.0003\n",
      "number of events that we tagged as anomalous: 30\n"
     ]
    },
    {
     "name": "stderr",
     "output_type": "stream",
     "text": [
      "/tmp/ipykernel_8499/3977479557.py:17: RuntimeWarning: invalid value encountered in long_scalars\n",
      "  HLT_overlap /= np.sum(anomaly_idxs)\n"
     ]
    },
    {
     "name": "stdout",
     "output_type": "stream",
     "text": [
      "-----\n",
      "Ztautau:\n",
      "HLT overlap: 0.2\n",
      "percentage of events that passed some HLT trigger: 0.0326801756615172\n",
      "percentage of events that we tagged as anomalous: 0.0001\n",
      "number of events that we tagged as anomalous: 10\n",
      "-----\n",
      "jjJZ4:\n",
      "HLT overlap: 1.0\n",
      "percentage of events that passed some HLT trigger: 0.0326801756615172\n",
      "percentage of events that we tagged as anomalous: 4e-05\n",
      "number of events that we tagged as anomalous: 4\n",
      "-----\n",
      "jjJZ2:\n",
      "HLT overlap: 0.0\n",
      "percentage of events that passed some HLT trigger: 0.0326801756615172\n",
      "percentage of events that we tagged as anomalous: 4e-05\n",
      "number of events that we tagged as anomalous: 4\n",
      "-----\n",
      "qqa:\n",
      "HLT overlap: 0.3333333333333333\n",
      "percentage of events that passed some HLT trigger: 0.0326801756615172\n",
      "percentage of events that we tagged as anomalous: 6e-05\n",
      "number of events that we tagged as anomalous: 3\n"
     ]
    }
   ],
   "source": [
    "\"\"\"Print the HLT overlap (the percentage of events we found as anomalous that\n",
    "are already being triggered by the HLT)\"\"\"\n",
    "\n",
    "for i, tag in enumerate(tags):\n",
    "    anomaly_idxs = (total_loss[i] > threshold)\n",
    "    HLT_overlap = 0\n",
    "\n",
    "    if i ==0:\n",
    "        for a, h in zip(anomaly_idxs, pass_HLT_test):\n",
    "            if a==1 and h==1:\n",
    "                HLT_overlap += 1\n",
    "        HLT_overlap /= np.sum(anomaly_idxs)\n",
    "    else:\n",
    "        for a, h in zip(anomaly_idxs, pass_HLT[i]):\n",
    "            if a==1 and h==1:\n",
    "                HLT_overlap += 1\n",
    "        HLT_overlap /= np.sum(anomaly_idxs)\n",
    "\n",
    "    print(f'-----\\n{tag}:')\n",
    "    print(f'HLT overlap: {HLT_overlap}')\n",
    "    print(f'percentage of events that passed some HLT trigger: {np.sum(pass_HLT_test) / len(pass_HLT_test)}')\n",
    "    print(f'percentage of events that we tagged as anomalous: {np.sum(anomaly_idxs) / len(anomaly_idxs)}')\n",
    "    print(f'number of events that we tagged as anomalous: {np.sum(anomaly_idxs)}')"
   ]
  },
  {
   "cell_type": "code",
   "execution_count": 48,
   "id": "9b6c4d62-eea4-4ab0-82c9-05faf5f20faf",
   "metadata": {},
   "outputs": [],
   "source": [
    "DNN_AE.save('../../trained_models/DNN_AE_norm_v1.keras')"
   ]
  },
  {
   "cell_type": "markdown",
   "id": "7a0f428d-60f7-4238-b560-5c8c6e763cee",
   "metadata": {},
   "source": [
    "***\n",
    "<hr style=\"border:2px solid #F08080\">"
   ]
  },
  {
   "cell_type": "code",
   "execution_count": 55,
   "id": "db311f49-2554-4a6e-9ac2-c169c390d68b",
   "metadata": {},
   "outputs": [
    {
     "name": "stdout",
     "output_type": "stream",
     "text": [
      "HLT acceptance: 0.01663002240942737\n",
      "HLT rejection: 60.13221001031913\n"
     ]
    }
   ],
   "source": [
    "HLT_rate = np.sum(weights * pass_HLT[0]) / np.sum(weights)\n",
    "print(f'HLT acceptance: {HLT_rate}')\n",
    "print(f'HLT rejection: {1/HLT_rate}')"
   ]
  },
  {
   "cell_type": "code",
   "execution_count": null,
   "id": "0fa40c0b-bb7b-4fad-818e-54fb709ba252",
   "metadata": {},
   "outputs": [],
   "source": []
  }
 ],
 "metadata": {
  "kernelspec": {
   "display_name": "Python 3",
   "language": "python",
   "name": "python3"
  },
  "language_info": {
   "codemirror_mode": {
    "name": "ipython",
    "version": 3
   },
   "file_extension": ".py",
   "mimetype": "text/x-python",
   "name": "python",
   "nbconvert_exporter": "python",
   "pygments_lexer": "ipython3",
   "version": "3.9.12"
  }
 },
 "nbformat": 4,
 "nbformat_minor": 5
}
