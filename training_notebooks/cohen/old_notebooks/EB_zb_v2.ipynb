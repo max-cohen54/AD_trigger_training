{
 "cells": [
  {
   "cell_type": "code",
   "execution_count": 1,
   "id": "b155d6bf-daf6-4f8e-b152-5b1f9ff6c65d",
   "metadata": {},
   "outputs": [
    {
     "name": "stderr",
     "output_type": "stream",
     "text": [
      "2024-04-10 00:34:18.247469: I tensorflow/core/util/port.cc:110] oneDNN custom operations are on. You may see slightly different numerical results due to floating-point round-off errors from different computation orders. To turn them off, set the environment variable `TF_ENABLE_ONEDNN_OPTS=0`.\n",
      "2024-04-10 00:34:18.560047: I tensorflow/core/platform/cpu_feature_guard.cc:182] This TensorFlow binary is optimized to use available CPU instructions in performance-critical operations.\n",
      "To enable the following instructions: AVX2 AVX512F AVX512_VNNI FMA, in other operations, rebuild TensorFlow with the appropriate compiler flags.\n"
     ]
    }
   ],
   "source": [
    "import numpy as np\n",
    "import matplotlib.pyplot as plt\n",
    "import h5py\n",
    "import random\n",
    "import sklearn\n",
    "import collections\n",
    "from sklearn.model_selection import train_test_split\n",
    "import json\n",
    "import pylab\n",
    "from scipy.optimize import curve_fit\n",
    "from tensorflow.keras import layers, Model\n",
    "import tensorflow.keras.backend as K\n",
    "from tensorflow.keras.callbacks import EarlyStopping, ReduceLROnPlateau\n",
    "from tensorflow.keras.models import load_model\n",
    "from sklearn.metrics import roc_curve, auc"
   ]
  },
  {
   "cell_type": "code",
   "execution_count": 2,
   "id": "2ca30d05-fa82-40d9-ad19-9b0580e3873a",
   "metadata": {},
   "outputs": [
    {
     "name": "stdout",
     "output_type": "stream",
     "text": [
      "GPUs Available: []\n",
      "Eager execution: True\n",
      "No GPU found!\n"
     ]
    }
   ],
   "source": [
    "import tensorflow as tf\n",
    "\n",
    "# Check GPUs available\n",
    "gpus = tf.config.list_physical_devices('GPU')\n",
    "print(f\"GPUs Available: {gpus}\")\n",
    "\n",
    "# Check if TensorFlow is currently executing eagerly (which means operations are executed as they are defined and is the default mode in TF 2.x)\n",
    "print(f\"Eager execution: {tf.executing_eagerly()}\")\n",
    "\n",
    "# If you have GPUs listed and eager execution is enabled, then operations should automatically run on the GPU if possible.\n",
    "# To test if TensorFlow will place tensors and operations on the GPU by default, you can create a simple operation and see where it is placed:\n",
    "if gpus:\n",
    "    with tf.device('/GPU:0'):\n",
    "        a = tf.constant([[1.0, 2.0, 3.0], [4.0, 5.0, 6.0]])\n",
    "        print(a.device)\n",
    "else:\n",
    "    print(\"No GPU found!\")"
   ]
  },
  {
   "cell_type": "code",
   "execution_count": 93,
   "id": "70452ce1-6a7c-4f03-b52c-9c5b88c8a16d",
   "metadata": {},
   "outputs": [],
   "source": [
    "# This is the list that will hold all of the data (data22 and MC)\n",
    "\n",
    "datasets = []\n",
    "pass_HLT = []\n",
    "tags = ['data', 'HHbbttHadHad', 'ZZ4lep', 'Ztautau', 'jjJZ4', 'jjJZ2', 'qqa', 'LLP', 'dark_jets', 'dark_photons']"
   ]
  },
  {
   "cell_type": "markdown",
   "id": "7582198c-65f4-44c3-a65b-21fc974280fc",
   "metadata": {},
   "source": [
    "## Collect EB Data"
   ]
  },
  {
   "cell_type": "code",
   "execution_count": 94,
   "id": "4dc47606-52d7-4fe2-97f9-3f0c02ba8d2b",
   "metadata": {},
   "outputs": [],
   "source": [
    "# Read EB file\n",
    "with h5py.File('../../../../ntuples/AOD_EB_ntuples_04-04-2024.h5', 'r') as hf:\n",
    "    HLT_jets = hf['HLT_jets'][:]\n",
    "    L1_jFexSR_jets = hf['L1_jFexSR_jets'][:]\n",
    "    L1_jFexLR_jets = hf['L1_jFexLR_jets'][:]\n",
    "    HLT_electrons = hf['HLT_electrons'][:]\n",
    "    LRT_electrons = hf['LRT_electrons'][:]\n",
    "    L1_egammas = hf['L1_egammas'][:]\n",
    "    HLT_muons = hf['HLT_muons'][:]\n",
    "    LRT_muons = hf['LRT_muons'][:]\n",
    "    L1_muons = hf['L1_muons'][:]\n",
    "    L1_eFex_taus = hf['L1_eFex_taus'][:]\n",
    "    L1_jFex_taus = hf['L1_jFex_taus'][:]\n",
    "    HLT_photons = hf['HLT_photons'][:]\n",
    "    HLT_MET = hf['HLT_MET'][:].reshape(-1, 1, 4)  # Broadcasting MET\n",
    "    L1_MET = hf['L1_MET'][:].reshape(-1, 1, 4)\n",
    "    pass_L1_unprescaled = hf[\"pass_L1_unprescaled\"][:]\n",
    "    pass_HLT_unprescaled = hf[\"pass_HLT_unprescaled\"][:]\n",
    "    EB_weights = hf[\"EB_weights\"][:]\n",
    "\n",
    "# Concatenate HLT data\n",
    "HLT_objects = np.concatenate([HLT_jets, HLT_electrons, HLT_muons, HLT_photons, HLT_MET], axis=1)"
   ]
  },
  {
   "cell_type": "code",
   "execution_count": 95,
   "id": "ed131f6a-aac2-4cc7-84c3-bf6030abca84",
   "metadata": {},
   "outputs": [
    {
     "name": "stdout",
     "output_type": "stream",
     "text": [
      "(weighted) number of HLT events: 157337741.5326\n",
      "(weighted) number of zerobias events: 95436332543.497\n",
      "zerobias scaling factor: 0.00041215367706237617\n"
     ]
    }
   ],
   "source": [
    "# Determine what factor to scale the weights\n",
    "num_HLT = np.sum(EB_weights[pass_L1_idxs])\n",
    "num_zb = np.sum(EB_weights[~pass_L1_idxs])\n",
    "\n",
    "print(f'(weighted) number of HLT events: {num_HLT}')\n",
    "print(f'(weighted) number of zerobias events: {num_zb}')\n",
    "\n",
    "f = (0.2 * num_HLT)/(0.8 * num_zb) # Scaling factor on zb weights such that zb events are 0.2 of training data\n",
    "print(f'zerobias scaling factor: {f}')"
   ]
  },
  {
   "cell_type": "code",
   "execution_count": 96,
   "id": "99292488-4061-432b-a040-85390555575d",
   "metadata": {},
   "outputs": [],
   "source": [
    "# Scale the weights of the zerobias data\n",
    "pass_L1_idxs = (pass_L1_unprescaled == 1) # Indices of events that passed L1\n",
    "weights = np.copy(EB_weights)\n",
    "weights[~pass_L1_idxs] *= 0\n",
    "\n",
    "# Remove E and append data to datasets list\n",
    "datasets.append(HLT_objects[:, :, [0, 2, 3]])\n",
    "pass_HLT.append(pass_HLT_unprescaled)"
   ]
  },
  {
   "cell_type": "code",
   "execution_count": 97,
   "id": "d1499194-94d7-4c01-a58d-f9ccef5584ce",
   "metadata": {},
   "outputs": [],
   "source": [
    "# Read MC data. Remove E.\n",
    "\n",
    "filenames = ['HHbbttHadHad.h5', \n",
    "             'ZZ4lep.h5', \n",
    "             'Ztautau.h5', \n",
    "             'jjJZ4.h5', \n",
    "             'jjJZ2.h5', \n",
    "             'qqa.h5', \n",
    "             'HNL7p5_ctau1_eemu.h5',\n",
    "             'Zprime2EJs.h5',\n",
    "             'HAHMggfZdZd2l2nu.h5']\n",
    "data_path = '../../../../ntuples/MC/'\n",
    "\n",
    "for filename in filenames:\n",
    "    with h5py.File(data_path+filename, 'r') as hf:\n",
    "        jets = hf['HLT_jets'][:]\n",
    "        electrons = hf['electrons'][:]\n",
    "        LRT_electrons = hf['LRT_electrons'][:]\n",
    "        muons = hf['muons'][:]\n",
    "        LRT_muons = hf['LRT_muons'][:]\n",
    "        photons = hf['photons'][:]\n",
    "        MET = hf['MET'][:].reshape(-1, 1, 4)  # Broadcasting MET\n",
    "        pass_HLT_unprescaled = hf['pass_HLT_unprescaled'][:]\n",
    "\n",
    "        combined_data = np.concatenate([jets, electrons, muons, photons, MET], axis=1)\n",
    "        datasets.append(combined_data[0:min(len(combined_data), 100000), :, [0, 2, 3]])\n",
    "        pass_HLT.append(pass_HLT_unprescaled[0:min(len(combined_data), 100000)])"
   ]
  },
  {
   "cell_type": "code",
   "execution_count": 98,
   "id": "7c6d2f3c-16e4-4707-875a-c5181704764e",
   "metadata": {},
   "outputs": [
    {
     "data": {
      "image/png": "[encoded data removed]",
      "text/plain": [
       "<Figure size 1008x576 with 1 Axes>"
      ]
     },
     "metadata": {
      "needs_background": "light"
     },
     "output_type": "display_data"
    }
   ],
   "source": [
    "# Plotting pt distribtions of the jets from each dataset\n",
    "\n",
    "plt.figure(figsize=(14, 8))\n",
    "plt.rcParams['axes.linewidth'] = 2.4\n",
    "bins = np.linspace(0, 2000, 35)\n",
    "#bins=50\n",
    "\n",
    "for i, tag in enumerate(tags):\n",
    "    pt = datasets[i][:, 0, 0]\n",
    "    nonzero_pt = pt[pt > 0]\n",
    "\n",
    "    if i==0:\n",
    "        nonzero_weights = weights[pt > 0]\n",
    "        plt.hist(nonzero_pt, bins=bins, label=tag, histtype='step', density=True, fill=False, linewidth=3, weights=nonzero_weights)\n",
    "    else:\n",
    "        plt.hist(nonzero_pt, bins=bins, label=tag, histtype='step', density=True, fill=False, linewidth=3)\n",
    "\n",
    "plt.yscale('log')\n",
    "plt.xlabel('jet pt', fontsize=22)\n",
    "plt.ylabel('density', fontsize=22)\n",
    "plt.title('Leading Jet PT', fontsize=30)\n",
    "plt.grid()\n",
    "plt.legend(fontsize=18)\n",
    "plt.show()"
   ]
  },
  {
   "cell_type": "code",
   "execution_count": 99,
   "id": "01c1f898-4e32-4dc2-8ce9-bbbee5cf1f95",
   "metadata": {},
   "outputs": [],
   "source": [
    "\"\"\"Met bias. For some events, MET was not calculated, so was written as -999.\n",
    "We don't want this to impact training, so we map 0 --> 0.001 and -999 --> 0\"\"\"\n",
    "for i, data in enumerate(datasets):\n",
    "\n",
    "    # MET: 0 --> 0.001 and -999 --> 0 and nan --> 0\n",
    "    MET_zeros = (data[:, 19, 0] == 0) # indices where MET=0\n",
    "    MET_999 = ((data[:, 19, 0] == -999)) # indices where MET=-999 (not calculated)\n",
    "    MET_nan = np.isnan(data[:, 19, 2])\n",
    "    data[MET_zeros, 19, 0] = 0.001\n",
    "    data[MET_999, 19, :] = 0\n",
    "    data[MET_nan, 19, :] = 0"
   ]
  },
  {
   "cell_type": "code",
   "execution_count": 100,
   "id": "5645afa8-6daa-4c5a-9d37-a1ae0320b510",
   "metadata": {},
   "outputs": [],
   "source": [
    "\"\"\"Normalize pt \"\"\"\n",
    "for i, data in enumerate(datasets):\n",
    "    # sum of the pt and E in each event\n",
    "    sum_pt = np.sum(data[:, :, 0], axis=1, keepdims=True)\n",
    "\n",
    "    # If the sum is 0, set the sum to 1 to avoid division by 0\n",
    "    sum_pt[sum_pt == 0] = 1\n",
    "\n",
    "    # Divide pt and E by their respective sums\n",
    "    data[:, :, 0] /= sum_pt"
   ]
  },
  {
   "cell_type": "code",
   "execution_count": 101,
   "id": "42ae00ae-25b3-425f-89b2-a2ad99950050",
   "metadata": {},
   "outputs": [
    {
     "name": "stdout",
     "output_type": "stream",
     "text": [
      "data: (997315, 20, 3)\n",
      "HHbbttHadHad: (20000, 20, 3)\n",
      "ZZ4lep: (100000, 20, 3)\n",
      "Ztautau: (100000, 20, 3)\n",
      "jjJZ4: (100000, 20, 3)\n",
      "jjJZ2: (100000, 20, 3)\n",
      "qqa: (50000, 20, 3)\n",
      "LLP: (10000, 20, 3)\n",
      "dark_jets: (100000, 20, 3)\n",
      "dark_photons: (70000, 20, 3)\n"
     ]
    }
   ],
   "source": [
    "for i, dataset in enumerate(datasets):\n",
    "    print(f'{tags[i]}: {dataset.shape}')"
   ]
  },
  {
   "cell_type": "code",
   "execution_count": 102,
   "id": "8c193dca-2249-4ec8-961a-d8d01d2b60f8",
   "metadata": {},
   "outputs": [
    {
     "name": "stdout",
     "output_type": "stream",
     "text": [
      "data: (997315, 60)\n",
      "HHbbttHadHad: (20000, 60)\n",
      "ZZ4lep: (100000, 60)\n",
      "Ztautau: (100000, 60)\n",
      "jjJZ4: (100000, 60)\n",
      "jjJZ2: (100000, 60)\n",
      "qqa: (50000, 60)\n",
      "LLP: (10000, 60)\n",
      "dark_jets: (100000, 60)\n",
      "dark_photons: (70000, 60)\n"
     ]
    }
   ],
   "source": [
    "# Flatten ndarrays for use in DNN\n",
    "\n",
    "for i, data in enumerate(datasets):\n",
    "    datasets[i] = np.reshape(data, newshape=(-1, 60))\n",
    "\n",
    "for i, data in enumerate(datasets):\n",
    "    print(f'{tags[i]}: {data.shape}')"
   ]
  },
  {
   "cell_type": "code",
   "execution_count": 103,
   "id": "326b9956-935e-49bf-a0e6-5807a43df091",
   "metadata": {},
   "outputs": [],
   "source": [
    "def create_AE(input_dim, h_dim_1, h_dim_2, latent_dim):\n",
    "    # Encoder\n",
    "    inputs = layers.Input(shape=(input_dim,))\n",
    "    x = layers.Dense(h_dim_1, activation='relu')(inputs)\n",
    "    x = layers.Dense(h_dim_2, activation='relu')(x)\n",
    "    z = layers.Dense(latent_dim, activation='relu')(x)\n",
    "\n",
    "    # Decoder\n",
    "    x = layers.Dense(h_dim_2, activation='relu')(z)\n",
    "    x = layers.Dense(h_dim_1, activation='relu')(x)\n",
    "    outputs = layers.Dense(input_dim)(x)\n",
    "\n",
    "    model = Model(inputs=inputs, outputs=outputs)\n",
    "    return model"
   ]
  },
  {
   "cell_type": "code",
   "execution_count": 104,
   "id": "ecb27501-5a79-4a19-8a23-63c19bc1cbcf",
   "metadata": {},
   "outputs": [],
   "source": [
    "def loss_fn(y_true, y_pred):\n",
    "    \"\"\"masked mse\"\"\"\n",
    "    mask0 = K.cast(K.not_equal(y_true, 0), K.floatx())\n",
    "    maskMET = K.cast(K.not_equal(y_true, -999), K.floatx())\n",
    "    mask = mask0 * maskMET\n",
    "    squared_difference = K.square(mask * (y_pred - y_true))\n",
    "    return K.mean(squared_difference)"
   ]
  },
  {
   "cell_type": "code",
   "execution_count": 105,
   "id": "f9c12ce5-6e25-4e5b-a845-97cc026b8447",
   "metadata": {},
   "outputs": [
    {
     "name": "stdout",
     "output_type": "stream",
     "text": [
      "X_train: (498657, 60)\n",
      "X_val: (99731, 60)\n",
      "X_test: (199463, 60)\n",
      "X_test: (199464, 60)\n"
     ]
    }
   ],
   "source": [
    "# Make train, test, val splits\n",
    "\n",
    "# TRAIN_SIZE = 0.5\n",
    "# VAL_SIZE = 0.1\n",
    "# TEST_1_SIZE = 0.2\n",
    "# TEST_2_SIZE = 0.2\n",
    "\n",
    "X_train, X_, weights_train, weights_, pass_HLT_train, pass_HLT_, pass_L1_idxs_train, pass_L1_idxs_ = train_test_split(datasets[0], weights, pass_HLT[0], pass_L1_idxs, train_size=0.5)\n",
    "X_val, X_, weights_val, weights_, pass_HLT_val, pass_HLT_, pass_L1_idxs_val, pass_L1_idxs_ = train_test_split(X_, weights_, pass_HLT_, pass_L1_idxs_, train_size=0.2) # 0.1 of original data size\n",
    "X_test_1, X_test_2, weights_test_1, weights_test_2, pass_HLT_test_1, pass_HLT_test_2, pass_L1_idxs_test_1, pass_L1_idxs_test_2 = train_test_split(X_, weights_, pass_HLT_, pass_L1_idxs_, train_size=0.5)\n",
    "\n",
    "print(f'X_train: {X_train.shape}')\n",
    "print(f'X_val: {X_val.shape}')\n",
    "print(f'X_test: {X_test_1.shape}')\n",
    "print(f'X_test: {X_test_2.shape}')"
   ]
  },
  {
   "cell_type": "code",
   "execution_count": 106,
   "id": "4b77099d-5ad9-40f0-93a5-6401df2cfa67",
   "metadata": {},
   "outputs": [
    {
     "name": "stdout",
     "output_type": "stream",
     "text": [
      "Model: \"model_4\"\n",
      "_________________________________________________________________\n",
      " Layer (type)                Output Shape              Param #   \n",
      "=================================================================\n",
      " input_5 (InputLayer)        [(None, 60)]              0         \n",
      "                                                                 \n",
      " dense_24 (Dense)            (None, 32)                1952      \n",
      "                                                                 \n",
      " dense_25 (Dense)            (None, 8)                 264       \n",
      "                                                                 \n",
      " dense_26 (Dense)            (None, 3)                 27        \n",
      "                                                                 \n",
      " dense_27 (Dense)            (None, 8)                 32        \n",
      "                                                                 \n",
      " dense_28 (Dense)            (None, 32)                288       \n",
      "                                                                 \n",
      " dense_29 (Dense)            (None, 60)                1980      \n",
      "                                                                 \n",
      "=================================================================\n",
      "Total params: 4543 (17.75 KB)\n",
      "Trainable params: 4543 (17.75 KB)\n",
      "Non-trainable params: 0 (0.00 Byte)\n",
      "_________________________________________________________________\n"
     ]
    }
   ],
   "source": [
    "# Initialize model\n",
    "INPUT_DIM = X_train.shape[1]\n",
    "H_DIM_1 = 32\n",
    "H_DIM_2 = 8\n",
    "LATENT_DIM = 3\n",
    "DNN_AE = create_AE(input_dim=INPUT_DIM, h_dim_1=H_DIM_1, h_dim_2=H_DIM_2, latent_dim=LATENT_DIM)\n",
    "DNN_AE.summary()"
   ]
  },
  {
   "cell_type": "code",
   "execution_count": 107,
   "id": "ec38be7f-05f7-49c6-bef7-c7954714cac2",
   "metadata": {},
   "outputs": [],
   "source": [
    "DNN_AE.compile(optimizer='adam', loss=loss_fn)"
   ]
  },
  {
   "cell_type": "code",
   "execution_count": 108,
   "id": "07d15e17-fc19-4da1-9a96-a8e309627cac",
   "metadata": {},
   "outputs": [],
   "source": [
    "# Define callbacks: early stopping and learning rate scheduler\n",
    "\n",
    "STOP_PATIENCE = 8\n",
    "LR_PATIENCE = 4\n",
    "\n",
    "early_stopping = EarlyStopping(patience=STOP_PATIENCE, restore_best_weights=True)\n",
    "reduce_lr = ReduceLROnPlateau(monitor='val_loss', factor=0.1, patience=LR_PATIENCE, verbose=1)\n",
    "\n",
    "callbacks = [early_stopping, reduce_lr]"
   ]
  },
  {
   "cell_type": "code",
   "execution_count": 109,
   "id": "28c1676f-f08b-4a24-8e98-c3bb4adb55b6",
   "metadata": {},
   "outputs": [],
   "source": [
    "NUM_EPOCHS = 150\n",
    "BATCH_SIZE = 512"
   ]
  },
  {
   "cell_type": "code",
   "execution_count": 110,
   "id": "f458f54d-fbef-4f9f-9402-b68886bc3058",
   "metadata": {},
   "outputs": [
    {
     "name": "stdout",
     "output_type": "stream",
     "text": [
      "Epoch 1/150\n",
      "974/974 [==============================] - 7s 5ms/step - loss: 148.2863 - val_loss: 0.8821 - lr: 0.0010\n",
      "Epoch 2/150\n",
      "974/974 [==============================] - 4s 5ms/step - loss: 139.6931 - val_loss: 0.8610 - lr: 0.0010\n",
      "Epoch 3/150\n",
      "974/974 [==============================] - 5s 5ms/step - loss: 136.8179 - val_loss: 0.8460 - lr: 0.0010\n",
      "Epoch 4/150\n",
      "974/974 [==============================] - 4s 5ms/step - loss: 134.7676 - val_loss: 0.8354 - lr: 0.0010\n",
      "Epoch 5/150\n",
      "974/974 [==============================] - 4s 5ms/step - loss: 133.3087 - val_loss: 0.8271 - lr: 0.0010\n",
      "Epoch 6/150\n",
      "974/974 [==============================] - 5s 5ms/step - loss: 131.8215 - val_loss: 0.8181 - lr: 0.0010\n",
      "Epoch 7/150\n",
      "974/974 [==============================] - 4s 5ms/step - loss: 130.0977 - val_loss: 0.8067 - lr: 0.0010\n",
      "Epoch 8/150\n",
      "974/974 [==============================] - 4s 5ms/step - loss: 128.3699 - val_loss: 0.7960 - lr: 0.0010\n",
      "Epoch 9/150\n",
      "974/974 [==============================] - 4s 5ms/step - loss: 127.0612 - val_loss: 0.7886 - lr: 0.0010\n",
      "Epoch 10/150\n",
      "974/974 [==============================] - 4s 5ms/step - loss: 125.8411 - val_loss: 0.7811 - lr: 0.0010\n",
      "Epoch 11/150\n",
      "974/974 [==============================] - 4s 5ms/step - loss: 124.6536 - val_loss: 0.7738 - lr: 0.0010\n",
      "Epoch 12/150\n",
      "974/974 [==============================] - 4s 5ms/step - loss: 123.5889 - val_loss: 0.7678 - lr: 0.0010\n",
      "Epoch 13/150\n",
      "974/974 [==============================] - 5s 5ms/step - loss: 122.7971 - val_loss: 0.7636 - lr: 0.0010\n",
      "Epoch 14/150\n",
      "974/974 [==============================] - 4s 5ms/step - loss: 122.1876 - val_loss: 0.7609 - lr: 0.0010\n",
      "Epoch 15/150\n",
      "974/974 [==============================] - 4s 5ms/step - loss: 121.6096 - val_loss: 0.7570 - lr: 0.0010\n",
      "Epoch 16/150\n",
      "974/974 [==============================] - 4s 5ms/step - loss: 121.0708 - val_loss: 0.7536 - lr: 0.0010\n",
      "Epoch 17/150\n",
      "974/974 [==============================] - 4s 5ms/step - loss: 120.5326 - val_loss: 0.7510 - lr: 0.0010\n",
      "Epoch 18/150\n",
      "974/974 [==============================] - 4s 5ms/step - loss: 120.1146 - val_loss: 0.7485 - lr: 0.0010\n",
      "Epoch 19/150\n",
      "974/974 [==============================] - 4s 5ms/step - loss: 119.8880 - val_loss: 0.7470 - lr: 0.0010\n",
      "Epoch 20/150\n",
      "974/974 [==============================] - 4s 5ms/step - loss: 119.3867 - val_loss: 0.7435 - lr: 0.0010\n",
      "Epoch 21/150\n",
      "974/974 [==============================] - 4s 5ms/step - loss: 119.0621 - val_loss: 0.7419 - lr: 0.0010\n",
      "Epoch 22/150\n",
      "974/974 [==============================] - 4s 5ms/step - loss: 118.7850 - val_loss: 0.7450 - lr: 0.0010\n",
      "Epoch 23/150\n",
      "974/974 [==============================] - 4s 5ms/step - loss: 118.5870 - val_loss: 0.7387 - lr: 0.0010\n",
      "Epoch 24/150\n",
      "974/974 [==============================] - 4s 5ms/step - loss: 118.3433 - val_loss: 0.7428 - lr: 0.0010\n",
      "Epoch 25/150\n",
      "974/974 [==============================] - 4s 5ms/step - loss: 118.1607 - val_loss: 0.7371 - lr: 0.0010\n",
      "Epoch 26/150\n",
      "974/974 [==============================] - 4s 5ms/step - loss: 117.8846 - val_loss: 0.7386 - lr: 0.0010\n",
      "Epoch 27/150\n",
      "974/974 [==============================] - 4s 5ms/step - loss: 117.6730 - val_loss: 0.7418 - lr: 0.0010\n",
      "Epoch 28/150\n",
      "974/974 [==============================] - 4s 5ms/step - loss: 117.7471 - val_loss: 0.7327 - lr: 0.0010\n",
      "Epoch 29/150\n",
      "974/974 [==============================] - 4s 5ms/step - loss: 117.4762 - val_loss: 0.7327 - lr: 0.0010\n",
      "Epoch 30/150\n",
      "974/974 [==============================] - 4s 5ms/step - loss: 117.3714 - val_loss: 0.7321 - lr: 0.0010\n",
      "Epoch 31/150\n",
      "974/974 [==============================] - 4s 5ms/step - loss: 117.1109 - val_loss: 0.7305 - lr: 0.0010\n",
      "Epoch 32/150\n",
      "974/974 [==============================] - 4s 5ms/step - loss: 117.0838 - val_loss: 0.7308 - lr: 0.0010\n",
      "Epoch 33/150\n",
      "974/974 [==============================] - 4s 5ms/step - loss: 116.9163 - val_loss: 0.7283 - lr: 0.0010\n",
      "Epoch 34/150\n",
      "974/974 [==============================] - 4s 5ms/step - loss: 116.7808 - val_loss: 0.7305 - lr: 0.0010\n",
      "Epoch 35/150\n",
      "974/974 [==============================] - 4s 5ms/step - loss: 116.8131 - val_loss: 0.7288 - lr: 0.0010\n",
      "Epoch 36/150\n",
      "974/974 [==============================] - 4s 5ms/step - loss: 116.6486 - val_loss: 0.7267 - lr: 0.0010\n",
      "Epoch 37/150\n",
      "974/974 [==============================] - 4s 5ms/step - loss: 116.5004 - val_loss: 0.7273 - lr: 0.0010\n",
      "Epoch 38/150\n",
      "974/974 [==============================] - 5s 5ms/step - loss: 116.3452 - val_loss: 0.7257 - lr: 0.0010\n",
      "Epoch 39/150\n",
      "974/974 [==============================] - 4s 5ms/step - loss: 116.2904 - val_loss: 0.7261 - lr: 0.0010\n",
      "Epoch 40/150\n",
      "974/974 [==============================] - 4s 5ms/step - loss: 116.1196 - val_loss: 0.7238 - lr: 0.0010\n",
      "Epoch 41/150\n",
      "974/974 [==============================] - 4s 5ms/step - loss: 116.1074 - val_loss: 0.7239 - lr: 0.0010\n",
      "Epoch 42/150\n",
      "974/974 [==============================] - 4s 5ms/step - loss: 115.8276 - val_loss: 0.7234 - lr: 0.0010\n",
      "Epoch 43/150\n",
      "974/974 [==============================] - 4s 5ms/step - loss: 115.9254 - val_loss: 0.7220 - lr: 0.0010\n",
      "Epoch 44/150\n",
      "974/974 [==============================] - 4s 5ms/step - loss: 115.8157 - val_loss: 0.7215 - lr: 0.0010\n",
      "Epoch 45/150\n",
      "974/974 [==============================] - 4s 5ms/step - loss: 115.7257 - val_loss: 0.7259 - lr: 0.0010\n",
      "Epoch 46/150\n",
      "974/974 [==============================] - 4s 5ms/step - loss: 115.7641 - val_loss: 0.7222 - lr: 0.0010\n",
      "Epoch 47/150\n",
      "974/974 [==============================] - 4s 5ms/step - loss: 115.6707 - val_loss: 0.7220 - lr: 0.0010\n",
      "Epoch 48/150\n",
      "972/974 [============================>.] - ETA: 0s - loss: 115.5554\n",
      "Epoch 48: ReduceLROnPlateau reducing learning rate to 0.00010000000474974513.\n",
      "974/974 [==============================] - 4s 4ms/step - loss: 115.5514 - val_loss: 0.7220 - lr: 0.0010\n",
      "Epoch 49/150\n",
      "974/974 [==============================] - 4s 5ms/step - loss: 115.0170 - val_loss: 0.7185 - lr: 1.0000e-04\n",
      "Epoch 50/150\n",
      "974/974 [==============================] - 4s 5ms/step - loss: 114.8822 - val_loss: 0.7180 - lr: 1.0000e-04\n",
      "Epoch 51/150\n",
      "974/974 [==============================] - 4s 4ms/step - loss: 114.8895 - val_loss: 0.7178 - lr: 1.0000e-04\n",
      "Epoch 52/150\n",
      "974/974 [==============================] - 4s 5ms/step - loss: 114.7793 - val_loss: 0.7176 - lr: 1.0000e-04\n",
      "Epoch 53/150\n",
      "974/974 [==============================] - 4s 5ms/step - loss: 114.8668 - val_loss: 0.7176 - lr: 1.0000e-04\n",
      "Epoch 54/150\n",
      "974/974 [==============================] - 4s 5ms/step - loss: 114.6892 - val_loss: 0.7173 - lr: 1.0000e-04\n",
      "Epoch 55/150\n",
      "974/974 [==============================] - 4s 5ms/step - loss: 114.6950 - val_loss: 0.7175 - lr: 1.0000e-04\n",
      "Epoch 56/150\n",
      "974/974 [==============================] - 4s 5ms/step - loss: 114.7073 - val_loss: 0.7173 - lr: 1.0000e-04\n",
      "Epoch 57/150\n",
      "974/974 [==============================] - 4s 5ms/step - loss: 114.7050 - val_loss: 0.7170 - lr: 1.0000e-04\n",
      "Epoch 58/150\n",
      "974/974 [==============================] - 4s 5ms/step - loss: 114.6376 - val_loss: 0.7168 - lr: 1.0000e-04\n",
      "Epoch 59/150\n",
      "974/974 [==============================] - 4s 5ms/step - loss: 114.6072 - val_loss: 0.7164 - lr: 1.0000e-04\n",
      "Epoch 60/150\n",
      "974/974 [==============================] - 4s 5ms/step - loss: 114.6348 - val_loss: 0.7166 - lr: 1.0000e-04\n",
      "Epoch 61/150\n",
      "974/974 [==============================] - 4s 5ms/step - loss: 114.6445 - val_loss: 0.7162 - lr: 1.0000e-04\n",
      "Epoch 62/150\n",
      "974/974 [==============================] - 4s 5ms/step - loss: 114.6000 - val_loss: 0.7160 - lr: 1.0000e-04\n",
      "Epoch 63/150\n",
      "974/974 [==============================] - 4s 5ms/step - loss: 114.5313 - val_loss: 0.7159 - lr: 1.0000e-04\n",
      "Epoch 64/150\n",
      "974/974 [==============================] - 4s 5ms/step - loss: 114.6301 - val_loss: 0.7161 - lr: 1.0000e-04\n",
      "Epoch 65/150\n",
      "974/974 [==============================] - 4s 5ms/step - loss: 114.5265 - val_loss: 0.7159 - lr: 1.0000e-04\n",
      "Epoch 66/150\n",
      "974/974 [==============================] - 4s 5ms/step - loss: 114.4753 - val_loss: 0.7158 - lr: 1.0000e-04\n",
      "Epoch 67/150\n",
      "974/974 [==============================] - 4s 5ms/step - loss: 114.4638 - val_loss: 0.7157 - lr: 1.0000e-04\n",
      "Epoch 68/150\n",
      "974/974 [==============================] - 4s 5ms/step - loss: 114.5170 - val_loss: 0.7160 - lr: 1.0000e-04\n",
      "Epoch 69/150\n",
      "974/974 [==============================] - 5s 5ms/step - loss: 114.4153 - val_loss: 0.7155 - lr: 1.0000e-04\n",
      "Epoch 70/150\n",
      "974/974 [==============================] - 4s 5ms/step - loss: 114.3348 - val_loss: 0.7152 - lr: 1.0000e-04\n",
      "Epoch 71/150\n",
      "974/974 [==============================] - 4s 5ms/step - loss: 114.3979 - val_loss: 0.7152 - lr: 1.0000e-04\n",
      "Epoch 72/150\n",
      "974/974 [==============================] - 4s 5ms/step - loss: 114.3402 - val_loss: 0.7151 - lr: 1.0000e-04\n",
      "Epoch 73/150\n",
      "974/974 [==============================] - 4s 5ms/step - loss: 114.3926 - val_loss: 0.7149 - lr: 1.0000e-04\n",
      "Epoch 74/150\n",
      "974/974 [==============================] - 4s 5ms/step - loss: 114.3418 - val_loss: 0.7153 - lr: 1.0000e-04\n",
      "Epoch 75/150\n",
      "974/974 [==============================] - 4s 5ms/step - loss: 114.4048 - val_loss: 0.7149 - lr: 1.0000e-04\n",
      "Epoch 76/150\n",
      "974/974 [==============================] - 4s 5ms/step - loss: 114.2854 - val_loss: 0.7147 - lr: 1.0000e-04\n",
      "Epoch 77/150\n",
      "974/974 [==============================] - 4s 5ms/step - loss: 114.2931 - val_loss: 0.7144 - lr: 1.0000e-04\n",
      "Epoch 78/150\n",
      "974/974 [==============================] - 4s 5ms/step - loss: 114.3152 - val_loss: 0.7143 - lr: 1.0000e-04\n",
      "Epoch 79/150\n",
      "974/974 [==============================] - 4s 5ms/step - loss: 114.2796 - val_loss: 0.7145 - lr: 1.0000e-04\n",
      "Epoch 80/150\n",
      "974/974 [==============================] - 4s 5ms/step - loss: 114.2117 - val_loss: 0.7142 - lr: 1.0000e-04\n",
      "Epoch 81/150\n",
      "974/974 [==============================] - 4s 5ms/step - loss: 114.2671 - val_loss: 0.7141 - lr: 1.0000e-04\n",
      "Epoch 82/150\n",
      "974/974 [==============================] - 4s 5ms/step - loss: 114.2604 - val_loss: 0.7142 - lr: 1.0000e-04\n",
      "Epoch 83/150\n",
      "974/974 [==============================] - 4s 5ms/step - loss: 114.2290 - val_loss: 0.7139 - lr: 1.0000e-04\n",
      "Epoch 84/150\n",
      "974/974 [==============================] - 4s 5ms/step - loss: 114.1591 - val_loss: 0.7137 - lr: 1.0000e-04\n",
      "Epoch 85/150\n",
      "974/974 [==============================] - 4s 5ms/step - loss: 114.1104 - val_loss: 0.7136 - lr: 1.0000e-04\n",
      "Epoch 86/150\n",
      "974/974 [==============================] - 4s 5ms/step - loss: 114.0507 - val_loss: 0.7136 - lr: 1.0000e-04\n",
      "Epoch 87/150\n",
      "974/974 [==============================] - 4s 5ms/step - loss: 114.1954 - val_loss: 0.7135 - lr: 1.0000e-04\n",
      "Epoch 88/150\n",
      "974/974 [==============================] - 4s 5ms/step - loss: 114.1547 - val_loss: 0.7135 - lr: 1.0000e-04\n",
      "Epoch 89/150\n",
      "974/974 [==============================] - 4s 5ms/step - loss: 114.0820 - val_loss: 0.7136 - lr: 1.0000e-04\n",
      "Epoch 90/150\n",
      "974/974 [==============================] - 4s 5ms/step - loss: 114.1659 - val_loss: 0.7131 - lr: 1.0000e-04\n",
      "Epoch 91/150\n",
      "974/974 [==============================] - 4s 5ms/step - loss: 114.0143 - val_loss: 0.7131 - lr: 1.0000e-04\n",
      "Epoch 92/150\n",
      "974/974 [==============================] - 4s 5ms/step - loss: 113.9890 - val_loss: 0.7130 - lr: 1.0000e-04\n",
      "Epoch 93/150\n",
      "974/974 [==============================] - 4s 5ms/step - loss: 114.0897 - val_loss: 0.7131 - lr: 1.0000e-04\n",
      "Epoch 94/150\n",
      "969/974 [============================>.] - ETA: 0s - loss: 113.9279\n",
      "Epoch 94: ReduceLROnPlateau reducing learning rate to 1.0000000474974514e-05.\n",
      "974/974 [==============================] - 4s 5ms/step - loss: 113.9722 - val_loss: 0.7130 - lr: 1.0000e-04\n",
      "Epoch 95/150\n",
      "974/974 [==============================] - 4s 5ms/step - loss: 113.9148 - val_loss: 0.7127 - lr: 1.0000e-05\n",
      "Epoch 96/150\n",
      "974/974 [==============================] - 4s 5ms/step - loss: 113.8328 - val_loss: 0.7126 - lr: 1.0000e-05\n",
      "Epoch 97/150\n",
      "974/974 [==============================] - 4s 5ms/step - loss: 113.9669 - val_loss: 0.7126 - lr: 1.0000e-05\n",
      "Epoch 98/150\n",
      "974/974 [==============================] - 4s 5ms/step - loss: 113.9493 - val_loss: 0.7125 - lr: 1.0000e-05\n",
      "Epoch 99/150\n",
      "974/974 [==============================] - 4s 5ms/step - loss: 113.8884 - val_loss: 0.7125 - lr: 1.0000e-05\n",
      "Epoch 100/150\n",
      "974/974 [==============================] - 4s 5ms/step - loss: 113.9289 - val_loss: 0.7125 - lr: 1.0000e-05\n",
      "Epoch 101/150\n",
      "974/974 [==============================] - 4s 5ms/step - loss: 113.9155 - val_loss: 0.7125 - lr: 1.0000e-05\n",
      "Epoch 102/150\n",
      "971/974 [============================>.] - ETA: 0s - loss: 113.8761\n",
      "Epoch 102: ReduceLROnPlateau reducing learning rate to 1.0000000656873453e-06.\n",
      "974/974 [==============================] - 4s 5ms/step - loss: 113.8837 - val_loss: 0.7125 - lr: 1.0000e-05\n",
      "Epoch 103/150\n",
      "974/974 [==============================] - 4s 5ms/step - loss: 113.8540 - val_loss: 0.7125 - lr: 1.0000e-06\n",
      "Epoch 104/150\n",
      "974/974 [==============================] - 4s 5ms/step - loss: 113.8968 - val_loss: 0.7125 - lr: 1.0000e-06\n",
      "Epoch 105/150\n",
      "974/974 [==============================] - 4s 5ms/step - loss: 113.8413 - val_loss: 0.7125 - lr: 1.0000e-06\n",
      "Epoch 106/150\n",
      "973/974 [============================>.] - ETA: 0s - loss: 113.8696\n",
      "Epoch 106: ReduceLROnPlateau reducing learning rate to 1.0000001111620805e-07.\n",
      "974/974 [==============================] - 4s 5ms/step - loss: 113.9206 - val_loss: 0.7125 - lr: 1.0000e-06\n"
     ]
    }
   ],
   "source": [
    "history = DNN_AE.fit(x=X_train, y=X_train, validation_data=(X_val, X_val), epochs=NUM_EPOCHS, batch_size=BATCH_SIZE, callbacks=callbacks, sample_weight = weights_train)"
   ]
  },
  {
   "cell_type": "code",
   "execution_count": 111,
   "id": "a9d232d5-d330-4dde-a3d7-7ba15f1964c1",
   "metadata": {},
   "outputs": [],
   "source": [
    "DNN_AE.save_weights('./trained_models/EB_zb.keras')"
   ]
  },
  {
   "cell_type": "code",
   "execution_count": 112,
   "id": "49b24538-a8bb-4951-bf7f-3eaba6648710",
   "metadata": {},
   "outputs": [],
   "source": [
    "DNN_AE.load_weights('./trained_models/EB_zb.keras')"
   ]
  },
  {
   "cell_type": "markdown",
   "id": "4039075d-72d8-4de5-b6a0-3e0f0852ab61",
   "metadata": {},
   "source": [
    "## Evaluate Model"
   ]
  },
  {
   "cell_type": "code",
   "execution_count": 113,
   "id": "09fa3930-774f-4973-afb1-5c435dd1b495",
   "metadata": {},
   "outputs": [],
   "source": [
    "# Want to evaluate on HLT data as my background\n",
    "\n",
    "# From the first test split, collect only the HLT data (only events that passed L1)\n",
    "bkg_data = X_test_1[pass_L1_idxs_test_1]\n",
    "bkg_weights = weights_test_1[pass_L1_idxs_test_1]\n",
    "\n",
    "# From the second test split, separate HLT data from zerobias dat\n",
    "HLT_test_data = X_test_2[pass_L1_idxs_test_2]\n",
    "HLT_test_weights = weights_test_2[pass_L1_idxs_test_2]\n",
    "\n",
    "zb_test_data = X_test_2[~pass_L1_idxs_test_2]\n",
    "zb_test_weights = weights_test_2[~pass_L1_idxs_test_2]"
   ]
  },
  {
   "cell_type": "code",
   "execution_count": 114,
   "id": "2a117b31-42e7-44d0-bd42-75964365d17d",
   "metadata": {},
   "outputs": [
    {
     "name": "stdout",
     "output_type": "stream",
     "text": [
      "1372/1372 [==============================] - 2s 2ms/step\n",
      "1380/1380 [==============================] - 2s 2ms/step\n",
      "4854/4854 [==============================] - 8s 2ms/step\n",
      "625/625 [==============================] - 1s 2ms/step\n",
      "3125/3125 [==============================] - 5s 2ms/step\n",
      "3125/3125 [==============================] - 5s 2ms/step\n",
      "3125/3125 [==============================] - 6s 2ms/step\n",
      "3125/3125 [==============================] - 5s 2ms/step\n",
      "1563/1563 [==============================] - 3s 2ms/step\n",
      "313/313 [==============================] - 1s 2ms/step\n",
      "3125/3125 [==============================] - 5s 2ms/step\n",
      "2188/2188 [==============================] - 4s 2ms/step\n"
     ]
    }
   ],
   "source": [
    "# Pass the test split and signal datsets through the model\n",
    "\n",
    "tags = ['data', 'HLT data', 'zerobias', 'HHbbttHadHad', 'ZZ4lep', 'Ztautau', 'jjJZ4', 'jjJZ2', 'qqa', 'LLP', 'dark_jets', 'dark_photons']\n",
    "\n",
    "model_outputs = []\n",
    "y_true = []\n",
    "\n",
    "# pass the background and test data thruogh the model\n",
    "model_outputs.append(DNN_AE.predict(bkg_data))\n",
    "y_true.append(bkg_data)\n",
    "model_outputs.append(DNN_AE.predict(HLT_test_data))\n",
    "y_true.append(HLT_test_data)\n",
    "model_outputs.append(DNN_AE.predict(zb_test_data))\n",
    "y_true.append(zb_test_data)\n",
    "\n",
    "# Pass the signals through the model\n",
    "for i, data in enumerate(datasets):\n",
    "    if i==0: continue\n",
    "\n",
    "    y_true.append(data)\n",
    "    model_outputs.append(DNN_AE.predict(data))"
   ]
  },
  {
   "cell_type": "code",
   "execution_count": 115,
   "id": "710a3fe9-e2ff-44fc-b4b2-6522aac63a3c",
   "metadata": {},
   "outputs": [],
   "source": [
    "def mse_loss(true, prediction):\n",
    "    loss = np.mean(np.square(true - prediction), axis=-1)\n",
    "    return loss"
   ]
  },
  {
   "cell_type": "code",
   "execution_count": 116,
   "id": "86b88ec6-06c8-47dd-bfad-51ac0b4a0010",
   "metadata": {},
   "outputs": [],
   "source": [
    "def AD_score(y, x):\n",
    "    # masked mse\n",
    "    mask = (y != 0) & (y != -999)\n",
    "    _x = x * mask\n",
    "    _y = y * mask\n",
    "    return (mse_loss(_y, _x))"
   ]
  },
  {
   "cell_type": "code",
   "execution_count": 117,
   "id": "dae330a7-9556-4dbf-a5b8-289c94f4460d",
   "metadata": {},
   "outputs": [],
   "source": [
    "# Calculate the AD scores on test split and signals\n",
    "\n",
    "AD_scores = []\n",
    "\n",
    "for i, model_output in enumerate(model_outputs):\n",
    "    AD_scores.append(AD_score(y_true[i], model_output))"
   ]
  },
  {
   "cell_type": "code",
   "execution_count": 118,
   "id": "0ed05f14-f352-46b4-9443-f6ffe711ec16",
   "metadata": {},
   "outputs": [],
   "source": [
    "# Keep track of the weights for each set of data (the weights for the signals are all 1)\n",
    "# tags = ['data', 'HLT data', 'zerobias', 'HHbbttHadHad', 'ZZ4lep', 'Ztautau', 'jjJZ4', 'jjJZ2', 'qqa', 'LLP', 'dark_jets', 'dark_photons']\n",
    "weights_list = []\n",
    "\n",
    "# Append weights for different EB splits\n",
    "weights_list.append(bkg_weights)\n",
    "weights_list.append(HLT_test_weights)\n",
    "weights_list.append(zb_test_weights)\n",
    "\n",
    "# Append signal weights (all ones)\n",
    "for i, data in enumerate(datasets):\n",
    "    if i == 0: continue # Skip EB data\n",
    "\n",
    "    weights_list.append(np.ones(data.shape[0]))\n",
    "    "
   ]
  },
  {
   "cell_type": "code",
   "execution_count": 119,
   "id": "f0112a35-6e4a-4c4d-8890-1b94d5c7b758",
   "metadata": {},
   "outputs": [
    {
     "name": "stderr",
     "output_type": "stream",
     "text": [
      "/cvmfs/sft.cern.ch/lcg/views/LCG_105a_cuda/x86_64-el9-gcc11-opt/lib/python3.9/site-packages/numpy/lib/histograms.py:906: RuntimeWarning: invalid value encountered in divide\n",
      "  return n/db/n.sum(), bin_edges\n"
     ]
    },
    {
     "data": {
      "text/plain": [
       "<Figure size 1296x720 with 0 Axes>"
      ]
     },
     "metadata": {},
     "output_type": "display_data"
    },
    {
     "data": {
      "image/png": "[encoded data removed]",
      "text/plain": [
       "<Figure size 720x576 with 1 Axes>"
      ]
     },
     "metadata": {
      "needs_background": "light"
     },
     "output_type": "display_data"
    }
   ],
   "source": [
    "# Plot a histogram of the AD scores\n",
    "\n",
    "plt.figure(figsize=(18, 10))\n",
    "plt.rcParams['axes.linewidth'] = 2.4\n",
    "\n",
    "#bins = np.linspace(0, 50000, num=30)\n",
    "bins=30\n",
    "plt.figure(figsize=(10,8))\n",
    "for i, tag in enumerate(tags):\n",
    "    if i==0: continue # skip background EB data\n",
    "    # elif i == 1:\n",
    "    #     plt.hist(AD_scores[i+1], bins=bins, label=tag, density = True, histtype='step', fill=False, linewidth=2.3, weights=weights_test_2)\n",
    "    # else:\n",
    "    #     plt.hist(AD_scores[i+1], bins=bins, label=tag, density = True, histtype='step', fill=False, linewidth=2.3)\n",
    "\n",
    "    plt.hist(AD_scores[i], bins=bins, label=tag, density = True, histtype='step', fill=False, linewidth=2.3, weights=weights_list[i])\n",
    "plt.yscale('log')\n",
    "plt.xlabel(\"Autoencoder Loss\", fontsize=16)\n",
    "plt.ylabel(\"Density (a.u.)\", fontsize=16)\n",
    "plt.title('MSE loss', fontsize=20)\n",
    "plt.legend(loc='best', fontsize=14)\n",
    "plt.grid()\n",
    "#plt.xlim(0, 0.2 * pow(10, 6))\n",
    "plt.show()"
   ]
  },
  {
   "cell_type": "code",
   "execution_count": 120,
   "id": "f3b019e6-2409-4676-9355-b4a407f1244a",
   "metadata": {},
   "outputs": [
    {
     "name": "stdout",
     "output_type": "stream",
     "text": [
      "HLT data: TPR at FPR of 10^-4 is 0.0001 with threshold 3.1324\n",
      "threshold FPR: 0.00010272732055321908\n",
      "zerobias: TPR at FPR of 10^-4 is nan with threshold 3.1966\n",
      "HHbbttHadHad: TPR at FPR of 10^-4 is 0.01415 with threshold 3.1324\n",
      "ZZ4lep: TPR at FPR of 10^-4 is 0.00509 with threshold 3.1324\n",
      "Ztautau: TPR at FPR of 10^-4 is 0.00057 with threshold 3.1324\n",
      "jjJZ4: TPR at FPR of 10^-4 is 0.00166 with threshold 3.1324\n"
     ]
    },
    {
     "name": "stderr",
     "output_type": "stream",
     "text": [
      "/cvmfs/sft.cern.ch/lcg/views/LCG_105a_cuda/x86_64-el9-gcc11-opt/lib/python3.9/site-packages/sklearn/metrics/_ranking.py:1029: UndefinedMetricWarning: No positive samples in y_true, true positive value should be meaningless\n",
      "  warnings.warn(\n"
     ]
    },
    {
     "name": "stdout",
     "output_type": "stream",
     "text": [
      "jjJZ2: TPR at FPR of 10^-4 is 0.00233 with threshold 3.1324\n",
      "qqa: TPR at FPR of 10^-4 is 0.00100 with threshold 3.1324\n",
      "LLP: TPR at FPR of 10^-4 is 0.00080 with threshold 3.1966\n",
      "dark_jets: TPR at FPR of 10^-4 is 0.00247 with threshold 3.1324\n",
      "dark_photons: TPR at FPR of 10^-4 is 0.00460 with threshold 3.1324\n"
     ]
    },
    {
     "data": {
      "image/png": "[encoded data removed]",
      "text/plain": [
       "<Figure size 612x489.6 with 1 Axes>"
      ]
     },
     "metadata": {
      "needs_background": "light"
     },
     "output_type": "display_data"
    }
   ],
   "source": [
    "# Plot the ROC curves\n",
    "\n",
    "target_background = np.zeros(AD_scores[0].shape[0])\n",
    "\n",
    "plt.figure(figsize=(8.5,6.8))\n",
    "\n",
    "for i, label in enumerate(tags):\n",
    "    if i==0: continue # skip background data\n",
    "    \n",
    "    # Combine true labels, anomaly=1 and background=0\n",
    "    trueVal = np.concatenate((np.ones(AD_scores[i].shape[0]), target_background))\n",
    "    \n",
    "    # Combine predictions from current dataset and background\n",
    "    predVal_loss = np.concatenate((AD_scores[i], AD_scores[0]))\n",
    "    \n",
    "    # Include weights for the EB data and assign no weight (or equal weight) for the other dataset\n",
    "    # if i == 0:  # For the EB data\n",
    "    #     sample_weights = np.concatenate((weights_test_2, weights_test_1))\n",
    "    # else:  # For the MC datasets, assume equal weight\n",
    "    #     sample_weights = np.concatenate((np.ones(AD_scores[i+1].shape[0]), weights_test_1))\n",
    "\n",
    "    sample_weights = np.concatenate((weights_list[i], weights_list[0]))\n",
    "\n",
    "    # Calculate ROC curve and AUC, including weights\n",
    "    fpr_loss, tpr_loss, threshold_loss = roc_curve(y_true=trueVal, y_score=predVal_loss, sample_weight=sample_weights)\n",
    "    auc_loss = auc(fpr_loss, tpr_loss)\n",
    "\n",
    "    # Plot ROC curve\n",
    "    plt.plot(fpr_loss, tpr_loss, \"-\", label='%s (auc = %.1f%%)' % (label, auc_loss*100.), linewidth=1.5)\n",
    "\n",
    "    # Find index where FPR is closest to 10^-4 and print TPR and threshold for that index\n",
    "    if i ==1: \n",
    "        target_fpr = 10**-4\n",
    "        idx = np.argmin(np.abs(fpr_loss - target_fpr))\n",
    "        print(f\"{label}: TPR at FPR of 10^-4 is {tpr_loss[idx]:.4f} with threshold {threshold_loss[idx]:.4f}\")\n",
    "        print(f\"threshold FPR: {fpr_loss[idx]}\")\n",
    "        threshold = threshold_loss[idx]\n",
    "        plt.plot(np.linspace(0, 1), np.linspace(0, 1), '--', color='0.75')\n",
    "        #plt.axvline(fpr_loss[idx], color='red', linestyle='dashed', linewidth=2, label=fpr_loss[idx])  # Threshold value\n",
    "    else:\n",
    "        idx = np.argmin(np.abs(fpr_loss - target_fpr))\n",
    "        print(f\"{label}: TPR at FPR of 10^-4 is {tpr_loss[idx]:.5f} with threshold {threshold_loss[idx]:.4f}\")\n",
    "\n",
    "# Set log scale for x and y axis\n",
    "plt.semilogx()\n",
    "plt.semilogy()\n",
    "\n",
    "# Plot aesthetics and layout\n",
    "plt.ylabel(\"True Positive Rate\", fontsize=16)\n",
    "plt.xlabel(\"False Positive Rate\", fontsize=16)\n",
    "plt.legend(loc='lower right', fontsize=13)\n",
    "plt.grid(True)\n",
    "plt.tight_layout()\n",
    "\n",
    "# Additional plot elements\n",
    "\n",
    "#plt.title(\"ROC Curve\", fontsize)\n",
    "plt.show()"
   ]
  },
  {
   "cell_type": "code",
   "execution_count": 134,
   "id": "77b7473f-e7d0-434a-a795-dcf007f6e0f2",
   "metadata": {},
   "outputs": [
    {
     "name": "stdout",
     "output_type": "stream",
     "text": [
      "-----\n",
      "data:\n",
      "HLT overlap: 0.0\n",
      "inverse overlap: 1.0114665057332528\n",
      "percentage of events that passed some HLT trigger: 0.008307305114231712\n",
      "percentage of events that we tagged as anomalous: 9.525576172021878e-05\n",
      "number of events that we tagged as anomalous: 19\n",
      "-----\n",
      "HHbbttHadHad:\n",
      "HLT overlap: 0.5942028985507246\n",
      "inverse overlap: 1.0025751862411478\n",
      "percentage of events that passed some HLT trigger: 0.008307305114231712\n",
      "percentage of events that we tagged as anomalous: 0.00345\n",
      "number of events that we tagged as anomalous: 69\n",
      "-----\n",
      "ZZ4lep:\n",
      "HLT overlap: 0.9020618556701031\n",
      "inverse overlap: 1.0002179398944713\n",
      "percentage of events that passed some HLT trigger: 0.008307305114231712\n",
      "percentage of events that we tagged as anomalous: 0.00194\n",
      "number of events that we tagged as anomalous: 194\n",
      "-----\n",
      "Ztautau:\n",
      "HLT overlap: 0.10526315789473684\n",
      "inverse overlap: 1.0025537028691602\n",
      "percentage of events that passed some HLT trigger: 0.008307305114231712\n",
      "percentage of events that we tagged as anomalous: 0.00019\n",
      "number of events that we tagged as anomalous: 19\n",
      "-----\n",
      "jjJZ4:\n",
      "HLT overlap: 0.9880952380952381\n",
      "inverse overlap: 1.0000101864113273\n",
      "percentage of events that passed some HLT trigger: 0.008307305114231712\n",
      "percentage of events that we tagged as anomalous: 0.00084\n",
      "number of events that we tagged as anomalous: 84\n",
      "-----\n",
      "jjJZ2:\n",
      "HLT overlap: 0.007462686567164179\n",
      "inverse overlap: 1.116564417177914\n",
      "percentage of events that passed some HLT trigger: 0.008307305114231712\n",
      "percentage of events that we tagged as anomalous: 0.00134\n",
      "number of events that we tagged as anomalous: 134\n",
      "-----\n",
      "qqa:\n",
      "HLT overlap: 0.14285714285714285\n",
      "inverse overlap: 1.0026566305069737\n",
      "percentage of events that passed some HLT trigger: 0.008307305114231712\n",
      "percentage of events that we tagged as anomalous: 0.00028\n",
      "number of events that we tagged as anomalous: 14\n",
      "-----\n",
      "LLP:\n",
      "HLT overlap: 0.6666666666666666\n",
      "inverse overlap: 1.0007828810020878\n",
      "percentage of events that passed some HLT trigger: 0.008307305114231712\n",
      "percentage of events that we tagged as anomalous: 0.0009\n",
      "number of events that we tagged as anomalous: 9\n",
      "-----\n",
      "dark_jets:\n",
      "HLT overlap: 0.9069767441860465\n",
      "inverse overlap: 1.0000453869807446\n",
      "percentage of events that passed some HLT trigger: 0.008307305114231712\n",
      "percentage of events that we tagged as anomalous: 0.00043\n",
      "number of events that we tagged as anomalous: 43\n",
      "-----\n",
      "dark_photons:\n",
      "HLT overlap: 0.7476635514018691\n",
      "inverse overlap: 1.0011786275536931\n",
      "percentage of events that passed some HLT trigger: 0.008307305114231712\n",
      "percentage of events that we tagged as anomalous: 0.0030571428571428572\n",
      "number of events that we tagged as anomalous: 214\n"
     ]
    }
   ],
   "source": [
    "\"\"\"Print the HLT overlap (the percentage of events we found as anomalous that\n",
    "are already being triggered by the HLT)\n",
    "and Inverse Overlap (the additional amount of signal we trigger on compared to \n",
    "just the HLT)\"\"\"\n",
    "\n",
    "for i, tag in enumerate(tags):\n",
    "    anomaly_idxs = (total_loss[i] > threshold)\n",
    "    HLT_overlap = 0\n",
    "    inverse_overlap=0\n",
    "\n",
    "    if i ==0:\n",
    "        for a, h in zip(anomaly_idxs, pass_HLT_test):\n",
    "            if a==1 and h==1:\n",
    "                HLT_overlap += 1\n",
    "                \n",
    "            if a==1 or h==1:\n",
    "                inverse_overlap += 1\n",
    "            \n",
    "        HLT_overlap /= np.sum(anomaly_idxs)\n",
    "        inverse_overlap /= np.sum(pass_HLT_test)\n",
    "    else:\n",
    "        for a, h in zip(anomaly_idxs, pass_HLT[i]):\n",
    "            if a==1 and h==1:\n",
    "                HLT_overlap += 1\n",
    "            \n",
    "            if a==1 or h==1:\n",
    "                inverse_overlap += 1\n",
    "                \n",
    "        HLT_overlap /= np.sum(anomaly_idxs)\n",
    "        inverse_overlap /= np.sum(pass_HLT[i])\n",
    "\n",
    "    print(f'-----\\n{tag}:')\n",
    "    print(f'HLT overlap: {HLT_overlap}')\n",
    "    print(f'inverse overlap: {inverse_overlap}')\n",
    "    print(f'percentage of events that passed some HLT trigger: {np.sum(pass_HLT_test) / len(pass_HLT_test)}')\n",
    "    print(f'percentage of events that we tagged as anomalous: {np.sum(anomaly_idxs) / len(anomaly_idxs)}')\n",
    "    print(f'number of events that we tagged as anomalous: {np.sum(anomaly_idxs)}')"
   ]
  },
  {
   "cell_type": "code",
   "execution_count": 34,
   "id": "db311f49-2554-4a6e-9ac2-c169c390d68b",
   "metadata": {},
   "outputs": [
    {
     "name": "stdout",
     "output_type": "stream",
     "text": [
      "HLT rate: 6.09708956022737\n",
      "HLT acceptance: 6.09708956022737e-05\n",
      "HLT rejection: 16401.26801684554\n"
     ]
    }
   ],
   "source": [
    "# As a sanity check, calculate the HLT rate from our list of triggers\n",
    "\n",
    "HLT_rate = np.sum(weights * pass_HLT[0]) / np.sum(weights)\n",
    "print(f'HLT rate: {HLT_rate * 100000}')\n",
    "print(f'HLT acceptance: {HLT_rate}')\n",
    "print(f'HLT rejection: {1/HLT_rate}')"
   ]
  },
  {
   "cell_type": "code",
   "execution_count": null,
   "id": "8028440b-2fe0-45da-a5b9-231694cb6879",
   "metadata": {},
   "outputs": [],
   "source": [
    "# Calculate the additional rate added by our trigger\n",
    "\n",
    "HLT_numerator = 0\n",
    "HLT_denominator = 0\n",
    "HLT_AD_numerator = 0\n",
    "HLT_AD_denominator = 0\n",
    "\n",
    "\n",
    "anomaly_idxs = (total_loss[0] > threshold)\n",
    "HLT_numerator += np.sum(weights_test * pass_HLT_test)\n",
    "HLT_denominator += np.sum(weights_test)\n",
    "\n",
    "HLT_AD_numerator += np.sum(weights_test * np.bitwise_or(anomaly_idxs, pass_HLT_test))\n",
    "HLT_AD_denominator += np.sum(weights_test)\n",
    "\n",
    "\n",
    "\n",
    "HLT_acceptance = HLT_numerator / HLT_denominator\n",
    "HLT_AD_acceptance = HLT_AD_numerator / HLT_AD_denominator\n",
    "\n",
    "# Multiply by 100,000 since there are 100,000Hz going INTO the HLT\n",
    "print(f'HLT rate: {HLT_acceptance * 100000}')\n",
    "print(f'HLT + AD rate: {HLT_AD_acceptance * 100000}')\n",
    "print(f'rate added by AD: {(HLT_AD_acceptance - HLT_acceptance) * 100000}')"
   ]
  },
  {
   "cell_type": "code",
   "execution_count": null,
   "id": "00cc445a-5c21-48a3-8c07-289ad7a01926",
   "metadata": {},
   "outputs": [],
   "source": [
    "HLT_numerator = 0\n",
    "HLT_denominator = 0\n",
    "HLT_AD_numerator = 0\n",
    "HLT_AD_denominator = 0\n",
    "\n",
    "\n",
    "anomaly_idxs = (total_loss[0] > threshold)\n",
    "HLT_numerator += np.sum(weights_test * pass_HLT_test)\n",
    "HLT_denominator += np.sum(weights_test)\n",
    "\n",
    "HLT_AD_numerator += np.sum(weights_test * np.bitwise_or(anomaly_idxs, pass_HLT_test))\n",
    "HLT_AD_denominator += np.sum(weights_test)\n",
    "\n",
    "\n",
    "\n",
    "HLT_acceptance = HLT_numerator / HLT_denominator\n",
    "HLT_AD_acceptance = HLT_AD_numerator / HLT_AD_denominator\n",
    "\n",
    "# Multiply by 100,000 since there are 100,000Hz going INTO the HLT\n",
    "print(f'HLT rate: {HLT_acceptance * 100000}')\n",
    "print(f'HLT + AD rate: {HLT_AD_acceptance * 100000}')\n",
    "print(f'rate added by AD: {(HLT_AD_acceptance - HLT_acceptance) * 100000}')"
   ]
  },
  {
   "cell_type": "code",
   "execution_count": null,
   "id": "6c041337-7501-4834-a7f9-c226798bf529",
   "metadata": {},
   "outputs": [],
   "source": [
    "# Calculate the additional rate added by the AD trigger for each FPR\n",
    "\n",
    "rates = []\n",
    "overlaps = []\n",
    "for i, fpr in enumerate(fpr_loss):\n",
    "    threshold = threshold_loss[i]\n",
    "\n",
    "    # Calcaulte rates\n",
    "    # ----------------------------------------\n",
    "    HLT_numerator = 0\n",
    "    HLT_denominator = 0\n",
    "    HLT_AD_numerator = 0\n",
    "    HLT_AD_denominator = 0\n",
    "    \n",
    "    \n",
    "    anomaly_idxs = (total_loss[0] > threshold)\n",
    "    HLT_numerator += np.sum(weights_test * pass_HLT_test)\n",
    "    HLT_denominator += np.sum(weights_test)\n",
    "    \n",
    "    HLT_AD_numerator += np.sum(weights_test * np.bitwise_or(anomaly_idxs, pass_HLT_test))\n",
    "    HLT_AD_denominator += np.sum(weights_test)\n",
    "    \n",
    "    \n",
    "    \n",
    "    HLT_acceptance = HLT_numerator / HLT_denominator\n",
    "    HLT_AD_acceptance = HLT_AD_numerator / HLT_AD_denominator\n",
    "    \n",
    "    # Multiply by 100,000 since there are 100,000Hz going INTO the HLT\n",
    "    rates.append((HLT_AD_acceptance - HLT_acceptance) * 100000)\n",
    "    # ---------------------------------------------------------\n",
    "\n",
    "    # Calculate HLT Overlap (this takes too long to run, maybe there's a better way to do this)\n",
    "    # --------------------------------------------\n",
    "    # anomaly_idxs = (total_loss[0] > threshold)\n",
    "    # HLT_overlap = 0\n",
    "    # inverse_overlap=0\n",
    "\n",
    "    \n",
    "    # for a, h in zip(anomaly_idxs, pass_HLT_test):\n",
    "    #     if a==1 and h==1:\n",
    "    #         HLT_overlap += 1\n",
    "        \n",
    "    # HLT_overlap /= np.sum(anomaly_idxs)\n",
    "    # overlaps.append(HLT_overlap)"
   ]
  },
  {
   "cell_type": "code",
   "execution_count": null,
   "id": "a7f529e8-e0fd-40c3-bd86-2a99e79dbd0c",
   "metadata": {},
   "outputs": [],
   "source": [
    "# Plot the additional rate vs FPR\n",
    "\n",
    "plt.figure(figsize=(8.5,6.8))\n",
    "\n",
    "plt.plot(fpr_loss, rates, color='navy', linewidth=2.5)\n",
    "\n",
    "# Set log scale for x and y axis\n",
    "plt.semilogx()\n",
    "plt.semilogy()\n",
    "\n",
    "# Plot aesthetics and layout\n",
    "plt.ylabel(\"Additional Rate\", fontsize=16)\n",
    "plt.xlabel(\"False Positive Rate\", fontsize=16)\n",
    "#plt.legend(loc='lower right', fontsize=13)\n",
    "plt.grid(True)\n",
    "plt.tight_layout()\n",
    "\n",
    "# Additional plot elements\n",
    "#plt.title(\"ROC Curve\", fontsize)\n",
    "plt.show()"
   ]
  },
  {
   "cell_type": "code",
   "execution_count": null,
   "id": "d4a846f8-c0cc-47ec-81ca-d5156fd0f053",
   "metadata": {},
   "outputs": [],
   "source": []
  }
 ],
 "metadata": {
  "kernelspec": {
   "display_name": "Python 3",
   "language": "python",
   "name": "python3"
  },
  "language_info": {
   "codemirror_mode": {
    "name": "ipython",
    "version": 3
   },
   "file_extension": ".py",
   "mimetype": "text/x-python",
   "name": "python",
   "nbconvert_exporter": "python",
   "pygments_lexer": "ipython3",
   "version": "3.9.12"
  }
 },
 "nbformat": 4,
 "nbformat_minor": 5
}
