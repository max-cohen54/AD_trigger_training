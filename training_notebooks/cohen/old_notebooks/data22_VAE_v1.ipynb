{
 "cells": [
  {
   "cell_type": "code",
   "execution_count": 1,
   "id": "b155d6bf-daf6-4f8e-b152-5b1f9ff6c65d",
   "metadata": {},
   "outputs": [
    {
     "name": "stderr",
     "output_type": "stream",
     "text": [
      "2024-02-01 19:04:17.445968: I tensorflow/core/util/port.cc:110] oneDNN custom operations are on. You may see slightly different numerical results due to floating-point round-off errors from different computation orders. To turn them off, set the environment variable `TF_ENABLE_ONEDNN_OPTS=0`.\n",
      "2024-02-01 19:04:17.509825: I tensorflow/core/platform/cpu_feature_guard.cc:182] This TensorFlow binary is optimized to use available CPU instructions in performance-critical operations.\n",
      "To enable the following instructions: AVX2 AVX512F AVX512_VNNI FMA, in other operations, rebuild TensorFlow with the appropriate compiler flags.\n"
     ]
    }
   ],
   "source": [
    "import numpy as np\n",
    "import matplotlib.pyplot as plt\n",
    "import h5py\n",
    "import random\n",
    "import sklearn\n",
    "import collections\n",
    "from sklearn.model_selection import train_test_split\n",
    "import json\n",
    "import pylab\n",
    "from scipy.optimize import curve_fit\n",
    "from tensorflow.keras import layers, Model\n",
    "import tensorflow.keras.backend as K\n",
    "from tensorflow.keras.callbacks import EarlyStopping, ReduceLROnPlateau\n",
    "from tensorflow.keras.models import load_model\n",
    "from sklearn.metrics import roc_curve, auc"
   ]
  },
  {
   "cell_type": "code",
   "execution_count": null,
   "id": "2ca30d05-fa82-40d9-ad19-9b0580e3873a",
   "metadata": {},
   "outputs": [],
   "source": [
    "import tensorflow as tf\n",
    "\n",
    "# Check GPUs available\n",
    "gpus = tf.config.list_physical_devices('GPU')\n",
    "print(f\"GPUs Available: {gpus}\")\n",
    "\n",
    "# Check if TensorFlow is currently executing eagerly (which means operations are executed as they are defined and is the default mode in TF 2.x)\n",
    "print(f\"Eager execution: {tf.executing_eagerly()}\")\n",
    "\n",
    "# If you have GPUs listed and eager execution is enabled, then operations should automatically run on the GPU if possible.\n",
    "# To test if TensorFlow will place tensors and operations on the GPU by default, you can create a simple operation and see where it is placed:\n",
    "if gpus:\n",
    "    with tf.device('/GPU:0'):\n",
    "        a = tf.constant([[1.0, 2.0, 3.0], [4.0, 5.0, 6.0]])\n",
    "        print(a.device)\n",
    "else:\n",
    "    print(\"No GPU found!\")"
   ]
  },
  {
   "cell_type": "code",
   "execution_count": 2,
   "id": "70452ce1-6a7c-4f03-b52c-9c5b88c8a16d",
   "metadata": {},
   "outputs": [],
   "source": [
    "# This is the list that will hold all of the data (data22 and MC)\n",
    "\n",
    "datasets = []\n",
    "tags = ['data', 'HHbbttHadHad', 'ZZ4lep', 'Ztautau', 'jj']"
   ]
  },
  {
   "cell_type": "code",
   "execution_count": 3,
   "id": "4dc47606-52d7-4fe2-97f9-3f0c02ba8d2b",
   "metadata": {},
   "outputs": [],
   "source": [
    "# Read EB data22 file\n",
    "\n",
    "with h5py.File('../ntuples/AOD_EB_ntuples_1-26-2024.h5', 'r') as hf:\n",
    "    jets = hf['HLT_jets'][:]\n",
    "    electrons = hf['electrons'][:]\n",
    "    LRT_electrons = hf['LRT_electrons'][:]\n",
    "    muons = hf['muons'][:]\n",
    "    LRT_muons = hf['LRT_muons'][:]\n",
    "    photons = hf['photons'][:]\n",
    "    MET = hf['MET'][:].reshape(-1, 1, 4)  # Broadcasting MET\n",
    "    pass_L1_unprescaled = hf[\"pass_L1_unprescaled\"][:]\n",
    "    EB_weights = hf[\"EB_weights\"][:]"
   ]
  },
  {
   "cell_type": "code",
   "execution_count": 4,
   "id": "f9c39723-8713-4f4f-b668-4bf61021f3db",
   "metadata": {},
   "outputs": [
    {
     "name": "stdout",
     "output_type": "stream",
     "text": [
      "(1019220, 10, 4)\n"
     ]
    }
   ],
   "source": [
    "print(jets.shape)"
   ]
  },
  {
   "cell_type": "code",
   "execution_count": 5,
   "id": "99292488-4061-432b-a040-85390555575d",
   "metadata": {},
   "outputs": [],
   "source": [
    "# Collect only events that passed any of our unprescaled L1 list, and concatenate.\n",
    "\n",
    "pass_L1_idxs = (pass_L1_unprescaled == 1) # Indices of events that passed L1\n",
    "data = np.concatenate([jets[pass_L1_idxs], electrons[pass_L1_idxs], muons[pass_L1_idxs], photons[pass_L1_idxs], MET[pass_L1_idxs]], axis=1)\n",
    "weights = EB_weights[pass_L1_idxs]\n",
    "datasets.append(data)"
   ]
  },
  {
   "cell_type": "code",
   "execution_count": 6,
   "id": "d1499194-94d7-4c01-a58d-f9ccef5584ce",
   "metadata": {},
   "outputs": [],
   "source": [
    "# Read MC data\n",
    "\n",
    "filenames = ['MC_HHbbttHadHad_ntuples.h5', 'MC_ZZ4lep_ntuples.h5', 'MC_Ztautau_ntuples.h5', 'MC_jj_ntuples.h5']\n",
    "data_path = '../ntuples/'\n",
    "\n",
    "for filename in filenames:\n",
    "    with h5py.File(data_path+filename, 'r') as hf:\n",
    "        jets = hf['jets'][:]\n",
    "        electrons = hf['electrons'][:]\n",
    "        muons = hf['muons'][:]\n",
    "        photons = hf['photons'][:]\n",
    "        MET = hf['MET'][:].reshape(-1, 1, 4)  # Broadcasting MET\n",
    "\n",
    "        combined_data = np.concatenate([jets, electrons, muons, photons, MET], axis=1)\n",
    "        datasets.append(combined_data)"
   ]
  },
  {
   "cell_type": "code",
   "execution_count": 7,
   "id": "01c1f898-4e32-4dc2-8ce9-bbbee5cf1f95",
   "metadata": {},
   "outputs": [],
   "source": [
    "\"\"\"Met bias. For some events, MET was not calculated, so was written as -999.\n",
    "We don't want this to impact training, so we map 0 --> 0.001 and -999 --> 0\"\"\"\n",
    "for i, data in enumerate(datasets):\n",
    "\n",
    "    # MET: 0 --> 0.001 and -999 --> 0 and nan --> 0\n",
    "    MET_zeros = (data[:, 19, 0] == 0) # indices where MET=0\n",
    "    MET_999 = ((data[:, 19, 0] == -999)) # indices where MET=-999 (not calculated)\n",
    "    MET_nan = np.isnan(data[:, 19, 3])\n",
    "    data[MET_zeros, 19, 0] = 0.001\n",
    "    data[MET_999, 19, :] = 0\n",
    "    data[MET_nan, 19, :] = 0"
   ]
  },
  {
   "cell_type": "code",
   "execution_count": 8,
   "id": "42ae00ae-25b3-425f-89b2-a2ad99950050",
   "metadata": {},
   "outputs": [
    {
     "name": "stdout",
     "output_type": "stream",
     "text": [
      "data: (224294, 20, 4)\n",
      "HHbbttHadHad: (10000, 20, 4)\n",
      "ZZ4lep: (9998, 20, 4)\n",
      "Ztautau: (39901, 20, 4)\n",
      "jj: (5000, 20, 4)\n"
     ]
    }
   ],
   "source": [
    "for i, dataset in enumerate(datasets):\n",
    "    print(f'{tags[i]}: {dataset.shape}')"
   ]
  },
  {
   "cell_type": "code",
   "execution_count": 9,
   "id": "0c983f31-0cd4-4d0f-8e59-5bb03af74729",
   "metadata": {},
   "outputs": [
    {
     "data": {
      "image/png": "[encoded data removed]",
      "text/plain": [
       "<Figure size 720x360 with 1 Axes>"
      ]
     },
     "metadata": {
      "needs_background": "light"
     },
     "output_type": "display_data"
    }
   ],
   "source": [
    "# Plotting pt distribtions of the jets from each dataset\n",
    "\n",
    "plt.figure(figsize=(10, 5))\n",
    "plt.rcParams['axes.linewidth'] = 2.4\n",
    "bins = np.linspace(0, 7000, 50)\n",
    "#bins=50\n",
    "\n",
    "for i, tag in enumerate(tags):\n",
    "    pt = datasets[i][:, :10, 0]\n",
    "    pt = pt[pt > 0]\n",
    "\n",
    "    plt.hist(pt, bins=bins, label=tag, histtype='step', density=True, fill=False, linewidth=3)\n",
    "\n",
    "plt.yscale('log')\n",
    "plt.xlabel('jet pt', fontsize=22)\n",
    "plt.ylabel('density', fontsize=22)\n",
    "plt.title('Jet PT Histograms', fontsize=30)\n",
    "plt.grid()\n",
    "plt.legend(fontsize=18)\n",
    "plt.show()"
   ]
  },
  {
   "cell_type": "code",
   "execution_count": 10,
   "id": "8c193dca-2249-4ec8-961a-d8d01d2b60f8",
   "metadata": {},
   "outputs": [
    {
     "name": "stdout",
     "output_type": "stream",
     "text": [
      "data: (224294, 80)\n",
      "HHbbttHadHad: (10000, 80)\n",
      "ZZ4lep: (9998, 80)\n",
      "Ztautau: (39901, 80)\n",
      "jj: (5000, 80)\n"
     ]
    }
   ],
   "source": [
    "# Flatten ndarrays for use in DNN\n",
    "\n",
    "for i, data in enumerate(datasets):\n",
    "    datasets[i] = np.reshape(data, newshape=(-1, 80))\n",
    "\n",
    "for i, data in enumerate(datasets):\n",
    "    print(f'{tags[i]}: {data.shape}')"
   ]
  },
  {
   "cell_type": "code",
   "execution_count": 11,
   "id": "dd32645f-1536-41e9-8081-9fdc258fcbb3",
   "metadata": {},
   "outputs": [],
   "source": [
    "# Reparameterization\n",
    "def sampling(args):\n",
    "    \"\"\"This function will be used in the reparameterization step of the VAE.\"\"\"\n",
    "    z_mean, z_log_var, latent_dim = args\n",
    "    epsilon = K.random_normal(shape=(K.shape(z_mean)[0], latent_dim))\n",
    "    std = K.exp(0.5 * z_log_var)\n",
    "    return z_mean + std * epsilon"
   ]
  },
  {
   "cell_type": "code",
   "execution_count": 12,
   "id": "326b9956-935e-49bf-a0e6-5807a43df091",
   "metadata": {},
   "outputs": [],
   "source": [
    "def create_VAE(input_dim, h_dim_1, h_dim_2, latent_dim, beta=0.4):\n",
    "    \"\"\"Creates a vae, and also the encoder and decoder in case of separate use.\n",
    "    INPUTS:\n",
    "    \n",
    "    input_dim, h_dim_1, h_dim_2, latent_dim: These specify the stucture of the VAE.\n",
    "    The shape will be input_dim --> h_dim_1 --> h_dim_2 --> latent_dim and then back up.\n",
    "\n",
    "    beta: The parameter that determines the tuning between the KL and MSE loss.\n",
    "    \n",
    "    OUTPUTS:\n",
    "\n",
    "    vae, encoder, decoder: keras models of the VAE, encoder (with reparameterization), and decoder.\n",
    "    \"\"\"\n",
    "\n",
    "    # Encoder\n",
    "    inputs = layers.Input(shape=(input_dim))\n",
    "    x = layers.Dense(h_dim_1, activation='relu')(inputs)\n",
    "    x = layers.Dense(h_dim_2, activation='relu')(x)\n",
    "    z_mean = layers.Dense(latent_dim)(x)\n",
    "    z_log_var = layers.Dense(latent_dim)(x)\n",
    "    \n",
    "    z = layers.Lambda(sampling)([z_mean, z_log_var, latent_dim]) # This wraps the 'sampling' function as a 'Layer' object\n",
    "    \n",
    "    # Decoder\n",
    "    decoder_input = layers.Input(shape=(latent_dim,))\n",
    "    x = layers.Dense(h_dim_2, activation='relu')(decoder_input)\n",
    "    x = layers.Dense(h_dim_1, activation='relu')(x)\n",
    "    outputs = layers.Dense(input_dim)(x)\n",
    "    \n",
    "    # Decoder Model\n",
    "    decoder = Model(decoder_input, outputs)\n",
    "    \n",
    "    # VAE model\n",
    "    vae_outputs = decoder(z)\n",
    "    vae = Model(inputs, vae_outputs)\n",
    "    \n",
    "    # Encoder Model including reparameterization\n",
    "    encoder = Model(inputs, [z_mean, z_log_var, z])\n",
    "    \n",
    "    # -------------------------------------------------------------------------------------------------------\n",
    "    # Now let's define the loss function. We will use a combination of MSE and KL loss.\n",
    "\n",
    "    recon_loss = K.mean(K.square(inputs - vae_outputs))\n",
    "    kl_loss = -0.5 * K.mean(1 + z_log_var - K.square(z_mean) - K.exp(z_log_var))\n",
    "    total_loss = (1 - beta) * recon_loss + beta * kl_loss\n",
    "    vae.add_loss(total_loss)\n",
    "\n",
    "    return vae, encoder, decoder"
   ]
  },
  {
   "cell_type": "code",
   "execution_count": 13,
   "id": "f9c12ce5-6e25-4e5b-a845-97cc026b8447",
   "metadata": {},
   "outputs": [
    {
     "name": "stdout",
     "output_type": "stream",
     "text": [
      "X_train: (134576, 80)\n",
      "X_val: (44859, 80)\n",
      "X_test: (44859, 80)\n"
     ]
    }
   ],
   "source": [
    "# Make train, test, val splits\n",
    "\n",
    "TRAIN_SIZE = 0.6\n",
    "VAL_SIZE = 0.2\n",
    "TEST_SIZE = 0.2\n",
    "\n",
    "X_train, X_ = train_test_split(datasets[0], train_size=TRAIN_SIZE)\n",
    "X_val, X_test = train_test_split(X_, train_size=0.5)\n",
    "\n",
    "print(f'X_train: {X_train.shape}')\n",
    "print(f'X_val: {X_val.shape}')\n",
    "print(f'X_test: {X_test.shape}')"
   ]
  },
  {
   "cell_type": "code",
   "execution_count": 14,
   "id": "899bf1a0-16a0-4140-a104-0850df479d88",
   "metadata": {},
   "outputs": [
    {
     "name": "stdout",
     "output_type": "stream",
     "text": [
      "Model: \"model_1\"\n",
      "__________________________________________________________________________________________________\n",
      " Layer (type)                Output Shape                 Param #   Connected to                  \n",
      "==================================================================================================\n",
      " input_1 (InputLayer)        [(None, 80)]                 0         []                            \n",
      "                                                                                                  \n",
      " dense (Dense)               (None, 32)                   2592      ['input_1[0][0]']             \n",
      "                                                                                                  \n",
      " dense_1 (Dense)             (None, 16)                   528       ['dense[0][0]']               \n",
      "                                                                                                  \n",
      " dense_2 (Dense)             (None, 8)                    136       ['dense_1[0][0]']             \n",
      "                                                                                                  \n",
      " dense_3 (Dense)             (None, 8)                    136       ['dense_1[0][0]']             \n",
      "                                                                                                  \n",
      " lambda (Lambda)             (None, 8)                    0         ['dense_2[0][0]',             \n",
      "                                                                     'dense_3[0][0]']             \n",
      "                                                                                                  \n",
      " model (Functional)          (None, 80)                   3328      ['lambda[0][0]']              \n",
      "                                                                                                  \n",
      " tf.__operators__.add (TFOp  (None, 8)                    0         ['dense_3[0][0]']             \n",
      " Lambda)                                                                                          \n",
      "                                                                                                  \n",
      " tf.math.square_1 (TFOpLamb  (None, 8)                    0         ['dense_2[0][0]']             \n",
      " da)                                                                                              \n",
      "                                                                                                  \n",
      " tf.math.subtract_1 (TFOpLa  (None, 8)                    0         ['tf.__operators__.add[0][0]',\n",
      " mbda)                                                               'tf.math.square_1[0][0]']    \n",
      "                                                                                                  \n",
      " tf.math.exp (TFOpLambda)    (None, 8)                    0         ['dense_3[0][0]']             \n",
      "                                                                                                  \n",
      " tf.math.subtract (TFOpLamb  (None, 80)                   0         ['input_1[0][0]',             \n",
      " da)                                                                 'model[0][0]']               \n",
      "                                                                                                  \n",
      " tf.math.subtract_2 (TFOpLa  (None, 8)                    0         ['tf.math.subtract_1[0][0]',  \n",
      " mbda)                                                               'tf.math.exp[0][0]']         \n",
      "                                                                                                  \n",
      " tf.math.square (TFOpLambda  (None, 80)                   0         ['tf.math.subtract[0][0]']    \n",
      " )                                                                                                \n",
      "                                                                                                  \n",
      " tf.math.reduce_mean_1 (TFO  ()                           0         ['tf.math.subtract_2[0][0]']  \n",
      " pLambda)                                                                                         \n",
      "                                                                                                  \n",
      " tf.math.reduce_mean (TFOpL  ()                           0         ['tf.math.square[0][0]']      \n",
      " ambda)                                                                                           \n",
      "                                                                                                  \n",
      " tf.math.multiply (TFOpLamb  ()                           0         ['tf.math.reduce_mean_1[0][0]'\n",
      " da)                                                                ]                             \n",
      "                                                                                                  \n",
      " tf.math.multiply_1 (TFOpLa  ()                           0         ['tf.math.reduce_mean[0][0]'] \n",
      " mbda)                                                                                            \n",
      "                                                                                                  \n",
      " tf.math.multiply_2 (TFOpLa  ()                           0         ['tf.math.multiply[0][0]']    \n",
      " mbda)                                                                                            \n",
      "                                                                                                  \n",
      " tf.__operators__.add_1 (TF  ()                           0         ['tf.math.multiply_1[0][0]',  \n",
      " OpLambda)                                                           'tf.math.multiply_2[0][0]']  \n",
      "                                                                                                  \n",
      " add_loss (AddLoss)          ()                           0         ['tf.__operators__.add_1[0][0]\n",
      "                                                                    ']                            \n",
      "                                                                                                  \n",
      "==================================================================================================\n",
      "Total params: 6720 (26.25 KB)\n",
      "Trainable params: 6720 (26.25 KB)\n",
      "Non-trainable params: 0 (0.00 Byte)\n",
      "__________________________________________________________________________________________________\n"
     ]
    }
   ],
   "source": [
    "# Initialize model\n",
    "INPUT_DIM = X_train.shape[1]\n",
    "H_DIM_1 = 32\n",
    "H_DIM_2 = 16\n",
    "LATENT_DIM = 8\n",
    "vae, encoder, decoder = create_VAE(input_dim=INPUT_DIM, h_dim_1=H_DIM_1, h_dim_2=H_DIM_2, latent_dim=LATENT_DIM)\n",
    "vae.summary()"
   ]
  },
  {
   "cell_type": "code",
   "execution_count": 15,
   "id": "ec38be7f-05f7-49c6-bef7-c7954714cac2",
   "metadata": {},
   "outputs": [],
   "source": [
    "vae.compile(optimizer='adam')"
   ]
  },
  {
   "cell_type": "code",
   "execution_count": 16,
   "id": "07d15e17-fc19-4da1-9a96-a8e309627cac",
   "metadata": {},
   "outputs": [],
   "source": [
    "# Define callbacks: early stopping and learning rate scheduler\n",
    "\n",
    "STOP_PATIENCE = 8\n",
    "LR_PATIENCE = 4\n",
    "\n",
    "early_stopping = EarlyStopping(patience=STOP_PATIENCE, restore_best_weights=True)\n",
    "reduce_lr = ReduceLROnPlateau(monitor='val_loss', factor=0.1, patience=LR_PATIENCE, verbose=1)\n",
    "\n",
    "callbacks = [early_stopping, reduce_lr]"
   ]
  },
  {
   "cell_type": "code",
   "execution_count": 17,
   "id": "28c1676f-f08b-4a24-8e98-c3bb4adb55b6",
   "metadata": {},
   "outputs": [],
   "source": [
    "NUM_EPOCHS = 50\n",
    "BATCH_SIZE = 1024"
   ]
  },
  {
   "cell_type": "code",
   "execution_count": 18,
   "id": "f458f54d-fbef-4f9f-9402-b68886bc3058",
   "metadata": {},
   "outputs": [
    {
     "name": "stdout",
     "output_type": "stream",
     "text": [
      "Epoch 1/50\n",
      "132/132 [==============================] - 3s 9ms/step - loss: nan - val_loss: nan - lr: 0.0010\n",
      "Epoch 2/50\n",
      "132/132 [==============================] - 1s 5ms/step - loss: nan - val_loss: nan - lr: 0.0010\n",
      "Epoch 3/50\n",
      "132/132 [==============================] - 1s 6ms/step - loss: nan - val_loss: nan - lr: 0.0010\n",
      "Epoch 4/50\n",
      "121/132 [==========================>...] - ETA: 0s - loss: nan\n",
      "Epoch 4: ReduceLROnPlateau reducing learning rate to 0.00010000000474974513.\n",
      "132/132 [==============================] - 1s 5ms/step - loss: nan - val_loss: nan - lr: 0.0010\n",
      "Epoch 5/50\n",
      "132/132 [==============================] - 1s 6ms/step - loss: nan - val_loss: nan - lr: 1.0000e-04\n",
      "Epoch 6/50\n",
      "132/132 [==============================] - 1s 5ms/step - loss: nan - val_loss: nan - lr: 1.0000e-04\n",
      "Epoch 7/50\n",
      "132/132 [==============================] - 1s 5ms/step - loss: nan - val_loss: nan - lr: 1.0000e-04\n",
      "Epoch 8/50\n",
      "124/132 [===========================>..] - ETA: 0s - loss: nan\n",
      "Epoch 8: ReduceLROnPlateau reducing learning rate to 1.0000000474974514e-05.\n",
      "132/132 [==============================] - 1s 5ms/step - loss: nan - val_loss: nan - lr: 1.0000e-04\n"
     ]
    }
   ],
   "source": [
    "history = vae.fit(x=X_train, y=X_train, validation_data=(X_val, X_val), epochs=NUM_EPOCHS, batch_size=BATCH_SIZE, callbacks=callbacks)"
   ]
  },
  {
   "cell_type": "code",
   "execution_count": 19,
   "id": "8410a40b-3658-4b04-a80d-11f3cc1c97ed",
   "metadata": {},
   "outputs": [
    {
     "name": "stdout",
     "output_type": "stream",
     "text": [
      "any nan or inf values? True\n",
      "nan count: 0\n",
      "inf count: 0\n"
     ]
    }
   ],
   "source": [
    "arr_ = X_val\n",
    "print(f'any nan or inf values? {np.isfinite(arr_).any()}')\n",
    "\n",
    "nan_count = np.sum(np.isnan(arr_))\n",
    "inf_count = np.sum(np.isinf(arr_))\n",
    "print(f'nan count: {nan_count}')\n",
    "print(f'inf count: {inf_count}')"
   ]
  },
  {
   "cell_type": "code",
   "execution_count": null,
   "id": "62895738-0898-46f6-9218-f14da4eefb0b",
   "metadata": {},
   "outputs": [],
   "source": [
    "nan_indices = np.argwhere(np.isnan(arr_))\n",
    "for index in nan_indices[0:5]:\n",
    "    print(f\"NaN found at index: {index[0]}\")"
   ]
  },
  {
   "cell_type": "code",
   "execution_count": null,
   "id": "b88b06de-0be4-46aa-8d00-1bb762a75f5b",
   "metadata": {},
   "outputs": [],
   "source": [
    "predictions = vae.predict(X_test)\n",
    "print(predictions.shape)"
   ]
  },
  {
   "cell_type": "code",
   "execution_count": null,
   "id": "27116ddd-74ba-48f9-943f-f9705fa16b86",
   "metadata": {},
   "outputs": [],
   "source": [
    "print(predictions[0])"
   ]
  },
  {
   "cell_type": "code",
   "execution_count": null,
   "id": "a35934f4-03e1-462a-a9da-2a330804abc2",
   "metadata": {},
   "outputs": [],
   "source": [
    "print(predictions[0])"
   ]
  },
  {
   "cell_type": "code",
   "execution_count": null,
   "id": "0791c443-f8f2-4202-a047-7f311fac4f2c",
   "metadata": {},
   "outputs": [],
   "source": []
  }
 ],
 "metadata": {
  "kernelspec": {
   "display_name": "Python 3",
   "language": "python",
   "name": "python3"
  },
  "language_info": {
   "codemirror_mode": {
    "name": "ipython",
    "version": 3
   },
   "file_extension": ".py",
   "mimetype": "text/x-python",
   "name": "python",
   "nbconvert_exporter": "python",
   "pygments_lexer": "ipython3",
   "version": "3.9.12"
  }
 },
 "nbformat": 4,
 "nbformat_minor": 5
}
