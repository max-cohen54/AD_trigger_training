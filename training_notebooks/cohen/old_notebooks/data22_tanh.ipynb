{
 "cells": [
  {
   "cell_type": "code",
   "execution_count": 1,
   "id": "b155d6bf-daf6-4f8e-b152-5b1f9ff6c65d",
   "metadata": {},
   "outputs": [
    {
     "name": "stderr",
     "output_type": "stream",
     "text": [
      "2024-02-16 15:05:42.002803: I tensorflow/core/util/port.cc:110] oneDNN custom operations are on. You may see slightly different numerical results due to floating-point round-off errors from different computation orders. To turn them off, set the environment variable `TF_ENABLE_ONEDNN_OPTS=0`.\n",
      "2024-02-16 15:05:42.061926: I tensorflow/core/platform/cpu_feature_guard.cc:182] This TensorFlow binary is optimized to use available CPU instructions in performance-critical operations.\n",
      "To enable the following instructions: AVX2 AVX512F AVX512_VNNI FMA, in other operations, rebuild TensorFlow with the appropriate compiler flags.\n"
     ]
    }
   ],
   "source": [
    "import numpy as np\n",
    "import matplotlib.pyplot as plt\n",
    "import h5py\n",
    "import random\n",
    "import sklearn\n",
    "import collections\n",
    "from sklearn.model_selection import train_test_split\n",
    "import json\n",
    "import pylab\n",
    "from scipy.optimize import curve_fit\n",
    "from tensorflow.keras import layers, Model\n",
    "import tensorflow.keras.backend as K\n",
    "from tensorflow.keras.callbacks import EarlyStopping, ReduceLROnPlateau\n",
    "from tensorflow.keras.models import load_model\n",
    "from sklearn.metrics import roc_curve, auc"
   ]
  },
  {
   "cell_type": "code",
   "execution_count": 2,
   "id": "2ca30d05-fa82-40d9-ad19-9b0580e3873a",
   "metadata": {},
   "outputs": [
    {
     "name": "stdout",
     "output_type": "stream",
     "text": [
      "GPUs Available: [PhysicalDevice(name='/physical_device:GPU:0', device_type='GPU')]\n",
      "Eager execution: True\n",
      "/job:localhost/replica:0/task:0/device:GPU:0\n"
     ]
    },
    {
     "name": "stderr",
     "output_type": "stream",
     "text": [
      "2024-02-10 16:49:48.413055: I tensorflow/compiler/xla/stream_executor/cuda/cuda_gpu_executor.cc:995] successful NUMA node read from SysFS had negative value (-1), but there must be at least one NUMA node, so returning NUMA node zero. See more at https://github.com/torvalds/linux/blob/v6.0/Documentation/ABI/testing/sysfs-bus-pci#L344-L355\n",
      "2024-02-10 16:49:48.442269: I tensorflow/compiler/xla/stream_executor/cuda/cuda_gpu_executor.cc:995] successful NUMA node read from SysFS had negative value (-1), but there must be at least one NUMA node, so returning NUMA node zero. See more at https://github.com/torvalds/linux/blob/v6.0/Documentation/ABI/testing/sysfs-bus-pci#L344-L355\n",
      "2024-02-10 16:49:48.442531: I tensorflow/compiler/xla/stream_executor/cuda/cuda_gpu_executor.cc:995] successful NUMA node read from SysFS had negative value (-1), but there must be at least one NUMA node, so returning NUMA node zero. See more at https://github.com/torvalds/linux/blob/v6.0/Documentation/ABI/testing/sysfs-bus-pci#L344-L355\n",
      "2024-02-10 16:49:48.448432: I tensorflow/compiler/xla/stream_executor/cuda/cuda_gpu_executor.cc:995] successful NUMA node read from SysFS had negative value (-1), but there must be at least one NUMA node, so returning NUMA node zero. See more at https://github.com/torvalds/linux/blob/v6.0/Documentation/ABI/testing/sysfs-bus-pci#L344-L355\n",
      "2024-02-10 16:49:48.448642: I tensorflow/compiler/xla/stream_executor/cuda/cuda_gpu_executor.cc:995] successful NUMA node read from SysFS had negative value (-1), but there must be at least one NUMA node, so returning NUMA node zero. See more at https://github.com/torvalds/linux/blob/v6.0/Documentation/ABI/testing/sysfs-bus-pci#L344-L355\n",
      "2024-02-10 16:49:48.448797: I tensorflow/compiler/xla/stream_executor/cuda/cuda_gpu_executor.cc:995] successful NUMA node read from SysFS had negative value (-1), but there must be at least one NUMA node, so returning NUMA node zero. See more at https://github.com/torvalds/linux/blob/v6.0/Documentation/ABI/testing/sysfs-bus-pci#L344-L355\n",
      "2024-02-10 16:49:49.557154: I tensorflow/compiler/xla/stream_executor/cuda/cuda_gpu_executor.cc:995] successful NUMA node read from SysFS had negative value (-1), but there must be at least one NUMA node, so returning NUMA node zero. See more at https://github.com/torvalds/linux/blob/v6.0/Documentation/ABI/testing/sysfs-bus-pci#L344-L355\n",
      "2024-02-10 16:49:49.557547: I tensorflow/compiler/xla/stream_executor/cuda/cuda_gpu_executor.cc:995] successful NUMA node read from SysFS had negative value (-1), but there must be at least one NUMA node, so returning NUMA node zero. See more at https://github.com/torvalds/linux/blob/v6.0/Documentation/ABI/testing/sysfs-bus-pci#L344-L355\n",
      "2024-02-10 16:49:49.557737: I tensorflow/compiler/xla/stream_executor/cuda/cuda_gpu_executor.cc:995] successful NUMA node read from SysFS had negative value (-1), but there must be at least one NUMA node, so returning NUMA node zero. See more at https://github.com/torvalds/linux/blob/v6.0/Documentation/ABI/testing/sysfs-bus-pci#L344-L355\n",
      "2024-02-10 16:49:49.557911: I tensorflow/core/common_runtime/gpu/gpu_device.cc:1639] Created device /job:localhost/replica:0/task:0/device:GPU:0 with 295 MB memory:  -> device: 0, name: Tesla T4, pci bus id: 0000:00:07.0, compute capability: 7.5\n"
     ]
    }
   ],
   "source": [
    "import tensorflow as tf\n",
    "\n",
    "# Check GPUs available\n",
    "gpus = tf.config.list_physical_devices('GPU')\n",
    "print(f\"GPUs Available: {gpus}\")\n",
    "\n",
    "# Check if TensorFlow is currently executing eagerly (which means operations are executed as they are defined and is the default mode in TF 2.x)\n",
    "print(f\"Eager execution: {tf.executing_eagerly()}\")\n",
    "\n",
    "# If you have GPUs listed and eager execution is enabled, then operations should automatically run on the GPU if possible.\n",
    "# To test if TensorFlow will place tensors and operations on the GPU by default, you can create a simple operation and see where it is placed:\n",
    "if gpus:\n",
    "    with tf.device('/GPU:0'):\n",
    "        a = tf.constant([[1.0, 2.0, 3.0], [4.0, 5.0, 6.0]])\n",
    "        print(a.device)\n",
    "else:\n",
    "    print(\"No GPU found!\")"
   ]
  },
  {
   "cell_type": "code",
   "execution_count": 29,
   "id": "70452ce1-6a7c-4f03-b52c-9c5b88c8a16d",
   "metadata": {},
   "outputs": [],
   "source": [
    "# This is the list that will hold all of the data (data22 and MC)\n",
    "\n",
    "datasets = []\n",
    "pass_HLT = []\n",
    "tags = ['data', 'HHbbttHadHad', 'ZZ4lep', 'Ztautau', 'jjJZ4', 'jjJZ2', 'qqa']"
   ]
  },
  {
   "cell_type": "code",
   "execution_count": 30,
   "id": "4dc47606-52d7-4fe2-97f9-3f0c02ba8d2b",
   "metadata": {},
   "outputs": [],
   "source": [
    "# Read EB data22 file\n",
    "\n",
    "with h5py.File('../../../../ntuples/AOD_EB_ntuples_02-10-2024.h5', 'r') as hf:\n",
    "    jets = hf['HLT_jets'][:]\n",
    "    electrons = hf['electrons'][:]\n",
    "    LRT_electrons = hf['LRT_electrons'][:]\n",
    "    muons = hf['muons'][:]\n",
    "    LRT_muons = hf['LRT_muons'][:]\n",
    "    photons = hf['photons'][:]\n",
    "    MET = hf['MET'][:].reshape(-1, 1, 4)  # Broadcasting MET\n",
    "    pass_L1_unprescaled = hf[\"pass_L1_unprescaled\"][:]\n",
    "    pass_HLT_unprescaled = hf[\"pass_HLT_unprescaled\"][:]\n",
    "    EB_weights = hf[\"EB_weights\"][:]"
   ]
  },
  {
   "cell_type": "code",
   "execution_count": 31,
   "id": "f9c39723-8713-4f4f-b668-4bf61021f3db",
   "metadata": {},
   "outputs": [
    {
     "name": "stdout",
     "output_type": "stream",
     "text": [
      "(1019220, 10, 4)\n"
     ]
    }
   ],
   "source": [
    "print(jets.shape)"
   ]
  },
  {
   "cell_type": "code",
   "execution_count": 32,
   "id": "99292488-4061-432b-a040-85390555575d",
   "metadata": {},
   "outputs": [],
   "source": [
    "# Collect only events that passed any of our unprescaled L1 list, and concatenate. Remove E.\n",
    "\n",
    "pass_L1_idxs = (pass_L1_unprescaled == 1) # Indices of events that passed L1\n",
    "pass_HLT_unprescaled = pass_HLT_unprescaled[pass_L1_idxs]\n",
    "data = np.concatenate([jets[pass_L1_idxs], electrons[pass_L1_idxs], muons[pass_L1_idxs], photons[pass_L1_idxs], MET[pass_L1_idxs]], axis=1)\n",
    "weights = EB_weights[pass_L1_idxs]\n",
    "datasets.append(data[:, :, [0, 2, 3]])\n",
    "pass_HLT.append(pass_HLT_unprescaled)"
   ]
  },
  {
   "cell_type": "code",
   "execution_count": 33,
   "id": "d1499194-94d7-4c01-a58d-f9ccef5584ce",
   "metadata": {},
   "outputs": [],
   "source": [
    "# Read MC data. Remove E.\n",
    "\n",
    "filenames = ['HHbbttHadHad.h5', 'ZZ4lep.h5', 'Ztautau.h5', 'jjJZ4.h5', 'jjJZ2.h5', 'qqa.h5']\n",
    "data_path = '../../../../ntuples/MC_02-10-2024/'\n",
    "\n",
    "for filename in filenames:\n",
    "    with h5py.File(data_path+filename, 'r') as hf:\n",
    "        jets = hf['HLT_jets'][:]\n",
    "        electrons = hf['electrons'][:]\n",
    "        LRT_electrons = hf['LRT_electrons'][:]\n",
    "        muons = hf['muons'][:]\n",
    "        LRT_muons = hf['LRT_muons'][:]\n",
    "        photons = hf['photons'][:]\n",
    "        MET = hf['MET'][:].reshape(-1, 1, 4)  # Broadcasting MET\n",
    "        pass_HLT_unprescaled = hf['pass_HLT_unprescaled'][:]\n",
    "\n",
    "        combined_data = np.concatenate([jets, electrons, muons, photons, MET], axis=1)\n",
    "        datasets.append(combined_data[0:min(len(combined_data), 100000), :, [0, 2, 3]])\n",
    "        pass_HLT.append(pass_HLT_unprescaled)"
   ]
  },
  {
   "cell_type": "code",
   "execution_count": 34,
   "id": "01c1f898-4e32-4dc2-8ce9-bbbee5cf1f95",
   "metadata": {},
   "outputs": [],
   "source": [
    "\"\"\"Met bias. For some events, MET was not calculated, so was written as -999.\n",
    "We don't want this to impact training, so we map 0 --> 0.001 and -999 --> 0\"\"\"\n",
    "for i, data in enumerate(datasets):\n",
    "\n",
    "    # MET: 0 --> 0.001 and -999 --> 0 and nan --> 0\n",
    "    MET_zeros = (data[:, 19, 0] == 0) # indices where MET=0\n",
    "    MET_999 = ((data[:, 19, 0] == -999)) # indices where MET=-999 (not calculated)\n",
    "    MET_nan = np.isnan(data[:, 19, 2])\n",
    "    data[MET_zeros, 19, 0] = 0.001\n",
    "    data[MET_999, 19, :] = 0\n",
    "    data[MET_nan, 19, :] = 0"
   ]
  },
  {
   "cell_type": "code",
   "execution_count": 35,
   "id": "5645afa8-6daa-4c5a-9d37-a1ae0320b510",
   "metadata": {},
   "outputs": [],
   "source": [
    "\"\"\"Normalize pt \"\"\"\n",
    "for i, data in enumerate(datasets):\n",
    "    # sum of the pt and E in each event\n",
    "    sum_pt = np.sum(data[:, :, 0], axis=1, keepdims=True)\n",
    "\n",
    "    # If the sum is 0, set the sum to 1 to avoid division by 0\n",
    "    sum_pt[sum_pt == 0] = 1\n",
    "\n",
    "    # Divide pt and E by their respective sums\n",
    "    data[:, :, 0] /= sum_pt"
   ]
  },
  {
   "cell_type": "code",
   "execution_count": 36,
   "id": "42ae00ae-25b3-425f-89b2-a2ad99950050",
   "metadata": {},
   "outputs": [
    {
     "name": "stdout",
     "output_type": "stream",
     "text": [
      "data: (224294, 20, 3)\n",
      "HHbbttHadHad: (20000, 20, 3)\n",
      "ZZ4lep: (100000, 20, 3)\n",
      "Ztautau: (100000, 20, 3)\n",
      "jjJZ4: (100000, 20, 3)\n",
      "jjJZ2: (100000, 20, 3)\n",
      "qqa: (50000, 20, 3)\n"
     ]
    }
   ],
   "source": [
    "for i, dataset in enumerate(datasets):\n",
    "    print(f'{tags[i]}: {dataset.shape}')"
   ]
  },
  {
   "cell_type": "code",
   "execution_count": 37,
   "id": "0c983f31-0cd4-4d0f-8e59-5bb03af74729",
   "metadata": {},
   "outputs": [
    {
     "data": {
      "image/png": "[encoded data removed]",
      "text/plain": [
       "<Figure size 1008x576 with 1 Axes>"
      ]
     },
     "metadata": {
      "needs_background": "light"
     },
     "output_type": "display_data"
    }
   ],
   "source": [
    "# Plotting pt distribtions of the jets from each dataset\n",
    "\n",
    "plt.figure(figsize=(14, 8))\n",
    "plt.rcParams['axes.linewidth'] = 2.4\n",
    "bins = np.linspace(0, 2000, 35)\n",
    "#bins=50\n",
    "\n",
    "for i, tag in enumerate(tags):\n",
    "    pt = datasets[i][:, 0, 0]\n",
    "    nonzero_pt = pt[pt > 0]\n",
    "\n",
    "    if i==0:\n",
    "        nonzero_weights = weights[pt > 0]\n",
    "        plt.hist(nonzero_pt, bins=bins, label=tag, histtype='step', density=True, fill=False, linewidth=3, weights=nonzero_weights)\n",
    "    else:\n",
    "        plt.hist(nonzero_pt, bins=bins, label=tag, histtype='step', density=True, fill=False, linewidth=3)\n",
    "\n",
    "plt.yscale('log')\n",
    "plt.xlabel('jet pt', fontsize=22)\n",
    "plt.ylabel('density', fontsize=22)\n",
    "plt.title('Leading Jet PT', fontsize=30)\n",
    "plt.grid()\n",
    "plt.legend(fontsize=18)\n",
    "plt.show()"
   ]
  },
  {
   "cell_type": "code",
   "execution_count": 38,
   "id": "8c193dca-2249-4ec8-961a-d8d01d2b60f8",
   "metadata": {},
   "outputs": [
    {
     "name": "stdout",
     "output_type": "stream",
     "text": [
      "data: (224294, 60)\n",
      "HHbbttHadHad: (20000, 60)\n",
      "ZZ4lep: (100000, 60)\n",
      "Ztautau: (100000, 60)\n",
      "jjJZ4: (100000, 60)\n",
      "jjJZ2: (100000, 60)\n",
      "qqa: (50000, 60)\n"
     ]
    }
   ],
   "source": [
    "# Flatten ndarrays for use in DNN\n",
    "\n",
    "for i, data in enumerate(datasets):\n",
    "    datasets[i] = np.reshape(data, newshape=(-1, 60))\n",
    "\n",
    "for i, data in enumerate(datasets):\n",
    "    print(f'{tags[i]}: {data.shape}')"
   ]
  },
  {
   "cell_type": "code",
   "execution_count": 39,
   "id": "326b9956-935e-49bf-a0e6-5807a43df091",
   "metadata": {},
   "outputs": [],
   "source": [
    "def create_AE(input_dim, h_dim_1, h_dim_2, latent_dim):\n",
    "    # Encoder\n",
    "    inputs = layers.Input(shape=(input_dim,))\n",
    "    x = layers.Dense(h_dim_1, activation='relu')(inputs)\n",
    "    x = layers.Dense(h_dim_2, activation='tanh')(x)\n",
    "    z = layers.Dense(latent_dim, activation='tanh')(x)\n",
    "\n",
    "    # Decoder\n",
    "    x = layers.Dense(h_dim_2, activation='tanh')(z)\n",
    "    x = layers.Dense(h_dim_1, activation='relu')(z)\n",
    "    outputs = layers.Dense(input_dim)(x)\n",
    "\n",
    "    model = Model(inputs=inputs, outputs=outputs)\n",
    "    return model"
   ]
  },
  {
   "cell_type": "code",
   "execution_count": 40,
   "id": "ecb27501-5a79-4a19-8a23-63c19bc1cbcf",
   "metadata": {},
   "outputs": [],
   "source": [
    "def loss_fn(y_true, y_pred):\n",
    "    \"\"\"masked mse\"\"\"\n",
    "    mask0 = K.cast(K.not_equal(y_true, 0), K.floatx())\n",
    "    maskMET = K.cast(K.not_equal(y_true, -999), K.floatx())\n",
    "    mask = mask0 * maskMET\n",
    "    squared_difference = K.square(mask * (y_pred - y_true))\n",
    "    return K.mean(squared_difference)"
   ]
  },
  {
   "cell_type": "code",
   "execution_count": 41,
   "id": "f9c12ce5-6e25-4e5b-a845-97cc026b8447",
   "metadata": {},
   "outputs": [
    {
     "name": "stdout",
     "output_type": "stream",
     "text": [
      "X_train: (134576, 60)\n",
      "X_val: (44859, 60)\n",
      "X_test: (44859, 60)\n"
     ]
    }
   ],
   "source": [
    "# Make train, test, val splits\n",
    "\n",
    "TRAIN_SIZE = 0.6\n",
    "VAL_SIZE = 0.2\n",
    "TEST_SIZE = 0.2\n",
    "\n",
    "X_train, X_, weights_train, weights_, pass_HLT_train, pass_HLT_ = train_test_split(datasets[0], weights, pass_HLT[0], train_size=TRAIN_SIZE)\n",
    "X_val, X_test, weights_val, weights_test, pass_HLT_val, pass_HLT_test = train_test_split(X_, weights_, pass_HLT_, train_size=0.5)\n",
    "\n",
    "print(f'X_train: {X_train.shape}')\n",
    "print(f'X_val: {X_val.shape}')\n",
    "print(f'X_test: {X_test.shape}')"
   ]
  },
  {
   "cell_type": "code",
   "execution_count": 42,
   "id": "4b77099d-5ad9-40f0-93a5-6401df2cfa67",
   "metadata": {},
   "outputs": [
    {
     "name": "stdout",
     "output_type": "stream",
     "text": [
      "Model: \"model_1\"\n",
      "_________________________________________________________________\n",
      " Layer (type)                Output Shape              Param #   \n",
      "=================================================================\n",
      " input_2 (InputLayer)        [(None, 60)]              0         \n",
      "                                                                 \n",
      " dense_6 (Dense)             (None, 32)                1952      \n",
      "                                                                 \n",
      " dense_7 (Dense)             (None, 8)                 264       \n",
      "                                                                 \n",
      " dense_8 (Dense)             (None, 3)                 27        \n",
      "                                                                 \n",
      " dense_10 (Dense)            (None, 32)                128       \n",
      "                                                                 \n",
      " dense_11 (Dense)            (None, 60)                1980      \n",
      "                                                                 \n",
      "=================================================================\n",
      "Total params: 4351 (17.00 KB)\n",
      "Trainable params: 4351 (17.00 KB)\n",
      "Non-trainable params: 0 (0.00 Byte)\n",
      "_________________________________________________________________\n"
     ]
    }
   ],
   "source": [
    "# Initialize model\n",
    "INPUT_DIM = X_train.shape[1]\n",
    "H_DIM_1 = 32\n",
    "H_DIM_2 = 8\n",
    "LATENT_DIM = 3\n",
    "DNN_AE = create_AE(input_dim=INPUT_DIM, h_dim_1=H_DIM_1, h_dim_2=H_DIM_2, latent_dim=LATENT_DIM)\n",
    "DNN_AE.summary()"
   ]
  },
  {
   "cell_type": "code",
   "execution_count": 43,
   "id": "ec38be7f-05f7-49c6-bef7-c7954714cac2",
   "metadata": {},
   "outputs": [],
   "source": [
    "DNN_AE.compile(optimizer='adam', loss=loss_fn)"
   ]
  },
  {
   "cell_type": "code",
   "execution_count": 44,
   "id": "07d15e17-fc19-4da1-9a96-a8e309627cac",
   "metadata": {},
   "outputs": [],
   "source": [
    "# Define callbacks: early stopping and learning rate scheduler\n",
    "\n",
    "STOP_PATIENCE = 8\n",
    "LR_PATIENCE = 4\n",
    "\n",
    "early_stopping = EarlyStopping(patience=STOP_PATIENCE, restore_best_weights=True)\n",
    "reduce_lr = ReduceLROnPlateau(monitor='val_loss', factor=0.1, patience=LR_PATIENCE, verbose=1)\n",
    "\n",
    "callbacks = [early_stopping, reduce_lr]"
   ]
  },
  {
   "cell_type": "code",
   "execution_count": 45,
   "id": "28c1676f-f08b-4a24-8e98-c3bb4adb55b6",
   "metadata": {},
   "outputs": [],
   "source": [
    "NUM_EPOCHS = 100\n",
    "BATCH_SIZE = 1024"
   ]
  },
  {
   "cell_type": "code",
   "execution_count": 46,
   "id": "f458f54d-fbef-4f9f-9402-b68886bc3058",
   "metadata": {},
   "outputs": [
    {
     "name": "stdout",
     "output_type": "stream",
     "text": [
      "Epoch 1/100\n",
      "132/132 [==============================] - 2s 6ms/step - loss: 1.3506 - val_loss: 1.2530 - lr: 0.0010\n",
      "Epoch 2/100\n",
      "132/132 [==============================] - 1s 5ms/step - loss: 1.2088 - val_loss: 1.1739 - lr: 0.0010\n",
      "Epoch 3/100\n",
      "132/132 [==============================] - 1s 4ms/step - loss: 1.1596 - val_loss: 1.1455 - lr: 0.0010\n",
      "Epoch 4/100\n",
      "132/132 [==============================] - 1s 4ms/step - loss: 1.1423 - val_loss: 1.1357 - lr: 0.0010\n",
      "Epoch 5/100\n",
      "132/132 [==============================] - 1s 4ms/step - loss: 1.1357 - val_loss: 1.1312 - lr: 0.0010\n",
      "Epoch 6/100\n",
      "132/132 [==============================] - 1s 4ms/step - loss: 1.1321 - val_loss: 1.1282 - lr: 0.0010\n",
      "Epoch 7/100\n",
      "132/132 [==============================] - 1s 4ms/step - loss: 1.1292 - val_loss: 1.1250 - lr: 0.0010\n",
      "Epoch 8/100\n",
      "132/132 [==============================] - 1s 4ms/step - loss: 1.1250 - val_loss: 1.1192 - lr: 0.0010\n",
      "Epoch 9/100\n",
      "132/132 [==============================] - 1s 4ms/step - loss: 1.1167 - val_loss: 1.1083 - lr: 0.0010\n",
      "Epoch 10/100\n",
      "132/132 [==============================] - 1s 4ms/step - loss: 1.1046 - val_loss: 1.0961 - lr: 0.0010\n",
      "Epoch 11/100\n",
      "132/132 [==============================] - 1s 5ms/step - loss: 1.0939 - val_loss: 1.0872 - lr: 0.0010\n",
      "Epoch 12/100\n",
      "132/132 [==============================] - 1s 4ms/step - loss: 1.0869 - val_loss: 1.0819 - lr: 0.0010\n",
      "Epoch 13/100\n",
      "132/132 [==============================] - 1s 4ms/step - loss: 1.0827 - val_loss: 1.0788 - lr: 0.0010\n",
      "Epoch 14/100\n",
      "132/132 [==============================] - 1s 4ms/step - loss: 1.0796 - val_loss: 1.0760 - lr: 0.0010\n",
      "Epoch 15/100\n",
      "132/132 [==============================] - 1s 4ms/step - loss: 1.0771 - val_loss: 1.0741 - lr: 0.0010\n",
      "Epoch 16/100\n",
      "132/132 [==============================] - 1s 4ms/step - loss: 1.0749 - val_loss: 1.0721 - lr: 0.0010\n",
      "Epoch 17/100\n",
      "132/132 [==============================] - 1s 4ms/step - loss: 1.0730 - val_loss: 1.0701 - lr: 0.0010\n",
      "Epoch 18/100\n",
      "132/132 [==============================] - 1s 4ms/step - loss: 1.0711 - val_loss: 1.0682 - lr: 0.0010\n",
      "Epoch 19/100\n",
      "132/132 [==============================] - 1s 4ms/step - loss: 1.0690 - val_loss: 1.0660 - lr: 0.0010\n",
      "Epoch 20/100\n",
      "132/132 [==============================] - 1s 4ms/step - loss: 1.0660 - val_loss: 1.0630 - lr: 0.0010\n",
      "Epoch 21/100\n",
      "132/132 [==============================] - 1s 4ms/step - loss: 1.0629 - val_loss: 1.0592 - lr: 0.0010\n",
      "Epoch 22/100\n",
      "132/132 [==============================] - 1s 4ms/step - loss: 1.0588 - val_loss: 1.0548 - lr: 0.0010\n",
      "Epoch 23/100\n",
      "132/132 [==============================] - 1s 4ms/step - loss: 1.0539 - val_loss: 1.0493 - lr: 0.0010\n",
      "Epoch 24/100\n",
      "132/132 [==============================] - 1s 4ms/step - loss: 1.0486 - val_loss: 1.0444 - lr: 0.0010\n",
      "Epoch 25/100\n",
      "132/132 [==============================] - 1s 4ms/step - loss: 1.0442 - val_loss: 1.0408 - lr: 0.0010\n",
      "Epoch 26/100\n",
      "132/132 [==============================] - 1s 4ms/step - loss: 1.0408 - val_loss: 1.0370 - lr: 0.0010\n",
      "Epoch 27/100\n",
      "132/132 [==============================] - 1s 4ms/step - loss: 1.0379 - val_loss: 1.0343 - lr: 0.0010\n",
      "Epoch 28/100\n",
      "132/132 [==============================] - 1s 4ms/step - loss: 1.0356 - val_loss: 1.0320 - lr: 0.0010\n",
      "Epoch 29/100\n",
      "132/132 [==============================] - 1s 5ms/step - loss: 1.0338 - val_loss: 1.0309 - lr: 0.0010\n",
      "Epoch 30/100\n",
      "132/132 [==============================] - 1s 4ms/step - loss: 1.0323 - val_loss: 1.0292 - lr: 0.0010\n",
      "Epoch 31/100\n",
      "132/132 [==============================] - 1s 4ms/step - loss: 1.0312 - val_loss: 1.0279 - lr: 0.0010\n",
      "Epoch 32/100\n",
      "132/132 [==============================] - 1s 4ms/step - loss: 1.0302 - val_loss: 1.0269 - lr: 0.0010\n",
      "Epoch 33/100\n",
      "132/132 [==============================] - 1s 4ms/step - loss: 1.0291 - val_loss: 1.0257 - lr: 0.0010\n",
      "Epoch 34/100\n",
      "132/132 [==============================] - 1s 4ms/step - loss: 1.0281 - val_loss: 1.0251 - lr: 0.0010\n",
      "Epoch 35/100\n",
      "132/132 [==============================] - 1s 4ms/step - loss: 1.0272 - val_loss: 1.0241 - lr: 0.0010\n",
      "Epoch 36/100\n",
      "132/132 [==============================] - 1s 4ms/step - loss: 1.0265 - val_loss: 1.0237 - lr: 0.0010\n",
      "Epoch 37/100\n",
      "132/132 [==============================] - 1s 4ms/step - loss: 1.0257 - val_loss: 1.0235 - lr: 0.0010\n",
      "Epoch 38/100\n",
      "132/132 [==============================] - 1s 4ms/step - loss: 1.0249 - val_loss: 1.0224 - lr: 0.0010\n",
      "Epoch 39/100\n",
      "132/132 [==============================] - 1s 5ms/step - loss: 1.0244 - val_loss: 1.0217 - lr: 0.0010\n",
      "Epoch 40/100\n",
      "132/132 [==============================] - 1s 4ms/step - loss: 1.0237 - val_loss: 1.0210 - lr: 0.0010\n",
      "Epoch 41/100\n",
      "132/132 [==============================] - 1s 4ms/step - loss: 1.0233 - val_loss: 1.0206 - lr: 0.0010\n",
      "Epoch 42/100\n",
      "132/132 [==============================] - 1s 4ms/step - loss: 1.0228 - val_loss: 1.0199 - lr: 0.0010\n",
      "Epoch 43/100\n",
      "132/132 [==============================] - 1s 4ms/step - loss: 1.0224 - val_loss: 1.0198 - lr: 0.0010\n",
      "Epoch 44/100\n",
      "132/132 [==============================] - 1s 4ms/step - loss: 1.0221 - val_loss: 1.0194 - lr: 0.0010\n",
      "Epoch 45/100\n",
      "132/132 [==============================] - 1s 4ms/step - loss: 1.0215 - val_loss: 1.0194 - lr: 0.0010\n",
      "Epoch 46/100\n",
      "132/132 [==============================] - 1s 4ms/step - loss: 1.0212 - val_loss: 1.0190 - lr: 0.0010\n",
      "Epoch 47/100\n",
      "132/132 [==============================] - 1s 4ms/step - loss: 1.0208 - val_loss: 1.0186 - lr: 0.0010\n",
      "Epoch 48/100\n",
      "132/132 [==============================] - 1s 5ms/step - loss: 1.0202 - val_loss: 1.0183 - lr: 0.0010\n",
      "Epoch 49/100\n",
      "132/132 [==============================] - 1s 4ms/step - loss: 1.0200 - val_loss: 1.0180 - lr: 0.0010\n",
      "Epoch 50/100\n",
      "132/132 [==============================] - 1s 4ms/step - loss: 1.0196 - val_loss: 1.0176 - lr: 0.0010\n",
      "Epoch 51/100\n",
      "132/132 [==============================] - 1s 4ms/step - loss: 1.0194 - val_loss: 1.0178 - lr: 0.0010\n",
      "Epoch 52/100\n",
      "132/132 [==============================] - 1s 4ms/step - loss: 1.0193 - val_loss: 1.0170 - lr: 0.0010\n",
      "Epoch 53/100\n",
      "132/132 [==============================] - 1s 4ms/step - loss: 1.0191 - val_loss: 1.0169 - lr: 0.0010\n",
      "Epoch 54/100\n",
      "132/132 [==============================] - 1s 4ms/step - loss: 1.0187 - val_loss: 1.0166 - lr: 0.0010\n",
      "Epoch 55/100\n",
      "132/132 [==============================] - 1s 4ms/step - loss: 1.0184 - val_loss: 1.0159 - lr: 0.0010\n",
      "Epoch 56/100\n",
      "132/132 [==============================] - 1s 4ms/step - loss: 1.0184 - val_loss: 1.0161 - lr: 0.0010\n",
      "Epoch 57/100\n",
      "132/132 [==============================] - 1s 5ms/step - loss: 1.0181 - val_loss: 1.0158 - lr: 0.0010\n",
      "Epoch 58/100\n",
      "132/132 [==============================] - 1s 4ms/step - loss: 1.0177 - val_loss: 1.0156 - lr: 0.0010\n",
      "Epoch 59/100\n",
      "132/132 [==============================] - 1s 4ms/step - loss: 1.0175 - val_loss: 1.0157 - lr: 0.0010\n",
      "Epoch 60/100\n",
      "132/132 [==============================] - 1s 4ms/step - loss: 1.0172 - val_loss: 1.0153 - lr: 0.0010\n",
      "Epoch 61/100\n",
      "132/132 [==============================] - 1s 4ms/step - loss: 1.0171 - val_loss: 1.0153 - lr: 0.0010\n",
      "Epoch 62/100\n",
      "132/132 [==============================] - 1s 4ms/step - loss: 1.0170 - val_loss: 1.0148 - lr: 0.0010\n",
      "Epoch 63/100\n",
      "132/132 [==============================] - 1s 4ms/step - loss: 1.0168 - val_loss: 1.0144 - lr: 0.0010\n",
      "Epoch 64/100\n",
      "132/132 [==============================] - 1s 4ms/step - loss: 1.0163 - val_loss: 1.0140 - lr: 0.0010\n",
      "Epoch 65/100\n",
      "132/132 [==============================] - 1s 4ms/step - loss: 1.0165 - val_loss: 1.0143 - lr: 0.0010\n",
      "Epoch 66/100\n",
      "132/132 [==============================] - 1s 4ms/step - loss: 1.0162 - val_loss: 1.0139 - lr: 0.0010\n",
      "Epoch 67/100\n",
      "132/132 [==============================] - 1s 4ms/step - loss: 1.0160 - val_loss: 1.0137 - lr: 0.0010\n",
      "Epoch 68/100\n",
      "132/132 [==============================] - 1s 4ms/step - loss: 1.0159 - val_loss: 1.0137 - lr: 0.0010\n",
      "Epoch 69/100\n",
      "132/132 [==============================] - 1s 4ms/step - loss: 1.0158 - val_loss: 1.0135 - lr: 0.0010\n",
      "Epoch 70/100\n",
      "132/132 [==============================] - 1s 4ms/step - loss: 1.0156 - val_loss: 1.0130 - lr: 0.0010\n",
      "Epoch 71/100\n",
      "132/132 [==============================] - 1s 4ms/step - loss: 1.0154 - val_loss: 1.0127 - lr: 0.0010\n",
      "Epoch 72/100\n",
      "132/132 [==============================] - 1s 4ms/step - loss: 1.0154 - val_loss: 1.0130 - lr: 0.0010\n",
      "Epoch 73/100\n",
      "132/132 [==============================] - 1s 4ms/step - loss: 1.0152 - val_loss: 1.0124 - lr: 0.0010\n",
      "Epoch 74/100\n",
      "132/132 [==============================] - 1s 4ms/step - loss: 1.0148 - val_loss: 1.0124 - lr: 0.0010\n",
      "Epoch 75/100\n",
      "132/132 [==============================] - 1s 4ms/step - loss: 1.0150 - val_loss: 1.0123 - lr: 0.0010\n",
      "Epoch 76/100\n",
      "132/132 [==============================] - 1s 5ms/step - loss: 1.0146 - val_loss: 1.0119 - lr: 0.0010\n",
      "Epoch 77/100\n",
      "132/132 [==============================] - 1s 4ms/step - loss: 1.0142 - val_loss: 1.0119 - lr: 0.0010\n",
      "Epoch 78/100\n",
      "132/132 [==============================] - 1s 4ms/step - loss: 1.0142 - val_loss: 1.0117 - lr: 0.0010\n",
      "Epoch 79/100\n",
      "132/132 [==============================] - 1s 4ms/step - loss: 1.0140 - val_loss: 1.0116 - lr: 0.0010\n",
      "Epoch 80/100\n",
      "132/132 [==============================] - 1s 4ms/step - loss: 1.0138 - val_loss: 1.0113 - lr: 0.0010\n",
      "Epoch 81/100\n",
      "132/132 [==============================] - 1s 4ms/step - loss: 1.0137 - val_loss: 1.0113 - lr: 0.0010\n",
      "Epoch 82/100\n",
      "132/132 [==============================] - 1s 4ms/step - loss: 1.0137 - val_loss: 1.0110 - lr: 0.0010\n",
      "Epoch 83/100\n",
      "132/132 [==============================] - 1s 4ms/step - loss: 1.0136 - val_loss: 1.0112 - lr: 0.0010\n",
      "Epoch 84/100\n",
      "132/132 [==============================] - 1s 4ms/step - loss: 1.0133 - val_loss: 1.0114 - lr: 0.0010\n",
      "Epoch 85/100\n",
      "132/132 [==============================] - 1s 5ms/step - loss: 1.0133 - val_loss: 1.0110 - lr: 0.0010\n",
      "Epoch 86/100\n",
      "132/132 [==============================] - 1s 4ms/step - loss: 1.0130 - val_loss: 1.0107 - lr: 0.0010\n",
      "Epoch 87/100\n",
      "132/132 [==============================] - 1s 4ms/step - loss: 1.0129 - val_loss: 1.0106 - lr: 0.0010\n",
      "Epoch 88/100\n",
      "132/132 [==============================] - 1s 4ms/step - loss: 1.0127 - val_loss: 1.0113 - lr: 0.0010\n",
      "Epoch 89/100\n",
      "132/132 [==============================] - 1s 4ms/step - loss: 1.0127 - val_loss: 1.0108 - lr: 0.0010\n",
      "Epoch 90/100\n",
      "132/132 [==============================] - 1s 4ms/step - loss: 1.0126 - val_loss: 1.0103 - lr: 0.0010\n",
      "Epoch 91/100\n",
      "132/132 [==============================] - 1s 4ms/step - loss: 1.0125 - val_loss: 1.0102 - lr: 0.0010\n",
      "Epoch 92/100\n",
      "132/132 [==============================] - 1s 4ms/step - loss: 1.0120 - val_loss: 1.0097 - lr: 0.0010\n",
      "Epoch 93/100\n",
      "132/132 [==============================] - 1s 4ms/step - loss: 1.0121 - val_loss: 1.0102 - lr: 0.0010\n",
      "Epoch 94/100\n",
      "132/132 [==============================] - 1s 5ms/step - loss: 1.0118 - val_loss: 1.0097 - lr: 0.0010\n",
      "Epoch 95/100\n",
      "132/132 [==============================] - 1s 4ms/step - loss: 1.0120 - val_loss: 1.0100 - lr: 0.0010\n",
      "Epoch 96/100\n",
      "131/132 [============================>.] - ETA: 0s - loss: 1.0121\n",
      "Epoch 96: ReduceLROnPlateau reducing learning rate to 0.00010000000474974513.\n",
      "132/132 [==============================] - 1s 4ms/step - loss: 1.0120 - val_loss: 1.0101 - lr: 0.0010\n",
      "Epoch 97/100\n",
      "132/132 [==============================] - 1s 4ms/step - loss: 1.0111 - val_loss: 1.0091 - lr: 1.0000e-04\n",
      "Epoch 98/100\n",
      "132/132 [==============================] - 1s 4ms/step - loss: 1.0107 - val_loss: 1.0089 - lr: 1.0000e-04\n",
      "Epoch 99/100\n",
      "132/132 [==============================] - 1s 4ms/step - loss: 1.0105 - val_loss: 1.0088 - lr: 1.0000e-04\n",
      "Epoch 100/100\n",
      "132/132 [==============================] - 1s 4ms/step - loss: 1.0104 - val_loss: 1.0087 - lr: 1.0000e-04\n"
     ]
    }
   ],
   "source": [
    "history = DNN_AE.fit(x=X_train, y=X_train, validation_data=(X_val, X_val), epochs=NUM_EPOCHS, batch_size=BATCH_SIZE, callbacks=callbacks)"
   ]
  },
  {
   "cell_type": "code",
   "execution_count": 47,
   "id": "2a117b31-42e7-44d0-bd42-75964365d17d",
   "metadata": {},
   "outputs": [
    {
     "name": "stdout",
     "output_type": "stream",
     "text": [
      "1402/1402 [==============================] - 2s 1ms/step\n",
      "625/625 [==============================] - 1s 1ms/step\n",
      "3125/3125 [==============================] - 4s 1ms/step\n",
      "3125/3125 [==============================] - 4s 1ms/step\n",
      "3125/3125 [==============================] - 4s 1ms/step\n",
      "3125/3125 [==============================] - 4s 1ms/step\n",
      "1563/1563 [==============================] - 2s 1ms/step\n"
     ]
    }
   ],
   "source": [
    "predictions = []\n",
    "y_true = []\n",
    "\n",
    "\n",
    "predictions.append(DNN_AE.predict(X_test))\n",
    "y_true.append(X_test)\n",
    "\n",
    "for i, data in enumerate(datasets):\n",
    "    if i==0: continue\n",
    "\n",
    "    y_true.append(data)\n",
    "    predictions.append(DNN_AE.predict(data))"
   ]
  },
  {
   "cell_type": "code",
   "execution_count": 48,
   "id": "710a3fe9-e2ff-44fc-b4b2-6522aac63a3c",
   "metadata": {},
   "outputs": [],
   "source": [
    "def mse_loss(true, prediction):\n",
    "    loss = np.mean(np.square(true - prediction), axis=-1)\n",
    "    return loss"
   ]
  },
  {
   "cell_type": "code",
   "execution_count": 49,
   "id": "86b88ec6-06c8-47dd-bfad-51ac0b4a0010",
   "metadata": {},
   "outputs": [],
   "source": [
    "def AD_score(y, x):\n",
    "    # masked mse\n",
    "    mask = (y != 0) & (y != -999)\n",
    "    _x = x * mask\n",
    "    _y = y * mask\n",
    "    return (mse_loss(_y, _x))"
   ]
  },
  {
   "cell_type": "code",
   "execution_count": 50,
   "id": "dae330a7-9556-4dbf-a5b8-289c94f4460d",
   "metadata": {},
   "outputs": [],
   "source": [
    "total_loss = []\n",
    "\n",
    "for i, prediction in enumerate(predictions):\n",
    "    total_loss.append(AD_score(y_true[i], prediction))"
   ]
  },
  {
   "cell_type": "code",
   "execution_count": 51,
   "id": "f0112a35-6e4a-4c4d-8890-1b94d5c7b758",
   "metadata": {},
   "outputs": [
    {
     "data": {
      "text/plain": [
       "<Figure size 1296x720 with 0 Axes>"
      ]
     },
     "metadata": {},
     "output_type": "display_data"
    },
    {
     "data": {
      "image/png": "[encoded data removed]",
      "text/plain": [
       "<Figure size 720x576 with 1 Axes>"
      ]
     },
     "metadata": {
      "needs_background": "light"
     },
     "output_type": "display_data"
    }
   ],
   "source": [
    "plt.figure(figsize=(18, 10))\n",
    "plt.rcParams['axes.linewidth'] = 2.4\n",
    "\n",
    "#bins = np.linspace(0, 50000, num=30)\n",
    "bins=30\n",
    "plt.figure(figsize=(10,8))\n",
    "for i, tag in enumerate(tags):\n",
    "    if i==0:\n",
    "        plt.hist(total_loss[i], bins=bins, label=tag, density = True, histtype='step', fill=False, linewidth=2.3, weights=weights_test)\n",
    "    else:\n",
    "        plt.hist(total_loss[i], bins=bins, label=tag, density = True, histtype='step', fill=False, linewidth=2.3)\n",
    "\n",
    "\n",
    "plt.yscale('log')\n",
    "plt.xlabel(\"Autoencoder Loss\", fontsize=16)\n",
    "plt.ylabel(\"Density (a.u.)\", fontsize=16)\n",
    "plt.title('MSE loss', fontsize=20)\n",
    "plt.legend(loc='best', fontsize=14)\n",
    "plt.grid()\n",
    "#plt.xlim(0, 0.2 * pow(10, 6))\n",
    "plt.show()"
   ]
  },
  {
   "cell_type": "code",
   "execution_count": 52,
   "id": "f3b019e6-2409-4676-9355-b4a407f1244a",
   "metadata": {},
   "outputs": [
    {
     "name": "stdout",
     "output_type": "stream",
     "text": [
      "data: TPR at FPR of 10^-4 is 0.0001 with threshold 3.1861\n"
     ]
    },
    {
     "data": {
      "image/png": "[encoded data removed]",
      "text/plain": [
       "<Figure size 720x576 with 1 Axes>"
      ]
     },
     "metadata": {
      "needs_background": "light"
     },
     "output_type": "display_data"
    }
   ],
   "source": [
    "target_background = np.zeros(total_loss[0].shape[0])\n",
    "\n",
    "plt.figure(figsize=(10,8))\n",
    "\n",
    "for i, label in enumerate(tags):\n",
    "    # Combine true labels, anomaly=1 and background=0\n",
    "    trueVal = np.concatenate((np.ones(total_loss[i].shape[0]), target_background))\n",
    "    \n",
    "    # Combine predictions from current dataset and background\n",
    "    predVal_loss = np.concatenate((total_loss[i], total_loss[0]))\n",
    "    \n",
    "    # Include weights for the EB data and assign no weight (or equal weight) for the other dataset\n",
    "    if i == 0:  # For the EB data\n",
    "        sample_weights = np.concatenate((weights_test, np.ones_like(target_background)))\n",
    "    else:  # For the MC datasets, assume equal weight\n",
    "        sample_weights = np.concatenate((np.ones(total_loss[i].shape[0]), np.ones_like(target_background)))\n",
    "\n",
    "    # Calculate ROC curve and AUC, including weights\n",
    "    fpr_loss, tpr_loss, threshold_loss = roc_curve(y_true=trueVal, y_score=predVal_loss, sample_weight=sample_weights)\n",
    "    auc_loss = auc(fpr_loss, tpr_loss)\n",
    "\n",
    "    # Plot ROC curve\n",
    "    plt.plot(fpr_loss, tpr_loss, \"-\", label='%s (auc = %.1f%%)' % (label, auc_loss*100.), linewidth=1.5)\n",
    "\n",
    "    # Find index where FPR is closest to 10^-4 and print TPR and threshold for that index\n",
    "    if i ==0: \n",
    "        target_fpr = 10**-4\n",
    "        idx = np.argmin(np.abs(fpr_loss - target_fpr))\n",
    "        print(f\"{label}: TPR at FPR of 10^-4 is {tpr_loss[idx]:.4f} with threshold {threshold_loss[idx]:.4f}\")\n",
    "        threshold = threshold_loss[idx]\n",
    "\n",
    "# Set log scale for x and y axis\n",
    "plt.semilogx()\n",
    "plt.semilogy()\n",
    "\n",
    "# Plot aesthetics and layout\n",
    "plt.ylabel(\"True Positive Rate\")\n",
    "plt.xlabel(\"False Positive Rate\")\n",
    "plt.legend(loc='center right')\n",
    "plt.grid(True)\n",
    "plt.tight_layout()\n",
    "\n",
    "# Additional plot elements\n",
    "plt.plot(np.linspace(0, 1), np.linspace(0, 1), '--', color='0.75')\n",
    "plt.axvline(0.0001, color='red', linestyle='dashed', linewidth=1)  # Threshold value\n",
    "plt.title(\"ROC AE\")\n",
    "plt.show()"
   ]
  },
  {
   "cell_type": "code",
   "execution_count": 53,
   "id": "7b166422-46c5-400e-a056-6aa337ee6fe4",
   "metadata": {},
   "outputs": [
    {
     "name": "stdout",
     "output_type": "stream",
     "text": [
      "-----\n",
      "data:\n",
      "HLT overlap: 0.3333333333333333\n",
      "percentage of events that passed some HLT trigger: 0.03205599768162465\n",
      "percentage of events that we tagged as anomalous: 6.687621213134488e-05\n",
      "number of events that we tagged as anomalous: 3\n",
      "-----\n",
      "HHbbttHadHad:\n",
      "HLT overlap: 0.6363636363636364\n",
      "percentage of events that passed some HLT trigger: 0.03205599768162465\n",
      "percentage of events that we tagged as anomalous: 0.00055\n",
      "number of events that we tagged as anomalous: 11\n",
      "-----\n",
      "ZZ4lep:\n",
      "HLT overlap: 0.9555555555555556\n",
      "percentage of events that passed some HLT trigger: 0.03205599768162465\n",
      "percentage of events that we tagged as anomalous: 0.00045\n",
      "number of events that we tagged as anomalous: 45\n",
      "-----\n",
      "Ztautau:\n",
      "HLT overlap: 0.25\n",
      "percentage of events that passed some HLT trigger: 0.03205599768162465\n",
      "percentage of events that we tagged as anomalous: 8e-05\n",
      "number of events that we tagged as anomalous: 8\n",
      "-----\n",
      "jjJZ4:\n",
      "HLT overlap: 0.9166666666666666\n",
      "percentage of events that passed some HLT trigger: 0.03205599768162465\n",
      "percentage of events that we tagged as anomalous: 0.00012\n",
      "number of events that we tagged as anomalous: 12\n",
      "-----\n",
      "jjJZ2:\n",
      "HLT overlap: 0.0\n",
      "percentage of events that passed some HLT trigger: 0.03205599768162465\n",
      "percentage of events that we tagged as anomalous: 0.00013\n",
      "number of events that we tagged as anomalous: 13\n",
      "-----\n",
      "qqa:\n",
      "HLT overlap: 0.3333333333333333\n",
      "percentage of events that passed some HLT trigger: 0.03205599768162465\n",
      "percentage of events that we tagged as anomalous: 6e-05\n",
      "number of events that we tagged as anomalous: 3\n"
     ]
    }
   ],
   "source": [
    "\"\"\"Print the HLT overlap (the percentage of events we found as anomalous that\n",
    "are already being triggered by the HLT)\"\"\"\n",
    "\n",
    "for i, tag in enumerate(tags):\n",
    "    anomaly_idxs = (total_loss[i] > threshold)\n",
    "    HLT_overlap = 0\n",
    "\n",
    "    if i ==0:\n",
    "        for a, h in zip(anomaly_idxs, pass_HLT_test):\n",
    "            if a==1 and h==1:\n",
    "                HLT_overlap += 1\n",
    "        HLT_overlap /= np.sum(anomaly_idxs)\n",
    "    else:\n",
    "        for a, h in zip(anomaly_idxs, pass_HLT[i]):\n",
    "            if a==1 and h==1:\n",
    "                HLT_overlap += 1\n",
    "        HLT_overlap /= np.sum(anomaly_idxs)\n",
    "\n",
    "    print(f'-----\\n{tag}:')\n",
    "    print(f'HLT overlap: {HLT_overlap}')\n",
    "    print(f'percentage of events that passed some HLT trigger: {np.sum(pass_HLT_test) / len(pass_HLT_test)}')\n",
    "    print(f'percentage of events that we tagged as anomalous: {np.sum(anomaly_idxs) / len(anomaly_idxs)}')\n",
    "    print(f'number of events that we tagged as anomalous: {np.sum(anomaly_idxs)}')"
   ]
  },
  {
   "cell_type": "code",
   "execution_count": 54,
   "id": "9b6c4d62-eea4-4ab0-82c9-05faf5f20faf",
   "metadata": {},
   "outputs": [],
   "source": [
    "#DNN_AE.save('../../trained_models/DNN_AE_norm_v3.keras')"
   ]
  },
  {
   "cell_type": "markdown",
   "id": "7a0f428d-60f7-4238-b560-5c8c6e763cee",
   "metadata": {},
   "source": [
    "***\n",
    "<hr style=\"border:2px solid #F08080\">"
   ]
  },
  {
   "cell_type": "code",
   "execution_count": 55,
   "id": "db311f49-2554-4a6e-9ac2-c169c390d68b",
   "metadata": {},
   "outputs": [
    {
     "name": "stdout",
     "output_type": "stream",
     "text": [
      "HLT rate: 1663.0022409427372\n",
      "HLT acceptance: 0.01663002240942737\n",
      "HLT rejection: 60.13221001031913\n"
     ]
    }
   ],
   "source": [
    "HLT_rate = np.sum(weights * pass_HLT[0]) / np.sum(weights)\n",
    "print(f'HLT rate: {HLT_rate * 100000}')\n",
    "print(f'HLT acceptance: {HLT_rate}')\n",
    "print(f'HLT rejection: {1/HLT_rate}')"
   ]
  },
  {
   "cell_type": "code",
   "execution_count": 56,
   "id": "8028440b-2fe0-45da-a5b9-231694cb6879",
   "metadata": {},
   "outputs": [
    {
     "name": "stdout",
     "output_type": "stream",
     "text": [
      "HLT rate: 2189.455014962062\n",
      "HLT + AD rate: 2193.358252539509\n",
      "rate added by AD: 3.903237577446844\n"
     ]
    }
   ],
   "source": [
    "HLT_numerator = 0\n",
    "HLT_denominator = 0\n",
    "HLT_AD_numerator = 0\n",
    "HLT_AD_denominator = 0\n",
    "\n",
    "for i, tag in enumerate(tags):\n",
    "    anomaly_idxs = (total_loss[i] > threshold)\n",
    "    if i == 0:\n",
    "        HLT_numerator += np.sum(weights_test * pass_HLT_test)\n",
    "        HLT_denominator += np.sum(weights_test)\n",
    "\n",
    "        HLT_AD_numerator += np.sum(weights_test * np.bitwise_or(anomaly_idxs, pass_HLT_test))\n",
    "        HLT_AD_denominator += np.sum(weights_test)\n",
    "    else:\n",
    "        HLT_numerator += np.sum(pass_HLT[i][0:min(len(anomaly_idxs), 100000)])\n",
    "        HLT_denominator += len(anomaly_idxs)\n",
    "\n",
    "        HLT_AD_numerator += np.sum(np.bitwise_or(anomaly_idxs, pass_HLT[i][0:min(len(anomaly_idxs), 100000)]))\n",
    "        HLT_AD_denominator += len(anomaly_idxs)\n",
    "\n",
    "\n",
    "HLT_acceptance = HLT_numerator / HLT_denominator\n",
    "HLT_AD_acceptance = HLT_AD_numerator / HLT_AD_denominator\n",
    "\n",
    "print(f'HLT rate: {HLT_acceptance * 100000}')\n",
    "print(f'HLT + AD rate: {HLT_AD_acceptance * 100000}')\n",
    "print(f'rate added by AD: {(HLT_AD_acceptance - HLT_acceptance) * 100000}')"
   ]
  },
  {
   "cell_type": "code",
   "execution_count": null,
   "id": "30812541-840d-43fe-8681-1ad5a3872920",
   "metadata": {},
   "outputs": [],
   "source": []
  }
 ],
 "metadata": {
  "kernelspec": {
   "display_name": "Python 3",
   "language": "python",
   "name": "python3"
  },
  "language_info": {
   "codemirror_mode": {
    "name": "ipython",
    "version": 3
   },
   "file_extension": ".py",
   "mimetype": "text/x-python",
   "name": "python",
   "nbconvert_exporter": "python",
   "pygments_lexer": "ipython3",
   "version": "3.9.12"
  }
 },
 "nbformat": 4,
 "nbformat_minor": 5
}
