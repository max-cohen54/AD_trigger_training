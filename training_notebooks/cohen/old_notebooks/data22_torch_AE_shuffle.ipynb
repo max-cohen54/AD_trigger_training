{
 "cells": [
  {
   "cell_type": "code",
   "execution_count": 27,
   "id": "b155d6bf-daf6-4f8e-b152-5b1f9ff6c65d",
   "metadata": {},
   "outputs": [],
   "source": [
    "import numpy as np\n",
    "import matplotlib.pyplot as plt\n",
    "import h5py\n",
    "import random\n",
    "import sklearn\n",
    "import collections\n",
    "from sklearn.model_selection import train_test_split\n",
    "import json\n",
    "import pylab\n",
    "from scipy.optimize import curve_fit\n",
    "from tensorflow.keras import layers, Model\n",
    "import tensorflow.keras.backend as K\n",
    "from tensorflow.keras.callbacks import EarlyStopping, ReduceLROnPlateau\n",
    "from tensorflow.keras.models import load_model\n",
    "from sklearn.metrics import roc_curve, auc\n",
    "import tensorflow as tf\n",
    "import torch\n",
    "import torch.nn as nn\n",
    "import torch.nn.functional as F\n",
    "from torch.optim import Adam\n",
    "import pylab"
   ]
  },
  {
   "cell_type": "code",
   "execution_count": 2,
   "id": "2ca30d05-fa82-40d9-ad19-9b0580e3873a",
   "metadata": {},
   "outputs": [
    {
     "name": "stdout",
     "output_type": "stream",
     "text": [
      "GPUs Available: [PhysicalDevice(name='/physical_device:GPU:0', device_type='GPU')]\n",
      "Eager execution: True\n",
      "/job:localhost/replica:0/task:0/device:GPU:0\n"
     ]
    },
    {
     "name": "stderr",
     "output_type": "stream",
     "text": [
      "2024-02-10 16:49:48.413055: I tensorflow/compiler/xla/stream_executor/cuda/cuda_gpu_executor.cc:995] successful NUMA node read from SysFS had negative value (-1), but there must be at least one NUMA node, so returning NUMA node zero. See more at https://github.com/torvalds/linux/blob/v6.0/Documentation/ABI/testing/sysfs-bus-pci#L344-L355\n",
      "2024-02-10 16:49:48.442269: I tensorflow/compiler/xla/stream_executor/cuda/cuda_gpu_executor.cc:995] successful NUMA node read from SysFS had negative value (-1), but there must be at least one NUMA node, so returning NUMA node zero. See more at https://github.com/torvalds/linux/blob/v6.0/Documentation/ABI/testing/sysfs-bus-pci#L344-L355\n",
      "2024-02-10 16:49:48.442531: I tensorflow/compiler/xla/stream_executor/cuda/cuda_gpu_executor.cc:995] successful NUMA node read from SysFS had negative value (-1), but there must be at least one NUMA node, so returning NUMA node zero. See more at https://github.com/torvalds/linux/blob/v6.0/Documentation/ABI/testing/sysfs-bus-pci#L344-L355\n",
      "2024-02-10 16:49:48.448432: I tensorflow/compiler/xla/stream_executor/cuda/cuda_gpu_executor.cc:995] successful NUMA node read from SysFS had negative value (-1), but there must be at least one NUMA node, so returning NUMA node zero. See more at https://github.com/torvalds/linux/blob/v6.0/Documentation/ABI/testing/sysfs-bus-pci#L344-L355\n",
      "2024-02-10 16:49:48.448642: I tensorflow/compiler/xla/stream_executor/cuda/cuda_gpu_executor.cc:995] successful NUMA node read from SysFS had negative value (-1), but there must be at least one NUMA node, so returning NUMA node zero. See more at https://github.com/torvalds/linux/blob/v6.0/Documentation/ABI/testing/sysfs-bus-pci#L344-L355\n",
      "2024-02-10 16:49:48.448797: I tensorflow/compiler/xla/stream_executor/cuda/cuda_gpu_executor.cc:995] successful NUMA node read from SysFS had negative value (-1), but there must be at least one NUMA node, so returning NUMA node zero. See more at https://github.com/torvalds/linux/blob/v6.0/Documentation/ABI/testing/sysfs-bus-pci#L344-L355\n",
      "2024-02-10 16:49:49.557154: I tensorflow/compiler/xla/stream_executor/cuda/cuda_gpu_executor.cc:995] successful NUMA node read from SysFS had negative value (-1), but there must be at least one NUMA node, so returning NUMA node zero. See more at https://github.com/torvalds/linux/blob/v6.0/Documentation/ABI/testing/sysfs-bus-pci#L344-L355\n",
      "2024-02-10 16:49:49.557547: I tensorflow/compiler/xla/stream_executor/cuda/cuda_gpu_executor.cc:995] successful NUMA node read from SysFS had negative value (-1), but there must be at least one NUMA node, so returning NUMA node zero. See more at https://github.com/torvalds/linux/blob/v6.0/Documentation/ABI/testing/sysfs-bus-pci#L344-L355\n",
      "2024-02-10 16:49:49.557737: I tensorflow/compiler/xla/stream_executor/cuda/cuda_gpu_executor.cc:995] successful NUMA node read from SysFS had negative value (-1), but there must be at least one NUMA node, so returning NUMA node zero. See more at https://github.com/torvalds/linux/blob/v6.0/Documentation/ABI/testing/sysfs-bus-pci#L344-L355\n",
      "2024-02-10 16:49:49.557911: I tensorflow/core/common_runtime/gpu/gpu_device.cc:1639] Created device /job:localhost/replica:0/task:0/device:GPU:0 with 295 MB memory:  -> device: 0, name: Tesla T4, pci bus id: 0000:00:07.0, compute capability: 7.5\n"
     ]
    }
   ],
   "source": [
    "\n",
    "\n",
    "# Check GPUs available\n",
    "gpus = tf.config.list_physical_devices('GPU')\n",
    "print(f\"GPUs Available: {gpus}\")\n",
    "\n",
    "# Check if TensorFlow is currently executing eagerly (which means operations are executed as they are defined and is the default mode in TF 2.x)\n",
    "print(f\"Eager execution: {tf.executing_eagerly()}\")\n",
    "\n",
    "# If you have GPUs listed and eager execution is enabled, then operations should automatically run on the GPU if possible.\n",
    "# To test if TensorFlow will place tensors and operations on the GPU by default, you can create a simple operation and see where it is placed:\n",
    "if gpus:\n",
    "    with tf.device('/GPU:0'):\n",
    "        a = tf.constant([[1.0, 2.0, 3.0], [4.0, 5.0, 6.0]])\n",
    "        print(a.device)\n",
    "else:\n",
    "    print(\"No GPU found!\")"
   ]
  },
  {
   "cell_type": "markdown",
   "id": "e28eb951-a1a9-43ca-8f05-cfe2a3bd8d01",
   "metadata": {},
   "source": [
    "# Retrieve data and preprocessing"
   ]
  },
  {
   "cell_type": "code",
   "execution_count": 2,
   "id": "70452ce1-6a7c-4f03-b52c-9c5b88c8a16d",
   "metadata": {},
   "outputs": [],
   "source": [
    "# This is the list that will hold all of the data (data22 and MC)\n",
    "\n",
    "datasets = []\n",
    "pass_HLT = []\n",
    "tags = ['data', 'HHbbttHadHad', 'ZZ4lep', 'Ztautau', 'jjJZ4', 'jjJZ2', 'qqa']"
   ]
  },
  {
   "cell_type": "code",
   "execution_count": 3,
   "id": "4dc47606-52d7-4fe2-97f9-3f0c02ba8d2b",
   "metadata": {},
   "outputs": [],
   "source": [
    "# Read EB data22 file\n",
    "\n",
    "with h5py.File('../../../../ntuples/AOD_EB_ntuples_02-10-2024.h5', 'r') as hf:\n",
    "    jets = hf['HLT_jets'][:]\n",
    "    electrons = hf['electrons'][:]\n",
    "    LRT_electrons = hf['LRT_electrons'][:]\n",
    "    muons = hf['muons'][:]\n",
    "    LRT_muons = hf['LRT_muons'][:]\n",
    "    photons = hf['photons'][:]\n",
    "    MET = hf['MET'][:].reshape(-1, 1, 4)  # Broadcasting MET\n",
    "    pass_L1_unprescaled = hf[\"pass_L1_unprescaled\"][:]\n",
    "    pass_HLT_unprescaled = hf[\"pass_HLT_unprescaled\"][:]\n",
    "    EB_weights = hf[\"EB_weights\"][:]"
   ]
  },
  {
   "cell_type": "code",
   "execution_count": 4,
   "id": "f9c39723-8713-4f4f-b668-4bf61021f3db",
   "metadata": {},
   "outputs": [
    {
     "name": "stdout",
     "output_type": "stream",
     "text": [
      "(1019220, 10, 4)\n"
     ]
    }
   ],
   "source": [
    "print(jets.shape)"
   ]
  },
  {
   "cell_type": "code",
   "execution_count": 5,
   "id": "99292488-4061-432b-a040-85390555575d",
   "metadata": {},
   "outputs": [],
   "source": [
    "# Collect only events that passed any of our unprescaled L1 list, and concatenate. Remove E.\n",
    "\n",
    "pass_L1_idxs = (pass_L1_unprescaled == 1) # Indices of events that passed L1\n",
    "pass_HLT_unprescaled = pass_HLT_unprescaled[pass_L1_idxs]\n",
    "data = np.concatenate([jets[pass_L1_idxs], electrons[pass_L1_idxs], muons[pass_L1_idxs], photons[pass_L1_idxs], MET[pass_L1_idxs]], axis=1)\n",
    "weights = EB_weights[pass_L1_idxs]\n",
    "datasets.append(data[:, :, [0, 2, 3]])\n",
    "pass_HLT.append(pass_HLT_unprescaled)"
   ]
  },
  {
   "cell_type": "code",
   "execution_count": 6,
   "id": "d1499194-94d7-4c01-a58d-f9ccef5584ce",
   "metadata": {},
   "outputs": [],
   "source": [
    "# Read MC data. Remove E.\n",
    "\n",
    "filenames = ['HHbbttHadHad.h5', 'ZZ4lep.h5', 'Ztautau.h5', 'jjJZ4.h5', 'jjJZ2.h5', 'qqa.h5']\n",
    "data_path = '../../../../ntuples/MC_02-10-2024/'\n",
    "\n",
    "for filename in filenames:\n",
    "    with h5py.File(data_path+filename, 'r') as hf:\n",
    "        jets = hf['HLT_jets'][:]\n",
    "        electrons = hf['electrons'][:]\n",
    "        LRT_electrons = hf['LRT_electrons'][:]\n",
    "        muons = hf['muons'][:]\n",
    "        LRT_muons = hf['LRT_muons'][:]\n",
    "        photons = hf['photons'][:]\n",
    "        MET = hf['MET'][:].reshape(-1, 1, 4)  # Broadcasting MET\n",
    "        pass_HLT_unprescaled = hf['pass_HLT_unprescaled'][:]\n",
    "\n",
    "        combined_data = np.concatenate([jets, electrons, muons, photons, MET], axis=1)\n",
    "        datasets.append(combined_data[0:min(len(combined_data), 100000), :, [0, 2, 3]])\n",
    "        pass_HLT.append(pass_HLT_unprescaled)"
   ]
  },
  {
   "cell_type": "code",
   "execution_count": 7,
   "id": "01c1f898-4e32-4dc2-8ce9-bbbee5cf1f95",
   "metadata": {},
   "outputs": [],
   "source": [
    "\"\"\"Met bias. For some events, MET was not calculated, so was written as -999.\n",
    "We don't want this to impact training, so we map 0 --> 0.001 and -999 --> 0\"\"\"\n",
    "for i, data in enumerate(datasets):\n",
    "\n",
    "    # MET: 0 --> 0.001 and -999 --> 0 and nan --> 0\n",
    "    MET_zeros = (data[:, 19, 0] == 0) # indices where MET=0\n",
    "    MET_999 = ((data[:, 19, 0] == -999)) # indices where MET=-999 (not calculated)\n",
    "    MET_nan = np.isnan(data[:, 19, 2])\n",
    "    data[MET_zeros, 19, 0] = 0.001\n",
    "    data[MET_999, 19, :] = 0\n",
    "    data[MET_nan, 19, :] = 0"
   ]
  },
  {
   "cell_type": "code",
   "execution_count": 8,
   "id": "5645afa8-6daa-4c5a-9d37-a1ae0320b510",
   "metadata": {},
   "outputs": [],
   "source": [
    "\"\"\"Normalize pt \"\"\"\n",
    "for i, data in enumerate(datasets):\n",
    "    # sum of the pt and E in each event\n",
    "    sum_pt = np.sum(data[:, :, 0], axis=1, keepdims=True)\n",
    "\n",
    "    # If the sum is 0, set the sum to 1 to avoid division by 0\n",
    "    sum_pt[sum_pt == 0] = 1\n",
    "\n",
    "    # Divide pt and E by their respective sums\n",
    "    data[:, :, 0] /= sum_pt"
   ]
  },
  {
   "cell_type": "code",
   "execution_count": 9,
   "id": "42ae00ae-25b3-425f-89b2-a2ad99950050",
   "metadata": {},
   "outputs": [
    {
     "name": "stdout",
     "output_type": "stream",
     "text": [
      "data: (224294, 20, 3)\n",
      "HHbbttHadHad: (20000, 20, 3)\n",
      "ZZ4lep: (100000, 20, 3)\n",
      "Ztautau: (100000, 20, 3)\n",
      "jjJZ4: (100000, 20, 3)\n",
      "jjJZ2: (100000, 20, 3)\n",
      "qqa: (50000, 20, 3)\n"
     ]
    }
   ],
   "source": [
    "for i, dataset in enumerate(datasets):\n",
    "    print(f'{tags[i]}: {dataset.shape}')"
   ]
  },
  {
   "cell_type": "code",
   "execution_count": 10,
   "id": "0c983f31-0cd4-4d0f-8e59-5bb03af74729",
   "metadata": {},
   "outputs": [
    {
     "data": {
      "image/png": "[encoded data removed]",
      "text/plain": [
       "<Figure size 1008x576 with 1 Axes>"
      ]
     },
     "metadata": {
      "needs_background": "light"
     },
     "output_type": "display_data"
    }
   ],
   "source": [
    "# Plotting pt distribtions of the jets from each dataset\n",
    "\n",
    "plt.figure(figsize=(14, 8))\n",
    "plt.rcParams['axes.linewidth'] = 2.4\n",
    "bins = np.linspace(0, 2000, 35)\n",
    "#bins=50\n",
    "\n",
    "for i, tag in enumerate(tags):\n",
    "    pt = datasets[i][:, 0, 0]\n",
    "    nonzero_pt = pt[pt > 0]\n",
    "\n",
    "    if i==0:\n",
    "        nonzero_weights = weights[pt > 0]\n",
    "        plt.hist(nonzero_pt, bins=bins, label=tag, histtype='step', density=True, fill=False, linewidth=3, weights=nonzero_weights)\n",
    "    else:\n",
    "        plt.hist(nonzero_pt, bins=bins, label=tag, histtype='step', density=True, fill=False, linewidth=3)\n",
    "\n",
    "plt.yscale('log')\n",
    "plt.xlabel('jet pt', fontsize=22)\n",
    "plt.ylabel('density', fontsize=22)\n",
    "plt.title('Leading Jet PT', fontsize=30)\n",
    "plt.grid()\n",
    "plt.legend(fontsize=18)\n",
    "plt.show()"
   ]
  },
  {
   "cell_type": "markdown",
   "id": "64a7e645-a4a2-4ad5-8c54-41cdb4039a63",
   "metadata": {},
   "source": [
    "# Define Classes"
   ]
  },
  {
   "cell_type": "code",
   "execution_count": 11,
   "id": "8c4612e2-2bea-488b-92fc-c9efc9c2a52a",
   "metadata": {},
   "outputs": [],
   "source": [
    "# Dataset class\n",
    "class Dataset(torch.utils.data.Dataset):\n",
    "    def __init__(self, X, y):\n",
    "        self.X = X\n",
    "        self.y = y\n",
    "\n",
    "    def __len__(self):\n",
    "        return len(self.X)  \n",
    "    \n",
    "    def __getitem__(self, index):\n",
    "        return [torch.from_numpy(self.X[index]), torch.from_numpy(self.y[index])]\n",
    "\n",
    "    def collate_fn(self, batch):\n",
    "        X = [torch.tensor(sample[0]).float() for sample in batch]\n",
    "        y = [torch.tensor(sample[1]).float() for sample in batch]\n",
    "        return torch.stack(X, 0), torch.stack(y, 0)\n",
    "\n",
    "    def create_dataloader(self, batch_size, shuffle=False):\n",
    "        return torch.utils.data.DataLoader(\n",
    "            dataset=self, batch_size=batch_size, collate_fn=self.collate_fn,\n",
    "            shuffle=shuffle)"
   ]
  },
  {
   "cell_type": "code",
   "execution_count": 12,
   "id": "4f93f57c-1397-4cbc-a3bd-40e12163cba2",
   "metadata": {},
   "outputs": [],
   "source": [
    "class ShuffleUnshuffleLayer(nn.Module):\n",
    "    def __init__(self):\n",
    "        super(ShuffleUnshuffleLayer, self).__init__()\n",
    "\n",
    "    def forward(self, x, reverse=False, indices=None):\n",
    "        if not reverse:\n",
    "            # Shuffle\n",
    "            batch_size, num_objects, _ = x.size()\n",
    "            indices = torch.randperm(num_objects).to(x.device)\n",
    "            return x[:, indices], indices\n",
    "        else:\n",
    "            # Unshuffle\n",
    "            if indices is None:\n",
    "                raise ValueError(\"Indices for unshuffling not provided\")\n",
    "            unshuffled = torch.zeros_like(x)\n",
    "            for i, idx in enumerate(indices):\n",
    "                unshuffled[:, idx] = x[:, i]\n",
    "            return unshuffled"
   ]
  },
  {
   "cell_type": "code",
   "execution_count": 15,
   "id": "34d1e9f9-0e21-4862-9eab-58f0ac45d108",
   "metadata": {},
   "outputs": [],
   "source": [
    "class DNN_AE(nn.Module):\n",
    "    def __init__(self, input_shape, h_dim_1, h_dim_2, latent_dim):\n",
    "        super(DNN_AE, self).__init__()\n",
    "        self.input_shape = input_shape\n",
    "        input_dim = np.prod(input_shape)\n",
    "        self.shuffle_layer = ShuffleUnshuffleLayer()\n",
    "\n",
    "        # Encoder layers\n",
    "        self.fc1 = nn.Linear(input_dim, h_dim_1)\n",
    "        self.fc2 = nn.Linear(h_dim_1, h_dim_2)\n",
    "        self.fc3 = nn.Linear(h_dim_2, latent_dim)\n",
    "\n",
    "        # Decoder layers\n",
    "        self.fc4 = nn.Linear(latent_dim, h_dim_2)\n",
    "        self.fc5 = nn.Linear(h_dim_2, h_dim_1)\n",
    "        self.fc6 = nn.Linear(h_dim_1, input_dim)\n",
    "\n",
    "    def forward(self, x):\n",
    "        # x shape: [batch_size, 20, 3]\n",
    "        x, indices = self.shuffle_layer(x)  # Shuffle\n",
    "        x = x.view(x.size(0), -1)  # Flatten\n",
    "\n",
    "        # Encoder\n",
    "        z = F.relu(self.fc1(x))\n",
    "        z = F.relu(self.fc2(z))\n",
    "\n",
    "        # Decoder\n",
    "        z = F.relu(self.fc3(z))\n",
    "        z = self.fc4(z)\n",
    "\n",
    "        z = z.view(-1, *self.input_shape)  # Reshape back\n",
    "        z = self.shuffle_layer(z, reverse=True, indices=indices)  # Unshuffle\n",
    "        return z\n",
    "\n",
    "    def loss_function(self, x, y):\n",
    "        mask = (y != 0)\n",
    "        return F.mse_loss(x[mask], y[mask])"
   ]
  },
  {
   "cell_type": "code",
   "execution_count": 14,
   "id": "36e2fa03-bca4-455d-afd0-21e48aaaa6d7",
   "metadata": {},
   "outputs": [],
   "source": [
    "class Trainer(object):\n",
    "    def __init__(self, model, num_batches_avg, loss_fn=None, optimizer=None, scheduler=None):\n",
    "        \"\"\"num_batches_avg: Number of batches to calculate the average loss over.\n",
    "        example: if there are 625 batches, we might want to use 25, to calculate\n",
    "        average loss over 25 batches.\"\"\"\n",
    "\n",
    "        #Set params\n",
    "        self.model = model\n",
    "        self.loss_fn = loss_fn\n",
    "        self.optimizer = optimizer\n",
    "        self.scheduler = scheduler\n",
    "        self.num_batches_avg = num_batches_avg\n",
    "\n",
    "    def train_step(self, dataloader):\n",
    "        \"\"\"Train for one epoch.\n",
    "\n",
    "        returns: average loss over most recent {num_batches_avg} batches, loss over most recent batch\n",
    "        \"\"\"\n",
    "\n",
    "        self.model.train()\n",
    "        current_loss = 0.0 # Average loss of most recent batch\n",
    "        avg_loss = 0.0 # Average loss over a certain number of batches\n",
    "        running_loss = 0.0\n",
    "\n",
    "        # Iterate over batches in dataloader\n",
    "        for i, batch in enumerate(dataloader):\n",
    "\n",
    "            # Pass a single batch through the model and update the weights\n",
    "            inputs, targets = batch\n",
    "            self.optimizer.zero_grad()\n",
    "            outputs = self.model(inputs)\n",
    "            loss = self.loss_fn(outputs, targets)\n",
    "            loss.backward()\n",
    "            self.optimizer.step()\n",
    "\n",
    "            # Update loss metrics\n",
    "            running_loss += loss.item()\n",
    "            current_loss = loss.item()\n",
    "\n",
    "            # Calculate the average loss\n",
    "            if i % self.num_batches_avg == self.num_batches_avg - 1:\n",
    "                avg_loss = running_loss / self.num_batches_avg\n",
    "                running_loss = 0.0\n",
    "\n",
    "        return avg_loss, current_loss\n",
    "\n",
    "    def eval_step(self, dataloader):\n",
    "        \"\"\"validation or test step over one epoch.\"\"\"\n",
    "\n",
    "        self.model.eval()\n",
    "        current_loss = 0.0 # Average loss of most recent batch\n",
    "        avg_loss = 0.0 # Average loss over a certain number of batches\n",
    "        running_loss = 0.0\n",
    "        y_trues, model_outputs = [], []\n",
    "\n",
    "        # Iterate over val batches\n",
    "        with torch.no_grad():\n",
    "            for i, batch in enumerate(dataloader):\n",
    "\n",
    "                # Pass a single batch through the model\n",
    "                inputs, y_true = batch\n",
    "                outputs = self.model(inputs)\n",
    "                loss = self.loss_fn(outputs, y_true)\n",
    "\n",
    "                # Update loss metrics\n",
    "                running_loss += loss.item()\n",
    "                current_loss = loss.item()\n",
    "\n",
    "                # Calculate the average loss\n",
    "                if i % self.num_batches_avg == self.num_batches_avg - 1:\n",
    "                    avg_loss = running_loss / self.num_batches_avg\n",
    "                    running_loss = 0.0\n",
    "\n",
    "                # Store outputs\n",
    "                y_trues.extend(y_true)\n",
    "                model_outputs.extend(outputs)\n",
    "        return avg_loss, current_loss, np.vstack(y_trues), np.vstack(model_outputs)\n",
    "\n",
    "    def predict_step(self, dataloader):\n",
    "        \"\"\"Prediction step.\"\"\"\n",
    "        self.model.eval()\n",
    "        model_outputs = []\n",
    "\n",
    "        # Iterate over batches\n",
    "        with torch.no_grad():\n",
    "            for i, batch in enumerate(dataloader):\n",
    "\n",
    "                # Pass a single batch through the model\n",
    "                inputs, targets = batch\n",
    "                outputs = self.model(inputs)\n",
    "\n",
    "                # Store outputs\n",
    "                model_outputs.extend(outputs)\n",
    "\n",
    "        return np.vstack(model_outputs)\n",
    "\n",
    "    def train(self, num_epochs, patience, train_dataloader, val_dataloader):\n",
    "        \"\"\"Train the neural net.\"\"\"\n",
    "\n",
    "        best_val_loss = np.inf\n",
    "\n",
    "        # Loop over epochs\n",
    "        for epoch in range(num_epochs):\n",
    "\n",
    "            # Steps\n",
    "            avg_train_loss, last_train_loss = self.train_step(dataloader=train_dataloader)\n",
    "            avg_val_loss, last_val_loss, _, _ = self.eval_step(dataloader=val_dataloader)\n",
    "            self.scheduler.step(avg_val_loss)\n",
    "\n",
    "            # Early stopping\n",
    "            if avg_val_loss < best_val_loss:\n",
    "                best_val_loss = avg_val_loss\n",
    "                best_model = self.model\n",
    "                patience_counter = patience # reset patience\n",
    "            else:\n",
    "                patience_counter -= 1\n",
    "            if not patience: # 0\n",
    "                print(\"Stoping Early!\")\n",
    "                break\n",
    "\n",
    "            # Logging\n",
    "            print(f'Epoch: {epoch+1} | '\n",
    "            f'average train loss over most recent {self.num_batches_avg} batches: {avg_train_loss},'\n",
    "            f'average val loss over most recent {self.num_batches_avg} batches: {avg_val_loss},'\n",
    "            #f'learning rate: {self.optimizer.param_groups[0]['lr']:.2E},'\n",
    "            f'patience counter: {patience_counter}')\n",
    "\n",
    "        return best_model"
   ]
  },
  {
   "cell_type": "markdown",
   "id": "d375c0c9-d3f8-4601-a76f-60ad443abb49",
   "metadata": {},
   "source": [
    "# Initialize Objects"
   ]
  },
  {
   "cell_type": "code",
   "execution_count": 16,
   "id": "f9c12ce5-6e25-4e5b-a845-97cc026b8447",
   "metadata": {},
   "outputs": [
    {
     "name": "stdout",
     "output_type": "stream",
     "text": [
      "X_train: (134576, 20, 3)\n",
      "X_val: (44859, 20, 3)\n",
      "X_test: (44859, 20, 3)\n"
     ]
    }
   ],
   "source": [
    "# Make train, test, val splits\n",
    "\n",
    "TRAIN_SIZE = 0.6\n",
    "VAL_SIZE = 0.2\n",
    "TEST_SIZE = 0.2\n",
    "\n",
    "X_train, X_, weights_train, weights_, pass_HLT_train, pass_HLT_ = train_test_split(datasets[0], weights, pass_HLT[0], train_size=TRAIN_SIZE)\n",
    "X_val, X_test, weights_val, weights_test, pass_HLT_val, pass_HLT_test = train_test_split(X_, weights_, pass_HLT_, train_size=0.5)\n",
    "\n",
    "print(f'X_train: {X_train.shape}')\n",
    "print(f'X_val: {X_val.shape}')\n",
    "print(f'X_test: {X_test.shape}')"
   ]
  },
  {
   "cell_type": "code",
   "execution_count": 17,
   "id": "fc6883cc-576f-4dc7-b31c-bfb990d8ea58",
   "metadata": {},
   "outputs": [],
   "source": [
    "# Initialize datasets\n",
    "train_dataset = Dataset(X=X_train, y=X_train)\n",
    "test_dataset = Dataset(X=X_test, y=X_test)\n",
    "val_dataset = Dataset(X=X_val, y=X_val)"
   ]
  },
  {
   "cell_type": "code",
   "execution_count": 18,
   "id": "d08563ca-18fd-4b58-afa5-560bc19ccf18",
   "metadata": {},
   "outputs": [],
   "source": [
    "BATCH_SIZE = 1024"
   ]
  },
  {
   "cell_type": "code",
   "execution_count": 19,
   "id": "7ba31079-e47a-417e-af33-3de3217332df",
   "metadata": {},
   "outputs": [
    {
     "name": "stdout",
     "output_type": "stream",
     "text": [
      "Sample batch:\n",
      "  X: [1024, 20, 3]\n",
      "  y: [1024, 20, 3]\n",
      "\n"
     ]
    },
    {
     "name": "stderr",
     "output_type": "stream",
     "text": [
      "/tmp/ipykernel_8338/3456955486.py:14: UserWarning: To copy construct from a tensor, it is recommended to use sourceTensor.clone().detach() or sourceTensor.clone().detach().requires_grad_(True), rather than torch.tensor(sourceTensor).\n",
      "  X = [torch.tensor(sample[0]).float() for sample in batch]\n",
      "/tmp/ipykernel_8338/3456955486.py:15: UserWarning: To copy construct from a tensor, it is recommended to use sourceTensor.clone().detach() or sourceTensor.clone().detach().requires_grad_(True), rather than torch.tensor(sourceTensor).\n",
      "  y = [torch.tensor(sample[1]).float() for sample in batch]\n"
     ]
    }
   ],
   "source": [
    "# Initialize dataloaders\n",
    "train_loader = train_dataset.create_dataloader(batch_size=BATCH_SIZE, shuffle=True)\n",
    "test_loader = test_dataset.create_dataloader(batch_size=BATCH_SIZE, shuffle=False)\n",
    "val_loader = val_dataset.create_dataloader(batch_size=BATCH_SIZE, shuffle=False)\n",
    "batch_X, batch_y = next(iter(train_loader))\n",
    "print (\"Sample batch:\\n\"\n",
    "    f\"  X: {list(batch_X.size())}\\n\"\n",
    "    f\"  y: {list(batch_y.size())}\\n\")"
   ]
  },
  {
   "cell_type": "code",
   "execution_count": 23,
   "id": "e37b7d31-e28c-4fe4-abc1-88ca2567e118",
   "metadata": {},
   "outputs": [],
   "source": [
    "# Define consts\n",
    "LEARNING_RATE = 1e-3\n",
    "PATIENCE = 6\n",
    "NUM_EPOCHS = 20\n",
    "INPUT_SHAPE = X_train.shape[1]\n",
    "H_DIM_1 = 32\n",
    "H_DIM_2 = 8\n",
    "LATENT_DIM = 3"
   ]
  },
  {
   "cell_type": "code",
   "execution_count": 24,
   "id": "e801510d-11bf-4d5b-bf68-9b5af25000de",
   "metadata": {},
   "outputs": [
    {
     "name": "stdout",
     "output_type": "stream",
     "text": [
      "<bound method Module.named_parameters of DNN_AE(\n",
      "  (shuffle_layer): ShuffleUnshuffleLayer()\n",
      "  (fc1): Linear(in_features=20, out_features=32, bias=True)\n",
      "  (fc2): Linear(in_features=32, out_features=8, bias=True)\n",
      "  (fc3): Linear(in_features=8, out_features=3, bias=True)\n",
      "  (fc4): Linear(in_features=3, out_features=8, bias=True)\n",
      "  (fc5): Linear(in_features=8, out_features=32, bias=True)\n",
      "  (fc6): Linear(in_features=32, out_features=20, bias=True)\n",
      ")>\n"
     ]
    }
   ],
   "source": [
    "dense_AE = DNN_AE(input_shape=INPUT_SHAPE, h_dim_1=H_DIM_1, h_dim_2=H_DIM_2, latent_dim=LATENT_DIM)\n",
    "print(dense_AE.named_parameters)"
   ]
  },
  {
   "cell_type": "code",
   "execution_count": 25,
   "id": "978063b3-eec9-4544-90db-60e91457a896",
   "metadata": {},
   "outputs": [],
   "source": [
    "# Initialize the loss function, optimizer and lr scheduler, trainer\n",
    "\n",
    "def loss_fn(x, y):\n",
    "    return dense_AE.loss_function(x, y)\n",
    "\n",
    "optimizer = Adam(params=dense_AE.parameters(), lr=LEARNING_RATE)\n",
    "scheduler = torch.optim.lr_scheduler.ReduceLROnPlateau(\n",
    "    optimizer, mode='min', factor=0.2, patience=3, verbose=True)\n",
    "trainer = Trainer(model=dense_AE, num_batches_avg=25,\n",
    "                  loss_fn=loss_fn, optimizer=optimizer, scheduler=scheduler)"
   ]
  },
  {
   "cell_type": "code",
   "execution_count": 28,
   "id": "0e835584-fb6c-45ff-b4d6-8f2978654783",
   "metadata": {},
   "outputs": [
    {
     "name": "stderr",
     "output_type": "stream",
     "text": [
      "/tmp/ipykernel_8338/3456955486.py:14: UserWarning: To copy construct from a tensor, it is recommended to use sourceTensor.clone().detach() or sourceTensor.clone().detach().requires_grad_(True), rather than torch.tensor(sourceTensor).\n",
      "  X = [torch.tensor(sample[0]).float() for sample in batch]\n",
      "/tmp/ipykernel_8338/3456955486.py:15: UserWarning: To copy construct from a tensor, it is recommended to use sourceTensor.clone().detach() or sourceTensor.clone().detach().requires_grad_(True), rather than torch.tensor(sourceTensor).\n",
      "  y = [torch.tensor(sample[1]).float() for sample in batch]\n"
     ]
    },
    {
     "ename": "RuntimeError",
     "evalue": "mat1 and mat2 shapes cannot be multiplied (1024x60 and 20x32)",
     "output_type": "error",
     "traceback": [
      "\u001b[0;31m---------------------------------------------------------------------------\u001b[0m",
      "\u001b[0;31mRuntimeError\u001b[0m                              Traceback (most recent call last)",
      "\u001b[0;32m/tmp/ipykernel_8338/3290479154.py\u001b[0m in \u001b[0;36m<module>\u001b[0;34m\u001b[0m\n\u001b[1;32m      1\u001b[0m \u001b[0;31m# Train\u001b[0m\u001b[0;34m\u001b[0m\u001b[0;34m\u001b[0m\u001b[0m\n\u001b[0;32m----> 2\u001b[0;31m best_model = trainer.train(\n\u001b[0m\u001b[1;32m      3\u001b[0m     \u001b[0mnum_epochs\u001b[0m\u001b[0;34m=\u001b[0m\u001b[0mNUM_EPOCHS\u001b[0m\u001b[0;34m,\u001b[0m \u001b[0mpatience\u001b[0m\u001b[0;34m=\u001b[0m\u001b[0mPATIENCE\u001b[0m\u001b[0;34m,\u001b[0m\u001b[0;34m\u001b[0m\u001b[0;34m\u001b[0m\u001b[0m\n\u001b[1;32m      4\u001b[0m     train_dataloader=train_loader, val_dataloader=val_loader)\n",
      "\u001b[0;32m/tmp/ipykernel_8338/628153804.py\u001b[0m in \u001b[0;36mtrain\u001b[0;34m(self, num_epochs, patience, train_dataloader, val_dataloader)\u001b[0m\n\u001b[1;32m    104\u001b[0m \u001b[0;34m\u001b[0m\u001b[0m\n\u001b[1;32m    105\u001b[0m             \u001b[0;31m# Steps\u001b[0m\u001b[0;34m\u001b[0m\u001b[0;34m\u001b[0m\u001b[0m\n\u001b[0;32m--> 106\u001b[0;31m             \u001b[0mavg_train_loss\u001b[0m\u001b[0;34m,\u001b[0m \u001b[0mlast_train_loss\u001b[0m \u001b[0;34m=\u001b[0m \u001b[0mself\u001b[0m\u001b[0;34m.\u001b[0m\u001b[0mtrain_step\u001b[0m\u001b[0;34m(\u001b[0m\u001b[0mdataloader\u001b[0m\u001b[0;34m=\u001b[0m\u001b[0mtrain_dataloader\u001b[0m\u001b[0;34m)\u001b[0m\u001b[0;34m\u001b[0m\u001b[0;34m\u001b[0m\u001b[0m\n\u001b[0m\u001b[1;32m    107\u001b[0m             \u001b[0mavg_val_loss\u001b[0m\u001b[0;34m,\u001b[0m \u001b[0mlast_val_loss\u001b[0m\u001b[0;34m,\u001b[0m \u001b[0m_\u001b[0m\u001b[0;34m,\u001b[0m \u001b[0m_\u001b[0m \u001b[0;34m=\u001b[0m \u001b[0mself\u001b[0m\u001b[0;34m.\u001b[0m\u001b[0meval_step\u001b[0m\u001b[0;34m(\u001b[0m\u001b[0mdataloader\u001b[0m\u001b[0;34m=\u001b[0m\u001b[0mval_dataloader\u001b[0m\u001b[0;34m)\u001b[0m\u001b[0;34m\u001b[0m\u001b[0;34m\u001b[0m\u001b[0m\n\u001b[1;32m    108\u001b[0m             \u001b[0mself\u001b[0m\u001b[0;34m.\u001b[0m\u001b[0mscheduler\u001b[0m\u001b[0;34m.\u001b[0m\u001b[0mstep\u001b[0m\u001b[0;34m(\u001b[0m\u001b[0mavg_val_loss\u001b[0m\u001b[0;34m)\u001b[0m\u001b[0;34m\u001b[0m\u001b[0;34m\u001b[0m\u001b[0m\n",
      "\u001b[0;32m/tmp/ipykernel_8338/628153804.py\u001b[0m in \u001b[0;36mtrain_step\u001b[0;34m(self, dataloader)\u001b[0m\n\u001b[1;32m     29\u001b[0m             \u001b[0minputs\u001b[0m\u001b[0;34m,\u001b[0m \u001b[0mtargets\u001b[0m \u001b[0;34m=\u001b[0m \u001b[0mbatch\u001b[0m\u001b[0;34m\u001b[0m\u001b[0;34m\u001b[0m\u001b[0m\n\u001b[1;32m     30\u001b[0m             \u001b[0mself\u001b[0m\u001b[0;34m.\u001b[0m\u001b[0moptimizer\u001b[0m\u001b[0;34m.\u001b[0m\u001b[0mzero_grad\u001b[0m\u001b[0;34m(\u001b[0m\u001b[0;34m)\u001b[0m\u001b[0;34m\u001b[0m\u001b[0;34m\u001b[0m\u001b[0m\n\u001b[0;32m---> 31\u001b[0;31m             \u001b[0moutputs\u001b[0m \u001b[0;34m=\u001b[0m \u001b[0mself\u001b[0m\u001b[0;34m.\u001b[0m\u001b[0mmodel\u001b[0m\u001b[0;34m(\u001b[0m\u001b[0minputs\u001b[0m\u001b[0;34m)\u001b[0m\u001b[0;34m\u001b[0m\u001b[0;34m\u001b[0m\u001b[0m\n\u001b[0m\u001b[1;32m     32\u001b[0m             \u001b[0mloss\u001b[0m \u001b[0;34m=\u001b[0m \u001b[0mself\u001b[0m\u001b[0;34m.\u001b[0m\u001b[0mloss_fn\u001b[0m\u001b[0;34m(\u001b[0m\u001b[0moutputs\u001b[0m\u001b[0;34m,\u001b[0m \u001b[0mtargets\u001b[0m\u001b[0;34m)\u001b[0m\u001b[0;34m\u001b[0m\u001b[0;34m\u001b[0m\u001b[0m\n\u001b[1;32m     33\u001b[0m             \u001b[0mloss\u001b[0m\u001b[0;34m.\u001b[0m\u001b[0mbackward\u001b[0m\u001b[0;34m(\u001b[0m\u001b[0;34m)\u001b[0m\u001b[0;34m\u001b[0m\u001b[0;34m\u001b[0m\u001b[0m\n",
      "\u001b[0;32m/cvmfs/sft.cern.ch/lcg/views/LCG_105_swan/x86_64-el9-gcc13-opt/lib/python3.9/site-packages/torch/nn/modules/module.py\u001b[0m in \u001b[0;36m_wrapped_call_impl\u001b[0;34m(self, *args, **kwargs)\u001b[0m\n\u001b[1;32m   1516\u001b[0m             \u001b[0;32mreturn\u001b[0m \u001b[0mself\u001b[0m\u001b[0;34m.\u001b[0m\u001b[0m_compiled_call_impl\u001b[0m\u001b[0;34m(\u001b[0m\u001b[0;34m*\u001b[0m\u001b[0margs\u001b[0m\u001b[0;34m,\u001b[0m \u001b[0;34m**\u001b[0m\u001b[0mkwargs\u001b[0m\u001b[0;34m)\u001b[0m  \u001b[0;31m# type: ignore[misc]\u001b[0m\u001b[0;34m\u001b[0m\u001b[0;34m\u001b[0m\u001b[0m\n\u001b[1;32m   1517\u001b[0m         \u001b[0;32melse\u001b[0m\u001b[0;34m:\u001b[0m\u001b[0;34m\u001b[0m\u001b[0;34m\u001b[0m\u001b[0m\n\u001b[0;32m-> 1518\u001b[0;31m             \u001b[0;32mreturn\u001b[0m \u001b[0mself\u001b[0m\u001b[0;34m.\u001b[0m\u001b[0m_call_impl\u001b[0m\u001b[0;34m(\u001b[0m\u001b[0;34m*\u001b[0m\u001b[0margs\u001b[0m\u001b[0;34m,\u001b[0m \u001b[0;34m**\u001b[0m\u001b[0mkwargs\u001b[0m\u001b[0;34m)\u001b[0m\u001b[0;34m\u001b[0m\u001b[0;34m\u001b[0m\u001b[0m\n\u001b[0m\u001b[1;32m   1519\u001b[0m \u001b[0;34m\u001b[0m\u001b[0m\n\u001b[1;32m   1520\u001b[0m     \u001b[0;32mdef\u001b[0m \u001b[0m_call_impl\u001b[0m\u001b[0;34m(\u001b[0m\u001b[0mself\u001b[0m\u001b[0;34m,\u001b[0m \u001b[0;34m*\u001b[0m\u001b[0margs\u001b[0m\u001b[0;34m,\u001b[0m \u001b[0;34m**\u001b[0m\u001b[0mkwargs\u001b[0m\u001b[0;34m)\u001b[0m\u001b[0;34m:\u001b[0m\u001b[0;34m\u001b[0m\u001b[0;34m\u001b[0m\u001b[0m\n",
      "\u001b[0;32m/cvmfs/sft.cern.ch/lcg/views/LCG_105_swan/x86_64-el9-gcc13-opt/lib/python3.9/site-packages/torch/nn/modules/module.py\u001b[0m in \u001b[0;36m_call_impl\u001b[0;34m(self, *args, **kwargs)\u001b[0m\n\u001b[1;32m   1525\u001b[0m                 \u001b[0;32mor\u001b[0m \u001b[0m_global_backward_pre_hooks\u001b[0m \u001b[0;32mor\u001b[0m \u001b[0m_global_backward_hooks\u001b[0m\u001b[0;34m\u001b[0m\u001b[0;34m\u001b[0m\u001b[0m\n\u001b[1;32m   1526\u001b[0m                 or _global_forward_hooks or _global_forward_pre_hooks):\n\u001b[0;32m-> 1527\u001b[0;31m             \u001b[0;32mreturn\u001b[0m \u001b[0mforward_call\u001b[0m\u001b[0;34m(\u001b[0m\u001b[0;34m*\u001b[0m\u001b[0margs\u001b[0m\u001b[0;34m,\u001b[0m \u001b[0;34m**\u001b[0m\u001b[0mkwargs\u001b[0m\u001b[0;34m)\u001b[0m\u001b[0;34m\u001b[0m\u001b[0;34m\u001b[0m\u001b[0m\n\u001b[0m\u001b[1;32m   1528\u001b[0m \u001b[0;34m\u001b[0m\u001b[0m\n\u001b[1;32m   1529\u001b[0m         \u001b[0;32mtry\u001b[0m\u001b[0;34m:\u001b[0m\u001b[0;34m\u001b[0m\u001b[0;34m\u001b[0m\u001b[0m\n",
      "\u001b[0;32m/tmp/ipykernel_8338/743956890.py\u001b[0m in \u001b[0;36mforward\u001b[0;34m(self, x)\u001b[0m\n\u001b[1;32m     22\u001b[0m \u001b[0;34m\u001b[0m\u001b[0m\n\u001b[1;32m     23\u001b[0m         \u001b[0;31m# Encoder\u001b[0m\u001b[0;34m\u001b[0m\u001b[0;34m\u001b[0m\u001b[0m\n\u001b[0;32m---> 24\u001b[0;31m         \u001b[0mz\u001b[0m \u001b[0;34m=\u001b[0m \u001b[0mF\u001b[0m\u001b[0;34m.\u001b[0m\u001b[0mrelu\u001b[0m\u001b[0;34m(\u001b[0m\u001b[0mself\u001b[0m\u001b[0;34m.\u001b[0m\u001b[0mfc1\u001b[0m\u001b[0;34m(\u001b[0m\u001b[0mx\u001b[0m\u001b[0;34m)\u001b[0m\u001b[0;34m)\u001b[0m\u001b[0;34m\u001b[0m\u001b[0;34m\u001b[0m\u001b[0m\n\u001b[0m\u001b[1;32m     25\u001b[0m         \u001b[0mz\u001b[0m \u001b[0;34m=\u001b[0m \u001b[0mF\u001b[0m\u001b[0;34m.\u001b[0m\u001b[0mrelu\u001b[0m\u001b[0;34m(\u001b[0m\u001b[0mself\u001b[0m\u001b[0;34m.\u001b[0m\u001b[0mfc2\u001b[0m\u001b[0;34m(\u001b[0m\u001b[0mz\u001b[0m\u001b[0;34m)\u001b[0m\u001b[0;34m)\u001b[0m\u001b[0;34m\u001b[0m\u001b[0;34m\u001b[0m\u001b[0m\n\u001b[1;32m     26\u001b[0m \u001b[0;34m\u001b[0m\u001b[0m\n",
      "\u001b[0;32m/cvmfs/sft.cern.ch/lcg/views/LCG_105_swan/x86_64-el9-gcc13-opt/lib/python3.9/site-packages/torch/nn/modules/module.py\u001b[0m in \u001b[0;36m_wrapped_call_impl\u001b[0;34m(self, *args, **kwargs)\u001b[0m\n\u001b[1;32m   1516\u001b[0m             \u001b[0;32mreturn\u001b[0m \u001b[0mself\u001b[0m\u001b[0;34m.\u001b[0m\u001b[0m_compiled_call_impl\u001b[0m\u001b[0;34m(\u001b[0m\u001b[0;34m*\u001b[0m\u001b[0margs\u001b[0m\u001b[0;34m,\u001b[0m \u001b[0;34m**\u001b[0m\u001b[0mkwargs\u001b[0m\u001b[0;34m)\u001b[0m  \u001b[0;31m# type: ignore[misc]\u001b[0m\u001b[0;34m\u001b[0m\u001b[0;34m\u001b[0m\u001b[0m\n\u001b[1;32m   1517\u001b[0m         \u001b[0;32melse\u001b[0m\u001b[0;34m:\u001b[0m\u001b[0;34m\u001b[0m\u001b[0;34m\u001b[0m\u001b[0m\n\u001b[0;32m-> 1518\u001b[0;31m             \u001b[0;32mreturn\u001b[0m \u001b[0mself\u001b[0m\u001b[0;34m.\u001b[0m\u001b[0m_call_impl\u001b[0m\u001b[0;34m(\u001b[0m\u001b[0;34m*\u001b[0m\u001b[0margs\u001b[0m\u001b[0;34m,\u001b[0m \u001b[0;34m**\u001b[0m\u001b[0mkwargs\u001b[0m\u001b[0;34m)\u001b[0m\u001b[0;34m\u001b[0m\u001b[0;34m\u001b[0m\u001b[0m\n\u001b[0m\u001b[1;32m   1519\u001b[0m \u001b[0;34m\u001b[0m\u001b[0m\n\u001b[1;32m   1520\u001b[0m     \u001b[0;32mdef\u001b[0m \u001b[0m_call_impl\u001b[0m\u001b[0;34m(\u001b[0m\u001b[0mself\u001b[0m\u001b[0;34m,\u001b[0m \u001b[0;34m*\u001b[0m\u001b[0margs\u001b[0m\u001b[0;34m,\u001b[0m \u001b[0;34m**\u001b[0m\u001b[0mkwargs\u001b[0m\u001b[0;34m)\u001b[0m\u001b[0;34m:\u001b[0m\u001b[0;34m\u001b[0m\u001b[0;34m\u001b[0m\u001b[0m\n",
      "\u001b[0;32m/cvmfs/sft.cern.ch/lcg/views/LCG_105_swan/x86_64-el9-gcc13-opt/lib/python3.9/site-packages/torch/nn/modules/module.py\u001b[0m in \u001b[0;36m_call_impl\u001b[0;34m(self, *args, **kwargs)\u001b[0m\n\u001b[1;32m   1525\u001b[0m                 \u001b[0;32mor\u001b[0m \u001b[0m_global_backward_pre_hooks\u001b[0m \u001b[0;32mor\u001b[0m \u001b[0m_global_backward_hooks\u001b[0m\u001b[0;34m\u001b[0m\u001b[0;34m\u001b[0m\u001b[0m\n\u001b[1;32m   1526\u001b[0m                 or _global_forward_hooks or _global_forward_pre_hooks):\n\u001b[0;32m-> 1527\u001b[0;31m             \u001b[0;32mreturn\u001b[0m \u001b[0mforward_call\u001b[0m\u001b[0;34m(\u001b[0m\u001b[0;34m*\u001b[0m\u001b[0margs\u001b[0m\u001b[0;34m,\u001b[0m \u001b[0;34m**\u001b[0m\u001b[0mkwargs\u001b[0m\u001b[0;34m)\u001b[0m\u001b[0;34m\u001b[0m\u001b[0;34m\u001b[0m\u001b[0m\n\u001b[0m\u001b[1;32m   1528\u001b[0m \u001b[0;34m\u001b[0m\u001b[0m\n\u001b[1;32m   1529\u001b[0m         \u001b[0;32mtry\u001b[0m\u001b[0;34m:\u001b[0m\u001b[0;34m\u001b[0m\u001b[0;34m\u001b[0m\u001b[0m\n",
      "\u001b[0;32m/cvmfs/sft.cern.ch/lcg/views/LCG_105_swan/x86_64-el9-gcc13-opt/lib/python3.9/site-packages/torch/nn/modules/linear.py\u001b[0m in \u001b[0;36mforward\u001b[0;34m(self, input)\u001b[0m\n\u001b[1;32m    112\u001b[0m \u001b[0;34m\u001b[0m\u001b[0m\n\u001b[1;32m    113\u001b[0m     \u001b[0;32mdef\u001b[0m \u001b[0mforward\u001b[0m\u001b[0;34m(\u001b[0m\u001b[0mself\u001b[0m\u001b[0;34m,\u001b[0m \u001b[0minput\u001b[0m\u001b[0;34m:\u001b[0m \u001b[0mTensor\u001b[0m\u001b[0;34m)\u001b[0m \u001b[0;34m->\u001b[0m \u001b[0mTensor\u001b[0m\u001b[0;34m:\u001b[0m\u001b[0;34m\u001b[0m\u001b[0;34m\u001b[0m\u001b[0m\n\u001b[0;32m--> 114\u001b[0;31m         \u001b[0;32mreturn\u001b[0m \u001b[0mF\u001b[0m\u001b[0;34m.\u001b[0m\u001b[0mlinear\u001b[0m\u001b[0;34m(\u001b[0m\u001b[0minput\u001b[0m\u001b[0;34m,\u001b[0m \u001b[0mself\u001b[0m\u001b[0;34m.\u001b[0m\u001b[0mweight\u001b[0m\u001b[0;34m,\u001b[0m \u001b[0mself\u001b[0m\u001b[0;34m.\u001b[0m\u001b[0mbias\u001b[0m\u001b[0;34m)\u001b[0m\u001b[0;34m\u001b[0m\u001b[0;34m\u001b[0m\u001b[0m\n\u001b[0m\u001b[1;32m    115\u001b[0m \u001b[0;34m\u001b[0m\u001b[0m\n\u001b[1;32m    116\u001b[0m     \u001b[0;32mdef\u001b[0m \u001b[0mextra_repr\u001b[0m\u001b[0;34m(\u001b[0m\u001b[0mself\u001b[0m\u001b[0;34m)\u001b[0m \u001b[0;34m->\u001b[0m \u001b[0mstr\u001b[0m\u001b[0;34m:\u001b[0m\u001b[0;34m\u001b[0m\u001b[0;34m\u001b[0m\u001b[0m\n",
      "\u001b[0;31mRuntimeError\u001b[0m: mat1 and mat2 shapes cannot be multiplied (1024x60 and 20x32)"
     ]
    }
   ],
   "source": [
    "# Train\n",
    "best_model = trainer.train(\n",
    "    num_epochs=NUM_EPOCHS, patience=PATIENCE,\n",
    "    train_dataloader=train_loader, val_dataloader=val_loader)"
   ]
  },
  {
   "cell_type": "code",
   "execution_count": null,
   "id": "ec51a830-390c-4c35-9cc4-2a3840f5f90c",
   "metadata": {},
   "outputs": [],
   "source": []
  },
  {
   "cell_type": "code",
   "execution_count": 36,
   "id": "710a3fe9-e2ff-44fc-b4b2-6522aac63a3c",
   "metadata": {},
   "outputs": [],
   "source": [
    "def mse_loss(true, prediction):\n",
    "    loss = np.mean(np.square(true - prediction), axis=-1)\n",
    "    return loss"
   ]
  },
  {
   "cell_type": "code",
   "execution_count": 37,
   "id": "86b88ec6-06c8-47dd-bfad-51ac0b4a0010",
   "metadata": {},
   "outputs": [],
   "source": [
    "def AD_score(y, x):\n",
    "    # masked mse\n",
    "    mask = (y != 0) & (y != -999)\n",
    "    _x = x * mask\n",
    "    _y = y * mask\n",
    "    return (mse_loss(_y, _x))"
   ]
  },
  {
   "cell_type": "code",
   "execution_count": 38,
   "id": "dae330a7-9556-4dbf-a5b8-289c94f4460d",
   "metadata": {},
   "outputs": [],
   "source": [
    "total_loss = []\n",
    "\n",
    "for i, prediction in enumerate(predictions):\n",
    "    total_loss.append(AD_score(y_true[i], prediction))"
   ]
  },
  {
   "cell_type": "code",
   "execution_count": 39,
   "id": "f0112a35-6e4a-4c4d-8890-1b94d5c7b758",
   "metadata": {},
   "outputs": [
    {
     "data": {
      "text/plain": [
       "<Figure size 1296x720 with 0 Axes>"
      ]
     },
     "metadata": {},
     "output_type": "display_data"
    },
    {
     "data": {
      "image/png": "[encoded data removed]",
      "text/plain": [
       "<Figure size 720x576 with 1 Axes>"
      ]
     },
     "metadata": {
      "needs_background": "light"
     },
     "output_type": "display_data"
    }
   ],
   "source": [
    "plt.figure(figsize=(18, 10))\n",
    "plt.rcParams['axes.linewidth'] = 2.4\n",
    "\n",
    "#bins = np.linspace(0, 50000, num=30)\n",
    "bins=30\n",
    "plt.figure(figsize=(10,8))\n",
    "for i, tag in enumerate(tags):\n",
    "    if i==0:\n",
    "        plt.hist(total_loss[i], bins=bins, label=tag, density = True, histtype='step', fill=False, linewidth=2.3, weights=weights_test)\n",
    "    else:\n",
    "        plt.hist(total_loss[i], bins=bins, label=tag, density = True, histtype='step', fill=False, linewidth=2.3)\n",
    "\n",
    "\n",
    "plt.yscale('log')\n",
    "plt.xlabel(\"Autoencoder Loss\", fontsize=16)\n",
    "plt.ylabel(\"Density (a.u.)\", fontsize=16)\n",
    "plt.title('MSE loss', fontsize=20)\n",
    "plt.legend(loc='best', fontsize=14)\n",
    "plt.grid()\n",
    "#plt.xlim(0, 0.2 * pow(10, 6))\n",
    "plt.show()"
   ]
  },
  {
   "cell_type": "code",
   "execution_count": 49,
   "id": "f3b019e6-2409-4676-9355-b4a407f1244a",
   "metadata": {},
   "outputs": [
    {
     "name": "stdout",
     "output_type": "stream",
     "text": [
      "data: TPR at FPR of 10^-4 is 0.0001 with threshold 3.2699\n"
     ]
    },
    {
     "data": {
      "image/png": "[encoded data removed]",
      "text/plain": [
       "<Figure size 720x576 with 1 Axes>"
      ]
     },
     "metadata": {
      "needs_background": "light"
     },
     "output_type": "display_data"
    }
   ],
   "source": [
    "target_background = np.zeros(total_loss[0].shape[0])\n",
    "\n",
    "plt.figure(figsize=(10,8))\n",
    "\n",
    "for i, label in enumerate(tags):\n",
    "    # Combine true labels, anomaly=1 and background=0\n",
    "    trueVal = np.concatenate((np.ones(total_loss[i].shape[0]), target_background))\n",
    "    \n",
    "    # Combine predictions from current dataset and background\n",
    "    predVal_loss = np.concatenate((total_loss[i], total_loss[0]))\n",
    "    \n",
    "    # Include weights for the EB data and assign no weight (or equal weight) for the other dataset\n",
    "    if i == 0:  # For the EB data\n",
    "        sample_weights = np.concatenate((weights_test, np.ones_like(target_background)))\n",
    "    else:  # For the MC datasets, assume equal weight\n",
    "        sample_weights = np.concatenate((np.ones(total_loss[i].shape[0]), np.ones_like(target_background)))\n",
    "\n",
    "    # Calculate ROC curve and AUC, including weights\n",
    "    fpr_loss, tpr_loss, threshold_loss = roc_curve(y_true=trueVal, y_score=predVal_loss, sample_weight=sample_weights)\n",
    "    auc_loss = auc(fpr_loss, tpr_loss)\n",
    "\n",
    "    # Plot ROC curve\n",
    "    plt.plot(fpr_loss, tpr_loss, \"-\", label='%s (auc = %.1f%%)' % (label, auc_loss*100.), linewidth=1.5)\n",
    "\n",
    "    # Find index where FPR is closest to 10^-4 and print TPR and threshold for that index\n",
    "    if i ==0: \n",
    "        target_fpr = 10**-4\n",
    "        idx = np.argmin(np.abs(fpr_loss - target_fpr))\n",
    "        print(f\"{label}: TPR at FPR of 10^-4 is {tpr_loss[idx]:.4f} with threshold {threshold_loss[idx]:.4f}\")\n",
    "        threshold = threshold_loss[idx]\n",
    "\n",
    "# Set log scale for x and y axis\n",
    "plt.semilogx()\n",
    "plt.semilogy()\n",
    "\n",
    "# Plot aesthetics and layout\n",
    "plt.ylabel(\"True Positive Rate\")\n",
    "plt.xlabel(\"False Positive Rate\")\n",
    "plt.legend(loc='center right')\n",
    "plt.grid(True)\n",
    "plt.tight_layout()\n",
    "\n",
    "# Additional plot elements\n",
    "plt.plot(np.linspace(0, 1), np.linspace(0, 1), '--', color='0.75')\n",
    "plt.axvline(0.0001, color='red', linestyle='dashed', linewidth=1)  # Threshold value\n",
    "plt.title(\"ROC AE\")\n",
    "plt.show()"
   ]
  },
  {
   "cell_type": "code",
   "execution_count": 50,
   "id": "7b166422-46c5-400e-a056-6aa337ee6fe4",
   "metadata": {},
   "outputs": [
    {
     "name": "stdout",
     "output_type": "stream",
     "text": [
      "-----\n",
      "data:\n",
      "HLT overlap: 0.0\n",
      "percentage of events that passed some HLT trigger: 0.03294768051004258\n",
      "percentage of events that we tagged as anomalous: 6.687621213134488e-05\n",
      "number of events that we tagged as anomalous: 3\n",
      "-----\n",
      "HHbbttHadHad:\n",
      "HLT overlap: 0.6340468909276249\n",
      "percentage of events that passed some HLT trigger: 0.03294768051004258\n",
      "percentage of events that we tagged as anomalous: 0.04905\n",
      "number of events that we tagged as anomalous: 981\n",
      "-----\n",
      "ZZ4lep:\n",
      "HLT overlap: 0.9275306748466258\n",
      "percentage of events that passed some HLT trigger: 0.03294768051004258\n",
      "percentage of events that we tagged as anomalous: 0.02608\n",
      "number of events that we tagged as anomalous: 2608\n",
      "-----\n",
      "Ztautau:\n",
      "HLT overlap: 0.18888888888888888\n",
      "percentage of events that passed some HLT trigger: 0.03294768051004258\n",
      "percentage of events that we tagged as anomalous: 0.0018\n",
      "number of events that we tagged as anomalous: 180\n",
      "-----\n",
      "jjJZ4:\n",
      "HLT overlap: 0.9789983844911146\n",
      "percentage of events that passed some HLT trigger: 0.03294768051004258\n",
      "percentage of events that we tagged as anomalous: 0.00619\n",
      "number of events that we tagged as anomalous: 619\n",
      "-----\n",
      "jjJZ2:\n",
      "HLT overlap: 0.03956043956043956\n",
      "percentage of events that passed some HLT trigger: 0.03294768051004258\n",
      "percentage of events that we tagged as anomalous: 0.00455\n",
      "number of events that we tagged as anomalous: 455\n",
      "-----\n",
      "qqa:\n",
      "HLT overlap: 0.17318435754189945\n",
      "percentage of events that passed some HLT trigger: 0.03294768051004258\n",
      "percentage of events that we tagged as anomalous: 0.00358\n",
      "number of events that we tagged as anomalous: 179\n"
     ]
    }
   ],
   "source": [
    "\"\"\"Print the HLT overlap (the percentage of events we found as anomalous that\n",
    "are already being triggered by the HLT)\"\"\"\n",
    "\n",
    "for i, tag in enumerate(tags):\n",
    "    anomaly_idxs = (total_loss[i] > threshold)\n",
    "    HLT_overlap = 0\n",
    "\n",
    "    if i ==0:\n",
    "        for a, h in zip(anomaly_idxs, pass_HLT_test):\n",
    "            if a==1 and h==1:\n",
    "                HLT_overlap += 1\n",
    "        HLT_overlap /= np.sum(anomaly_idxs)\n",
    "    else:\n",
    "        for a, h in zip(anomaly_idxs, pass_HLT[i]):\n",
    "            if a==1 and h==1:\n",
    "                HLT_overlap += 1\n",
    "        HLT_overlap /= np.sum(anomaly_idxs)\n",
    "\n",
    "    print(f'-----\\n{tag}:')\n",
    "    print(f'HLT overlap: {HLT_overlap}')\n",
    "    print(f'percentage of events that passed some HLT trigger: {np.sum(pass_HLT_test) / len(pass_HLT_test)}')\n",
    "    print(f'percentage of events that we tagged as anomalous: {np.sum(anomaly_idxs) / len(anomaly_idxs)}')\n",
    "    print(f'number of events that we tagged as anomalous: {np.sum(anomaly_idxs)}')"
   ]
  },
  {
   "cell_type": "code",
   "execution_count": 48,
   "id": "9b6c4d62-eea4-4ab0-82c9-05faf5f20faf",
   "metadata": {},
   "outputs": [],
   "source": [
    "DNN_AE.save('../../trained_models/DNN_AE_norm_v1.keras')"
   ]
  },
  {
   "cell_type": "markdown",
   "id": "7a0f428d-60f7-4238-b560-5c8c6e763cee",
   "metadata": {},
   "source": [
    "***\n",
    "<hr style=\"border:2px solid #F08080\">"
   ]
  },
  {
   "cell_type": "code",
   "execution_count": 55,
   "id": "db311f49-2554-4a6e-9ac2-c169c390d68b",
   "metadata": {},
   "outputs": [
    {
     "name": "stdout",
     "output_type": "stream",
     "text": [
      "HLT acceptance: 0.01663002240942737\n",
      "HLT rejection: 60.13221001031913\n"
     ]
    }
   ],
   "source": [
    "HLT_rate = np.sum(weights * pass_HLT[0]) / np.sum(weights)\n",
    "print(f'HLT acceptance: {HLT_rate}')\n",
    "print(f'HLT rejection: {1/HLT_rate}')"
   ]
  },
  {
   "cell_type": "code",
   "execution_count": null,
   "id": "0fa40c0b-bb7b-4fad-818e-54fb709ba252",
   "metadata": {},
   "outputs": [],
   "source": []
  }
 ],
 "metadata": {
  "kernelspec": {
   "display_name": "Python 3",
   "language": "python",
   "name": "python3"
  },
  "language_info": {
   "codemirror_mode": {
    "name": "ipython",
    "version": 3
   },
   "file_extension": ".py",
   "mimetype": "text/x-python",
   "name": "python",
   "nbconvert_exporter": "python",
   "pygments_lexer": "ipython3",
   "version": "3.9.12"
  }
 },
 "nbformat": 4,
 "nbformat_minor": 5
}
