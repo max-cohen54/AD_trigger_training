{
 "cells": [
  {
   "cell_type": "code",
   "execution_count": 1,
   "id": "b155d6bf-daf6-4f8e-b152-5b1f9ff6c65d",
   "metadata": {},
   "outputs": [
    {
     "name": "stderr",
     "output_type": "stream",
     "text": [
      "2024-04-06 02:03:30.391164: I tensorflow/core/util/port.cc:110] oneDNN custom operations are on. You may see slightly different numerical results due to floating-point round-off errors from different computation orders. To turn them off, set the environment variable `TF_ENABLE_ONEDNN_OPTS=0`.\n",
      "2024-04-06 02:03:30.875899: I tensorflow/core/platform/cpu_feature_guard.cc:182] This TensorFlow binary is optimized to use available CPU instructions in performance-critical operations.\n",
      "To enable the following instructions: AVX2 AVX512F AVX512_VNNI FMA, in other operations, rebuild TensorFlow with the appropriate compiler flags.\n"
     ]
    }
   ],
   "source": [
    "import numpy as np\n",
    "import matplotlib.pyplot as plt\n",
    "import h5py\n",
    "import random\n",
    "import sklearn\n",
    "import collections\n",
    "from sklearn.model_selection import train_test_split\n",
    "import json\n",
    "import pylab\n",
    "from scipy.optimize import curve_fit\n",
    "from tensorflow.keras import layers, Model\n",
    "import tensorflow.keras.backend as K\n",
    "from tensorflow.keras.callbacks import EarlyStopping, ReduceLROnPlateau\n",
    "from tensorflow.keras.models import load_model\n",
    "from sklearn.metrics import roc_curve, auc"
   ]
  },
  {
   "cell_type": "code",
   "execution_count": 2,
   "id": "2ca30d05-fa82-40d9-ad19-9b0580e3873a",
   "metadata": {},
   "outputs": [
    {
     "name": "stdout",
     "output_type": "stream",
     "text": [
      "GPUs Available: []\n",
      "Eager execution: True\n",
      "No GPU found!\n"
     ]
    }
   ],
   "source": [
    "import tensorflow as tf\n",
    "\n",
    "# Check GPUs available\n",
    "gpus = tf.config.list_physical_devices('GPU')\n",
    "print(f\"GPUs Available: {gpus}\")\n",
    "\n",
    "# Check if TensorFlow is currently executing eagerly (which means operations are executed as they are defined and is the default mode in TF 2.x)\n",
    "print(f\"Eager execution: {tf.executing_eagerly()}\")\n",
    "\n",
    "# If you have GPUs listed and eager execution is enabled, then operations should automatically run on the GPU if possible.\n",
    "# To test if TensorFlow will place tensors and operations on the GPU by default, you can create a simple operation and see where it is placed:\n",
    "if gpus:\n",
    "    with tf.device('/GPU:0'):\n",
    "        a = tf.constant([[1.0, 2.0, 3.0], [4.0, 5.0, 6.0]])\n",
    "        print(a.device)\n",
    "else:\n",
    "    print(\"No GPU found!\")"
   ]
  },
  {
   "cell_type": "code",
   "execution_count": 2,
   "id": "70452ce1-6a7c-4f03-b52c-9c5b88c8a16d",
   "metadata": {},
   "outputs": [],
   "source": [
    "# This is the list that will hold all of the data (data22 and MC)\n",
    "\n",
    "datasets = []\n",
    "pass_L1 = []\n",
    "tags = ['data', 'HHbbttHadHad', 'ZZ4lep', 'Ztautau', 'jjJZ4', 'jjJZ2', 'qqa', 'LLP', 'dark_jets', 'dark_photons']"
   ]
  },
  {
   "cell_type": "code",
   "execution_count": 3,
   "id": "4dc47606-52d7-4fe2-97f9-3f0c02ba8d2b",
   "metadata": {},
   "outputs": [],
   "source": [
    "# Read EB file\n",
    "with h5py.File('../../../../ntuples/AOD_EB_ntuples_04-04-2024.h5', 'r') as hf:\n",
    "    HLT_jets = hf['HLT_jets'][:]\n",
    "    L1_jFexSR_jets = hf['L1_jFexSR_jets'][:]\n",
    "    L1_jFexLR_jets = hf['L1_jFexLR_jets'][:]\n",
    "    HLT_electrons = hf['HLT_electrons'][:]\n",
    "    LRT_electrons = hf['LRT_electrons'][:]\n",
    "    L1_egammas = hf['L1_egammas'][:]\n",
    "    HLT_muons = hf['HLT_muons'][:]\n",
    "    LRT_muons = hf['LRT_muons'][:]\n",
    "    L1_muons = hf['L1_muons'][:]\n",
    "    L1_eFex_taus = hf['L1_eFex_taus'][:]\n",
    "    L1_jFex_taus = hf['L1_jFex_taus'][:]\n",
    "    HLT_photons = hf['HLT_photons'][:]\n",
    "    HLT_MET = hf['HLT_MET'][:].reshape(-1, 1, 4)  # Broadcasting MET\n",
    "    L1_MET = (hf['L1_MET'][:])[:, [0, 2, 3]].reshape(-1, 1, 3)\n",
    "    pass_L1_unprescaled = hf[\"pass_L1_unprescaled\"][:]\n",
    "    pass_HLT_unprescaled = hf[\"pass_HLT_unprescaled\"][:]\n",
    "    EB_weights = hf[\"EB_weights\"][:]"
   ]
  },
  {
   "cell_type": "code",
   "execution_count": 4,
   "id": "f9c39723-8713-4f4f-b668-4bf61021f3db",
   "metadata": {},
   "outputs": [
    {
     "name": "stdout",
     "output_type": "stream",
     "text": [
      "(997315, 6, 3)\n",
      "(997315, 1, 3)\n"
     ]
    }
   ],
   "source": [
    "print(L1_jFexSR_jets.shape)\n",
    "print(L1_MET.shape)"
   ]
  },
  {
   "cell_type": "code",
   "execution_count": 5,
   "id": "99292488-4061-432b-a040-85390555575d",
   "metadata": {},
   "outputs": [],
   "source": [
    "# Concatenate L1 data\n",
    "topo2A_data = np.concatenate([L1_jFexSR_jets, L1_muons, L1_eFex_taus, L1_jFex_taus, L1_MET], axis=1)\n",
    "# topo3A_data = np.concatenate([L1_jFexSR_jets, L1_egammas, L1_eFex_taus, L1_jFex_taus, L1_MET], axis=1)\n",
    "# topo2B_data = np.concatenate([L1_jFexSR_jets, L1_egammas, L1_jFex_taus, L1_MET], axis=1)\n",
    "\n",
    "weights = np.copy(EB_weights)"
   ]
  },
  {
   "cell_type": "code",
   "execution_count": 6,
   "id": "7c6d2f3c-16e4-4707-875a-c5181704764e",
   "metadata": {},
   "outputs": [
    {
     "data": {
      "image/png": "[encoded data removed]",
      "text/plain": [
       "<Figure size 1008x576 with 1 Axes>"
      ]
     },
     "metadata": {
      "needs_background": "light"
     },
     "output_type": "display_data"
    }
   ],
   "source": [
    "# Plotting pt distribtions of the jets from each dataset\n",
    "\n",
    "plt.figure(figsize=(14, 8))\n",
    "plt.rcParams['axes.linewidth'] = 2.4\n",
    "#bins = np.linspace(0, 2000, 35)\n",
    "bins=50\n",
    "\n",
    "pt = topo2A_data[:, 0, 0]\n",
    "nonzero_pt = pt[pt > 0]\n",
    "\n",
    "\n",
    "nonzero_weights = weights[pt > 0]\n",
    "plt.hist(nonzero_pt, bins=bins, label='L1 Jets', histtype='step', density=True, fill=False, linewidth=3, weights=nonzero_weights)\n",
    "\n",
    "\n",
    "plt.yscale('log')\n",
    "plt.xlabel('jet pt', fontsize=22)\n",
    "plt.ylabel('density', fontsize=22)\n",
    "plt.title('Leading Jet PT', fontsize=30)\n",
    "plt.grid()\n",
    "plt.legend(fontsize=18)\n",
    "plt.show()"
   ]
  },
  {
   "cell_type": "code",
   "execution_count": 7,
   "id": "01c1f898-4e32-4dc2-8ce9-bbbee5cf1f95",
   "metadata": {},
   "outputs": [],
   "source": [
    "\"\"\"Met bias. For some events, MET was not calculated, so was written as -999.\n",
    "We don't want this to impact training, so we map 0 --> 0.001 and -999 --> 0\"\"\"\n",
    "\n",
    "# MET: 0 --> 0.001 and -999 --> 0 and nan --> 0\n",
    "MET_zeros = (topo2A_data[:, 24, 0] == 0) # indices where MET=0\n",
    "MET_999 = ((topo2A_data[:, 24, 0] == -999)) # indices where MET=-999 (not calculated)\n",
    "MET_nan = np.isnan(topo2A_data[:, 24, 2])\n",
    "topo2A_data[MET_zeros, 24, 0] = 0.001\n",
    "topo2A_data[MET_999, 24, :] = 0\n",
    "topo2A_data[MET_nan, 24, :] = 0"
   ]
  },
  {
   "cell_type": "code",
   "execution_count": 8,
   "id": "5645afa8-6daa-4c5a-9d37-a1ae0320b510",
   "metadata": {},
   "outputs": [],
   "source": [
    "\"\"\"Normalize pt \"\"\"\n",
    "\n",
    "# sum of the pt and E in each event\n",
    "sum_pt = np.sum(topo2A_data[:, :, 0], axis=1, keepdims=True)\n",
    "\n",
    "# If the sum is 0, set the sum to 1 to avoid division by 0\n",
    "sum_pt[sum_pt == 0] = 1\n",
    "\n",
    "# Divide pt and E by their respective sums\n",
    "topo2A_data[:, :, 0] /= sum_pt"
   ]
  },
  {
   "cell_type": "code",
   "execution_count": 9,
   "id": "e4632e47-4a4d-447c-99c5-ec49613051d6",
   "metadata": {},
   "outputs": [
    {
     "name": "stdout",
     "output_type": "stream",
     "text": [
      "(997315, 25, 3)\n"
     ]
    }
   ],
   "source": [
    "print(topo2A_data.shape)"
   ]
  },
  {
   "cell_type": "code",
   "execution_count": 10,
   "id": "8c193dca-2249-4ec8-961a-d8d01d2b60f8",
   "metadata": {},
   "outputs": [
    {
     "name": "stdout",
     "output_type": "stream",
     "text": [
      "(997315, 75)\n"
     ]
    }
   ],
   "source": [
    "# Flatten for use in DNN\n",
    "\n",
    "topo2A_data = np.reshape(topo2A_data, newshape=(-1, 75))\n",
    "print(topo2A_data.shape)"
   ]
  },
  {
   "cell_type": "code",
   "execution_count": 11,
   "id": "326b9956-935e-49bf-a0e6-5807a43df091",
   "metadata": {},
   "outputs": [],
   "source": [
    "def create_AE(input_dim, h_dim_1, h_dim_2, latent_dim):\n",
    "    # Encoder\n",
    "    inputs = layers.Input(shape=(input_dim,))\n",
    "    x = layers.Dense(h_dim_1, activation='relu')(inputs)\n",
    "    x = layers.Dense(h_dim_2, activation='relu')(x)\n",
    "    z = layers.Dense(latent_dim, activation='relu')(x)\n",
    "\n",
    "    # Decoder\n",
    "    x = layers.Dense(h_dim_2, activation='relu')(z)\n",
    "    x = layers.Dense(h_dim_1, activation='relu')(x)\n",
    "    outputs = layers.Dense(input_dim)(x)\n",
    "\n",
    "    model = Model(inputs=inputs, outputs=outputs)\n",
    "    return model"
   ]
  },
  {
   "cell_type": "code",
   "execution_count": 12,
   "id": "ecb27501-5a79-4a19-8a23-63c19bc1cbcf",
   "metadata": {},
   "outputs": [],
   "source": [
    "def loss_fn(y_true, y_pred):\n",
    "    \"\"\"masked mse\"\"\"\n",
    "    mask0 = K.cast(K.not_equal(y_true, 0), K.floatx())\n",
    "    maskMET = K.cast(K.not_equal(y_true, -999), K.floatx())\n",
    "    mask = mask0 * maskMET\n",
    "    squared_difference = K.square(mask * (y_pred - y_true))\n",
    "    return K.mean(squared_difference)"
   ]
  },
  {
   "cell_type": "code",
   "execution_count": 13,
   "id": "f9c12ce5-6e25-4e5b-a845-97cc026b8447",
   "metadata": {},
   "outputs": [
    {
     "name": "stdout",
     "output_type": "stream",
     "text": [
      "X_train: (498657, 75)\n",
      "X_val: (99731, 75)\n",
      "X_test_1: (199463, 75)\n",
      "X_test_2: (199463, 75)\n"
     ]
    }
   ],
   "source": [
    "# Make train, test, val splits\n",
    "\n",
    "# TRAIN_SIZE = 0.5\n",
    "# VAL_SIZE = 0.1\n",
    "# TEST_1_SIZE = 0.2\n",
    "# TEST_2_SIZE = 0.2\n",
    "\n",
    "X_train, X_, weights_train, weights_, pass_L1_train, pass_L1_ = train_test_split(topo2A_data, weights, pass_L1_unprescaled, train_size=0.5)\n",
    "X_val, X_, weights_val, weights_, pass_L1_val, pass_L1_ = train_test_split(X_, weights_, pass_L1_, train_size=0.2) # 0.1 of original data\n",
    "X_test_1, X_test_2, weights_test_1, weights_test_2, pass_L1_test_1, pass_L1_test_2 = train_test_split(X_, weights_, pass_L1_, train_size=0.5) # 0.2 of original data\n",
    "\n",
    "print(f'X_train: {X_train.shape}')\n",
    "print(f'X_val: {X_val.shape}')\n",
    "print(f'X_test_1: {X_test_1.shape}')\n",
    "print(f'X_test_2: {X_test_1.shape}')"
   ]
  },
  {
   "cell_type": "code",
   "execution_count": 14,
   "id": "4b77099d-5ad9-40f0-93a5-6401df2cfa67",
   "metadata": {},
   "outputs": [
    {
     "name": "stdout",
     "output_type": "stream",
     "text": [
      "Model: \"model\"\n",
      "_________________________________________________________________\n",
      " Layer (type)                Output Shape              Param #   \n",
      "=================================================================\n",
      " input_1 (InputLayer)        [(None, 75)]              0         \n",
      "                                                                 \n",
      " dense (Dense)               (None, 32)                2432      \n",
      "                                                                 \n",
      " dense_1 (Dense)             (None, 8)                 264       \n",
      "                                                                 \n",
      " dense_2 (Dense)             (None, 3)                 27        \n",
      "                                                                 \n",
      " dense_3 (Dense)             (None, 8)                 32        \n",
      "                                                                 \n",
      " dense_4 (Dense)             (None, 32)                288       \n",
      "                                                                 \n",
      " dense_5 (Dense)             (None, 75)                2475      \n",
      "                                                                 \n",
      "=================================================================\n",
      "Total params: 5518 (21.55 KB)\n",
      "Trainable params: 5518 (21.55 KB)\n",
      "Non-trainable params: 0 (0.00 Byte)\n",
      "_________________________________________________________________\n"
     ]
    }
   ],
   "source": [
    "# Initialize model\n",
    "INPUT_DIM = X_train.shape[1]\n",
    "H_DIM_1 = 32\n",
    "H_DIM_2 = 8\n",
    "LATENT_DIM = 3\n",
    "DNN_AE = create_AE(input_dim=INPUT_DIM, h_dim_1=H_DIM_1, h_dim_2=H_DIM_2, latent_dim=LATENT_DIM)\n",
    "DNN_AE.summary()"
   ]
  },
  {
   "cell_type": "code",
   "execution_count": 15,
   "id": "ec38be7f-05f7-49c6-bef7-c7954714cac2",
   "metadata": {},
   "outputs": [],
   "source": [
    "DNN_AE.compile(optimizer='adam', loss=loss_fn)"
   ]
  },
  {
   "cell_type": "code",
   "execution_count": 16,
   "id": "07d15e17-fc19-4da1-9a96-a8e309627cac",
   "metadata": {},
   "outputs": [],
   "source": [
    "# Define callbacks: early stopping and learning rate scheduler\n",
    "\n",
    "STOP_PATIENCE = 8\n",
    "LR_PATIENCE = 4\n",
    "\n",
    "early_stopping = EarlyStopping(patience=STOP_PATIENCE, restore_best_weights=True)\n",
    "reduce_lr = ReduceLROnPlateau(monitor='val_loss', factor=0.1, patience=LR_PATIENCE, verbose=1)\n",
    "\n",
    "callbacks = [early_stopping, reduce_lr]"
   ]
  },
  {
   "cell_type": "code",
   "execution_count": 17,
   "id": "28c1676f-f08b-4a24-8e98-c3bb4adb55b6",
   "metadata": {},
   "outputs": [],
   "source": [
    "NUM_EPOCHS = 500\n",
    "BATCH_SIZE = 1024"
   ]
  },
  {
   "cell_type": "code",
   "execution_count": 18,
   "id": "f458f54d-fbef-4f9f-9402-b68886bc3058",
   "metadata": {},
   "outputs": [
    {
     "name": "stdout",
     "output_type": "stream",
     "text": [
      "Epoch 1/500\n",
      "487/487 [==============================] - 4s 5ms/step - loss: 30338.5234 - val_loss: 0.2645 - lr: 0.0010\n",
      "Epoch 2/500\n",
      "487/487 [==============================] - 2s 4ms/step - loss: 24654.1426 - val_loss: 0.2550 - lr: 0.0010\n",
      "Epoch 3/500\n",
      "487/487 [==============================] - 2s 4ms/step - loss: 24124.8789 - val_loss: 0.2515 - lr: 0.0010\n",
      "Epoch 4/500\n",
      "487/487 [==============================] - 2s 4ms/step - loss: 23865.0332 - val_loss: 0.2492 - lr: 0.0010\n",
      "Epoch 5/500\n",
      "487/487 [==============================] - 2s 4ms/step - loss: 23637.4355 - val_loss: 0.2472 - lr: 0.0010\n",
      "Epoch 6/500\n",
      "487/487 [==============================] - 2s 4ms/step - loss: 23457.6895 - val_loss: 0.2456 - lr: 0.0010\n",
      "Epoch 7/500\n",
      "487/487 [==============================] - 2s 4ms/step - loss: 23309.4688 - val_loss: 0.2440 - lr: 0.0010\n",
      "Epoch 8/500\n",
      "487/487 [==============================] - 2s 4ms/step - loss: 23166.9902 - val_loss: 0.2424 - lr: 0.0010\n",
      "Epoch 9/500\n",
      "487/487 [==============================] - 2s 4ms/step - loss: 23031.7012 - val_loss: 0.2409 - lr: 0.0010\n",
      "Epoch 10/500\n",
      "487/487 [==============================] - 2s 4ms/step - loss: 22884.0879 - val_loss: 0.2395 - lr: 0.0010\n",
      "Epoch 11/500\n",
      "487/487 [==============================] - 2s 4ms/step - loss: 22760.5664 - val_loss: 0.2382 - lr: 0.0010\n",
      "Epoch 12/500\n",
      "487/487 [==============================] - 2s 4ms/step - loss: 22649.5742 - val_loss: 0.2369 - lr: 0.0010\n",
      "Epoch 13/500\n",
      "487/487 [==============================] - 2s 4ms/step - loss: 22542.9961 - val_loss: 0.2358 - lr: 0.0010\n",
      "Epoch 14/500\n",
      "487/487 [==============================] - 2s 4ms/step - loss: 22445.0938 - val_loss: 0.2348 - lr: 0.0010\n",
      "Epoch 15/500\n",
      "487/487 [==============================] - 2s 4ms/step - loss: 22345.2148 - val_loss: 0.2335 - lr: 0.0010\n",
      "Epoch 16/500\n",
      "487/487 [==============================] - 2s 4ms/step - loss: 22248.9355 - val_loss: 0.2328 - lr: 0.0010\n",
      "Epoch 17/500\n",
      "487/487 [==============================] - 2s 4ms/step - loss: 22146.2109 - val_loss: 0.2314 - lr: 0.0010\n",
      "Epoch 18/500\n",
      "487/487 [==============================] - 2s 4ms/step - loss: 22023.3359 - val_loss: 0.2300 - lr: 0.0010\n",
      "Epoch 19/500\n",
      "487/487 [==============================] - 2s 4ms/step - loss: 21897.1250 - val_loss: 0.2285 - lr: 0.0010\n",
      "Epoch 20/500\n",
      "487/487 [==============================] - 2s 4ms/step - loss: 21742.6660 - val_loss: 0.2269 - lr: 0.0010\n",
      "Epoch 21/500\n",
      "487/487 [==============================] - 2s 4ms/step - loss: 21596.6074 - val_loss: 0.2252 - lr: 0.0010\n",
      "Epoch 22/500\n",
      "487/487 [==============================] - 2s 4ms/step - loss: 21445.9238 - val_loss: 0.2238 - lr: 0.0010\n",
      "Epoch 23/500\n",
      "487/487 [==============================] - 2s 4ms/step - loss: 21297.7754 - val_loss: 0.2224 - lr: 0.0010\n",
      "Epoch 24/500\n",
      "487/487 [==============================] - 2s 4ms/step - loss: 21171.8066 - val_loss: 0.2211 - lr: 0.0010\n",
      "Epoch 25/500\n",
      "487/487 [==============================] - 2s 4ms/step - loss: 21059.3203 - val_loss: 0.2202 - lr: 0.0010\n",
      "Epoch 26/500\n",
      "487/487 [==============================] - 2s 4ms/step - loss: 20973.9668 - val_loss: 0.2190 - lr: 0.0010\n",
      "Epoch 27/500\n",
      "487/487 [==============================] - 2s 4ms/step - loss: 20875.5820 - val_loss: 0.2181 - lr: 0.0010\n",
      "Epoch 28/500\n",
      "487/487 [==============================] - 2s 4ms/step - loss: 20798.9004 - val_loss: 0.2172 - lr: 0.0010\n",
      "Epoch 29/500\n",
      "487/487 [==============================] - 2s 4ms/step - loss: 20719.9629 - val_loss: 0.2163 - lr: 0.0010\n",
      "Epoch 30/500\n",
      "487/487 [==============================] - 2s 4ms/step - loss: 20644.2500 - val_loss: 0.2158 - lr: 0.0010\n",
      "Epoch 31/500\n",
      "487/487 [==============================] - 2s 4ms/step - loss: 20579.9199 - val_loss: 0.2152 - lr: 0.0010\n",
      "Epoch 32/500\n",
      "487/487 [==============================] - 2s 4ms/step - loss: 20506.8398 - val_loss: 0.2144 - lr: 0.0010\n",
      "Epoch 33/500\n",
      "487/487 [==============================] - 2s 4ms/step - loss: 20443.0918 - val_loss: 0.2138 - lr: 0.0010\n",
      "Epoch 34/500\n",
      "487/487 [==============================] - 2s 4ms/step - loss: 20386.4297 - val_loss: 0.2134 - lr: 0.0010\n",
      "Epoch 35/500\n",
      "487/487 [==============================] - 2s 4ms/step - loss: 20314.9707 - val_loss: 0.2126 - lr: 0.0010\n",
      "Epoch 36/500\n",
      "487/487 [==============================] - 2s 4ms/step - loss: 20248.9297 - val_loss: 0.2118 - lr: 0.0010\n",
      "Epoch 37/500\n",
      "487/487 [==============================] - 2s 4ms/step - loss: 20209.7363 - val_loss: 0.2117 - lr: 0.0010\n",
      "Epoch 38/500\n",
      "487/487 [==============================] - 2s 4ms/step - loss: 20153.1914 - val_loss: 0.2108 - lr: 0.0010\n",
      "Epoch 39/500\n",
      "487/487 [==============================] - 2s 4ms/step - loss: 20101.4590 - val_loss: 0.2103 - lr: 0.0010\n",
      "Epoch 40/500\n",
      "487/487 [==============================] - 2s 4ms/step - loss: 20048.2129 - val_loss: 0.2099 - lr: 0.0010\n",
      "Epoch 41/500\n",
      "487/487 [==============================] - 2s 4ms/step - loss: 20012.0254 - val_loss: 0.2093 - lr: 0.0010\n",
      "Epoch 42/500\n",
      "487/487 [==============================] - 2s 4ms/step - loss: 19960.5820 - val_loss: 0.2089 - lr: 0.0010\n",
      "Epoch 43/500\n",
      "487/487 [==============================] - 2s 4ms/step - loss: 19927.9199 - val_loss: 0.2088 - lr: 0.0010\n",
      "Epoch 44/500\n",
      "487/487 [==============================] - 2s 4ms/step - loss: 19902.5332 - val_loss: 0.2085 - lr: 0.0010\n",
      "Epoch 45/500\n",
      "487/487 [==============================] - 2s 4ms/step - loss: 19870.4727 - val_loss: 0.2078 - lr: 0.0010\n",
      "Epoch 46/500\n",
      "487/487 [==============================] - 2s 4ms/step - loss: 19828.1602 - val_loss: 0.2075 - lr: 0.0010\n",
      "Epoch 47/500\n",
      "487/487 [==============================] - 2s 4ms/step - loss: 19793.1367 - val_loss: 0.2071 - lr: 0.0010\n",
      "Epoch 48/500\n",
      "487/487 [==============================] - 2s 4ms/step - loss: 19762.3184 - val_loss: 0.2071 - lr: 0.0010\n",
      "Epoch 49/500\n",
      "487/487 [==============================] - 2s 4ms/step - loss: 19729.3359 - val_loss: 0.2067 - lr: 0.0010\n",
      "Epoch 50/500\n",
      "487/487 [==============================] - 2s 4ms/step - loss: 19700.2578 - val_loss: 0.2062 - lr: 0.0010\n",
      "Epoch 51/500\n",
      "487/487 [==============================] - 2s 4ms/step - loss: 19669.2129 - val_loss: 0.2062 - lr: 0.0010\n",
      "Epoch 52/500\n",
      "487/487 [==============================] - 2s 4ms/step - loss: 19650.2168 - val_loss: 0.2056 - lr: 0.0010\n",
      "Epoch 53/500\n",
      "487/487 [==============================] - 2s 4ms/step - loss: 19622.1895 - val_loss: 0.2052 - lr: 0.0010\n",
      "Epoch 54/500\n",
      "487/487 [==============================] - 2s 4ms/step - loss: 19593.7480 - val_loss: 0.2052 - lr: 0.0010\n",
      "Epoch 55/500\n",
      "487/487 [==============================] - 2s 4ms/step - loss: 19569.8691 - val_loss: 0.2053 - lr: 0.0010\n",
      "Epoch 56/500\n",
      "487/487 [==============================] - 2s 4ms/step - loss: 19543.0273 - val_loss: 0.2046 - lr: 0.0010\n",
      "Epoch 57/500\n",
      "487/487 [==============================] - 2s 4ms/step - loss: 19525.7891 - val_loss: 0.2049 - lr: 0.0010\n",
      "Epoch 58/500\n",
      "487/487 [==============================] - 2s 4ms/step - loss: 19505.8184 - val_loss: 0.2045 - lr: 0.0010\n",
      "Epoch 59/500\n",
      "487/487 [==============================] - 2s 4ms/step - loss: 19493.6367 - val_loss: 0.2044 - lr: 0.0010\n",
      "Epoch 60/500\n",
      "487/487 [==============================] - 2s 4ms/step - loss: 19479.3438 - val_loss: 0.2042 - lr: 0.0010\n",
      "Epoch 61/500\n",
      "487/487 [==============================] - 2s 4ms/step - loss: 19490.4707 - val_loss: 0.2039 - lr: 0.0010\n",
      "Epoch 62/500\n",
      "487/487 [==============================] - 2s 4ms/step - loss: 19471.1914 - val_loss: 0.2040 - lr: 0.0010\n",
      "Epoch 63/500\n",
      "487/487 [==============================] - 2s 4ms/step - loss: 19446.5000 - val_loss: 0.2040 - lr: 0.0010\n",
      "Epoch 64/500\n",
      "487/487 [==============================] - 2s 4ms/step - loss: 19442.0293 - val_loss: 0.2035 - lr: 0.0010\n",
      "Epoch 65/500\n",
      "487/487 [==============================] - 2s 4ms/step - loss: 19421.9160 - val_loss: 0.2036 - lr: 0.0010\n",
      "Epoch 66/500\n",
      "487/487 [==============================] - 2s 4ms/step - loss: 19434.8223 - val_loss: 0.2038 - lr: 0.0010\n",
      "Epoch 67/500\n",
      "487/487 [==============================] - 2s 4ms/step - loss: 19412.2715 - val_loss: 0.2033 - lr: 0.0010\n",
      "Epoch 68/500\n",
      "487/487 [==============================] - 2s 4ms/step - loss: 19383.1230 - val_loss: 0.2032 - lr: 0.0010\n",
      "Epoch 69/500\n",
      "487/487 [==============================] - 2s 4ms/step - loss: 19364.3320 - val_loss: 0.2028 - lr: 0.0010\n",
      "Epoch 70/500\n",
      "487/487 [==============================] - 2s 4ms/step - loss: 19344.0859 - val_loss: 0.2026 - lr: 0.0010\n",
      "Epoch 71/500\n",
      "487/487 [==============================] - 2s 4ms/step - loss: 19343.0332 - val_loss: 0.2028 - lr: 0.0010\n",
      "Epoch 72/500\n",
      "487/487 [==============================] - 2s 4ms/step - loss: 19318.7402 - val_loss: 0.2024 - lr: 0.0010\n",
      "Epoch 73/500\n",
      "487/487 [==============================] - 2s 4ms/step - loss: 19311.1875 - val_loss: 0.2023 - lr: 0.0010\n",
      "Epoch 74/500\n",
      "487/487 [==============================] - 2s 4ms/step - loss: 19304.9102 - val_loss: 0.2021 - lr: 0.0010\n",
      "Epoch 75/500\n",
      "487/487 [==============================] - 2s 4ms/step - loss: 19294.5957 - val_loss: 0.2023 - lr: 0.0010\n",
      "Epoch 76/500\n",
      "487/487 [==============================] - 2s 4ms/step - loss: 19278.3379 - val_loss: 0.2019 - lr: 0.0010\n",
      "Epoch 77/500\n",
      "487/487 [==============================] - 2s 4ms/step - loss: 19262.4766 - val_loss: 0.2016 - lr: 0.0010\n",
      "Epoch 78/500\n",
      "487/487 [==============================] - 2s 4ms/step - loss: 19226.9863 - val_loss: 0.2015 - lr: 0.0010\n",
      "Epoch 79/500\n",
      "487/487 [==============================] - 2s 4ms/step - loss: 19217.8867 - val_loss: 0.2013 - lr: 0.0010\n",
      "Epoch 80/500\n",
      "487/487 [==============================] - 2s 5ms/step - loss: 19177.3203 - val_loss: 0.2011 - lr: 0.0010\n",
      "Epoch 81/500\n",
      "487/487 [==============================] - 2s 5ms/step - loss: 19148.1055 - val_loss: 0.2008 - lr: 0.0010\n",
      "Epoch 82/500\n",
      "487/487 [==============================] - 2s 4ms/step - loss: 19101.8965 - val_loss: 0.2003 - lr: 0.0010\n",
      "Epoch 83/500\n",
      "487/487 [==============================] - 2s 4ms/step - loss: 19069.2910 - val_loss: 0.1997 - lr: 0.0010\n",
      "Epoch 84/500\n",
      "487/487 [==============================] - 2s 4ms/step - loss: 19049.0625 - val_loss: 0.1996 - lr: 0.0010\n",
      "Epoch 85/500\n",
      "487/487 [==============================] - 2s 4ms/step - loss: 19030.4355 - val_loss: 0.1994 - lr: 0.0010\n",
      "Epoch 86/500\n",
      "487/487 [==============================] - 2s 4ms/step - loss: 18994.2012 - val_loss: 0.1991 - lr: 0.0010\n",
      "Epoch 87/500\n",
      "487/487 [==============================] - 2s 4ms/step - loss: 18978.5117 - val_loss: 0.1989 - lr: 0.0010\n",
      "Epoch 88/500\n",
      "487/487 [==============================] - 2s 4ms/step - loss: 18958.7383 - val_loss: 0.1986 - lr: 0.0010\n",
      "Epoch 89/500\n",
      "487/487 [==============================] - 2s 4ms/step - loss: 18926.1914 - val_loss: 0.1987 - lr: 0.0010\n",
      "Epoch 90/500\n",
      "487/487 [==============================] - 2s 4ms/step - loss: 18913.8652 - val_loss: 0.1981 - lr: 0.0010\n",
      "Epoch 91/500\n",
      "487/487 [==============================] - 2s 4ms/step - loss: 18880.8848 - val_loss: 0.1979 - lr: 0.0010\n",
      "Epoch 92/500\n",
      "487/487 [==============================] - 2s 4ms/step - loss: 18866.5156 - val_loss: 0.1977 - lr: 0.0010\n",
      "Epoch 93/500\n",
      "487/487 [==============================] - 2s 4ms/step - loss: 18841.6172 - val_loss: 0.1974 - lr: 0.0010\n",
      "Epoch 94/500\n",
      "487/487 [==============================] - 2s 4ms/step - loss: 18822.1348 - val_loss: 0.1971 - lr: 0.0010\n",
      "Epoch 95/500\n",
      "487/487 [==============================] - 2s 4ms/step - loss: 18817.9629 - val_loss: 0.1971 - lr: 0.0010\n",
      "Epoch 96/500\n",
      "487/487 [==============================] - 2s 4ms/step - loss: 18789.8398 - val_loss: 0.1970 - lr: 0.0010\n",
      "Epoch 97/500\n",
      "487/487 [==============================] - 2s 4ms/step - loss: 18766.7930 - val_loss: 0.1968 - lr: 0.0010\n",
      "Epoch 98/500\n",
      "487/487 [==============================] - 2s 4ms/step - loss: 18745.9785 - val_loss: 0.1963 - lr: 0.0010\n",
      "Epoch 99/500\n",
      "487/487 [==============================] - 2s 4ms/step - loss: 18716.5566 - val_loss: 0.1964 - lr: 0.0010\n",
      "Epoch 100/500\n",
      "487/487 [==============================] - 2s 4ms/step - loss: 18704.7168 - val_loss: 0.1961 - lr: 0.0010\n",
      "Epoch 101/500\n",
      "487/487 [==============================] - 2s 4ms/step - loss: 18691.5020 - val_loss: 0.1960 - lr: 0.0010\n",
      "Epoch 102/500\n",
      "487/487 [==============================] - 2s 4ms/step - loss: 18676.6953 - val_loss: 0.1960 - lr: 0.0010\n",
      "Epoch 103/500\n",
      "487/487 [==============================] - 2s 4ms/step - loss: 18659.7129 - val_loss: 0.1957 - lr: 0.0010\n",
      "Epoch 104/500\n",
      "487/487 [==============================] - 2s 4ms/step - loss: 18647.8652 - val_loss: 0.1956 - lr: 0.0010\n",
      "Epoch 105/500\n",
      "487/487 [==============================] - 2s 4ms/step - loss: 18639.1230 - val_loss: 0.1957 - lr: 0.0010\n",
      "Epoch 106/500\n",
      "487/487 [==============================] - 2s 4ms/step - loss: 18607.6562 - val_loss: 0.1950 - lr: 0.0010\n",
      "Epoch 107/500\n",
      "487/487 [==============================] - 2s 4ms/step - loss: 18585.9199 - val_loss: 0.1949 - lr: 0.0010\n",
      "Epoch 108/500\n",
      "487/487 [==============================] - 2s 4ms/step - loss: 18559.6387 - val_loss: 0.1944 - lr: 0.0010\n",
      "Epoch 109/500\n",
      "487/487 [==============================] - 2s 4ms/step - loss: 18544.5352 - val_loss: 0.1946 - lr: 0.0010\n",
      "Epoch 110/500\n",
      "487/487 [==============================] - 2s 4ms/step - loss: 18508.1191 - val_loss: 0.1943 - lr: 0.0010\n",
      "Epoch 111/500\n",
      "487/487 [==============================] - 2s 4ms/step - loss: 18496.2773 - val_loss: 0.1942 - lr: 0.0010\n",
      "Epoch 112/500\n",
      "487/487 [==============================] - 2s 4ms/step - loss: 18491.0918 - val_loss: 0.1938 - lr: 0.0010\n",
      "Epoch 113/500\n",
      "487/487 [==============================] - 2s 4ms/step - loss: 18465.1582 - val_loss: 0.1937 - lr: 0.0010\n",
      "Epoch 114/500\n",
      "487/487 [==============================] - 2s 4ms/step - loss: 18461.5918 - val_loss: 0.1938 - lr: 0.0010\n",
      "Epoch 115/500\n",
      "487/487 [==============================] - 2s 4ms/step - loss: 18452.6934 - val_loss: 0.1936 - lr: 0.0010\n",
      "Epoch 116/500\n",
      "487/487 [==============================] - 2s 4ms/step - loss: 18435.5371 - val_loss: 0.1934 - lr: 0.0010\n",
      "Epoch 117/500\n",
      "487/487 [==============================] - 2s 4ms/step - loss: 18418.2930 - val_loss: 0.1934 - lr: 0.0010\n",
      "Epoch 118/500\n",
      "487/487 [==============================] - 2s 4ms/step - loss: 18413.3125 - val_loss: 0.1933 - lr: 0.0010\n",
      "Epoch 119/500\n",
      "487/487 [==============================] - 2s 4ms/step - loss: 18399.7285 - val_loss: 0.1933 - lr: 0.0010\n",
      "Epoch 120/500\n",
      "487/487 [==============================] - 2s 4ms/step - loss: 18381.5898 - val_loss: 0.1929 - lr: 0.0010\n",
      "Epoch 121/500\n",
      "487/487 [==============================] - 2s 4ms/step - loss: 18367.7168 - val_loss: 0.1924 - lr: 0.0010\n",
      "Epoch 122/500\n",
      "487/487 [==============================] - 2s 4ms/step - loss: 18362.7012 - val_loss: 0.1928 - lr: 0.0010\n",
      "Epoch 123/500\n",
      "487/487 [==============================] - 2s 4ms/step - loss: 18348.4355 - val_loss: 0.1924 - lr: 0.0010\n",
      "Epoch 124/500\n",
      "487/487 [==============================] - 2s 4ms/step - loss: 18327.3359 - val_loss: 0.1925 - lr: 0.0010\n",
      "Epoch 125/500\n",
      "487/487 [==============================] - 2s 4ms/step - loss: 18320.6387 - val_loss: 0.1921 - lr: 0.0010\n",
      "Epoch 126/500\n",
      "487/487 [==============================] - 2s 4ms/step - loss: 18341.4863 - val_loss: 0.1921 - lr: 0.0010\n",
      "Epoch 127/500\n",
      "487/487 [==============================] - 2s 4ms/step - loss: 18316.9297 - val_loss: 0.1920 - lr: 0.0010\n",
      "Epoch 128/500\n",
      "487/487 [==============================] - 2s 4ms/step - loss: 18299.1953 - val_loss: 0.1923 - lr: 0.0010\n",
      "Epoch 129/500\n",
      "487/487 [==============================] - 2s 4ms/step - loss: 18281.5801 - val_loss: 0.1919 - lr: 0.0010\n",
      "Epoch 130/500\n",
      "487/487 [==============================] - 2s 4ms/step - loss: 18287.0957 - val_loss: 0.1920 - lr: 0.0010\n",
      "Epoch 131/500\n",
      "478/487 [============================>.] - ETA: 0s - loss: 18305.8223\n",
      "Epoch 131: ReduceLROnPlateau reducing learning rate to 0.00010000000474974513.\n",
      "487/487 [==============================] - 2s 4ms/step - loss: 18305.5273 - val_loss: 0.1919 - lr: 0.0010\n",
      "Epoch 132/500\n",
      "487/487 [==============================] - 2s 4ms/step - loss: 18190.2168 - val_loss: 0.1909 - lr: 1.0000e-04\n",
      "Epoch 133/500\n",
      "487/487 [==============================] - 2s 4ms/step - loss: 18172.7715 - val_loss: 0.1908 - lr: 1.0000e-04\n",
      "Epoch 134/500\n",
      "487/487 [==============================] - 2s 4ms/step - loss: 18160.3281 - val_loss: 0.1910 - lr: 1.0000e-04\n",
      "Epoch 135/500\n",
      "487/487 [==============================] - 2s 4ms/step - loss: 18155.9668 - val_loss: 0.1908 - lr: 1.0000e-04\n",
      "Epoch 136/500\n",
      "487/487 [==============================] - 2s 4ms/step - loss: 18155.7207 - val_loss: 0.1908 - lr: 1.0000e-04\n",
      "Epoch 137/500\n",
      "487/487 [==============================] - 2s 4ms/step - loss: 18155.4766 - val_loss: 0.1907 - lr: 1.0000e-04\n",
      "Epoch 138/500\n",
      "487/487 [==============================] - 2s 4ms/step - loss: 18150.8555 - val_loss: 0.1907 - lr: 1.0000e-04\n",
      "Epoch 139/500\n",
      "477/487 [============================>.] - ETA: 0s - loss: 18145.4766\n",
      "Epoch 139: ReduceLROnPlateau reducing learning rate to 1.0000000474974514e-05.\n",
      "487/487 [==============================] - 2s 4ms/step - loss: 18142.1113 - val_loss: 0.1908 - lr: 1.0000e-04\n",
      "Epoch 140/500\n",
      "487/487 [==============================] - 2s 4ms/step - loss: 18119.8711 - val_loss: 0.1906 - lr: 1.0000e-05\n",
      "Epoch 141/500\n",
      "487/487 [==============================] - 2s 4ms/step - loss: 18116.1426 - val_loss: 0.1906 - lr: 1.0000e-05\n",
      "Epoch 142/500\n",
      "487/487 [==============================] - 2s 4ms/step - loss: 18114.5020 - val_loss: 0.1906 - lr: 1.0000e-05\n",
      "Epoch 143/500\n",
      "487/487 [==============================] - 2s 4ms/step - loss: 18109.7266 - val_loss: 0.1906 - lr: 1.0000e-05\n",
      "Epoch 144/500\n",
      "480/487 [============================>.] - ETA: 0s - loss: 18106.0762\n",
      "Epoch 144: ReduceLROnPlateau reducing learning rate to 1.0000000656873453e-06.\n",
      "487/487 [==============================] - 2s 4ms/step - loss: 18109.2266 - val_loss: 0.1906 - lr: 1.0000e-05\n",
      "Epoch 145/500\n",
      "487/487 [==============================] - 2s 4ms/step - loss: 18105.7383 - val_loss: 0.1906 - lr: 1.0000e-06\n",
      "Epoch 146/500\n",
      "487/487 [==============================] - 2s 4ms/step - loss: 18104.6289 - val_loss: 0.1906 - lr: 1.0000e-06\n",
      "Epoch 147/500\n",
      "487/487 [==============================] - 2s 4ms/step - loss: 18105.1152 - val_loss: 0.1906 - lr: 1.0000e-06\n",
      "Epoch 148/500\n",
      "487/487 [==============================] - ETA: 0s - loss: 18108.2012\n",
      "Epoch 148: ReduceLROnPlateau reducing learning rate to 1.0000001111620805e-07.\n",
      "487/487 [==============================] - 2s 4ms/step - loss: 18108.2012 - val_loss: 0.1906 - lr: 1.0000e-06\n",
      "Epoch 149/500\n",
      "487/487 [==============================] - 2s 4ms/step - loss: 18105.6875 - val_loss: 0.1906 - lr: 1.0000e-07\n",
      "Epoch 150/500\n",
      "487/487 [==============================] - 2s 4ms/step - loss: 18105.3125 - val_loss: 0.1906 - lr: 1.0000e-07\n",
      "Epoch 151/500\n",
      "487/487 [==============================] - 2s 4ms/step - loss: 18107.3223 - val_loss: 0.1906 - lr: 1.0000e-07\n",
      "Epoch 152/500\n",
      "486/487 [============================>.] - ETA: 0s - loss: 18104.3438\n",
      "Epoch 152: ReduceLROnPlateau reducing learning rate to 1.000000082740371e-08.\n",
      "487/487 [==============================] - 2s 4ms/step - loss: 18105.1387 - val_loss: 0.1906 - lr: 1.0000e-07\n",
      "Epoch 153/500\n",
      "487/487 [==============================] - 2s 4ms/step - loss: 18105.7305 - val_loss: 0.1906 - lr: 1.0000e-08\n"
     ]
    }
   ],
   "source": [
    "history = DNN_AE.fit(x=X_train, y=X_train, validation_data=(X_val, X_val), epochs=NUM_EPOCHS, batch_size=BATCH_SIZE, callbacks=callbacks, sample_weight = weights_train)"
   ]
  },
  {
   "cell_type": "code",
   "execution_count": 19,
   "id": "a9d232d5-d330-4dde-a3d7-7ba15f1964c1",
   "metadata": {},
   "outputs": [],
   "source": [
    "DNN_AE.save_weights('./trained_models/EB_L1_AE_weights.keras')"
   ]
  },
  {
   "cell_type": "code",
   "execution_count": null,
   "id": "cd1b0875-9701-4c25-b588-53110c2ff5af",
   "metadata": {},
   "outputs": [],
   "source": [
    "DNN_AE.load_weights('./trained_models/EB_L1_AE_weights.keras')"
   ]
  },
  {
   "cell_type": "code",
   "execution_count": 20,
   "id": "2a117b31-42e7-44d0-bd42-75964365d17d",
   "metadata": {},
   "outputs": [
    {
     "name": "stdout",
     "output_type": "stream",
     "text": [
      "6234/6234 [==============================] - 9s 1ms/step\n",
      "6234/6234 [==============================] - 8s 1ms/step\n"
     ]
    }
   ],
   "source": [
    "# Pass the test split through the model\n",
    "\n",
    "y_true_1 = np.copy(X_test_1)\n",
    "model_outputs_1 = DNN_AE.predict(X_test_1)\n",
    "\n",
    "y_true_2 = np.copy(X_test_2)\n",
    "model_outputs_2 = DNN_AE.predict(X_test_2)"
   ]
  },
  {
   "cell_type": "code",
   "execution_count": 21,
   "id": "710a3fe9-e2ff-44fc-b4b2-6522aac63a3c",
   "metadata": {},
   "outputs": [],
   "source": [
    "def mse_loss(true, prediction):\n",
    "    loss = np.mean(np.square(true - prediction), axis=-1)\n",
    "    return loss"
   ]
  },
  {
   "cell_type": "code",
   "execution_count": 22,
   "id": "86b88ec6-06c8-47dd-bfad-51ac0b4a0010",
   "metadata": {},
   "outputs": [],
   "source": [
    "def AD_score(y, x):\n",
    "    # masked mse\n",
    "    mask = (y != 0) & (y != -999)\n",
    "    _x = x * mask\n",
    "    _y = y * mask\n",
    "    return (mse_loss(_y, _x))"
   ]
  },
  {
   "cell_type": "code",
   "execution_count": 23,
   "id": "dae330a7-9556-4dbf-a5b8-289c94f4460d",
   "metadata": {},
   "outputs": [],
   "source": [
    "# Calculate the AD scores on test split and signals\n",
    "\n",
    "AD_scores_1 = AD_score(y_true_1, model_outputs_1)\n",
    "AD_scores_2 = AD_score(y_true_2, model_outputs_2)"
   ]
  },
  {
   "cell_type": "code",
   "execution_count": 25,
   "id": "f0112a35-6e4a-4c4d-8890-1b94d5c7b758",
   "metadata": {},
   "outputs": [
    {
     "data": {
      "text/plain": [
       "<Figure size 1296x720 with 0 Axes>"
      ]
     },
     "metadata": {},
     "output_type": "display_data"
    },
    {
     "data": {
      "image/png": "[encoded data removed]",
      "text/plain": [
       "<Figure size 720x576 with 1 Axes>"
      ]
     },
     "metadata": {
      "needs_background": "light"
     },
     "output_type": "display_data"
    }
   ],
   "source": [
    "# Plot a histogram of the AD scores\n",
    "\n",
    "plt.figure(figsize=(18, 10))\n",
    "plt.rcParams['axes.linewidth'] = 2.4\n",
    "\n",
    "#bins = np.linspace(0, 50000, num=30)\n",
    "bins=30\n",
    "plt.figure(figsize=(10,8))\n",
    "\n",
    "plt.hist(AD_scores_1, bins=bins, label='data', density = True, histtype='step', fill=False, linewidth=2.3, weights=weights_test_1)\n",
    "   \n",
    "\n",
    "plt.yscale('log')\n",
    "plt.xlabel(\"Autoencoder Loss\", fontsize=16)\n",
    "plt.ylabel(\"Density (a.u.)\", fontsize=16)\n",
    "plt.title('MSE loss', fontsize=20)\n",
    "plt.legend(loc='best', fontsize=14)\n",
    "plt.grid()\n",
    "#plt.xlim(0, 0.2 * pow(10, 6))\n",
    "plt.show()"
   ]
  },
  {
   "cell_type": "code",
   "execution_count": 29,
   "id": "f3b019e6-2409-4676-9355-b4a407f1244a",
   "metadata": {},
   "outputs": [
    {
     "name": "stdout",
     "output_type": "stream",
     "text": [
      "TPR at FPR of 10^-4 is 0.0000 with threshold 2.2509\n",
      "threshold FPR: 9.950046798845858e-06\n"
     ]
    },
    {
     "data": {
      "image/png": "[encoded data removed]",
      "text/plain": [
       "<Figure size 612x489.6 with 1 Axes>"
      ]
     },
     "metadata": {
      "needs_background": "light"
     },
     "output_type": "display_data"
    }
   ],
   "source": [
    "# Plot the ROC curves\n",
    "\n",
    "target_background = np.zeros(AD_scores_2.shape[0])\n",
    "\n",
    "plt.figure(figsize=(8.5,6.8))\n",
    "\n",
    "\n",
    "# Combine true labels, anomaly=1 and background=0\n",
    "trueVal = np.concatenate((np.ones(AD_scores_1.shape[0]), target_background))\n",
    "\n",
    "# Combine predictions from current dataset and background\n",
    "predVal_loss = np.concatenate((AD_scores_1, AD_scores_2))\n",
    "\n",
    "sample_weights = np.concatenate((weights_test_1, weights_test_2))\n",
    "\n",
    "# Calculate ROC curve and AUC, including weights\n",
    "fpr_loss, tpr_loss, threshold_loss = roc_curve(y_true=trueVal, y_score=predVal_loss, sample_weight=sample_weights)\n",
    "auc_loss = auc(fpr_loss, tpr_loss)\n",
    "\n",
    "# Plot ROC curve\n",
    "plt.plot(fpr_loss, tpr_loss, \"-\", label='%s (auc = %.1f%%)' % ('data', auc_loss*100.), linewidth=1.5)\n",
    "\n",
    "# Find index where FPR is closest to 10^-5 and print TPR and threshold for that index\n",
    "\n",
    "target_fpr = 10**-5\n",
    "idx = np.argmin(np.abs(fpr_loss - target_fpr))\n",
    "print(f\"TPR at FPR of 10^-4 is {tpr_loss[idx]:.4f} with threshold {threshold_loss[idx]:.4f}\")\n",
    "print(f\"threshold FPR: {fpr_loss[idx]}\")\n",
    "threshold = threshold_loss[idx]\n",
    "plt.plot(np.linspace(0, 1), np.linspace(0, 1), '--', color='0.75')\n",
    "#plt.axvline(fpr_loss[idx], color='red', linestyle='dashed', linewidth=2, label=fpr_loss[idx])  # Threshold value\n",
    "\n",
    "# Set log scale for x and y axis\n",
    "plt.semilogx()\n",
    "plt.semilogy()\n",
    "\n",
    "# Plot aesthetics and layout\n",
    "plt.ylabel(\"True Positive Rate\", fontsize=16)\n",
    "plt.xlabel(\"False Positive Rate\", fontsize=16)\n",
    "plt.legend(loc='lower right', fontsize=13)\n",
    "plt.grid(True)\n",
    "plt.tight_layout()\n",
    "\n",
    "# Additional plot elements\n",
    "\n",
    "#plt.title(\"ROC Curve\", fontsize)\n",
    "plt.show()"
   ]
  },
  {
   "cell_type": "code",
   "execution_count": 37,
   "id": "77b7473f-e7d0-434a-a795-dcf007f6e0f2",
   "metadata": {},
   "outputs": [
    {
     "name": "stdout",
     "output_type": "stream",
     "text": [
      "L1 overlap: 0.65\n",
      "inverse overlap: 1.0001597116064707\n",
      "percentage of events that passed some L1 trigger: 0.21973498844397207\n",
      "percentage of events that we tagged as anomalous: 0.0001002692228633882\n",
      "number of events that we tagged as anomalous: 20\n"
     ]
    }
   ],
   "source": [
    "\"\"\"Print the L1 overlap (the percentage of events we found as anomalous that\n",
    "are already being triggered by the HLT)\n",
    "and Inverse Overlap (the additional amount of signal we trigger on compared to \n",
    "just the HLT)\"\"\"\n",
    "\n",
    "\n",
    "anomaly_idxs = (AD_scores_1 > threshold)\n",
    "L1_overlap = 0\n",
    "inverse_overlap=0\n",
    "\n",
    "\n",
    "for a, h in zip(anomaly_idxs, pass_L1_test_1):\n",
    "    if a==1 and h==1:\n",
    "        L1_overlap += 1\n",
    "        \n",
    "    if a==1 or h==1:\n",
    "        inverse_overlap += 1\n",
    "        \n",
    "L1_overlap /= np.sum(anomaly_idxs)\n",
    "inverse_overlap /= np.sum(pass_L1_test_1)\n",
    "\n",
    "\n",
    "\n",
    "print(f'L1 overlap: {L1_overlap}')\n",
    "print(f'inverse overlap: {inverse_overlap}')\n",
    "print(f'percentage of events that passed some L1 trigger: {np.sum(pass_L1_test_1) / len(pass_L1_test_1)}')\n",
    "print(f'percentage of events that we tagged as anomalous: {np.sum(anomaly_idxs) / len(anomaly_idxs)}')\n",
    "print(f'number of events that we tagged as anomalous: {np.sum(anomaly_idxs)}')"
   ]
  },
  {
   "cell_type": "code",
   "execution_count": 41,
   "id": "db311f49-2554-4a6e-9ac2-c169c390d68b",
   "metadata": {},
   "outputs": [
    {
     "name": "stdout",
     "output_type": "stream",
     "text": [
      "L1 rate: 66110.81941213104\n",
      "L1 acceptance: 0.001652770485303276\n",
      "L1 rejection: 3020.2114156233765\n"
     ]
    }
   ],
   "source": [
    "# As a sanity check, calculate the L1 rate from our list of triggers\n",
    "\n",
    "L1_rate = np.sum(weights_test_1 * pass_L1_test_1) / np.sum(weights_test_1)\n",
    "print(f'L1 rate: {L1_rate * 40e6}')\n",
    "print(f'L1 acceptance: {L1_rate}')\n",
    "print(f'L1 rejection: {1/HLT_rate}')"
   ]
  },
  {
   "cell_type": "code",
   "execution_count": 42,
   "id": "8028440b-2fe0-45da-a5b9-231694cb6879",
   "metadata": {},
   "outputs": [
    {
     "name": "stdout",
     "output_type": "stream",
     "text": [
      "L1 rate: 66110.81941213104\n",
      "L1 + AD rate: 66934.12869310525\n",
      "rate added by AD: 823.3092809742035\n"
     ]
    }
   ],
   "source": [
    "# Calculate the additional rate added by our trigger\n",
    "\n",
    "HLT_numerator = 0\n",
    "HLT_denominator = 0\n",
    "HLT_AD_numerator = 0\n",
    "HLT_AD_denominator = 0\n",
    "\n",
    "\n",
    "anomaly_idxs = (AD_scores_1 > threshold)\n",
    "HLT_numerator += np.sum(weights_test_1 * pass_L1_test_1)\n",
    "HLT_denominator += np.sum(weights_test_1)\n",
    "\n",
    "HLT_AD_numerator += np.sum(weights_test_1 * np.bitwise_or(anomaly_idxs, pass_L1_test_1))\n",
    "HLT_AD_denominator += np.sum(weights_test_1)\n",
    "\n",
    "\n",
    "\n",
    "HLT_acceptance = HLT_numerator / HLT_denominator\n",
    "HLT_AD_acceptance = HLT_AD_numerator / HLT_AD_denominator\n",
    "\n",
    "# Multiply by 40 MHz since there are 40MHz going INTO the L1\n",
    "print(f'L1 rate: {HLT_acceptance * 40e6}')\n",
    "print(f'L1 + AD rate: {HLT_AD_acceptance * 40e6}')\n",
    "print(f'rate added by AD: {(HLT_AD_acceptance - HLT_acceptance) * 40e6}')"
   ]
  },
  {
   "cell_type": "code",
   "execution_count": 43,
   "id": "6c041337-7501-4834-a7f9-c226798bf529",
   "metadata": {},
   "outputs": [],
   "source": [
    "# Calculate the additional rate added by the AD trigger for each FPR\n",
    "\n",
    "rates = []\n",
    "overlaps = []\n",
    "for i, fpr in enumerate(fpr_loss):\n",
    "    threshold = threshold_loss[i]\n",
    "\n",
    "    # Calcaulte rates\n",
    "    # ----------------------------------------\n",
    "    HLT_numerator = 0\n",
    "    HLT_denominator = 0\n",
    "    HLT_AD_numerator = 0\n",
    "    HLT_AD_denominator = 0\n",
    "    \n",
    "    \n",
    "    anomaly_idxs = (AD_scores_1 > threshold)\n",
    "    HLT_numerator += np.sum(weights_test_1 * pass_L1_test_1)\n",
    "    HLT_denominator += np.sum(weights_test_1)\n",
    "    \n",
    "    HLT_AD_numerator += np.sum(weights_test_1 * np.bitwise_or(anomaly_idxs, pass_L1_test_1))\n",
    "    HLT_AD_denominator += np.sum(weights_test_1)\n",
    "    \n",
    "    \n",
    "    \n",
    "    HLT_acceptance = HLT_numerator / HLT_denominator\n",
    "    HLT_AD_acceptance = HLT_AD_numerator / HLT_AD_denominator\n",
    "    \n",
    "    # Multiply by 40 MHz since there are 40MHz going INTO the L1\n",
    "    rates.append((HLT_AD_acceptance - HLT_acceptance) * 40e6)\n",
    "    # ---------------------------------------------------------\n",
    "\n",
    "    # Calculate HLT Overlap (this takes too long to run, maybe there's a better way to do this)\n",
    "    # --------------------------------------------\n",
    "    # anomaly_idxs = (total_loss[0] > threshold)\n",
    "    # HLT_overlap = 0\n",
    "    # inverse_overlap=0\n",
    "\n",
    "    \n",
    "    # for a, h in zip(anomaly_idxs, pass_HLT_test):\n",
    "    #     if a==1 and h==1:\n",
    "    #         HLT_overlap += 1\n",
    "        \n",
    "    # HLT_overlap /= np.sum(anomaly_idxs)\n",
    "    # overlaps.append(HLT_overlap)"
   ]
  },
  {
   "cell_type": "code",
   "execution_count": 44,
   "id": "a7f529e8-e0fd-40c3-bd86-2a99e79dbd0c",
   "metadata": {},
   "outputs": [
    {
     "data": {
      "image/png": "[encoded data removed]",
      "text/plain": [
       "<Figure size 612x489.6 with 1 Axes>"
      ]
     },
     "metadata": {
      "needs_background": "light"
     },
     "output_type": "display_data"
    }
   ],
   "source": [
    "# Plot the additional rate vs FPR\n",
    "\n",
    "plt.figure(figsize=(8.5,6.8))\n",
    "\n",
    "plt.plot(fpr_loss, rates, color='navy', linewidth=2.5)\n",
    "\n",
    "# Set log scale for x and y axis\n",
    "plt.semilogx()\n",
    "plt.semilogy()\n",
    "\n",
    "# Plot aesthetics and layout\n",
    "plt.ylabel(\"Additional Rate\", fontsize=16)\n",
    "plt.xlabel(\"False Positive Rate\", fontsize=16)\n",
    "#plt.legend(loc='lower right', fontsize=13)\n",
    "plt.grid(True)\n",
    "plt.tight_layout()\n",
    "\n",
    "# Additional plot elements\n",
    "#plt.title(\"ROC Curve\", fontsize)\n",
    "plt.show()"
   ]
  },
  {
   "cell_type": "code",
   "execution_count": null,
   "id": "d4a846f8-c0cc-47ec-81ca-d5156fd0f053",
   "metadata": {},
   "outputs": [],
   "source": []
  }
 ],
 "metadata": {
  "kernelspec": {
   "display_name": "Python 3",
   "language": "python",
   "name": "python3"
  },
  "language_info": {
   "codemirror_mode": {
    "name": "ipython",
    "version": 3
   },
   "file_extension": ".py",
   "mimetype": "text/x-python",
   "name": "python",
   "nbconvert_exporter": "python",
   "pygments_lexer": "ipython3",
   "version": "3.9.12"
  }
 },
 "nbformat": 4,
 "nbformat_minor": 5
}
