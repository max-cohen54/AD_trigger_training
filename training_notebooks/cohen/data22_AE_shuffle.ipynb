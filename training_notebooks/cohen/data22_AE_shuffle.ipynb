{
 "cells": [
  {
   "cell_type": "code",
   "execution_count": 65,
   "id": "b155d6bf-daf6-4f8e-b152-5b1f9ff6c65d",
   "metadata": {},
   "outputs": [],
   "source": [
    "import numpy as np\n",
    "import matplotlib.pyplot as plt\n",
    "import h5py\n",
    "import random\n",
    "import sklearn\n",
    "import collections\n",
    "from sklearn.model_selection import train_test_split\n",
    "import json\n",
    "import pylab\n",
    "from scipy.optimize import curve_fit\n",
    "from tensorflow.keras import layers, Model\n",
    "import tensorflow.keras.backend as K\n",
    "from tensorflow.keras.callbacks import EarlyStopping, ReduceLROnPlateau\n",
    "from tensorflow.keras.models import load_model\n",
    "from sklearn.metrics import roc_curve, auc\n",
    "import keras"
   ]
  },
  {
   "cell_type": "code",
   "execution_count": 26,
   "id": "2ca30d05-fa82-40d9-ad19-9b0580e3873a",
   "metadata": {},
   "outputs": [
    {
     "name": "stdout",
     "output_type": "stream",
     "text": [
      "GPUs Available: []\n",
      "Eager execution: True\n",
      "No GPU found!\n"
     ]
    }
   ],
   "source": [
    "import tensorflow as tf\n",
    "\n",
    "# Check GPUs available\n",
    "gpus = tf.config.list_physical_devices('GPU')\n",
    "print(f\"GPUs Available: {gpus}\")\n",
    "\n",
    "# Check if TensorFlow is currently executing eagerly (which means operations are executed as they are defined and is the default mode in TF 2.x)\n",
    "print(f\"Eager execution: {tf.executing_eagerly()}\")\n",
    "\n",
    "# If you have GPUs listed and eager execution is enabled, then operations should automatically run on the GPU if possible.\n",
    "# To test if TensorFlow will place tensors and operations on the GPU by default, you can create a simple operation and see where it is placed:\n",
    "if gpus:\n",
    "    with tf.device('/GPU:0'):\n",
    "        a = tf.constant([[1.0, 2.0, 3.0], [4.0, 5.0, 6.0]])\n",
    "        print(a.device)\n",
    "else:\n",
    "    print(\"No GPU found!\")"
   ]
  },
  {
   "cell_type": "code",
   "execution_count": 30,
   "id": "70452ce1-6a7c-4f03-b52c-9c5b88c8a16d",
   "metadata": {},
   "outputs": [],
   "source": [
    "# This is the list that will hold all of the data (data22 and MC)\n",
    "\n",
    "datasets = []\n",
    "tags = ['data', 'HHbbttHadHad', 'ZZ4lep', 'Ztautau', 'jjJZ4', 'jjJZ2', 'qqa']"
   ]
  },
  {
   "cell_type": "code",
   "execution_count": 31,
   "id": "4dc47606-52d7-4fe2-97f9-3f0c02ba8d2b",
   "metadata": {},
   "outputs": [],
   "source": [
    "# Read EB data22 file\n",
    "\n",
    "with h5py.File('../../../../ntuples/AOD_EB_ntuples_02-10-2024.h5', 'r') as hf:\n",
    "    jets = hf['HLT_jets'][:]\n",
    "    electrons = hf['electrons'][:]\n",
    "    LRT_electrons = hf['LRT_electrons'][:]\n",
    "    muons = hf['muons'][:]\n",
    "    LRT_muons = hf['LRT_muons'][:]\n",
    "    photons = hf['photons'][:]\n",
    "    MET = hf['MET'][:].reshape(-1, 1, 4)  # Broadcasting MET\n",
    "    pass_L1_unprescaled = hf[\"pass_L1_unprescaled\"][:]\n",
    "    pass_HLT_unprescaled = hf[\"pass_HLT_unprescaled\"][:]\n",
    "    EB_weights = hf[\"EB_weights\"][:]"
   ]
  },
  {
   "cell_type": "code",
   "execution_count": 32,
   "id": "f9c39723-8713-4f4f-b668-4bf61021f3db",
   "metadata": {},
   "outputs": [
    {
     "name": "stdout",
     "output_type": "stream",
     "text": [
      "(1019220, 10, 4)\n"
     ]
    }
   ],
   "source": [
    "print(jets.shape)"
   ]
  },
  {
   "cell_type": "code",
   "execution_count": 33,
   "id": "99292488-4061-432b-a040-85390555575d",
   "metadata": {},
   "outputs": [],
   "source": [
    "# Collect only events that passed any of our unprescaled L1 list, and concatenate. Remove E.\n",
    "\n",
    "pass_L1_idxs = (pass_L1_unprescaled == 1) # Indices of events that passed L1\n",
    "pass_HLT_unprescaled = pass_HLT_unprescaled[pass_L1_idxs]\n",
    "data = np.concatenate([jets[pass_L1_idxs], electrons[pass_L1_idxs], muons[pass_L1_idxs], photons[pass_L1_idxs], MET[pass_L1_idxs]], axis=1)\n",
    "weights = EB_weights[pass_L1_idxs]\n",
    "datasets.append(data[:, :, [0, 2, 3]])"
   ]
  },
  {
   "cell_type": "code",
   "execution_count": 34,
   "id": "d1499194-94d7-4c01-a58d-f9ccef5584ce",
   "metadata": {},
   "outputs": [],
   "source": [
    "# Read MC data. Remove E.\n",
    "\n",
    "filenames = ['MC_HHbbttHadHad_ntuples.h5', 'MC_ZZ4lep_ntuples.h5', 'MC_Ztautau_ntuples.h5', 'MC_jj_ntuples.h5', 'AOD_jjJZ2_02-09-2024.h5', 'MC_qqa_ntuples.h5']\n",
    "data_path = '../../../../ntuples/'\n",
    "\n",
    "for filename in filenames:\n",
    "    with h5py.File(data_path+filename, 'r') as hf:\n",
    "        try:\n",
    "            jets = hf['jets'][:]\n",
    "        except Exception as e:\n",
    "            jets = hf['HLT_jets'][:]\n",
    "        electrons = hf['electrons'][:]\n",
    "        muons = hf['muons'][:]\n",
    "        photons = hf['photons'][:]\n",
    "        MET = hf['MET'][:].reshape(-1, 1, 4)  # Broadcasting MET\n",
    "\n",
    "        combined_data = np.concatenate([jets, electrons, muons, photons, MET], axis=1)\n",
    "        datasets.append(combined_data[0:min(len(combined_data), 100000), :, [0, 2, 3]])"
   ]
  },
  {
   "cell_type": "code",
   "execution_count": 35,
   "id": "01c1f898-4e32-4dc2-8ce9-bbbee5cf1f95",
   "metadata": {},
   "outputs": [],
   "source": [
    "\"\"\"Met bias. For some events, MET was not calculated, so was written as -999.\n",
    "We don't want this to impact training, so we map 0 --> 0.001 and -999 --> 0\"\"\"\n",
    "for i, data in enumerate(datasets):\n",
    "\n",
    "    # MET: 0 --> 0.001 and -999 --> 0 and nan --> 0\n",
    "    MET_zeros = (data[:, 19, 0] == 0) # indices where MET=0\n",
    "    MET_999 = ((data[:, 19, 0] == -999)) # indices where MET=-999 (not calculated)\n",
    "    MET_nan = np.isnan(data[:, 19, 2])\n",
    "    data[MET_zeros, 19, 0] = 0.001\n",
    "    data[MET_999, 19, :] = 0\n",
    "    data[MET_nan, 19, :] = 0"
   ]
  },
  {
   "cell_type": "code",
   "execution_count": 36,
   "id": "5645afa8-6daa-4c5a-9d37-a1ae0320b510",
   "metadata": {},
   "outputs": [],
   "source": [
    "\"\"\"Normalize pt \"\"\"\n",
    "for i, data in enumerate(datasets):\n",
    "    # sum of the pt and E in each event\n",
    "    sum_pt = np.sum(data[:, :, 0], axis=1, keepdims=True)\n",
    "\n",
    "    # If the sum is 0, set the sum to 1 to avoid division by 0\n",
    "    sum_pt[sum_pt == 0] = 1\n",
    "\n",
    "    # Divide pt and E by their respective sums\n",
    "    data[:, :, 0] /= sum_pt"
   ]
  },
  {
   "cell_type": "code",
   "execution_count": 37,
   "id": "42ae00ae-25b3-425f-89b2-a2ad99950050",
   "metadata": {},
   "outputs": [
    {
     "name": "stdout",
     "output_type": "stream",
     "text": [
      "data: (224294, 20, 3)\n",
      "HHbbttHadHad: (10000, 20, 3)\n",
      "ZZ4lep: (9998, 20, 3)\n",
      "Ztautau: (39901, 20, 3)\n",
      "jjJZ4: (5000, 20, 3)\n",
      "jjJZ2: (100000, 20, 3)\n",
      "qqa: (30000, 20, 3)\n"
     ]
    }
   ],
   "source": [
    "for i, dataset in enumerate(datasets):\n",
    "    print(f'{tags[i]}: {dataset.shape}')"
   ]
  },
  {
   "cell_type": "code",
   "execution_count": 38,
   "id": "0c983f31-0cd4-4d0f-8e59-5bb03af74729",
   "metadata": {},
   "outputs": [
    {
     "data": {
      "image/png": "[encoded data removed]",
      "text/plain": [
       "<Figure size 1008x576 with 1 Axes>"
      ]
     },
     "metadata": {
      "needs_background": "light"
     },
     "output_type": "display_data"
    }
   ],
   "source": [
    "# Plotting pt distribtions of the jets from each dataset\n",
    "\n",
    "plt.figure(figsize=(14, 8))\n",
    "plt.rcParams['axes.linewidth'] = 2.4\n",
    "bins = np.linspace(0, 2000, 35)\n",
    "#bins=50\n",
    "\n",
    "for i, tag in enumerate(tags):\n",
    "    pt = datasets[i][:, 0, 0]\n",
    "    nonzero_pt = pt[pt > 0]\n",
    "\n",
    "    if i==0:\n",
    "        nonzero_weights = weights[pt > 0]\n",
    "        plt.hist(nonzero_pt, bins=bins, label=tag, histtype='step', density=True, fill=False, linewidth=3, weights=nonzero_weights)\n",
    "    else:\n",
    "        plt.hist(nonzero_pt, bins=bins, label=tag, histtype='step', density=True, fill=False, linewidth=3)\n",
    "\n",
    "plt.yscale('log')\n",
    "plt.xlabel('jet pt', fontsize=22)\n",
    "plt.ylabel('density', fontsize=22)\n",
    "plt.title('Leading Jet PT', fontsize=30)\n",
    "plt.grid()\n",
    "plt.legend(fontsize=18)\n",
    "plt.show()"
   ]
  },
  {
   "cell_type": "code",
   "execution_count": 39,
   "id": "bdb41d86-212f-4e5b-9591-84f4dcc35743",
   "metadata": {},
   "outputs": [],
   "source": [
    "def shuffle_objects(embedded_objects):\n",
    "    \"\"\"\n",
    "    Custom shuffle function that shuffles the objects within each sample.\n",
    "    Uses different shuffles for each sample in a batch.\n",
    "    \"\"\"\n",
    "    # Assume embedded_objects has shape [batch_size, num_objects, embedding_dim]\n",
    "    batch_size, num_objects, _ = tf.shape(embedded_objects)\n",
    "    indices = tf.range(num_objects)\n",
    "\n",
    "    # Shuffle the indices \"batch_size\" times. shuffled_indices will have shape [batch_size, num_objects].\n",
    "    shuffled_indices = tf.map_fn(lambda x: tf.random.shuffle(indices), tf.zeros(batch_size, dtype=tf.int32), fn_output_signature=tf.int32)\n",
    "    \n",
    "    # Use tf.gather with batch_dims=1 to gather along the first batch dimension\n",
    "    shuffled_objects = tf.gather(embedded_objects, shuffled_indices, batch_dims=1)\n",
    "    \n",
    "    return shuffled_objects"
   ]
  },
  {
   "cell_type": "code",
   "execution_count": 40,
   "id": "dfb1f08c-e118-4153-bc19-3ed11ceee5ba",
   "metadata": {},
   "outputs": [],
   "source": [
    "class ShuffleObjectsLayer(layers.Layer):\n",
    "    def __init__(self, **kwargs):\n",
    "        super(ShuffleObjectsLayer, self).__init__(**kwargs)\n",
    "    \n",
    "    def call(self, inputs):\n",
    "        # inputs shape: [batch_size, num_objects, feature_dim]\n",
    "        batch_size = tf.shape(inputs)[0]\n",
    "        num_objects = tf.shape(inputs)[1]\n",
    "        indices = tf.range(start=0, limit=num_objects, dtype=tf.int32)\n",
    "        shuffled_indices = tf.map_fn(lambda x: tf.random.shuffle(indices), tf.zeros(batch_size, dtype=tf.int32), fn_output_signature=tf.int32)\n",
    "        outputs = tf.gather(inputs, shuffled_indices, batch_dims=1)\n",
    "        return outputs"
   ]
  },
  {
   "cell_type": "markdown",
   "id": "24ec1749-65bd-4c2f-9e8c-d5d06544991a",
   "metadata": {},
   "source": [
    "<hr style=\"border:2px solid #F08080\">"
   ]
  },
  {
   "cell_type": "code",
   "execution_count": 41,
   "id": "326b9956-935e-49bf-a0e6-5807a43df091",
   "metadata": {},
   "outputs": [],
   "source": [
    "def create_AE(input_shape, h_dim_1, h_dim_2, latent_dim):\n",
    "    # Assuming input_shape is (num_objects, num_features_per_object)\n",
    "    inputs = layers.Input(shape=input_shape)\n",
    "    \n",
    "    # Object-level embedding\n",
    "    # Process each object individually through the same dense layer.\n",
    "    embedded_objects = layers.TimeDistributed(layers.Dense(8, activation='relu'))(inputs)  # Example embedding\n",
    "\n",
    "    # Random shuffle the objects\n",
    "    embedded_objects = ShuffleObjectsLayer()(embedded_objects)\n",
    "    \n",
    "    # Flatten the embeddings to pass through subsequent dense layers\n",
    "    flattened = layers.Flatten()(embedded_objects)\n",
    "    \n",
    "    # Encoder\n",
    "    x = layers.Dense(h_dim_1, activation='relu')(flattened)\n",
    "    x = layers.Dense(h_dim_2, activation='relu')(x)\n",
    "    z = layers.Dense(latent_dim, activation='relu')(x)\n",
    "\n",
    "    # Decoder\n",
    "    x = layers.Dense(h_dim_2, activation='relu')(z)\n",
    "    x = layers.Dense(h_dim_1, activation='relu')(x)\n",
    "    \n",
    "    # Final dense layer needs to have the correct output shape\n",
    "    outputs = layers.Dense(np.prod(input_shape), activation='sigmoid')(x)\n",
    "    \n",
    "    # Reshape the output to match the input shape\n",
    "    outputs = layers.Reshape(input_shape)(outputs)\n",
    "\n",
    "    model = Model(inputs=inputs, outputs=outputs)\n",
    "    return model"
   ]
  },
  {
   "cell_type": "code",
   "execution_count": 42,
   "id": "ecb27501-5a79-4a19-8a23-63c19bc1cbcf",
   "metadata": {},
   "outputs": [],
   "source": [
    "def loss_fn(y_true, y_pred):\n",
    "    \"\"\"Masked MSE for data with shape (N, 20, 4)\"\"\"\n",
    "    # Create a mask for non-zero\n",
    "    mask = K.cast(K.not_equal(y_true, 0), K.floatx())\n",
    "    \n",
    "    # Apply the mask\n",
    "    squared_difference = K.square(mask * (y_pred - y_true))\n",
    "    \n",
    "    # Since we're working with multi-dimensional data, take the mean across all dimensions\n",
    "    return K.mean(squared_difference, axis=[-2, -1])"
   ]
  },
  {
   "cell_type": "markdown",
   "id": "2e97a9a9-f317-4f70-b492-6d12b66c76e3",
   "metadata": {},
   "source": [
    "<hr style=\"border:2px solid #F08080\">"
   ]
  },
  {
   "cell_type": "code",
   "execution_count": 61,
   "id": "3c349c96-1566-4f92-9fa3-3fcc9d7364a2",
   "metadata": {},
   "outputs": [],
   "source": [
    "class Sampling(layers.Layer):\n",
    "    \"\"\"Uses (z_mean, z_log_var) to sample z, the vector encoding a digit.\"\"\"\n",
    "\n",
    "    def call(self, inputs):\n",
    "        z_mean, z_log_var = inputs\n",
    "        batch = tf.shape(z_mean)[0]\n",
    "        dim = tf.shape(z_mean)[1]\n",
    "        epsilon = K.random_normal(shape=(batch, dim))\n",
    "        return z_mean + tf.exp(0.5 * z_log_var) * epsilon"
   ]
  },
  {
   "cell_type": "code",
   "execution_count": 43,
   "id": "f9c12ce5-6e25-4e5b-a845-97cc026b8447",
   "metadata": {},
   "outputs": [
    {
     "name": "stdout",
     "output_type": "stream",
     "text": [
      "X_train: (134576, 20, 3)\n",
      "X_val: (44859, 20, 3)\n",
      "X_test: (44859, 20, 3)\n"
     ]
    }
   ],
   "source": [
    "# Make train, test, val splits\n",
    "\n",
    "TRAIN_SIZE = 0.6\n",
    "VAL_SIZE = 0.2\n",
    "TEST_SIZE = 0.2\n",
    "\n",
    "X_train, X_, weights_train, weights_, pass_HLT_train, pass_HLT_ = train_test_split(datasets[0], weights, pass_HLT_unprescaled, train_size=TRAIN_SIZE)\n",
    "X_val, X_test, weights_val, weights_test, pass_HLT_val, pass_HLT_test = train_test_split(X_, weights_, pass_HLT_, train_size=0.5)\n",
    "\n",
    "print(f'X_train: {X_train.shape}')\n",
    "print(f'X_val: {X_val.shape}')\n",
    "print(f'X_test: {X_test.shape}')"
   ]
  },
  {
   "cell_type": "code",
   "execution_count": 44,
   "id": "4b77099d-5ad9-40f0-93a5-6401df2cfa67",
   "metadata": {},
   "outputs": [
    {
     "name": "stdout",
     "output_type": "stream",
     "text": [
      "Model: \"model\"\n",
      "_________________________________________________________________\n",
      " Layer (type)                Output Shape              Param #   \n",
      "=================================================================\n",
      " input_4 (InputLayer)        [(None, 20, 3)]           0         \n",
      "                                                                 \n",
      " time_distributed_3 (TimeDi  (None, 20, 8)             32        \n",
      " stributed)                                                      \n",
      "                                                                 \n",
      " shuffle_objects_layer (Shu  (None, 20, 8)             0         \n",
      " ffleObjectsLayer)                                               \n",
      "                                                                 \n",
      " flatten (Flatten)           (None, 160)               0         \n",
      "                                                                 \n",
      " dense_4 (Dense)             (None, 32)                5152      \n",
      "                                                                 \n",
      " dense_5 (Dense)             (None, 8)                 264       \n",
      "                                                                 \n",
      " dense_6 (Dense)             (None, 3)                 27        \n",
      "                                                                 \n",
      " dense_7 (Dense)             (None, 8)                 32        \n",
      "                                                                 \n",
      " dense_8 (Dense)             (None, 32)                288       \n",
      "                                                                 \n",
      " dense_9 (Dense)             (None, 60)                1980      \n",
      "                                                                 \n",
      " reshape (Reshape)           (None, 20, 3)             0         \n",
      "                                                                 \n",
      "=================================================================\n",
      "Total params: 7775 (30.37 KB)\n",
      "Trainable params: 7775 (30.37 KB)\n",
      "Non-trainable params: 0 (0.00 Byte)\n",
      "_________________________________________________________________\n"
     ]
    }
   ],
   "source": [
    "# Initialize model\n",
    "INPUT_SHAPE = X_train.shape[1:]\n",
    "H_DIM_1 = 32\n",
    "H_DIM_2 = 8\n",
    "LATENT_DIM = 3\n",
    "DNN_AE = create_AE(input_shape=INPUT_SHAPE, h_dim_1=H_DIM_1, h_dim_2=H_DIM_2, latent_dim=LATENT_DIM)\n",
    "DNN_AE.summary()"
   ]
  },
  {
   "cell_type": "code",
   "execution_count": 45,
   "id": "ec38be7f-05f7-49c6-bef7-c7954714cac2",
   "metadata": {},
   "outputs": [],
   "source": [
    "DNN_AE.compile(optimizer='adam', loss=loss_fn)"
   ]
  },
  {
   "cell_type": "code",
   "execution_count": 46,
   "id": "07d15e17-fc19-4da1-9a96-a8e309627cac",
   "metadata": {},
   "outputs": [],
   "source": [
    "# Define callbacks: early stopping and learning rate scheduler\n",
    "\n",
    "STOP_PATIENCE = 8\n",
    "LR_PATIENCE = 4\n",
    "\n",
    "early_stopping = EarlyStopping(patience=STOP_PATIENCE, restore_best_weights=True)\n",
    "reduce_lr = ReduceLROnPlateau(monitor='val_loss', factor=0.1, patience=LR_PATIENCE, verbose=1)\n",
    "\n",
    "callbacks = [early_stopping, reduce_lr]"
   ]
  },
  {
   "cell_type": "code",
   "execution_count": 47,
   "id": "28c1676f-f08b-4a24-8e98-c3bb4adb55b6",
   "metadata": {},
   "outputs": [],
   "source": [
    "NUM_EPOCHS = 100\n",
    "BATCH_SIZE = 1024"
   ]
  },
  {
   "cell_type": "code",
   "execution_count": 48,
   "id": "f458f54d-fbef-4f9f-9402-b68886bc3058",
   "metadata": {},
   "outputs": [
    {
     "name": "stdout",
     "output_type": "stream",
     "text": [
      "Epoch 1/100\n",
      "132/132 [==============================] - 7s 33ms/step - loss: 1.4635 - val_loss: 1.4165 - lr: 0.0010\n",
      "Epoch 2/100\n",
      "132/132 [==============================] - 3s 26ms/step - loss: 1.3998 - val_loss: 1.3873 - lr: 0.0010\n",
      "Epoch 3/100\n",
      "132/132 [==============================] - 3s 26ms/step - loss: 1.3715 - val_loss: 1.3654 - lr: 0.0010\n",
      "Epoch 4/100\n",
      "132/132 [==============================] - 3s 26ms/step - loss: 1.3600 - val_loss: 1.3619 - lr: 0.0010\n",
      "Epoch 5/100\n",
      "132/132 [==============================] - 3s 26ms/step - loss: 1.3575 - val_loss: 1.3602 - lr: 0.0010\n",
      "Epoch 6/100\n",
      "132/132 [==============================] - 3s 26ms/step - loss: 1.3562 - val_loss: 1.3592 - lr: 0.0010\n",
      "Epoch 7/100\n",
      "132/132 [==============================] - 3s 26ms/step - loss: 1.3556 - val_loss: 1.3589 - lr: 0.0010\n",
      "Epoch 8/100\n",
      "132/132 [==============================] - 3s 26ms/step - loss: 1.3553 - val_loss: 1.3586 - lr: 0.0010\n",
      "Epoch 9/100\n",
      "132/132 [==============================] - 3s 26ms/step - loss: 1.3551 - val_loss: 1.3583 - lr: 0.0010\n",
      "Epoch 10/100\n",
      "132/132 [==============================] - 3s 26ms/step - loss: 1.3548 - val_loss: 1.3580 - lr: 0.0010\n",
      "Epoch 11/100\n",
      "132/132 [==============================] - 3s 26ms/step - loss: 1.3546 - val_loss: 1.3579 - lr: 0.0010\n",
      "Epoch 12/100\n",
      "132/132 [==============================] - 3s 26ms/step - loss: 1.3545 - val_loss: 1.3578 - lr: 0.0010\n",
      "Epoch 13/100\n",
      "132/132 [==============================] - 3s 26ms/step - loss: 1.3544 - val_loss: 1.3577 - lr: 0.0010\n",
      "Epoch 14/100\n",
      "132/132 [==============================] - 3s 26ms/step - loss: 1.3542 - val_loss: 1.3575 - lr: 0.0010\n",
      "Epoch 15/100\n",
      "132/132 [==============================] - 3s 26ms/step - loss: 1.3541 - val_loss: 1.3575 - lr: 0.0010\n",
      "Epoch 16/100\n",
      "132/132 [==============================] - 3s 26ms/step - loss: 1.3539 - val_loss: 1.3571 - lr: 0.0010\n",
      "Epoch 17/100\n",
      "132/132 [==============================] - 3s 26ms/step - loss: 1.3538 - val_loss: 1.3570 - lr: 0.0010\n",
      "Epoch 18/100\n",
      "132/132 [==============================] - 3s 26ms/step - loss: 1.3537 - val_loss: 1.3570 - lr: 0.0010\n",
      "Epoch 19/100\n",
      "132/132 [==============================] - 3s 26ms/step - loss: 1.3536 - val_loss: 1.3568 - lr: 0.0010\n",
      "Epoch 20/100\n",
      "132/132 [==============================] - 3s 26ms/step - loss: 1.3534 - val_loss: 1.3567 - lr: 0.0010\n",
      "Epoch 21/100\n",
      "132/132 [==============================] - 3s 26ms/step - loss: 1.3534 - val_loss: 1.3566 - lr: 0.0010\n",
      "Epoch 22/100\n",
      "132/132 [==============================] - 3s 26ms/step - loss: 1.3533 - val_loss: 1.3565 - lr: 0.0010\n",
      "Epoch 23/100\n",
      "132/132 [==============================] - 3s 26ms/step - loss: 1.3531 - val_loss: 1.3564 - lr: 0.0010\n",
      "Epoch 24/100\n",
      "132/132 [==============================] - 3s 26ms/step - loss: 1.3530 - val_loss: 1.3562 - lr: 0.0010\n",
      "Epoch 25/100\n",
      "132/132 [==============================] - 3s 26ms/step - loss: 1.3528 - val_loss: 1.3561 - lr: 0.0010\n",
      "Epoch 26/100\n",
      "132/132 [==============================] - 3s 26ms/step - loss: 1.3526 - val_loss: 1.3562 - lr: 0.0010\n",
      "Epoch 27/100\n",
      "132/132 [==============================] - 3s 26ms/step - loss: 1.3524 - val_loss: 1.3556 - lr: 0.0010\n",
      "Epoch 28/100\n",
      "132/132 [==============================] - 3s 26ms/step - loss: 1.3521 - val_loss: 1.3554 - lr: 0.0010\n",
      "Epoch 29/100\n",
      "132/132 [==============================] - 3s 26ms/step - loss: 1.3518 - val_loss: 1.3550 - lr: 0.0010\n",
      "Epoch 30/100\n",
      "132/132 [==============================] - 3s 26ms/step - loss: 1.3517 - val_loss: 1.3546 - lr: 0.0010\n",
      "Epoch 31/100\n",
      "132/132 [==============================] - 3s 26ms/step - loss: 1.3515 - val_loss: 1.3547 - lr: 0.0010\n",
      "Epoch 32/100\n",
      "132/132 [==============================] - 3s 26ms/step - loss: 1.3514 - val_loss: 1.3545 - lr: 0.0010\n",
      "Epoch 33/100\n",
      "132/132 [==============================] - 3s 26ms/step - loss: 1.3512 - val_loss: 1.3542 - lr: 0.0010\n",
      "Epoch 34/100\n",
      "132/132 [==============================] - 3s 26ms/step - loss: 1.3511 - val_loss: 1.3542 - lr: 0.0010\n",
      "Epoch 35/100\n",
      "132/132 [==============================] - 3s 26ms/step - loss: 1.3509 - val_loss: 1.3541 - lr: 0.0010\n",
      "Epoch 36/100\n",
      "132/132 [==============================] - 4s 30ms/step - loss: 1.3508 - val_loss: 1.3540 - lr: 0.0010\n",
      "Epoch 37/100\n",
      "132/132 [==============================] - 3s 26ms/step - loss: 1.3506 - val_loss: 1.3538 - lr: 0.0010\n",
      "Epoch 38/100\n",
      "132/132 [==============================] - 3s 26ms/step - loss: 1.3506 - val_loss: 1.3538 - lr: 0.0010\n",
      "Epoch 39/100\n",
      "132/132 [==============================] - 3s 26ms/step - loss: 1.3504 - val_loss: 1.3535 - lr: 0.0010\n",
      "Epoch 40/100\n",
      "132/132 [==============================] - 3s 26ms/step - loss: 1.3503 - val_loss: 1.3535 - lr: 0.0010\n",
      "Epoch 41/100\n",
      "132/132 [==============================] - 3s 26ms/step - loss: 1.3501 - val_loss: 1.3535 - lr: 0.0010\n",
      "Epoch 42/100\n",
      "132/132 [==============================] - 3s 26ms/step - loss: 1.3501 - val_loss: 1.3532 - lr: 0.0010\n",
      "Epoch 43/100\n",
      "132/132 [==============================] - 3s 26ms/step - loss: 1.3500 - val_loss: 1.3531 - lr: 0.0010\n",
      "Epoch 44/100\n",
      "132/132 [==============================] - 3s 26ms/step - loss: 1.3499 - val_loss: 1.3530 - lr: 0.0010\n",
      "Epoch 45/100\n",
      "132/132 [==============================] - 3s 26ms/step - loss: 1.3498 - val_loss: 1.3531 - lr: 0.0010\n",
      "Epoch 46/100\n",
      "132/132 [==============================] - 3s 26ms/step - loss: 1.3496 - val_loss: 1.3528 - lr: 0.0010\n",
      "Epoch 47/100\n",
      "132/132 [==============================] - 3s 26ms/step - loss: 1.3495 - val_loss: 1.3531 - lr: 0.0010\n",
      "Epoch 48/100\n",
      "132/132 [==============================] - 3s 26ms/step - loss: 1.3495 - val_loss: 1.3526 - lr: 0.0010\n",
      "Epoch 49/100\n",
      "132/132 [==============================] - 3s 25ms/step - loss: 1.3494 - val_loss: 1.3527 - lr: 0.0010\n",
      "Epoch 50/100\n",
      "132/132 [==============================] - 3s 26ms/step - loss: 1.3493 - val_loss: 1.3523 - lr: 0.0010\n",
      "Epoch 51/100\n",
      "132/132 [==============================] - 3s 26ms/step - loss: 1.3492 - val_loss: 1.3523 - lr: 0.0010\n",
      "Epoch 52/100\n",
      "132/132 [==============================] - 3s 26ms/step - loss: 1.3491 - val_loss: 1.3526 - lr: 0.0010\n",
      "Epoch 53/100\n",
      "132/132 [==============================] - 3s 26ms/step - loss: 1.3491 - val_loss: 1.3524 - lr: 0.0010\n",
      "Epoch 54/100\n",
      "132/132 [==============================] - 3s 26ms/step - loss: 1.3489 - val_loss: 1.3522 - lr: 0.0010\n",
      "Epoch 55/100\n",
      "132/132 [==============================] - 3s 26ms/step - loss: 1.3487 - val_loss: 1.3519 - lr: 0.0010\n",
      "Epoch 56/100\n",
      "132/132 [==============================] - 3s 26ms/step - loss: 1.3487 - val_loss: 1.3517 - lr: 0.0010\n",
      "Epoch 57/100\n",
      "132/132 [==============================] - 3s 26ms/step - loss: 1.3485 - val_loss: 1.3519 - lr: 0.0010\n",
      "Epoch 58/100\n",
      "132/132 [==============================] - 3s 26ms/step - loss: 1.3484 - val_loss: 1.3514 - lr: 0.0010\n",
      "Epoch 59/100\n",
      "132/132 [==============================] - 3s 26ms/step - loss: 1.3482 - val_loss: 1.3512 - lr: 0.0010\n",
      "Epoch 60/100\n",
      "132/132 [==============================] - 3s 26ms/step - loss: 1.3480 - val_loss: 1.3511 - lr: 0.0010\n",
      "Epoch 61/100\n",
      "132/132 [==============================] - 3s 26ms/step - loss: 1.3477 - val_loss: 1.3507 - lr: 0.0010\n",
      "Epoch 62/100\n",
      "132/132 [==============================] - 3s 26ms/step - loss: 1.3475 - val_loss: 1.3506 - lr: 0.0010\n",
      "Epoch 63/100\n",
      "132/132 [==============================] - 3s 26ms/step - loss: 1.3473 - val_loss: 1.3502 - lr: 0.0010\n",
      "Epoch 64/100\n",
      "132/132 [==============================] - 3s 26ms/step - loss: 1.3471 - val_loss: 1.3500 - lr: 0.0010\n",
      "Epoch 65/100\n",
      "132/132 [==============================] - 3s 26ms/step - loss: 1.3468 - val_loss: 1.3495 - lr: 0.0010\n",
      "Epoch 66/100\n",
      "132/132 [==============================] - 3s 26ms/step - loss: 1.3464 - val_loss: 1.3492 - lr: 0.0010\n",
      "Epoch 67/100\n",
      "132/132 [==============================] - 3s 26ms/step - loss: 1.3462 - val_loss: 1.3492 - lr: 0.0010\n",
      "Epoch 68/100\n",
      "132/132 [==============================] - 3s 26ms/step - loss: 1.3456 - val_loss: 1.3488 - lr: 0.0010\n",
      "Epoch 69/100\n",
      "132/132 [==============================] - 3s 26ms/step - loss: 1.3451 - val_loss: 1.3483 - lr: 0.0010\n",
      "Epoch 70/100\n",
      "132/132 [==============================] - 3s 26ms/step - loss: 1.3448 - val_loss: 1.3475 - lr: 0.0010\n",
      "Epoch 71/100\n",
      "132/132 [==============================] - 4s 27ms/step - loss: 1.3442 - val_loss: 1.3471 - lr: 0.0010\n",
      "Epoch 72/100\n",
      "132/132 [==============================] - 4s 28ms/step - loss: 1.3439 - val_loss: 1.3465 - lr: 0.0010\n",
      "Epoch 73/100\n",
      "132/132 [==============================] - 4s 27ms/step - loss: 1.3433 - val_loss: 1.3463 - lr: 0.0010\n",
      "Epoch 74/100\n",
      "132/132 [==============================] - 4s 27ms/step - loss: 1.3428 - val_loss: 1.3462 - lr: 0.0010\n",
      "Epoch 75/100\n",
      "132/132 [==============================] - 4s 27ms/step - loss: 1.3425 - val_loss: 1.3452 - lr: 0.0010\n",
      "Epoch 76/100\n",
      "132/132 [==============================] - 3s 26ms/step - loss: 1.3421 - val_loss: 1.3448 - lr: 0.0010\n",
      "Epoch 77/100\n",
      "132/132 [==============================] - 3s 26ms/step - loss: 1.3417 - val_loss: 1.3443 - lr: 0.0010\n",
      "Epoch 78/100\n",
      "132/132 [==============================] - 3s 26ms/step - loss: 1.3413 - val_loss: 1.3439 - lr: 0.0010\n",
      "Epoch 79/100\n",
      "132/132 [==============================] - 4s 30ms/step - loss: 1.3407 - val_loss: 1.3435 - lr: 0.0010\n",
      "Epoch 80/100\n",
      "132/132 [==============================] - 3s 26ms/step - loss: 1.3403 - val_loss: 1.3434 - lr: 0.0010\n",
      "Epoch 81/100\n",
      "132/132 [==============================] - 3s 26ms/step - loss: 1.3401 - val_loss: 1.3428 - lr: 0.0010\n",
      "Epoch 82/100\n",
      "132/132 [==============================] - 3s 26ms/step - loss: 1.3396 - val_loss: 1.3424 - lr: 0.0010\n",
      "Epoch 83/100\n",
      "132/132 [==============================] - 3s 26ms/step - loss: 1.3392 - val_loss: 1.3421 - lr: 0.0010\n",
      "Epoch 84/100\n",
      "132/132 [==============================] - 3s 26ms/step - loss: 1.3390 - val_loss: 1.3418 - lr: 0.0010\n",
      "Epoch 85/100\n",
      "132/132 [==============================] - 3s 26ms/step - loss: 1.3388 - val_loss: 1.3418 - lr: 0.0010\n",
      "Epoch 86/100\n",
      "132/132 [==============================] - 3s 26ms/step - loss: 1.3384 - val_loss: 1.3413 - lr: 0.0010\n",
      "Epoch 87/100\n",
      "132/132 [==============================] - 3s 26ms/step - loss: 1.3382 - val_loss: 1.3412 - lr: 0.0010\n",
      "Epoch 88/100\n",
      "132/132 [==============================] - 3s 26ms/step - loss: 1.3381 - val_loss: 1.3409 - lr: 0.0010\n",
      "Epoch 89/100\n",
      "132/132 [==============================] - 3s 26ms/step - loss: 1.3379 - val_loss: 1.3410 - lr: 0.0010\n",
      "Epoch 90/100\n",
      "132/132 [==============================] - 3s 26ms/step - loss: 1.3376 - val_loss: 1.3404 - lr: 0.0010\n",
      "Epoch 91/100\n",
      "132/132 [==============================] - 3s 26ms/step - loss: 1.3375 - val_loss: 1.3405 - lr: 0.0010\n",
      "Epoch 92/100\n",
      "132/132 [==============================] - 3s 26ms/step - loss: 1.3372 - val_loss: 1.3403 - lr: 0.0010\n",
      "Epoch 93/100\n",
      "132/132 [==============================] - 3s 26ms/step - loss: 1.3372 - val_loss: 1.3402 - lr: 0.0010\n",
      "Epoch 94/100\n",
      "132/132 [==============================] - 3s 26ms/step - loss: 1.3370 - val_loss: 1.3403 - lr: 0.0010\n",
      "Epoch 95/100\n",
      "132/132 [==============================] - 3s 26ms/step - loss: 1.3371 - val_loss: 1.3400 - lr: 0.0010\n",
      "Epoch 96/100\n",
      "132/132 [==============================] - 3s 26ms/step - loss: 1.3368 - val_loss: 1.3396 - lr: 0.0010\n",
      "Epoch 97/100\n",
      "132/132 [==============================] - 3s 26ms/step - loss: 1.3367 - val_loss: 1.3396 - lr: 0.0010\n",
      "Epoch 98/100\n",
      "132/132 [==============================] - 3s 26ms/step - loss: 1.3367 - val_loss: 1.3395 - lr: 0.0010\n",
      "Epoch 99/100\n",
      "132/132 [==============================] - 3s 26ms/step - loss: 1.3365 - val_loss: 1.3394 - lr: 0.0010\n",
      "Epoch 100/100\n",
      "132/132 [==============================] - 3s 26ms/step - loss: 1.3364 - val_loss: 1.3394 - lr: 0.0010\n"
     ]
    }
   ],
   "source": [
    "history = DNN_AE.fit(x=X_train, y=X_train, validation_data=(X_val, X_val), epochs=NUM_EPOCHS, batch_size=BATCH_SIZE, callbacks=callbacks)"
   ]
  },
  {
   "cell_type": "code",
   "execution_count": 49,
   "id": "2a117b31-42e7-44d0-bd42-75964365d17d",
   "metadata": {},
   "outputs": [
    {
     "name": "stdout",
     "output_type": "stream",
     "text": [
      "1402/1402 [==============================] - 3s 2ms/step\n",
      "313/313 [==============================] - 1s 2ms/step\n",
      "313/313 [==============================] - 1s 2ms/step\n",
      "1247/1247 [==============================] - 3s 2ms/step\n",
      "157/157 [==============================] - 0s 2ms/step\n",
      "3125/3125 [==============================] - 7s 2ms/step\n",
      "938/938 [==============================] - 2s 2ms/step\n"
     ]
    }
   ],
   "source": [
    "predictions = []\n",
    "y_true = []\n",
    "\n",
    "\n",
    "predictions.append(DNN_AE.predict(X_test))\n",
    "y_true.append(X_test)\n",
    "\n",
    "for i, data in enumerate(datasets):\n",
    "    if i==0: continue\n",
    "\n",
    "    y_true.append(data)\n",
    "    predictions.append(DNN_AE.predict(data))"
   ]
  },
  {
   "cell_type": "code",
   "execution_count": 54,
   "id": "710a3fe9-e2ff-44fc-b4b2-6522aac63a3c",
   "metadata": {},
   "outputs": [],
   "source": [
    "def mse_loss(true, prediction):\n",
    "    loss = np.mean(np.square(true - prediction), axis=(-1, -2))\n",
    "    return loss"
   ]
  },
  {
   "cell_type": "code",
   "execution_count": 55,
   "id": "86b88ec6-06c8-47dd-bfad-51ac0b4a0010",
   "metadata": {},
   "outputs": [],
   "source": [
    "def AD_score(y, x):\n",
    "    # masked mse\n",
    "    mask = (y != 0) & (y != -999)\n",
    "    _x = x * mask\n",
    "    _y = y * mask\n",
    "    return (mse_loss(_y, _x))"
   ]
  },
  {
   "cell_type": "code",
   "execution_count": 56,
   "id": "dae330a7-9556-4dbf-a5b8-289c94f4460d",
   "metadata": {},
   "outputs": [],
   "source": [
    "total_loss = []\n",
    "\n",
    "for i, prediction in enumerate(predictions):\n",
    "    total_loss.append(AD_score(y_true[i], prediction))"
   ]
  },
  {
   "cell_type": "code",
   "execution_count": 57,
   "id": "f0112a35-6e4a-4c4d-8890-1b94d5c7b758",
   "metadata": {},
   "outputs": [
    {
     "data": {
      "text/plain": [
       "<Figure size 1296x720 with 0 Axes>"
      ]
     },
     "metadata": {},
     "output_type": "display_data"
    },
    {
     "data": {
      "image/png": "[encoded data removed]",
      "text/plain": [
       "<Figure size 720x576 with 1 Axes>"
      ]
     },
     "metadata": {
      "needs_background": "light"
     },
     "output_type": "display_data"
    }
   ],
   "source": [
    "plt.figure(figsize=(18, 10))\n",
    "plt.rcParams['axes.linewidth'] = 2.4\n",
    "\n",
    "#bins = np.linspace(0, 50000, num=30)\n",
    "bins=30\n",
    "plt.figure(figsize=(10,8))\n",
    "for i, tag in enumerate(tags):\n",
    "    if i==0:\n",
    "        plt.hist(total_loss[i], bins=bins, label=tag, density = True, histtype='step', fill=False, linewidth=2.3, weights=weights_test)\n",
    "    else:\n",
    "        plt.hist(total_loss[i], bins=bins, label=tag, density = True, histtype='step', fill=False, linewidth=2.3)\n",
    "\n",
    "\n",
    "plt.yscale('log')\n",
    "plt.xlabel(\"Autoencoder Loss\", fontsize=16)\n",
    "plt.ylabel(\"Density (a.u.)\", fontsize=16)\n",
    "plt.title('MSE loss', fontsize=20)\n",
    "plt.legend(loc='best', fontsize=14)\n",
    "plt.grid()\n",
    "#plt.xlim(0, 0.2 * pow(10, 6))\n",
    "plt.show()"
   ]
  },
  {
   "cell_type": "code",
   "execution_count": 58,
   "id": "f3b019e6-2409-4676-9355-b4a407f1244a",
   "metadata": {},
   "outputs": [
    {
     "name": "stdout",
     "output_type": "stream",
     "text": [
      "data: TPR at FPR of 10^-4 is 0.0010 with threshold 3.3859\n",
      "HHbbttHadHad: TPR at FPR of 10^-4 is 0.0000 with threshold 3.2951\n",
      "ZZ4lep: TPR at FPR of 10^-4 is 0.0006 with threshold 3.4025\n",
      "Ztautau: TPR at FPR of 10^-4 is 0.0003 with threshold 3.4105\n",
      "jjJZ4: TPR at FPR of 10^-4 is 0.0000 with threshold 3.8870\n",
      "jjJZ2: TPR at FPR of 10^-4 is 0.0001 with threshold 3.4113\n",
      "qqa: TPR at FPR of 10^-4 is 0.0002 with threshold 3.4251\n"
     ]
    },
    {
     "data": {
      "image/png": "[encoded data removed]",
      "text/plain": [
       "<Figure size 720x576 with 1 Axes>"
      ]
     },
     "metadata": {
      "needs_background": "light"
     },
     "output_type": "display_data"
    }
   ],
   "source": [
    "target_background = np.zeros(total_loss[0].shape[0])\n",
    "\n",
    "plt.figure(figsize=(10,8))\n",
    "\n",
    "for i, label in enumerate(tags):\n",
    "    # Combine true labels, anomaly=1 and background=0\n",
    "    trueVal = np.concatenate((np.ones(total_loss[i].shape[0]), target_background))\n",
    "    \n",
    "    # Combine predictions from current dataset and background\n",
    "    predVal_loss = np.concatenate((total_loss[i], total_loss[0]))\n",
    "    \n",
    "    # Include weights for the EB data and assign no weight (or equal weight) for the other dataset\n",
    "    if i == 0:  # For the EB data\n",
    "        sample_weights = np.concatenate((weights_test, np.ones_like(target_background)))\n",
    "    else:  # For the MC datasets, assume equal weight\n",
    "        sample_weights = np.concatenate((np.ones(total_loss[i].shape[0]), np.ones_like(target_background)))\n",
    "\n",
    "    # Calculate ROC curve and AUC, including weights\n",
    "    fpr_loss, tpr_loss, threshold_loss = roc_curve(y_true=trueVal, y_score=predVal_loss, sample_weight=sample_weights)\n",
    "    auc_loss = auc(fpr_loss, tpr_loss)\n",
    "\n",
    "    # Plot ROC curve\n",
    "    plt.plot(fpr_loss, tpr_loss, \"-\", label='%s (auc = %.1f%%)' % (label, auc_loss*100.), linewidth=1.5)\n",
    "\n",
    "    # Find index where FPR is closest to 10^-4 and print TPR and threshold for that index\n",
    "    target_fpr = 10**-3\n",
    "    idx = np.argmin(np.abs(fpr_loss - target_fpr))\n",
    "    print(f\"{label}: TPR at FPR of 10^-4 is {tpr_loss[idx]:.4f} with threshold {threshold_loss[idx]:.4f}\")\n",
    "\n",
    "# Set log scale for x and y axis\n",
    "plt.semilogx()\n",
    "plt.semilogy()\n",
    "\n",
    "# Plot aesthetics and layout\n",
    "plt.ylabel(\"True Positive Rate\")\n",
    "plt.xlabel(\"False Positive Rate\")\n",
    "plt.legend(loc='center right')\n",
    "plt.grid(True)\n",
    "plt.tight_layout()\n",
    "\n",
    "# Additional plot elements\n",
    "plt.plot(np.linspace(0, 1), np.linspace(0, 1), '--', color='0.75')\n",
    "plt.axvline(0.0001, color='red', linestyle='dashed', linewidth=1)  # Threshold value\n",
    "plt.title(\"ROC AE\")\n",
    "plt.show()"
   ]
  },
  {
   "cell_type": "code",
   "execution_count": null,
   "id": "7b166422-46c5-400e-a056-6aa337ee6fe4",
   "metadata": {},
   "outputs": [],
   "source": [
    "\"\"\"Print the HLT overlap (the percentage of events we found as anomalous that\n",
    "are already being triggered by the HLT)\"\"\"\n",
    "\n",
    "threshold = 2.8561\n",
    "\n",
    "anomaly_idxs = (total_loss[0] > threshold)\n",
    "HLT_overlap = 0\n",
    "\n",
    "for a, h in zip(anomaly_idxs, pass_HLT_test):\n",
    "    if a==1 and h==1:\n",
    "        HLT_overlap += 1\n",
    "HLT_overlap /= np.sum(anomaly_idxs)\n",
    "\n",
    "print(f'HLT overlap: {HLT_overlap}')\n",
    "print(f'percentage of events that passed some HLT trigger: {np.sum(pass_HLT_test) / len(pass_HLT_test)}')\n",
    "print(f'percentage of events that we tagged as anomalous: {np.sum(anomaly_idxs) / len(anomaly_idxs)}')\n",
    "print(f'number of events that we tagged as anomalous: {np.sum(anomaly_idxs)}')"
   ]
  },
  {
   "cell_type": "code",
   "execution_count": 27,
   "id": "9b6c4d62-eea4-4ab0-82c9-05faf5f20faf",
   "metadata": {},
   "outputs": [],
   "source": [
    "DNN_AE.save('../../trained_models/DNN_AE_norm_v1.keras')"
   ]
  },
  {
   "cell_type": "markdown",
   "id": "7a0f428d-60f7-4238-b560-5c8c6e763cee",
   "metadata": {},
   "source": [
    "***\n",
    "<hr style=\"border:2px solid #F08080\">"
   ]
  },
  {
   "cell_type": "code",
   "execution_count": null,
   "id": "db311f49-2554-4a6e-9ac2-c169c390d68b",
   "metadata": {},
   "outputs": [],
   "source": []
  },
  {
   "cell_type": "code",
   "execution_count": null,
   "id": "0fa40c0b-bb7b-4fad-818e-54fb709ba252",
   "metadata": {},
   "outputs": [],
   "source": []
  }
 ],
 "metadata": {
  "kernelspec": {
   "display_name": "Python 3",
   "language": "python",
   "name": "python3"
  },
  "language_info": {
   "codemirror_mode": {
    "name": "ipython",
    "version": 3
   },
   "file_extension": ".py",
   "mimetype": "text/x-python",
   "name": "python",
   "nbconvert_exporter": "python",
   "pygments_lexer": "ipython3",
   "version": "3.9.12"
  }
 },
 "nbformat": 4,
 "nbformat_minor": 5
}
